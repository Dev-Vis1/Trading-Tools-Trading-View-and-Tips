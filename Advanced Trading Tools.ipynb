{
 "cells": [
  {
   "cell_type": "markdown",
   "id": "e942235e",
   "metadata": {},
   "source": [
    "# 🚀 Advanced Trading Tools: Patterns, Elliott Waves & Cycles\n",
    "\n",
    "This notebook covers sophisticated technical analysis tools for advanced traders, including harmonic patterns, Elliott Wave theory, and market cycles. These tools provide deeper insights into market structure and timing.\n",
    "\n",
    "## 📋 Table of Contents\n",
    "\n",
    "### 🎯 **PATTERNS**\n",
    "1. **XABCD Pattern** - Harmonic pattern with specific retracement ratios\n",
    "2. **Cypher Pattern** - Advanced harmonic pattern for reversal signals\n",
    "3. **Head and Shoulders** - Classic reversal pattern\n",
    "4. **ABCD Pattern** - Basic harmonic structure\n",
    "5. **Triangle Pattern** - Continuation and reversal formations\n",
    "6. **Three Drives Pattern** - Triple wave structure\n",
    "\n",
    "### 🌊 **ELLIOTT WAVES**\n",
    "7. **Elliott Impulse Wave (12345)** - Five-wave trending structure\n",
    "8. **Elliott Correction Wave (ABC)** - Three-wave corrective structure\n",
    "9. **Elliott Triangle Wave (ABCDE)** - Five-wave consolidation\n",
    "10. **Elliott Double Combo Wave (WXY)** - Complex correction\n",
    "11. **Elliott Triple Combo Wave (WXYXZ)** - Extended complex correction\n",
    "\n",
    "### 🔄 **CYCLES**\n",
    "12. **Cyclic Lines** - Time-based analysis\n",
    "13. **Time Cycles** - Recurring market patterns\n",
    "14. **Sine Line** - Mathematical wave analysis\n",
    "\n",
    "## 🎓 **What You'll Learn**\n",
    "- Advanced pattern recognition and measurement\n",
    "- Elliott Wave counting and analysis\n",
    "- Market cycle identification and timing\n",
    "- Interactive visualizations with real examples\n",
    "- Professional trading strategies for each tool"
   ]
  },
  {
   "cell_type": "code",
   "execution_count": 1,
   "id": "2ac9b7d0",
   "metadata": {},
   "outputs": [
    {
     "name": "stdout",
     "output_type": "stream",
     "text": [
      "🔄 Installing advanced trading analysis packages...\n",
      "============================================================\n",
      "✅ pandas is already installed\n",
      "✅ numpy is already installed\n",
      "✅ matplotlib is already installed\n",
      "✅ plotly is already installed\n",
      "✅ scipy is already installed\n",
      "✅ seaborn is already installed\n",
      "📦 Installing scikit-learn...\n",
      "✅ Successfully installed scikit-learn\n",
      "📦 ta-lib requires manual installation\n",
      "   Please install via: pip install TA-Lib\n",
      "\n",
      "🎉 Package installation complete!\n",
      "Note: If TA-Lib installation fails, most functions will still work.\n"
     ]
    }
   ],
   "source": [
    "# Install Required Packages\n",
    "import subprocess\n",
    "import sys\n",
    "\n",
    "def install_package(package):\n",
    "    \"\"\"Install a package using pip\"\"\"\n",
    "    try:\n",
    "        subprocess.check_call([sys.executable, \"-m\", \"pip\", \"install\", package])\n",
    "        print(f\"✅ Successfully installed {package}\")\n",
    "    except subprocess.CalledProcessError as e:\n",
    "        print(f\"❌ Failed to install {package}: {e}\")\n",
    "\n",
    "# Required packages for advanced analysis\n",
    "required_packages = [\n",
    "    \"pandas\", \"numpy\", \"matplotlib\", \"plotly\", \"scipy\", \n",
    "    \"seaborn\", \"scikit-learn\", \"ta-lib\"\n",
    "]\n",
    "\n",
    "print(\"🔄 Installing advanced trading analysis packages...\")\n",
    "print(\"=\" * 60)\n",
    "\n",
    "for package in required_packages:\n",
    "    try:\n",
    "        if package == \"ta-lib\":\n",
    "            # TA-Lib requires special handling\n",
    "            try:\n",
    "                import talib\n",
    "                print(f\"✅ {package} is already installed\")\n",
    "            except ImportError:\n",
    "                print(f\"📦 {package} requires manual installation\")\n",
    "                print(\"   Please install via: pip install TA-Lib\")\n",
    "        else:\n",
    "            __import__(package.replace(\"-\", \"_\"))\n",
    "            print(f\"✅ {package} is already installed\")\n",
    "    except ImportError:\n",
    "        print(f\"📦 Installing {package}...\")\n",
    "        if package != \"ta-lib\":  # Skip auto-install for TA-Lib\n",
    "            install_package(package)\n",
    "\n",
    "print(\"\\n🎉 Package installation complete!\")\n",
    "print(\"Note: If TA-Lib installation fails, most functions will still work.\")"
   ]
  },
  {
   "cell_type": "code",
   "execution_count": 2,
   "id": "ac455aa1",
   "metadata": {},
   "outputs": [
    {
     "name": "stdout",
     "output_type": "stream",
     "text": [
      "⚠️ TA-Lib not available - using custom implementations\n",
      "📊 Advanced Trading Tools Environment Ready!\n",
      "🎯 Ready to analyze patterns, Elliott Waves, and market cycles\n"
     ]
    }
   ],
   "source": [
    "# Import Required Libraries\n",
    "import numpy as np\n",
    "import pandas as pd\n",
    "import matplotlib.pyplot as plt\n",
    "import matplotlib.dates as mdates\n",
    "from datetime import datetime, timedelta\n",
    "import plotly.graph_objects as go\n",
    "from plotly.subplots import make_subplots\n",
    "import plotly.express as px\n",
    "from scipy import stats, signal\n",
    "from sklearn.linear_model import LinearRegression\n",
    "import warnings\n",
    "warnings.filterwarnings('ignore')\n",
    "\n",
    "# Try to import TA-Lib (optional)\n",
    "try:\n",
    "    import talib\n",
    "    TALIB_AVAILABLE = True\n",
    "    print(\"✅ TA-Lib available for advanced technical indicators\")\n",
    "except ImportError:\n",
    "    TALIB_AVAILABLE = False\n",
    "    print(\"⚠️ TA-Lib not available - using custom implementations\")\n",
    "\n",
    "# Set up plotting style\n",
    "plt.style.use('default')\n",
    "plt.rcParams['figure.figsize'] = (14, 10)\n",
    "\n",
    "print(\"📊 Advanced Trading Tools Environment Ready!\")\n",
    "print(\"🎯 Ready to analyze patterns, Elliott Waves, and market cycles\")"
   ]
  },
  {
   "cell_type": "code",
   "execution_count": 3,
   "id": "564dc56d",
   "metadata": {},
   "outputs": [
    {
     "name": "stdout",
     "output_type": "stream",
     "text": [
      "📈 Generating market data scenarios...\n",
      "✅ Market data scenarios created:\n",
      "📊 Trending Data: 200 days\n",
      "📊 Ranging Data: 150 days\n",
      "📊 Mixed Data: 250 days\n",
      "\n",
      "🔍 Sample Trending Market Data:\n",
      "        Date        Open        High         Low       Close   Volume\n",
      "0 2024-01-01  100.223521  101.638194   99.280406  100.223521  1458502\n",
      "1 2024-01-02   99.787477  102.348261   99.787477  100.811790  2521636\n",
      "2 2024-01-03  100.519175  103.602226  100.519175  101.752395  2593748\n",
      "3 2024-01-04  101.866096  104.919898  101.866096  103.087616  2497186\n",
      "4 2024-01-05  103.111107  105.587226  102.209557  103.560625  2686280\n"
     ]
    }
   ],
   "source": [
    "# Generate Advanced Market Data with Patterns\n",
    "def generate_advanced_market_data(days=200, start_price=100, pattern_type='trending'):\n",
    "    \"\"\"Generate realistic market data with embedded patterns for analysis\"\"\"\n",
    "    np.random.seed(42)\n",
    "    dates = pd.date_range(start='2024-01-01', periods=days, freq='D')\n",
    "    \n",
    "    if pattern_type == 'trending':\n",
    "        # Create trending market with Elliott Wave structure\n",
    "        base_trend = np.linspace(0, 30, days)\n",
    "        \n",
    "        # Add Elliott Wave-like structure (5-wave up, 3-wave down)\n",
    "        wave_pattern = []\n",
    "        for i in range(days):\n",
    "            cycle_pos = (i / days) * 4 * np.pi\n",
    "            elliott_component = (\n",
    "                3 * np.sin(cycle_pos) +           # Primary wave\n",
    "                1.5 * np.sin(2 * cycle_pos) +     # Secondary harmonic\n",
    "                0.5 * np.sin(4 * cycle_pos)       # Higher frequency\n",
    "            )\n",
    "            wave_pattern.append(elliott_component)\n",
    "        \n",
    "        wave_pattern = np.array(wave_pattern)\n",
    "        \n",
    "    elif pattern_type == 'ranging':\n",
    "        # Create ranging market with harmonic patterns\n",
    "        base_trend = np.zeros(days)\n",
    "        wave_pattern = 8 * np.sin(np.linspace(0, 6*np.pi, days))\n",
    "        \n",
    "    else:  # mixed\n",
    "        # Combination of trending and ranging\n",
    "        base_trend = np.linspace(0, 15, days)\n",
    "        wave_pattern = 6 * np.sin(np.linspace(0, 8*np.pi, days))\n",
    "    \n",
    "    # Add noise and volatility clustering\n",
    "    noise = np.random.normal(0, 1.5, days)\n",
    "    volatility = 1 + 0.5 * np.abs(np.sin(np.linspace(0, 2*np.pi, days)))\n",
    "    noise = noise * volatility\n",
    "    \n",
    "    # Cumulative noise for realistic price action\n",
    "    cumulative_noise = np.cumsum(noise * 0.3)\n",
    "    \n",
    "    # Combine all components\n",
    "    close_prices = start_price + base_trend + wave_pattern + cumulative_noise\n",
    "    \n",
    "    # Generate OHLC data with realistic spreads\n",
    "    high_low_range = 2 + np.abs(np.random.normal(0, 1, days))\n",
    "    high_prices = close_prices + high_low_range * 0.6\n",
    "    low_prices = close_prices - high_low_range * 0.4\n",
    "    \n",
    "    # Open prices with gap behavior\n",
    "    open_prices = close_prices.copy()\n",
    "    for i in range(1, len(open_prices)):\n",
    "        gap = np.random.normal(0, 0.5)\n",
    "        open_prices[i] = close_prices[i-1] + gap\n",
    "    \n",
    "    # Volume with pattern-based behavior\n",
    "    base_volume = 2000000\n",
    "    volume_pattern = 1 + 0.5 * np.sin(np.linspace(0, 4*np.pi, days))\n",
    "    volume_noise = np.random.uniform(0.5, 1.5, days)\n",
    "    volumes = base_volume * volume_pattern * volume_noise\n",
    "    \n",
    "    # Ensure high > low and proper OHLC relationships\n",
    "    for i in range(len(high_prices)):\n",
    "        if high_prices[i] < low_prices[i]:\n",
    "            high_prices[i], low_prices[i] = low_prices[i], high_prices[i]\n",
    "        \n",
    "        # Ensure close and open are within high/low range\n",
    "        close_prices[i] = np.clip(close_prices[i], low_prices[i], high_prices[i])\n",
    "        open_prices[i] = np.clip(open_prices[i], low_prices[i], high_prices[i])\n",
    "    \n",
    "    return pd.DataFrame({\n",
    "        'Date': dates,\n",
    "        'Open': open_prices,\n",
    "        'High': high_prices,\n",
    "        'Low': low_prices,\n",
    "        'Close': close_prices,\n",
    "        'Volume': volumes.astype(int)\n",
    "    })\n",
    "\n",
    "# Generate different market scenarios\n",
    "print(\"📈 Generating market data scenarios...\")\n",
    "\n",
    "# Trending market data (good for Elliott Waves)\n",
    "trending_data = generate_advanced_market_data(200, 100, 'trending')\n",
    "\n",
    "# Ranging market data (good for harmonic patterns)\n",
    "ranging_data = generate_advanced_market_data(150, 80, 'ranging')\n",
    "\n",
    "# Mixed market data (comprehensive analysis)\n",
    "mixed_data = generate_advanced_market_data(250, 120, 'mixed')\n",
    "\n",
    "print(\"✅ Market data scenarios created:\")\n",
    "print(f\"📊 Trending Data: {len(trending_data)} days\")\n",
    "print(f\"📊 Ranging Data: {len(ranging_data)} days\") \n",
    "print(f\"📊 Mixed Data: {len(mixed_data)} days\")\n",
    "\n",
    "# Display sample data\n",
    "print(\"\\n🔍 Sample Trending Market Data:\")\n",
    "print(trending_data.head())"
   ]
  },
  {
   "cell_type": "markdown",
   "id": "f57da968",
   "metadata": {},
   "source": [
    "# 🎯 PATTERNS - Advanced Harmonic & Classical Analysis\n",
    "\n",
    "Harmonic patterns use Fibonacci ratios to identify precise reversal points. Classical patterns show market psychology and trend changes."
   ]
  },
  {
   "cell_type": "code",
   "execution_count": 4,
   "id": "e13dfdc6",
   "metadata": {},
   "outputs": [
    {
     "data": {
      "application/vnd.plotly.v1+json": {
       "config": {
        "plotlyServerURL": "https://plot.ly"
       },
       "data": [
        {
         "line": {
          "color": "lightblue",
          "width": 1
         },
         "mode": "lines",
         "name": "Price",
         "opacity": 0.7,
         "type": "scatter",
         "x": [
          "2024-01-01T00:00:00.000000000",
          "2024-01-02T00:00:00.000000000",
          "2024-01-03T00:00:00.000000000",
          "2024-01-04T00:00:00.000000000",
          "2024-01-05T00:00:00.000000000",
          "2024-01-06T00:00:00.000000000",
          "2024-01-07T00:00:00.000000000",
          "2024-01-08T00:00:00.000000000",
          "2024-01-09T00:00:00.000000000",
          "2024-01-10T00:00:00.000000000",
          "2024-01-11T00:00:00.000000000",
          "2024-01-12T00:00:00.000000000",
          "2024-01-13T00:00:00.000000000",
          "2024-01-14T00:00:00.000000000",
          "2024-01-15T00:00:00.000000000",
          "2024-01-16T00:00:00.000000000",
          "2024-01-17T00:00:00.000000000",
          "2024-01-18T00:00:00.000000000",
          "2024-01-19T00:00:00.000000000",
          "2024-01-20T00:00:00.000000000",
          "2024-01-21T00:00:00.000000000",
          "2024-01-22T00:00:00.000000000",
          "2024-01-23T00:00:00.000000000",
          "2024-01-24T00:00:00.000000000",
          "2024-01-25T00:00:00.000000000",
          "2024-01-26T00:00:00.000000000",
          "2024-01-27T00:00:00.000000000",
          "2024-01-28T00:00:00.000000000",
          "2024-01-29T00:00:00.000000000",
          "2024-01-30T00:00:00.000000000",
          "2024-01-31T00:00:00.000000000",
          "2024-02-01T00:00:00.000000000",
          "2024-02-02T00:00:00.000000000",
          "2024-02-03T00:00:00.000000000",
          "2024-02-04T00:00:00.000000000",
          "2024-02-05T00:00:00.000000000",
          "2024-02-06T00:00:00.000000000",
          "2024-02-07T00:00:00.000000000",
          "2024-02-08T00:00:00.000000000",
          "2024-02-09T00:00:00.000000000",
          "2024-02-10T00:00:00.000000000",
          "2024-02-11T00:00:00.000000000",
          "2024-02-12T00:00:00.000000000",
          "2024-02-13T00:00:00.000000000",
          "2024-02-14T00:00:00.000000000",
          "2024-02-15T00:00:00.000000000",
          "2024-02-16T00:00:00.000000000",
          "2024-02-17T00:00:00.000000000",
          "2024-02-18T00:00:00.000000000",
          "2024-02-19T00:00:00.000000000",
          "2024-02-20T00:00:00.000000000",
          "2024-02-21T00:00:00.000000000",
          "2024-02-22T00:00:00.000000000",
          "2024-02-23T00:00:00.000000000",
          "2024-02-24T00:00:00.000000000",
          "2024-02-25T00:00:00.000000000",
          "2024-02-26T00:00:00.000000000",
          "2024-02-27T00:00:00.000000000",
          "2024-02-28T00:00:00.000000000",
          "2024-02-29T00:00:00.000000000",
          "2024-03-01T00:00:00.000000000",
          "2024-03-02T00:00:00.000000000",
          "2024-03-03T00:00:00.000000000",
          "2024-03-04T00:00:00.000000000",
          "2024-03-05T00:00:00.000000000",
          "2024-03-06T00:00:00.000000000",
          "2024-03-07T00:00:00.000000000",
          "2024-03-08T00:00:00.000000000",
          "2024-03-09T00:00:00.000000000",
          "2024-03-10T00:00:00.000000000",
          "2024-03-11T00:00:00.000000000",
          "2024-03-12T00:00:00.000000000",
          "2024-03-13T00:00:00.000000000",
          "2024-03-14T00:00:00.000000000",
          "2024-03-15T00:00:00.000000000",
          "2024-03-16T00:00:00.000000000",
          "2024-03-17T00:00:00.000000000",
          "2024-03-18T00:00:00.000000000",
          "2024-03-19T00:00:00.000000000",
          "2024-03-20T00:00:00.000000000",
          "2024-03-21T00:00:00.000000000",
          "2024-03-22T00:00:00.000000000",
          "2024-03-23T00:00:00.000000000",
          "2024-03-24T00:00:00.000000000",
          "2024-03-25T00:00:00.000000000",
          "2024-03-26T00:00:00.000000000",
          "2024-03-27T00:00:00.000000000",
          "2024-03-28T00:00:00.000000000",
          "2024-03-29T00:00:00.000000000",
          "2024-03-30T00:00:00.000000000",
          "2024-03-31T00:00:00.000000000",
          "2024-04-01T00:00:00.000000000",
          "2024-04-02T00:00:00.000000000",
          "2024-04-03T00:00:00.000000000",
          "2024-04-04T00:00:00.000000000",
          "2024-04-05T00:00:00.000000000",
          "2024-04-06T00:00:00.000000000",
          "2024-04-07T00:00:00.000000000",
          "2024-04-08T00:00:00.000000000",
          "2024-04-09T00:00:00.000000000"
         ],
         "y": {
          "bdata": "I0ySLE4OVEAMx7ii1kpUQCs4chPYnVRAApGhFf4JVUD0/51WKz1VQN8XgpM9bFVAaRGUuRjRVUB+YSLGdhZWQI+4Rn5rLFZA9lywQbddVkBDkqW0+2RWQMMH1HYcZFZAiQxvCUJ0VkD003NjHS5WQLnck1rE5VVABG14auy/VUCd2GTRB4FVQNR2HacVbVVAdKdHkR4jVUATeH5nzL5UQHryVQo6xlRAFzs0r/aFVECRIhjjoE1UQJ2K7pa+1VNA3ElUB5x/U0DIIFCjhUNTQD5W2Y4h01JAMkdElpGjUkBVRNHYME1SQOXPbtjzBlJAkl+vmZa3UUDkmFWm49VRQC/y+DBFqlFAMTWFYjlYUUCuvJQkFF5RQAK8w6JZE1FAwCwN1CcOUUBlusH9XbNQQOlcg78LfFBAoEoEWbyOUECrcywevsBQQDuF2gX84VBAhDgysyv+UEBzij4+MBlRQIjpvPsuCFFAGfPXowUdUUBElxzjgkFRQMqC8Y+DqVFAxgFHqiv2UUBiimHMFe1RQATR8SUkO1JAxZyL8sdrUkCOfkLgW49SQJ5y15SG5FJA5iN7N8dGU0CqWwr7bKBTQNJQrSilr1NA/ArciMHNU0ARXjs30f1TQIyH9YHNPlRASsUQI9JBVEC4K75b6UdUQFxp07LOJFRALD0rpOr2U0CHHbuyygdUQKRRSUL8IlRAdJmQ224FVEB22/7+gwRUQEyJg0Fg51NApZ9GebOjU0BqBKSn4npTQD8rOUPScVNAKiqk3Zw0U0Dk4gJabiRTQO/1k9P5l1JAr9Uc8ipvUkAmmu/yijFSQAhJCobP6VFAvnXBcIawUUDtP7ajRDlRQPA0nEsC/lBAPiMfv7naUEDORqOU8eJQQHGoL+0Vr1BAjXCCaCV4UEBaElgYHlNQQOpmIWEWaFBAs29+yYZwUEAVkcwF7mFQQLSPBGLVgVBARLJrPEKaUECeGn3DcdtQQJ268hDj41BAJ9DrtCQBUUDnjqA7miFRQPi1NeRrHFFAG/enoJJhUUDWRazTwqhRQDT2Lxn351FAEyOdP60eUkA=",
          "dtype": "f8"
         }
        },
        {
         "line": {
          "color": "red",
          "width": 3
         },
         "marker": {
          "color": "red",
          "size": 12
         },
         "mode": "lines+markers",
         "name": "XABCD Pattern",
         "type": "scatter",
         "x": [
          "2024-01-11T00:00:00",
          "2024-01-26T00:00:00",
          "2024-02-10T00:00:00",
          "2024-03-06T00:00:00",
          "2024-03-26T00:00:00"
         ],
         "y": [
          89.57786289376331,
          77.0550316126347,
          67.01160387364386,
          80.54664666328478,
          65.29871185875655
         ]
        }
       ],
       "layout": {
        "annotations": [
         {
          "arrowcolor": "red",
          "arrowhead": 2,
          "bgcolor": "white",
          "bordercolor": "red",
          "font": {
           "color": "red",
           "size": 14
          },
          "showarrow": true,
          "text": "<b>X</b>",
          "x": "2024-01-11T00:00:00",
          "y": 89.57786289376331
         },
         {
          "arrowcolor": "red",
          "arrowhead": 2,
          "bgcolor": "white",
          "bordercolor": "red",
          "font": {
           "color": "red",
           "size": 14
          },
          "showarrow": true,
          "text": "<b>A</b>",
          "x": "2024-01-26T00:00:00",
          "y": 77.0550316126347
         },
         {
          "arrowcolor": "red",
          "arrowhead": 2,
          "bgcolor": "white",
          "bordercolor": "red",
          "font": {
           "color": "red",
           "size": 14
          },
          "showarrow": true,
          "text": "<b>B</b>",
          "x": "2024-02-10T00:00:00",
          "y": 67.01160387364386
         },
         {
          "arrowcolor": "red",
          "arrowhead": 2,
          "bgcolor": "white",
          "bordercolor": "red",
          "font": {
           "color": "red",
           "size": 14
          },
          "showarrow": true,
          "text": "<b>C</b>",
          "x": "2024-03-06T00:00:00",
          "y": 80.54664666328478
         },
         {
          "arrowcolor": "red",
          "arrowhead": 2,
          "bgcolor": "white",
          "bordercolor": "red",
          "font": {
           "color": "red",
           "size": 14
          },
          "showarrow": true,
          "text": "<b>D</b>",
          "x": "2024-03-26T00:00:00",
          "y": 65.29871185875655
         },
         {
          "showarrow": false,
          "text": "AB 38.2%",
          "x": 1,
          "xanchor": "left",
          "xref": "x domain",
          "y": 72.27131006324358,
          "yanchor": "middle",
          "yref": "y"
         },
         {
          "showarrow": false,
          "text": "AB 50.0%",
          "x": 1,
          "xanchor": "left",
          "xref": "x domain",
          "y": 70.7936159720704,
          "yanchor": "middle",
          "yref": "y"
         },
         {
          "showarrow": false,
          "text": "AB 61.8%",
          "x": 1,
          "xanchor": "left",
          "xref": "x domain",
          "y": 69.31592188089724,
          "yanchor": "middle",
          "yref": "y"
         },
         {
          "showarrow": false,
          "text": "AB 78.6%",
          "x": 1,
          "xanchor": "left",
          "xref": "x domain",
          "y": 67.21208622566762,
          "yanchor": "middle",
          "yref": "y"
         }
        ],
        "height": 600,
        "shapes": [
         {
          "line": {
           "color": "orange",
           "dash": "dot"
          },
          "opacity": 0.5,
          "type": "line",
          "x0": 0,
          "x1": 1,
          "xref": "x domain",
          "y0": 72.27131006324358,
          "y1": 72.27131006324358,
          "yref": "y"
         },
         {
          "line": {
           "color": "orange",
           "dash": "dot"
          },
          "opacity": 0.5,
          "type": "line",
          "x0": 0,
          "x1": 1,
          "xref": "x domain",
          "y0": 70.7936159720704,
          "y1": 70.7936159720704,
          "yref": "y"
         },
         {
          "line": {
           "color": "orange",
           "dash": "dot"
          },
          "opacity": 0.5,
          "type": "line",
          "x0": 0,
          "x1": 1,
          "xref": "x domain",
          "y0": 69.31592188089724,
          "y1": 69.31592188089724,
          "yref": "y"
         },
         {
          "line": {
           "color": "orange",
           "dash": "dot"
          },
          "opacity": 0.5,
          "type": "line",
          "x0": 0,
          "x1": 1,
          "xref": "x domain",
          "y0": 67.21208622566762,
          "y1": 67.21208622566762,
          "yref": "y"
         }
        ],
        "showlegend": true,
        "template": {
         "data": {
          "bar": [
           {
            "error_x": {
             "color": "#2a3f5f"
            },
            "error_y": {
             "color": "#2a3f5f"
            },
            "marker": {
             "line": {
              "color": "white",
              "width": 0.5
             },
             "pattern": {
              "fillmode": "overlay",
              "size": 10,
              "solidity": 0.2
             }
            },
            "type": "bar"
           }
          ],
          "barpolar": [
           {
            "marker": {
             "line": {
              "color": "white",
              "width": 0.5
             },
             "pattern": {
              "fillmode": "overlay",
              "size": 10,
              "solidity": 0.2
             }
            },
            "type": "barpolar"
           }
          ],
          "carpet": [
           {
            "aaxis": {
             "endlinecolor": "#2a3f5f",
             "gridcolor": "#C8D4E3",
             "linecolor": "#C8D4E3",
             "minorgridcolor": "#C8D4E3",
             "startlinecolor": "#2a3f5f"
            },
            "baxis": {
             "endlinecolor": "#2a3f5f",
             "gridcolor": "#C8D4E3",
             "linecolor": "#C8D4E3",
             "minorgridcolor": "#C8D4E3",
             "startlinecolor": "#2a3f5f"
            },
            "type": "carpet"
           }
          ],
          "choropleth": [
           {
            "colorbar": {
             "outlinewidth": 0,
             "ticks": ""
            },
            "type": "choropleth"
           }
          ],
          "contour": [
           {
            "colorbar": {
             "outlinewidth": 0,
             "ticks": ""
            },
            "colorscale": [
             [
              0,
              "#0d0887"
             ],
             [
              0.1111111111111111,
              "#46039f"
             ],
             [
              0.2222222222222222,
              "#7201a8"
             ],
             [
              0.3333333333333333,
              "#9c179e"
             ],
             [
              0.4444444444444444,
              "#bd3786"
             ],
             [
              0.5555555555555556,
              "#d8576b"
             ],
             [
              0.6666666666666666,
              "#ed7953"
             ],
             [
              0.7777777777777778,
              "#fb9f3a"
             ],
             [
              0.8888888888888888,
              "#fdca26"
             ],
             [
              1,
              "#f0f921"
             ]
            ],
            "type": "contour"
           }
          ],
          "contourcarpet": [
           {
            "colorbar": {
             "outlinewidth": 0,
             "ticks": ""
            },
            "type": "contourcarpet"
           }
          ],
          "heatmap": [
           {
            "colorbar": {
             "outlinewidth": 0,
             "ticks": ""
            },
            "colorscale": [
             [
              0,
              "#0d0887"
             ],
             [
              0.1111111111111111,
              "#46039f"
             ],
             [
              0.2222222222222222,
              "#7201a8"
             ],
             [
              0.3333333333333333,
              "#9c179e"
             ],
             [
              0.4444444444444444,
              "#bd3786"
             ],
             [
              0.5555555555555556,
              "#d8576b"
             ],
             [
              0.6666666666666666,
              "#ed7953"
             ],
             [
              0.7777777777777778,
              "#fb9f3a"
             ],
             [
              0.8888888888888888,
              "#fdca26"
             ],
             [
              1,
              "#f0f921"
             ]
            ],
            "type": "heatmap"
           }
          ],
          "histogram": [
           {
            "marker": {
             "pattern": {
              "fillmode": "overlay",
              "size": 10,
              "solidity": 0.2
             }
            },
            "type": "histogram"
           }
          ],
          "histogram2d": [
           {
            "colorbar": {
             "outlinewidth": 0,
             "ticks": ""
            },
            "colorscale": [
             [
              0,
              "#0d0887"
             ],
             [
              0.1111111111111111,
              "#46039f"
             ],
             [
              0.2222222222222222,
              "#7201a8"
             ],
             [
              0.3333333333333333,
              "#9c179e"
             ],
             [
              0.4444444444444444,
              "#bd3786"
             ],
             [
              0.5555555555555556,
              "#d8576b"
             ],
             [
              0.6666666666666666,
              "#ed7953"
             ],
             [
              0.7777777777777778,
              "#fb9f3a"
             ],
             [
              0.8888888888888888,
              "#fdca26"
             ],
             [
              1,
              "#f0f921"
             ]
            ],
            "type": "histogram2d"
           }
          ],
          "histogram2dcontour": [
           {
            "colorbar": {
             "outlinewidth": 0,
             "ticks": ""
            },
            "colorscale": [
             [
              0,
              "#0d0887"
             ],
             [
              0.1111111111111111,
              "#46039f"
             ],
             [
              0.2222222222222222,
              "#7201a8"
             ],
             [
              0.3333333333333333,
              "#9c179e"
             ],
             [
              0.4444444444444444,
              "#bd3786"
             ],
             [
              0.5555555555555556,
              "#d8576b"
             ],
             [
              0.6666666666666666,
              "#ed7953"
             ],
             [
              0.7777777777777778,
              "#fb9f3a"
             ],
             [
              0.8888888888888888,
              "#fdca26"
             ],
             [
              1,
              "#f0f921"
             ]
            ],
            "type": "histogram2dcontour"
           }
          ],
          "mesh3d": [
           {
            "colorbar": {
             "outlinewidth": 0,
             "ticks": ""
            },
            "type": "mesh3d"
           }
          ],
          "parcoords": [
           {
            "line": {
             "colorbar": {
              "outlinewidth": 0,
              "ticks": ""
             }
            },
            "type": "parcoords"
           }
          ],
          "pie": [
           {
            "automargin": true,
            "type": "pie"
           }
          ],
          "scatter": [
           {
            "fillpattern": {
             "fillmode": "overlay",
             "size": 10,
             "solidity": 0.2
            },
            "type": "scatter"
           }
          ],
          "scatter3d": [
           {
            "line": {
             "colorbar": {
              "outlinewidth": 0,
              "ticks": ""
             }
            },
            "marker": {
             "colorbar": {
              "outlinewidth": 0,
              "ticks": ""
             }
            },
            "type": "scatter3d"
           }
          ],
          "scattercarpet": [
           {
            "marker": {
             "colorbar": {
              "outlinewidth": 0,
              "ticks": ""
             }
            },
            "type": "scattercarpet"
           }
          ],
          "scattergeo": [
           {
            "marker": {
             "colorbar": {
              "outlinewidth": 0,
              "ticks": ""
             }
            },
            "type": "scattergeo"
           }
          ],
          "scattergl": [
           {
            "marker": {
             "colorbar": {
              "outlinewidth": 0,
              "ticks": ""
             }
            },
            "type": "scattergl"
           }
          ],
          "scattermap": [
           {
            "marker": {
             "colorbar": {
              "outlinewidth": 0,
              "ticks": ""
             }
            },
            "type": "scattermap"
           }
          ],
          "scattermapbox": [
           {
            "marker": {
             "colorbar": {
              "outlinewidth": 0,
              "ticks": ""
             }
            },
            "type": "scattermapbox"
           }
          ],
          "scatterpolar": [
           {
            "marker": {
             "colorbar": {
              "outlinewidth": 0,
              "ticks": ""
             }
            },
            "type": "scatterpolar"
           }
          ],
          "scatterpolargl": [
           {
            "marker": {
             "colorbar": {
              "outlinewidth": 0,
              "ticks": ""
             }
            },
            "type": "scatterpolargl"
           }
          ],
          "scatterternary": [
           {
            "marker": {
             "colorbar": {
              "outlinewidth": 0,
              "ticks": ""
             }
            },
            "type": "scatterternary"
           }
          ],
          "surface": [
           {
            "colorbar": {
             "outlinewidth": 0,
             "ticks": ""
            },
            "colorscale": [
             [
              0,
              "#0d0887"
             ],
             [
              0.1111111111111111,
              "#46039f"
             ],
             [
              0.2222222222222222,
              "#7201a8"
             ],
             [
              0.3333333333333333,
              "#9c179e"
             ],
             [
              0.4444444444444444,
              "#bd3786"
             ],
             [
              0.5555555555555556,
              "#d8576b"
             ],
             [
              0.6666666666666666,
              "#ed7953"
             ],
             [
              0.7777777777777778,
              "#fb9f3a"
             ],
             [
              0.8888888888888888,
              "#fdca26"
             ],
             [
              1,
              "#f0f921"
             ]
            ],
            "type": "surface"
           }
          ],
          "table": [
           {
            "cells": {
             "fill": {
              "color": "#EBF0F8"
             },
             "line": {
              "color": "white"
             }
            },
            "header": {
             "fill": {
              "color": "#C8D4E3"
             },
             "line": {
              "color": "white"
             }
            },
            "type": "table"
           }
          ]
         },
         "layout": {
          "annotationdefaults": {
           "arrowcolor": "#2a3f5f",
           "arrowhead": 0,
           "arrowwidth": 1
          },
          "autotypenumbers": "strict",
          "coloraxis": {
           "colorbar": {
            "outlinewidth": 0,
            "ticks": ""
           }
          },
          "colorscale": {
           "diverging": [
            [
             0,
             "#8e0152"
            ],
            [
             0.1,
             "#c51b7d"
            ],
            [
             0.2,
             "#de77ae"
            ],
            [
             0.3,
             "#f1b6da"
            ],
            [
             0.4,
             "#fde0ef"
            ],
            [
             0.5,
             "#f7f7f7"
            ],
            [
             0.6,
             "#e6f5d0"
            ],
            [
             0.7,
             "#b8e186"
            ],
            [
             0.8,
             "#7fbc41"
            ],
            [
             0.9,
             "#4d9221"
            ],
            [
             1,
             "#276419"
            ]
           ],
           "sequential": [
            [
             0,
             "#0d0887"
            ],
            [
             0.1111111111111111,
             "#46039f"
            ],
            [
             0.2222222222222222,
             "#7201a8"
            ],
            [
             0.3333333333333333,
             "#9c179e"
            ],
            [
             0.4444444444444444,
             "#bd3786"
            ],
            [
             0.5555555555555556,
             "#d8576b"
            ],
            [
             0.6666666666666666,
             "#ed7953"
            ],
            [
             0.7777777777777778,
             "#fb9f3a"
            ],
            [
             0.8888888888888888,
             "#fdca26"
            ],
            [
             1,
             "#f0f921"
            ]
           ],
           "sequentialminus": [
            [
             0,
             "#0d0887"
            ],
            [
             0.1111111111111111,
             "#46039f"
            ],
            [
             0.2222222222222222,
             "#7201a8"
            ],
            [
             0.3333333333333333,
             "#9c179e"
            ],
            [
             0.4444444444444444,
             "#bd3786"
            ],
            [
             0.5555555555555556,
             "#d8576b"
            ],
            [
             0.6666666666666666,
             "#ed7953"
            ],
            [
             0.7777777777777778,
             "#fb9f3a"
            ],
            [
             0.8888888888888888,
             "#fdca26"
            ],
            [
             1,
             "#f0f921"
            ]
           ]
          },
          "colorway": [
           "#636efa",
           "#EF553B",
           "#00cc96",
           "#ab63fa",
           "#FFA15A",
           "#19d3f3",
           "#FF6692",
           "#B6E880",
           "#FF97FF",
           "#FECB52"
          ],
          "font": {
           "color": "#2a3f5f"
          },
          "geo": {
           "bgcolor": "white",
           "lakecolor": "white",
           "landcolor": "white",
           "showlakes": true,
           "showland": true,
           "subunitcolor": "#C8D4E3"
          },
          "hoverlabel": {
           "align": "left"
          },
          "hovermode": "closest",
          "mapbox": {
           "style": "light"
          },
          "paper_bgcolor": "white",
          "plot_bgcolor": "white",
          "polar": {
           "angularaxis": {
            "gridcolor": "#EBF0F8",
            "linecolor": "#EBF0F8",
            "ticks": ""
           },
           "bgcolor": "white",
           "radialaxis": {
            "gridcolor": "#EBF0F8",
            "linecolor": "#EBF0F8",
            "ticks": ""
           }
          },
          "scene": {
           "xaxis": {
            "backgroundcolor": "white",
            "gridcolor": "#DFE8F3",
            "gridwidth": 2,
            "linecolor": "#EBF0F8",
            "showbackground": true,
            "ticks": "",
            "zerolinecolor": "#EBF0F8"
           },
           "yaxis": {
            "backgroundcolor": "white",
            "gridcolor": "#DFE8F3",
            "gridwidth": 2,
            "linecolor": "#EBF0F8",
            "showbackground": true,
            "ticks": "",
            "zerolinecolor": "#EBF0F8"
           },
           "zaxis": {
            "backgroundcolor": "white",
            "gridcolor": "#DFE8F3",
            "gridwidth": 2,
            "linecolor": "#EBF0F8",
            "showbackground": true,
            "ticks": "",
            "zerolinecolor": "#EBF0F8"
           }
          },
          "shapedefaults": {
           "line": {
            "color": "#2a3f5f"
           }
          },
          "ternary": {
           "aaxis": {
            "gridcolor": "#DFE8F3",
            "linecolor": "#A2B1C6",
            "ticks": ""
           },
           "baxis": {
            "gridcolor": "#DFE8F3",
            "linecolor": "#A2B1C6",
            "ticks": ""
           },
           "bgcolor": "white",
           "caxis": {
            "gridcolor": "#DFE8F3",
            "linecolor": "#A2B1C6",
            "ticks": ""
           }
          },
          "title": {
           "x": 0.05
          },
          "xaxis": {
           "automargin": true,
           "gridcolor": "#EBF0F8",
           "linecolor": "#EBF0F8",
           "ticks": "",
           "title": {
            "standoff": 15
           },
           "zerolinecolor": "#EBF0F8",
           "zerolinewidth": 2
          },
          "yaxis": {
           "automargin": true,
           "gridcolor": "#EBF0F8",
           "linecolor": "#EBF0F8",
           "ticks": "",
           "title": {
            "standoff": 15
           },
           "zerolinecolor": "#EBF0F8",
           "zerolinewidth": 2
          }
         }
        },
        "title": {
         "text": "🎯 XABCD Harmonic Pattern Analysis<br><sub>X-A-B-C-D structure with Fibonacci ratios</sub>"
        },
        "xaxis": {
         "title": {
          "text": "Date"
         }
        },
        "yaxis": {
         "title": {
          "text": "Price ($)"
         }
        }
       }
      }
     },
     "metadata": {},
     "output_type": "display_data"
    },
    {
     "name": "stdout",
     "output_type": "stream",
     "text": [
      "🎯 XABCD PATTERN ANALYSIS:\n",
      "========================================\n",
      "AB/XA Ratio: 0.802\n",
      "CD/BC Ratio: 1.127\n",
      "Pattern Type: Bullish\n",
      "\n",
      "💡 XABCD PATTERN RULES:\n",
      "📐 Structure: X-A-B-C-D with specific Fibonacci relationships\n",
      "📊 AB/XA Ratio: Typically 0.618 or 0.786\n",
      "📊 CD/BC Ratio: Often 1.27, 1.618, or 2.618\n",
      "🎯 Entry: At point D completion\n",
      "🛑 Stop Loss: Beyond X point\n",
      "🎯 Target: 38.2% and 61.8% retracements of CD leg\n",
      "\n",
      "🔍 TRADING STRATEGY:\n",
      "✅ Wait for D point completion with volume confirmation\n",
      "✅ Look for reversal candlestick patterns at D\n",
      "✅ Measure risk/reward before entry\n",
      "⚠️ Pattern fails if price moves significantly beyond D\n"
     ]
    }
   ],
   "source": [
    "# 1. XABCD PATTERN - Advanced Harmonic Pattern\n",
    "def plot_xabcd_pattern():\n",
    "    \"\"\"Demonstrate XABCD harmonic pattern with Fibonacci ratios\"\"\"\n",
    "    \n",
    "    fig = go.Figure()\n",
    "    \n",
    "    # Use ranging data for harmonic pattern\n",
    "    data = ranging_data[:100].copy()\n",
    "    \n",
    "    # Define XABCD points manually for demonstration\n",
    "    # X = Starting point, A = First peak, B = First retracement, C = Second peak, D = Final retracement\n",
    "    \n",
    "    # Find approximate pattern points\n",
    "    prices = data['Close'].values\n",
    "    \n",
    "    # Manually define pattern points for clear demonstration\n",
    "    x_idx, a_idx, b_idx, c_idx, d_idx = 10, 25, 40, 65, 85\n",
    "    \n",
    "    # Get pattern points\n",
    "    x_point = (data['Date'].iloc[x_idx], prices[x_idx])\n",
    "    a_point = (data['Date'].iloc[a_idx], prices[a_idx])  \n",
    "    b_point = (data['Date'].iloc[b_idx], prices[b_idx])\n",
    "    c_point = (data['Date'].iloc[c_idx], prices[c_idx])\n",
    "    d_point = (data['Date'].iloc[d_idx], prices[d_idx])\n",
    "    \n",
    "    # Plot price data\n",
    "    fig.add_trace(go.Scatter(\n",
    "        x=data['Date'],\n",
    "        y=data['Close'],\n",
    "        mode='lines',\n",
    "        name='Price',\n",
    "        line=dict(color='lightblue', width=1),\n",
    "        opacity=0.7\n",
    "    ))\n",
    "    \n",
    "    # Plot XABCD pattern lines\n",
    "    pattern_x = [x_point[0], a_point[0], b_point[0], c_point[0], d_point[0]]\n",
    "    pattern_y = [x_point[1], a_point[1], b_point[1], c_point[1], d_point[1]]\n",
    "    \n",
    "    fig.add_trace(go.Scatter(\n",
    "        x=pattern_x,\n",
    "        y=pattern_y,\n",
    "        mode='lines+markers',\n",
    "        name='XABCD Pattern',\n",
    "        line=dict(color='red', width=3),\n",
    "        marker=dict(size=12, color='red')\n",
    "    ))\n",
    "    \n",
    "    # Add pattern labels\n",
    "    labels = ['X', 'A', 'B', 'C', 'D']\n",
    "    for i, (point, label) in enumerate(zip([x_point, a_point, b_point, c_point, d_point], labels)):\n",
    "        fig.add_annotation(\n",
    "            x=point[0], y=point[1],\n",
    "            text=f\"<b>{label}</b>\",\n",
    "            showarrow=True,\n",
    "            arrowhead=2,\n",
    "            arrowcolor='red',\n",
    "            font=dict(size=14, color='red'),\n",
    "            bgcolor='white',\n",
    "            bordercolor='red'\n",
    "        )\n",
    "    \n",
    "    # Calculate and display Fibonacci ratios\n",
    "    xa_range = abs(a_point[1] - x_point[1])\n",
    "    ab_range = abs(b_point[1] - a_point[1])\n",
    "    bc_range = abs(c_point[1] - b_point[1])\n",
    "    cd_range = abs(d_point[1] - c_point[1])\n",
    "    \n",
    "    ab_xa_ratio = ab_range / xa_range if xa_range != 0 else 0\n",
    "    cd_bc_ratio = cd_range / bc_range if bc_range != 0 else 0\n",
    "    \n",
    "    # Add Fibonacci level lines\n",
    "    fib_levels = [0.382, 0.5, 0.618, 0.786]\n",
    "    \n",
    "    for level in fib_levels:\n",
    "        # AB retracement level\n",
    "        ab_level = a_point[1] - (xa_range * level)\n",
    "        fig.add_hline(\n",
    "            y=ab_level,\n",
    "            line_dash=\"dot\",\n",
    "            line_color=\"orange\",\n",
    "            opacity=0.5,\n",
    "            annotation_text=f\"AB {level:.1%}\",\n",
    "            annotation_position=\"right\"\n",
    "        )\n",
    "    \n",
    "    fig.update_layout(\n",
    "        title='🎯 XABCD Harmonic Pattern Analysis<br><sub>X-A-B-C-D structure with Fibonacci ratios</sub>',\n",
    "        xaxis_title='Date',\n",
    "        yaxis_title='Price ($)',\n",
    "        template='plotly_white',\n",
    "        height=600,\n",
    "        showlegend=True\n",
    "    )\n",
    "    \n",
    "    return fig, {\n",
    "        'AB/XA Ratio': f\"{ab_xa_ratio:.3f}\",\n",
    "        'CD/BC Ratio': f\"{cd_bc_ratio:.3f}\",\n",
    "        'Pattern Type': 'Bullish' if d_point[1] < c_point[1] else 'Bearish'\n",
    "    }\n",
    "\n",
    "xabcd_fig, xabcd_ratios = plot_xabcd_pattern()\n",
    "xabcd_fig.show()\n",
    "\n",
    "print(\"🎯 XABCD PATTERN ANALYSIS:\")\n",
    "print(\"=\" * 40)\n",
    "for key, value in xabcd_ratios.items():\n",
    "    print(f\"{key}: {value}\")\n",
    "\n",
    "print(\"\\n💡 XABCD PATTERN RULES:\")\n",
    "print(\"📐 Structure: X-A-B-C-D with specific Fibonacci relationships\")\n",
    "print(\"📊 AB/XA Ratio: Typically 0.618 or 0.786\")\n",
    "print(\"📊 CD/BC Ratio: Often 1.27, 1.618, or 2.618\")\n",
    "print(\"🎯 Entry: At point D completion\")\n",
    "print(\"🛑 Stop Loss: Beyond X point\")\n",
    "print(\"🎯 Target: 38.2% and 61.8% retracements of CD leg\")\n",
    "\n",
    "print(\"\\n🔍 TRADING STRATEGY:\")\n",
    "print(\"✅ Wait for D point completion with volume confirmation\")\n",
    "print(\"✅ Look for reversal candlestick patterns at D\")\n",
    "print(\"✅ Measure risk/reward before entry\")\n",
    "print(\"⚠️ Pattern fails if price moves significantly beyond D\")"
   ]
  },
  {
   "cell_type": "code",
   "execution_count": 5,
   "id": "36b031e4",
   "metadata": {},
   "outputs": [
    {
     "data": {
      "application/vnd.plotly.v1+json": {
       "config": {
        "plotlyServerURL": "https://plot.ly"
       },
       "data": [
        {
         "line": {
          "color": "blue",
          "width": 2
         },
         "mode": "lines",
         "name": "Price",
         "type": "scatter",
         "x": [
          "2024-01-01T00:00:00.000000000",
          "2024-01-02T00:00:00.000000000",
          "2024-01-03T00:00:00.000000000",
          "2024-01-04T00:00:00.000000000",
          "2024-01-05T00:00:00.000000000",
          "2024-01-06T00:00:00.000000000",
          "2024-01-07T00:00:00.000000000",
          "2024-01-08T00:00:00.000000000",
          "2024-01-09T00:00:00.000000000",
          "2024-01-10T00:00:00.000000000",
          "2024-01-11T00:00:00.000000000",
          "2024-01-12T00:00:00.000000000",
          "2024-01-13T00:00:00.000000000",
          "2024-01-14T00:00:00.000000000",
          "2024-01-15T00:00:00.000000000",
          "2024-01-16T00:00:00.000000000",
          "2024-01-17T00:00:00.000000000",
          "2024-01-18T00:00:00.000000000",
          "2024-01-19T00:00:00.000000000",
          "2024-01-20T00:00:00.000000000",
          "2024-01-21T00:00:00.000000000",
          "2024-01-22T00:00:00.000000000",
          "2024-01-23T00:00:00.000000000",
          "2024-01-24T00:00:00.000000000",
          "2024-01-25T00:00:00.000000000",
          "2024-01-26T00:00:00.000000000",
          "2024-01-27T00:00:00.000000000",
          "2024-01-28T00:00:00.000000000",
          "2024-01-29T00:00:00.000000000",
          "2024-01-30T00:00:00.000000000",
          "2024-01-31T00:00:00.000000000",
          "2024-02-01T00:00:00.000000000",
          "2024-02-02T00:00:00.000000000",
          "2024-02-03T00:00:00.000000000",
          "2024-02-04T00:00:00.000000000",
          "2024-02-05T00:00:00.000000000",
          "2024-02-06T00:00:00.000000000",
          "2024-02-07T00:00:00.000000000",
          "2024-02-08T00:00:00.000000000",
          "2024-02-09T00:00:00.000000000",
          "2024-02-10T00:00:00.000000000",
          "2024-02-11T00:00:00.000000000",
          "2024-02-12T00:00:00.000000000",
          "2024-02-13T00:00:00.000000000",
          "2024-02-14T00:00:00.000000000",
          "2024-02-15T00:00:00.000000000",
          "2024-02-16T00:00:00.000000000",
          "2024-02-17T00:00:00.000000000",
          "2024-02-18T00:00:00.000000000",
          "2024-02-19T00:00:00.000000000",
          "2024-02-20T00:00:00.000000000",
          "2024-02-21T00:00:00.000000000",
          "2024-02-22T00:00:00.000000000",
          "2024-02-23T00:00:00.000000000",
          "2024-02-24T00:00:00.000000000",
          "2024-02-25T00:00:00.000000000",
          "2024-02-26T00:00:00.000000000",
          "2024-02-27T00:00:00.000000000",
          "2024-02-28T00:00:00.000000000",
          "2024-02-29T00:00:00.000000000",
          "2024-03-01T00:00:00.000000000",
          "2024-03-02T00:00:00.000000000",
          "2024-03-03T00:00:00.000000000",
          "2024-03-04T00:00:00.000000000",
          "2024-03-05T00:00:00.000000000",
          "2024-03-06T00:00:00.000000000",
          "2024-03-07T00:00:00.000000000",
          "2024-03-08T00:00:00.000000000",
          "2024-03-09T00:00:00.000000000",
          "2024-03-10T00:00:00.000000000",
          "2024-03-11T00:00:00.000000000",
          "2024-03-12T00:00:00.000000000",
          "2024-03-13T00:00:00.000000000",
          "2024-03-14T00:00:00.000000000",
          "2024-03-15T00:00:00.000000000",
          "2024-03-16T00:00:00.000000000",
          "2024-03-17T00:00:00.000000000",
          "2024-03-18T00:00:00.000000000",
          "2024-03-19T00:00:00.000000000",
          "2024-03-20T00:00:00.000000000"
         ],
         "y": {
          "bdata": "q0F3yECLWkCbu0xrwC9bQOUEiv5jnltA+Ld2xOVEXEDjfazHFOxbQOYgx784cVxA9DigYChpXEBTT9wGnqdcQK1GherjDFxAco/SS5lGXECUfb+UhHNcQK1l9S2LtVxAH7cCcGc8XEBpJSZiBgtcQM2ofMFA81tAfsgyrbVHW0BHADjzJpJbQOsLR3KZ1VtARmaAAbcjXEB54Uk2aQJdQGLkXYVLyV1A1uvWTGJDXkD7IgaZGbZeQH1SNIMc2V9AZykgJ21aX0BcX6EuyMdeQB7wIOKGYV5AMyCca5vIXEAL/5jHFiJcQFDZltZPHVxAXdr998fDWkAe2X1U5kFaQClxP6xvhFpAZUXtmO/qWkBIgY0Qdo5bQLB/WLDy3ltA3RtEJb0UXEAfdFy719tbQINNAMgIZlxAKp1ICB1UXEAJfs83SN5bQBAHrNEAaFxAlGe9+vUDXEB05WJdI4JbQLXUdAc7D1tAIjlDTD1lWkC9rJ4AxUxaQOmLEuj6XVpAsBSM6bHDWUBuUYmpKPxZQNU8ihdyJFlAfCqZWK2bWEBWe5uq/B5ZQIjXi5WEe1hAB2kpBShGWECygwmSgtFXQP4H+Oc3WVdA2+6T3V+FV0CSuw6WkhNYQOmAW6+FTlhAIS8RrNwyV0D3l/Fty2FXQAJB9tjiTVhAkD3Y6oFaVkC1r3hpfztXQHSZ8Had51hAApAJ25RbV0BVxOc5t7JXQHwi0UfEYldACilR73uKWECqCqSMmrlXQFMTZ8i6cVdAKP/p9GTKV0D9MTVb8pRYQEh0IH2lgFhAIqUQ8MxYWEAO1RQhKtlXQOVzfIR5R1hA0b5alzoAWEDbOO9WzHVXQA==",
          "dtype": "f8"
         }
        },
        {
         "marker": {
          "color": [
           "orange",
           "red",
           "orange"
          ],
          "size": 15
         },
         "mode": "markers+text",
         "name": "Key Points",
         "text": [
          "Left Shoulder",
          "Head",
          "Right Shoulder"
         ],
         "textfont": {
          "color": "black",
          "size": 12
         },
         "textposition": [
          "top center",
          "top center",
          "top center"
         ],
         "type": "scatter",
         "x": [
          "2024-01-15T00:00:00",
          "2024-01-24T00:00:00",
          "2024-02-08T00:00:00"
         ],
         "y": [
          111.80082738088386,
          127.39236526593773,
          113.5942859652478
         ]
        },
        {
         "line": {
          "color": "green",
          "dash": "dash",
          "width": 3
         },
         "mode": "lines",
         "name": "Neckline",
         "type": "scatter",
         "x": [
          "2024-01-08T00:00:00",
          "2024-02-15T00:00:00"
         ],
         "y": [
          114.61902019037852,
          105.58186632694972
         ]
        }
       ],
       "layout": {
        "annotations": [
         {
          "showarrow": false,
          "text": "Target: $92.8",
          "x": 0,
          "xanchor": "right",
          "xref": "x domain",
          "y": 92.8085212513905,
          "yanchor": "middle",
          "yref": "y"
         },
         {
          "showarrow": false,
          "text": "Breakdown",
          "x": "2024-02-15T00:00:00",
          "xanchor": "left",
          "xref": "x",
          "y": 1,
          "yanchor": "top",
          "yref": "y domain"
         }
        ],
        "height": 600,
        "shapes": [
         {
          "line": {
           "color": "purple",
           "dash": "dot"
          },
          "type": "line",
          "x0": 0,
          "x1": 1,
          "xref": "x domain",
          "y0": 92.8085212513905,
          "y1": 92.8085212513905,
          "yref": "y"
         },
         {
          "fillcolor": "red",
          "opacity": 0.2,
          "type": "rect",
          "x0": "2024-02-15T00:00:00",
          "x1": "2024-02-25T00:00:00",
          "xref": "x",
          "y0": 0,
          "y1": 1,
          "yref": "y domain"
         }
        ],
        "template": {
         "data": {
          "bar": [
           {
            "error_x": {
             "color": "#2a3f5f"
            },
            "error_y": {
             "color": "#2a3f5f"
            },
            "marker": {
             "line": {
              "color": "white",
              "width": 0.5
             },
             "pattern": {
              "fillmode": "overlay",
              "size": 10,
              "solidity": 0.2
             }
            },
            "type": "bar"
           }
          ],
          "barpolar": [
           {
            "marker": {
             "line": {
              "color": "white",
              "width": 0.5
             },
             "pattern": {
              "fillmode": "overlay",
              "size": 10,
              "solidity": 0.2
             }
            },
            "type": "barpolar"
           }
          ],
          "carpet": [
           {
            "aaxis": {
             "endlinecolor": "#2a3f5f",
             "gridcolor": "#C8D4E3",
             "linecolor": "#C8D4E3",
             "minorgridcolor": "#C8D4E3",
             "startlinecolor": "#2a3f5f"
            },
            "baxis": {
             "endlinecolor": "#2a3f5f",
             "gridcolor": "#C8D4E3",
             "linecolor": "#C8D4E3",
             "minorgridcolor": "#C8D4E3",
             "startlinecolor": "#2a3f5f"
            },
            "type": "carpet"
           }
          ],
          "choropleth": [
           {
            "colorbar": {
             "outlinewidth": 0,
             "ticks": ""
            },
            "type": "choropleth"
           }
          ],
          "contour": [
           {
            "colorbar": {
             "outlinewidth": 0,
             "ticks": ""
            },
            "colorscale": [
             [
              0,
              "#0d0887"
             ],
             [
              0.1111111111111111,
              "#46039f"
             ],
             [
              0.2222222222222222,
              "#7201a8"
             ],
             [
              0.3333333333333333,
              "#9c179e"
             ],
             [
              0.4444444444444444,
              "#bd3786"
             ],
             [
              0.5555555555555556,
              "#d8576b"
             ],
             [
              0.6666666666666666,
              "#ed7953"
             ],
             [
              0.7777777777777778,
              "#fb9f3a"
             ],
             [
              0.8888888888888888,
              "#fdca26"
             ],
             [
              1,
              "#f0f921"
             ]
            ],
            "type": "contour"
           }
          ],
          "contourcarpet": [
           {
            "colorbar": {
             "outlinewidth": 0,
             "ticks": ""
            },
            "type": "contourcarpet"
           }
          ],
          "heatmap": [
           {
            "colorbar": {
             "outlinewidth": 0,
             "ticks": ""
            },
            "colorscale": [
             [
              0,
              "#0d0887"
             ],
             [
              0.1111111111111111,
              "#46039f"
             ],
             [
              0.2222222222222222,
              "#7201a8"
             ],
             [
              0.3333333333333333,
              "#9c179e"
             ],
             [
              0.4444444444444444,
              "#bd3786"
             ],
             [
              0.5555555555555556,
              "#d8576b"
             ],
             [
              0.6666666666666666,
              "#ed7953"
             ],
             [
              0.7777777777777778,
              "#fb9f3a"
             ],
             [
              0.8888888888888888,
              "#fdca26"
             ],
             [
              1,
              "#f0f921"
             ]
            ],
            "type": "heatmap"
           }
          ],
          "histogram": [
           {
            "marker": {
             "pattern": {
              "fillmode": "overlay",
              "size": 10,
              "solidity": 0.2
             }
            },
            "type": "histogram"
           }
          ],
          "histogram2d": [
           {
            "colorbar": {
             "outlinewidth": 0,
             "ticks": ""
            },
            "colorscale": [
             [
              0,
              "#0d0887"
             ],
             [
              0.1111111111111111,
              "#46039f"
             ],
             [
              0.2222222222222222,
              "#7201a8"
             ],
             [
              0.3333333333333333,
              "#9c179e"
             ],
             [
              0.4444444444444444,
              "#bd3786"
             ],
             [
              0.5555555555555556,
              "#d8576b"
             ],
             [
              0.6666666666666666,
              "#ed7953"
             ],
             [
              0.7777777777777778,
              "#fb9f3a"
             ],
             [
              0.8888888888888888,
              "#fdca26"
             ],
             [
              1,
              "#f0f921"
             ]
            ],
            "type": "histogram2d"
           }
          ],
          "histogram2dcontour": [
           {
            "colorbar": {
             "outlinewidth": 0,
             "ticks": ""
            },
            "colorscale": [
             [
              0,
              "#0d0887"
             ],
             [
              0.1111111111111111,
              "#46039f"
             ],
             [
              0.2222222222222222,
              "#7201a8"
             ],
             [
              0.3333333333333333,
              "#9c179e"
             ],
             [
              0.4444444444444444,
              "#bd3786"
             ],
             [
              0.5555555555555556,
              "#d8576b"
             ],
             [
              0.6666666666666666,
              "#ed7953"
             ],
             [
              0.7777777777777778,
              "#fb9f3a"
             ],
             [
              0.8888888888888888,
              "#fdca26"
             ],
             [
              1,
              "#f0f921"
             ]
            ],
            "type": "histogram2dcontour"
           }
          ],
          "mesh3d": [
           {
            "colorbar": {
             "outlinewidth": 0,
             "ticks": ""
            },
            "type": "mesh3d"
           }
          ],
          "parcoords": [
           {
            "line": {
             "colorbar": {
              "outlinewidth": 0,
              "ticks": ""
             }
            },
            "type": "parcoords"
           }
          ],
          "pie": [
           {
            "automargin": true,
            "type": "pie"
           }
          ],
          "scatter": [
           {
            "fillpattern": {
             "fillmode": "overlay",
             "size": 10,
             "solidity": 0.2
            },
            "type": "scatter"
           }
          ],
          "scatter3d": [
           {
            "line": {
             "colorbar": {
              "outlinewidth": 0,
              "ticks": ""
             }
            },
            "marker": {
             "colorbar": {
              "outlinewidth": 0,
              "ticks": ""
             }
            },
            "type": "scatter3d"
           }
          ],
          "scattercarpet": [
           {
            "marker": {
             "colorbar": {
              "outlinewidth": 0,
              "ticks": ""
             }
            },
            "type": "scattercarpet"
           }
          ],
          "scattergeo": [
           {
            "marker": {
             "colorbar": {
              "outlinewidth": 0,
              "ticks": ""
             }
            },
            "type": "scattergeo"
           }
          ],
          "scattergl": [
           {
            "marker": {
             "colorbar": {
              "outlinewidth": 0,
              "ticks": ""
             }
            },
            "type": "scattergl"
           }
          ],
          "scattermap": [
           {
            "marker": {
             "colorbar": {
              "outlinewidth": 0,
              "ticks": ""
             }
            },
            "type": "scattermap"
           }
          ],
          "scattermapbox": [
           {
            "marker": {
             "colorbar": {
              "outlinewidth": 0,
              "ticks": ""
             }
            },
            "type": "scattermapbox"
           }
          ],
          "scatterpolar": [
           {
            "marker": {
             "colorbar": {
              "outlinewidth": 0,
              "ticks": ""
             }
            },
            "type": "scatterpolar"
           }
          ],
          "scatterpolargl": [
           {
            "marker": {
             "colorbar": {
              "outlinewidth": 0,
              "ticks": ""
             }
            },
            "type": "scatterpolargl"
           }
          ],
          "scatterternary": [
           {
            "marker": {
             "colorbar": {
              "outlinewidth": 0,
              "ticks": ""
             }
            },
            "type": "scatterternary"
           }
          ],
          "surface": [
           {
            "colorbar": {
             "outlinewidth": 0,
             "ticks": ""
            },
            "colorscale": [
             [
              0,
              "#0d0887"
             ],
             [
              0.1111111111111111,
              "#46039f"
             ],
             [
              0.2222222222222222,
              "#7201a8"
             ],
             [
              0.3333333333333333,
              "#9c179e"
             ],
             [
              0.4444444444444444,
              "#bd3786"
             ],
             [
              0.5555555555555556,
              "#d8576b"
             ],
             [
              0.6666666666666666,
              "#ed7953"
             ],
             [
              0.7777777777777778,
              "#fb9f3a"
             ],
             [
              0.8888888888888888,
              "#fdca26"
             ],
             [
              1,
              "#f0f921"
             ]
            ],
            "type": "surface"
           }
          ],
          "table": [
           {
            "cells": {
             "fill": {
              "color": "#EBF0F8"
             },
             "line": {
              "color": "white"
             }
            },
            "header": {
             "fill": {
              "color": "#C8D4E3"
             },
             "line": {
              "color": "white"
             }
            },
            "type": "table"
           }
          ]
         },
         "layout": {
          "annotationdefaults": {
           "arrowcolor": "#2a3f5f",
           "arrowhead": 0,
           "arrowwidth": 1
          },
          "autotypenumbers": "strict",
          "coloraxis": {
           "colorbar": {
            "outlinewidth": 0,
            "ticks": ""
           }
          },
          "colorscale": {
           "diverging": [
            [
             0,
             "#8e0152"
            ],
            [
             0.1,
             "#c51b7d"
            ],
            [
             0.2,
             "#de77ae"
            ],
            [
             0.3,
             "#f1b6da"
            ],
            [
             0.4,
             "#fde0ef"
            ],
            [
             0.5,
             "#f7f7f7"
            ],
            [
             0.6,
             "#e6f5d0"
            ],
            [
             0.7,
             "#b8e186"
            ],
            [
             0.8,
             "#7fbc41"
            ],
            [
             0.9,
             "#4d9221"
            ],
            [
             1,
             "#276419"
            ]
           ],
           "sequential": [
            [
             0,
             "#0d0887"
            ],
            [
             0.1111111111111111,
             "#46039f"
            ],
            [
             0.2222222222222222,
             "#7201a8"
            ],
            [
             0.3333333333333333,
             "#9c179e"
            ],
            [
             0.4444444444444444,
             "#bd3786"
            ],
            [
             0.5555555555555556,
             "#d8576b"
            ],
            [
             0.6666666666666666,
             "#ed7953"
            ],
            [
             0.7777777777777778,
             "#fb9f3a"
            ],
            [
             0.8888888888888888,
             "#fdca26"
            ],
            [
             1,
             "#f0f921"
            ]
           ],
           "sequentialminus": [
            [
             0,
             "#0d0887"
            ],
            [
             0.1111111111111111,
             "#46039f"
            ],
            [
             0.2222222222222222,
             "#7201a8"
            ],
            [
             0.3333333333333333,
             "#9c179e"
            ],
            [
             0.4444444444444444,
             "#bd3786"
            ],
            [
             0.5555555555555556,
             "#d8576b"
            ],
            [
             0.6666666666666666,
             "#ed7953"
            ],
            [
             0.7777777777777778,
             "#fb9f3a"
            ],
            [
             0.8888888888888888,
             "#fdca26"
            ],
            [
             1,
             "#f0f921"
            ]
           ]
          },
          "colorway": [
           "#636efa",
           "#EF553B",
           "#00cc96",
           "#ab63fa",
           "#FFA15A",
           "#19d3f3",
           "#FF6692",
           "#B6E880",
           "#FF97FF",
           "#FECB52"
          ],
          "font": {
           "color": "#2a3f5f"
          },
          "geo": {
           "bgcolor": "white",
           "lakecolor": "white",
           "landcolor": "white",
           "showlakes": true,
           "showland": true,
           "subunitcolor": "#C8D4E3"
          },
          "hoverlabel": {
           "align": "left"
          },
          "hovermode": "closest",
          "mapbox": {
           "style": "light"
          },
          "paper_bgcolor": "white",
          "plot_bgcolor": "white",
          "polar": {
           "angularaxis": {
            "gridcolor": "#EBF0F8",
            "linecolor": "#EBF0F8",
            "ticks": ""
           },
           "bgcolor": "white",
           "radialaxis": {
            "gridcolor": "#EBF0F8",
            "linecolor": "#EBF0F8",
            "ticks": ""
           }
          },
          "scene": {
           "xaxis": {
            "backgroundcolor": "white",
            "gridcolor": "#DFE8F3",
            "gridwidth": 2,
            "linecolor": "#EBF0F8",
            "showbackground": true,
            "ticks": "",
            "zerolinecolor": "#EBF0F8"
           },
           "yaxis": {
            "backgroundcolor": "white",
            "gridcolor": "#DFE8F3",
            "gridwidth": 2,
            "linecolor": "#EBF0F8",
            "showbackground": true,
            "ticks": "",
            "zerolinecolor": "#EBF0F8"
           },
           "zaxis": {
            "backgroundcolor": "white",
            "gridcolor": "#DFE8F3",
            "gridwidth": 2,
            "linecolor": "#EBF0F8",
            "showbackground": true,
            "ticks": "",
            "zerolinecolor": "#EBF0F8"
           }
          },
          "shapedefaults": {
           "line": {
            "color": "#2a3f5f"
           }
          },
          "ternary": {
           "aaxis": {
            "gridcolor": "#DFE8F3",
            "linecolor": "#A2B1C6",
            "ticks": ""
           },
           "baxis": {
            "gridcolor": "#DFE8F3",
            "linecolor": "#A2B1C6",
            "ticks": ""
           },
           "bgcolor": "white",
           "caxis": {
            "gridcolor": "#DFE8F3",
            "linecolor": "#A2B1C6",
            "ticks": ""
           }
          },
          "title": {
           "x": 0.05
          },
          "xaxis": {
           "automargin": true,
           "gridcolor": "#EBF0F8",
           "linecolor": "#EBF0F8",
           "ticks": "",
           "title": {
            "standoff": 15
           },
           "zerolinecolor": "#EBF0F8",
           "zerolinewidth": 2
          },
          "yaxis": {
           "automargin": true,
           "gridcolor": "#EBF0F8",
           "linecolor": "#EBF0F8",
           "ticks": "",
           "title": {
            "standoff": 15
           },
           "zerolinecolor": "#EBF0F8",
           "zerolinewidth": 2
          }
         }
        },
        "title": {
         "text": "👤 Head and Shoulders Reversal Pattern<br><sub>Classic topping formation with measured move target</sub>"
        },
        "xaxis": {
         "title": {
          "text": "Date"
         }
        },
        "yaxis": {
         "title": {
          "text": "Price ($)"
         }
        }
       }
      }
     },
     "metadata": {},
     "output_type": "display_data"
    },
    {
     "name": "stdout",
     "output_type": "stream",
     "text": [
      "👤 HEAD AND SHOULDERS PATTERN:\n",
      "=============================================\n",
      "📊 STRUCTURE:\n",
      "• Left Shoulder: First peak with high volume\n",
      "• Head: Higher peak with often lower volume\n",
      "• Right Shoulder: Lower peak, similar to left shoulder\n",
      "• Neckline: Support line connecting the two valleys\n",
      "\n",
      "🎯 TRADING RULES:\n",
      "✅ ENTRY: Break below neckline with volume\n",
      "🛑 STOP LOSS: Above right shoulder peak\n",
      "🎯 TARGET: Head-to-neckline distance projected down\n",
      "📊 VOLUME: Should increase on neckline break\n",
      "\n",
      "⚠️ CONFIRMATION SIGNALS:\n",
      "• Clean pattern formation over several weeks/months\n",
      "• Volume expansion on breakdown\n",
      "• Follow-through selling after break\n",
      "• Failed retest of neckline as resistance\n",
      "\n",
      "🔄 INVERSE HEAD AND SHOULDERS:\n",
      "• Same pattern but inverted (bottoming formation)\n",
      "• Entry above neckline break\n",
      "• Target measured upward from neckline\n"
     ]
    }
   ],
   "source": [
    "# 2. HEAD AND SHOULDERS PATTERN - Classic Reversal Formation\n",
    "def plot_head_and_shoulders():\n",
    "    \"\"\"Demonstrate Head and Shoulders reversal pattern\"\"\"\n",
    "    \n",
    "    fig = go.Figure()\n",
    "    \n",
    "    # Create data with H&S pattern\n",
    "    np.random.seed(123)\n",
    "    \n",
    "    # Generate H&S structure\n",
    "    days = 80\n",
    "    dates = pd.date_range(start='2024-01-01', periods=days, freq='D')\n",
    "    \n",
    "    # Create the H&S pattern manually\n",
    "    left_shoulder = 110 + 5 * np.sin(np.linspace(0, np.pi, 15))\n",
    "    head_up = np.linspace(left_shoulder[-1], 125, 8)  # Up to head\n",
    "    head_down = np.linspace(125, 105, 8)  # Down from head\n",
    "    right_shoulder = 105 + 8 * np.sin(np.linspace(0, np.pi, 15))\n",
    "    breakdown = np.linspace(right_shoulder[-1], 95, 10)  # Neckline break\n",
    "    \n",
    "    # Combine pattern parts\n",
    "    hs_pattern = np.concatenate([\n",
    "        [105], left_shoulder, head_up, head_down, right_shoulder, breakdown,\n",
    "        95 + np.random.normal(0, 2, days - len(left_shoulder) - len(head_up) - len(head_down) - len(right_shoulder) - len(breakdown) - 1)\n",
    "    ])\n",
    "    \n",
    "    # Ensure we have exactly 'days' points\n",
    "    hs_pattern = hs_pattern[:days]\n",
    "    \n",
    "    # Add some noise\n",
    "    hs_pattern += np.random.normal(0, 1, len(hs_pattern))\n",
    "    \n",
    "    # Plot the price pattern\n",
    "    fig.add_trace(go.Scatter(\n",
    "        x=dates,\n",
    "        y=hs_pattern,\n",
    "        mode='lines',\n",
    "        name='Price',\n",
    "        line=dict(color='blue', width=2)\n",
    "    ))\n",
    "    \n",
    "    # Identify key points\n",
    "    left_shoulder_peak = 14\n",
    "    head_peak = 23\n",
    "    right_shoulder_peak = 38\n",
    "    neckline_left = 7\n",
    "    neckline_right = 45\n",
    "    \n",
    "    # Mark key points\n",
    "    key_points_x = [dates[left_shoulder_peak], dates[head_peak], dates[right_shoulder_peak]]\n",
    "    key_points_y = [hs_pattern[left_shoulder_peak], hs_pattern[head_peak], hs_pattern[right_shoulder_peak]]\n",
    "    \n",
    "    fig.add_trace(go.Scatter(\n",
    "        x=key_points_x,\n",
    "        y=key_points_y,\n",
    "        mode='markers+text',\n",
    "        name='Key Points',\n",
    "        marker=dict(size=15, color=['orange', 'red', 'orange']),\n",
    "        text=['Left Shoulder', 'Head', 'Right Shoulder'],\n",
    "        textposition=['top center', 'top center', 'top center'],\n",
    "        textfont=dict(size=12, color='black')\n",
    "    ))\n",
    "    \n",
    "    # Draw neckline\n",
    "    neckline_y = [hs_pattern[neckline_left], hs_pattern[neckline_right]]\n",
    "    neckline_x = [dates[neckline_left], dates[neckline_right]]\n",
    "    \n",
    "    fig.add_trace(go.Scatter(\n",
    "        x=neckline_x,\n",
    "        y=neckline_y,\n",
    "        mode='lines',\n",
    "        name='Neckline',\n",
    "        line=dict(color='green', width=3, dash='dash')\n",
    "    ))\n",
    "    \n",
    "    # Add volume bars (simplified)\n",
    "    volumes = np.random.randint(1000000, 4000000, days)\n",
    "    # Higher volume at breakdown\n",
    "    volumes[50:60] *= 2\n",
    "    \n",
    "    # Add measured move target\n",
    "    head_to_neckline = hs_pattern[head_peak] - np.mean(neckline_y)\n",
    "    target_price = np.mean(neckline_y) - head_to_neckline\n",
    "    \n",
    "    fig.add_hline(\n",
    "        y=target_price,\n",
    "        line_dash=\"dot\",\n",
    "        line_color=\"purple\",\n",
    "        annotation_text=f\"Target: ${target_price:.1f}\",\n",
    "        annotation_position=\"left\"\n",
    "    )\n",
    "    \n",
    "    # Highlight breakdown area\n",
    "    fig.add_vrect(\n",
    "        x0=dates[neckline_right], x1=dates[min(neckline_right + 10, len(dates)-1)],\n",
    "        fillcolor=\"red\", opacity=0.2,\n",
    "        annotation_text=\"Breakdown\", annotation_position=\"top left\"\n",
    "    )\n",
    "    \n",
    "    fig.update_layout(\n",
    "        title='👤 Head and Shoulders Reversal Pattern<br><sub>Classic topping formation with measured move target</sub>',\n",
    "        xaxis_title='Date',\n",
    "        yaxis_title='Price ($)',\n",
    "        template='plotly_white',\n",
    "        height=600\n",
    "    )\n",
    "    \n",
    "    return fig\n",
    "\n",
    "hs_fig = plot_head_and_shoulders()\n",
    "hs_fig.show()\n",
    "\n",
    "print(\"👤 HEAD AND SHOULDERS PATTERN:\")\n",
    "print(\"=\" * 45)\n",
    "print(\"📊 STRUCTURE:\")\n",
    "print(\"• Left Shoulder: First peak with high volume\")\n",
    "print(\"• Head: Higher peak with often lower volume\")  \n",
    "print(\"• Right Shoulder: Lower peak, similar to left shoulder\")\n",
    "print(\"• Neckline: Support line connecting the two valleys\")\n",
    "\n",
    "print(\"\\n🎯 TRADING RULES:\")\n",
    "print(\"✅ ENTRY: Break below neckline with volume\")\n",
    "print(\"🛑 STOP LOSS: Above right shoulder peak\")\n",
    "print(\"🎯 TARGET: Head-to-neckline distance projected down\")\n",
    "print(\"📊 VOLUME: Should increase on neckline break\")\n",
    "\n",
    "print(\"\\n⚠️ CONFIRMATION SIGNALS:\")\n",
    "print(\"• Clean pattern formation over several weeks/months\")\n",
    "print(\"• Volume expansion on breakdown\")\n",
    "print(\"• Follow-through selling after break\")\n",
    "print(\"• Failed retest of neckline as resistance\")\n",
    "\n",
    "print(\"\\n🔄 INVERSE HEAD AND SHOULDERS:\")\n",
    "print(\"• Same pattern but inverted (bottoming formation)\")\n",
    "print(\"• Entry above neckline break\")\n",
    "print(\"• Target measured upward from neckline\")"
   ]
  },
  {
   "cell_type": "markdown",
   "id": "db9fe55d",
   "metadata": {},
   "source": [
    "# 🌊 ELLIOTT WAVES - Market Psychology & Wave Theory\n",
    "\n",
    "Elliott Wave Theory describes market movements as repetitive waves driven by investor psychology. Markets move in 5-wave impulses followed by 3-wave corrections."
   ]
  },
  {
   "cell_type": "code",
   "execution_count": 8,
   "id": "7548c7c2",
   "metadata": {},
   "outputs": [
    {
     "data": {
      "application/vnd.plotly.v1+json": {
       "config": {
        "plotlyServerURL": "https://plot.ly"
       },
       "data": [
        {
         "line": {
          "color": "blue",
          "width": 2
         },
         "mode": "lines",
         "name": "Price",
         "type": "scatter",
         "x": [
          "2024-01-01T00:00:00.000000000",
          "2024-01-02T00:00:00.000000000",
          "2024-01-03T00:00:00.000000000",
          "2024-01-04T00:00:00.000000000",
          "2024-01-05T00:00:00.000000000",
          "2024-01-06T00:00:00.000000000",
          "2024-01-07T00:00:00.000000000",
          "2024-01-08T00:00:00.000000000",
          "2024-01-09T00:00:00.000000000",
          "2024-01-10T00:00:00.000000000",
          "2024-01-11T00:00:00.000000000",
          "2024-01-12T00:00:00.000000000",
          "2024-01-13T00:00:00.000000000",
          "2024-01-14T00:00:00.000000000",
          "2024-01-15T00:00:00.000000000",
          "2024-01-16T00:00:00.000000000",
          "2024-01-17T00:00:00.000000000",
          "2024-01-18T00:00:00.000000000",
          "2024-01-19T00:00:00.000000000",
          "2024-01-20T00:00:00.000000000",
          "2024-01-21T00:00:00.000000000",
          "2024-01-22T00:00:00.000000000",
          "2024-01-23T00:00:00.000000000",
          "2024-01-24T00:00:00.000000000",
          "2024-01-25T00:00:00.000000000",
          "2024-01-26T00:00:00.000000000",
          "2024-01-27T00:00:00.000000000",
          "2024-01-28T00:00:00.000000000",
          "2024-01-29T00:00:00.000000000",
          "2024-01-30T00:00:00.000000000",
          "2024-01-31T00:00:00.000000000",
          "2024-02-01T00:00:00.000000000",
          "2024-02-02T00:00:00.000000000",
          "2024-02-03T00:00:00.000000000",
          "2024-02-04T00:00:00.000000000",
          "2024-02-05T00:00:00.000000000",
          "2024-02-06T00:00:00.000000000",
          "2024-02-07T00:00:00.000000000",
          "2024-02-08T00:00:00.000000000",
          "2024-02-09T00:00:00.000000000",
          "2024-02-10T00:00:00.000000000",
          "2024-02-11T00:00:00.000000000",
          "2024-02-12T00:00:00.000000000",
          "2024-02-13T00:00:00.000000000",
          "2024-02-14T00:00:00.000000000",
          "2024-02-15T00:00:00.000000000",
          "2024-02-16T00:00:00.000000000",
          "2024-02-17T00:00:00.000000000",
          "2024-02-18T00:00:00.000000000",
          "2024-02-19T00:00:00.000000000",
          "2024-02-20T00:00:00.000000000",
          "2024-02-21T00:00:00.000000000",
          "2024-02-22T00:00:00.000000000",
          "2024-02-23T00:00:00.000000000",
          "2024-02-24T00:00:00.000000000",
          "2024-02-25T00:00:00.000000000",
          "2024-02-26T00:00:00.000000000",
          "2024-02-27T00:00:00.000000000",
          "2024-02-28T00:00:00.000000000",
          "2024-02-29T00:00:00.000000000",
          "2024-03-01T00:00:00.000000000",
          "2024-03-02T00:00:00.000000000",
          "2024-03-03T00:00:00.000000000",
          "2024-03-04T00:00:00.000000000",
          "2024-03-05T00:00:00.000000000",
          "2024-03-06T00:00:00.000000000",
          "2024-03-07T00:00:00.000000000",
          "2024-03-08T00:00:00.000000000",
          "2024-03-09T00:00:00.000000000",
          "2024-03-10T00:00:00.000000000",
          "2024-03-11T00:00:00.000000000",
          "2024-03-12T00:00:00.000000000",
          "2024-03-13T00:00:00.000000000",
          "2024-03-14T00:00:00.000000000",
          "2024-03-15T00:00:00.000000000",
          "2024-03-16T00:00:00.000000000",
          "2024-03-17T00:00:00.000000000",
          "2024-03-18T00:00:00.000000000",
          "2024-03-19T00:00:00.000000000",
          "2024-03-20T00:00:00.000000000",
          "2024-03-21T00:00:00.000000000",
          "2024-03-22T00:00:00.000000000",
          "2024-03-23T00:00:00.000000000",
          "2024-03-24T00:00:00.000000000",
          "2024-03-25T00:00:00.000000000",
          "2024-03-26T00:00:00.000000000",
          "2024-03-27T00:00:00.000000000",
          "2024-03-28T00:00:00.000000000",
          "2024-03-29T00:00:00.000000000",
          "2024-03-30T00:00:00.000000000",
          "2024-03-31T00:00:00.000000000",
          "2024-04-01T00:00:00.000000000",
          "2024-04-02T00:00:00.000000000",
          "2024-04-03T00:00:00.000000000",
          "2024-04-04T00:00:00.000000000",
          "2024-04-05T00:00:00.000000000",
          "2024-04-06T00:00:00.000000000",
          "2024-04-07T00:00:00.000000000",
          "2024-04-08T00:00:00.000000000",
          "2024-04-09T00:00:00.000000000",
          "2024-04-10T00:00:00.000000000",
          "2024-04-11T00:00:00.000000000",
          "2024-04-12T00:00:00.000000000",
          "2024-04-13T00:00:00.000000000",
          "2024-04-14T00:00:00.000000000",
          "2024-04-15T00:00:00.000000000",
          "2024-04-16T00:00:00.000000000",
          "2024-04-17T00:00:00.000000000",
          "2024-04-18T00:00:00.000000000",
          "2024-04-19T00:00:00.000000000",
          "2024-04-20T00:00:00.000000000",
          "2024-04-21T00:00:00.000000000",
          "2024-04-22T00:00:00.000000000",
          "2024-04-23T00:00:00.000000000",
          "2024-04-24T00:00:00.000000000",
          "2024-04-25T00:00:00.000000000",
          "2024-04-26T00:00:00.000000000",
          "2024-04-27T00:00:00.000000000",
          "2024-04-28T00:00:00.000000000",
          "2024-04-29T00:00:00.000000000"
         ],
         "xaxis": "x",
         "y": {
          "bdata": "AAAAAAAAWUAor6G8hjJZQFFeQ3kNZVlAeQ3lNZSXWUCivIbyGspZQMprKK+h/FlA8hrKaygvWkAbymsor2FaQEN5DeU1lFpAbCivobzGWkCU11BeQ/laQL2G8hrKK1tA5TWU11BeW0AO5TWU15BbQDaU11Bew1tAXkN5DeX1W0CH8hrKayhcQK+hvIbyWlxA2FBeQ3mNXEAAAAAAAMBcQAAAAAAAwFxAGgyhwRCKXEA0GEKDIVRcQE4k40QyHlxAaDCEBkPoW0CCPCXIU7JbQJ1IxolkfFtAt1RnS3VGW0DRYAgNhhBbQOtsqc6W2lpABXlKkKekWkAfhetRuG5aQB+F61G4blpAPgrXo3CvWkBcj8L1KPBaQHsUrkfhMFtAmpmZmZlxW0C4HoXrUbJbQNejcD0K81tA9ihcj8IzXEAVrkfhenRcQDMzMzMztVxAUrgehev1XEBxPQrXozZdQJDC9Shcd11ArkfhehS4XUDNzMzMzPhdQOxRuB6FOV5ACtejcD16XkApXI/C9bpeQEjhehSu+15AZmZmZmY8X0CF61G4Hn1fQKRwPQrXvV9AwvUoXI/+X0BxPQrXox9gQAAAAAAAQGBAAAAAAABAYECwxwMPzypgQF+PBx6eFWBAD1cLLW0AYEB9PR54eNZfQNzMJZYWrF9AO1wttLSBX0Ca6zTSUldfQPl6PPDwLF9AWApEDo8CX0C3mUssLdheQBcpU0rLrV5AdrhaaGmDXkDVR2KGB1leQDTXaaSlLl5ANNdppKUuXkCsT+IcHmdeQCXIWpWWn15AnUDTDQ/YXkAWuUuGhxBfQI4xxP7/SF9AB6o8d3iBX0B/IrXv8LlfQPiaLWhp8l9AuAlT8HAVYED0RY8srTFgQDGCy2jpTWBAbb4HpSVqYECp+kPhYYZgQOU2gB2eomBAInO8Wdq+YEBer/iVFttgQJrrNNJS92BAIDelV+64YEBreSMuf71gQB33E3P+22BAmGrwF4TNYEAY32OshOZgQIXRD8GS8GBAMSYMQkDxYEDL/CIQnMhgQMASLVAlvGBAIZ+Q4ue9YEBRy/RT2ahgQMAhiclfsGBAkNObk0yXYEBTxK3JCatgQIDZD1EqumBArqyflGywYECL04TuBZlgQMg1FBqTs2BAFniufiefYECyS+/U93RgQN2SKSFgomBAmygjj07NYEBQk+XD2L5gQD4UtCF9nWBA+lwLT/6cYEA65HR8lLRgQCjC43CSxWBAHwGk6L3qYEA5O3H35tlgQPSzG6pI1WBA",
          "dtype": "f8"
         },
         "yaxis": "y"
        },
        {
         "marker": {
          "color": "red",
          "size": 12
         },
         "mode": "markers+text",
         "name": "Wave Start",
         "showlegend": false,
         "text": [
          "Start"
         ],
         "textfont": {
          "color": "red",
          "size": 14
         },
         "textposition": "top center",
         "type": "scatter",
         "x": [
          "2024-01-01T00:00:00"
         ],
         "xaxis": "x",
         "y": [
          100
         ],
         "yaxis": "y"
        },
        {
         "marker": {
          "color": "red",
          "size": 12
         },
         "mode": "markers+text",
         "name": "Wave 1",
         "showlegend": false,
         "text": [
          "1"
         ],
         "textfont": {
          "color": "red",
          "size": 14
         },
         "textposition": "top center",
         "type": "scatter",
         "x": [
          "2024-01-20T00:00:00"
         ],
         "xaxis": "x",
         "y": [
          115
         ],
         "yaxis": "y"
        },
        {
         "marker": {
          "color": "red",
          "size": 12
         },
         "mode": "markers+text",
         "name": "Wave 2",
         "showlegend": false,
         "text": [
          "2"
         ],
         "textfont": {
          "color": "red",
          "size": 14
         },
         "textposition": "top center",
         "type": "scatter",
         "x": [
          "2024-02-01T00:00:00"
         ],
         "xaxis": "x",
         "y": [
          105.73
         ],
         "yaxis": "y"
        },
        {
         "marker": {
          "color": "red",
          "size": 12
         },
         "mode": "markers+text",
         "name": "Wave 3",
         "showlegend": false,
         "text": [
          "3"
         ],
         "textfont": {
          "color": "red",
          "size": 14
         },
         "textposition": "top center",
         "type": "scatter",
         "x": [
          "2024-02-26T00:00:00"
         ],
         "xaxis": "x",
         "y": [
          130
         ],
         "yaxis": "y"
        },
        {
         "marker": {
          "color": "red",
          "size": 12
         },
         "mode": "markers+text",
         "name": "Wave 4",
         "showlegend": false,
         "text": [
          "4"
         ],
         "textfont": {
          "color": "red",
          "size": 14
         },
         "textposition": "top center",
         "type": "scatter",
         "x": [
          "2024-03-12T00:00:00"
         ],
         "xaxis": "x",
         "y": [
          120.72886
         ],
         "yaxis": "y"
        },
        {
         "marker": {
          "color": "red",
          "size": 12
         },
         "mode": "markers+text",
         "name": "Wave 5",
         "showlegend": false,
         "text": [
          "5"
         ],
         "textfont": {
          "color": "red",
          "size": 14
         },
         "textposition": "top center",
         "type": "scatter",
         "x": [
          "2024-03-30T00:00:00"
         ],
         "xaxis": "x",
         "y": [
          135.72886
         ],
         "yaxis": "y"
        },
        {
         "cells": {
          "align": "center",
          "fill": {
           "color": "lightgray"
          },
          "font": {
           "size": 11
          },
          "values": [
           [
            "1",
            "2",
            "3",
            "4",
            "5"
           ],
           [
            "Impulse",
            "Correction",
            "Impulse",
            "Correction",
            "Impulse"
           ],
           [
            "Discovery",
            "Doubt",
            "Recognition",
            "Profit Taking",
            "Euphoria"
           ],
           [
            "N/A",
            "50-61.8%",
            "N/A",
            "23.6-38.2%",
            "N/A"
           ]
          ]
         },
         "domain": {
          "x": [
           0,
           1
          ],
          "y": [
           0,
           0.27
          ]
         },
         "header": {
          "align": "center",
          "fill": {
           "color": "lightblue"
          },
          "font": {
           "size": 12
          },
          "values": [
           "Wave",
           "Type",
           "Character",
           "Typical_Retracement"
          ]
         },
         "type": "table"
        }
       ],
       "layout": {
        "annotations": [
         {
          "font": {
           "size": 16
          },
          "showarrow": false,
          "text": "Elliott Wave 12345 Structure",
          "x": 0.5,
          "xanchor": "center",
          "xref": "paper",
          "y": 1,
          "yanchor": "bottom",
          "yref": "paper"
         },
         {
          "font": {
           "size": 16
          },
          "showarrow": false,
          "text": "Wave Analysis & Fibonacci Ratios",
          "x": 0.5,
          "xanchor": "center",
          "xref": "paper",
          "y": 0.27,
          "yanchor": "bottom",
          "yref": "paper"
         },
         {
          "showarrow": false,
          "text": "23.6%",
          "x": 1,
          "xanchor": "left",
          "xref": "x domain",
          "y": 111.46,
          "yanchor": "middle",
          "yref": "y"
         },
         {
          "showarrow": false,
          "text": "38.2%",
          "x": 1,
          "xanchor": "left",
          "xref": "x domain",
          "y": 109.27,
          "yanchor": "middle",
          "yref": "y"
         },
         {
          "showarrow": false,
          "text": "50.0%",
          "x": 1,
          "xanchor": "left",
          "xref": "x domain",
          "y": 107.5,
          "yanchor": "middle",
          "yref": "y"
         },
         {
          "showarrow": false,
          "text": "61.8%",
          "x": 1,
          "xanchor": "left",
          "xref": "x domain",
          "y": 105.73,
          "yanchor": "middle",
          "yref": "y"
         },
         {
          "showarrow": false,
          "text": "78.6%",
          "x": 1,
          "xanchor": "left",
          "xref": "x domain",
          "y": 103.21,
          "yanchor": "middle",
          "yref": "y"
         }
        ],
        "height": 800,
        "shapes": [
         {
          "line": {
           "color": "orange",
           "dash": "dot"
          },
          "opacity": 0.5,
          "type": "line",
          "x0": 0,
          "x1": 1,
          "xref": "x domain",
          "y0": 111.46,
          "y1": 111.46,
          "yref": "y"
         },
         {
          "line": {
           "color": "orange",
           "dash": "dot"
          },
          "opacity": 0.5,
          "type": "line",
          "x0": 0,
          "x1": 1,
          "xref": "x domain",
          "y0": 109.27,
          "y1": 109.27,
          "yref": "y"
         },
         {
          "line": {
           "color": "orange",
           "dash": "dot"
          },
          "opacity": 0.5,
          "type": "line",
          "x0": 0,
          "x1": 1,
          "xref": "x domain",
          "y0": 107.5,
          "y1": 107.5,
          "yref": "y"
         },
         {
          "line": {
           "color": "orange",
           "dash": "dot"
          },
          "opacity": 0.5,
          "type": "line",
          "x0": 0,
          "x1": 1,
          "xref": "x domain",
          "y0": 105.73,
          "y1": 105.73,
          "yref": "y"
         },
         {
          "line": {
           "color": "orange",
           "dash": "dot"
          },
          "opacity": 0.5,
          "type": "line",
          "x0": 0,
          "x1": 1,
          "xref": "x domain",
          "y0": 103.21,
          "y1": 103.21,
          "yref": "y"
         }
        ],
        "template": {
         "data": {
          "bar": [
           {
            "error_x": {
             "color": "#2a3f5f"
            },
            "error_y": {
             "color": "#2a3f5f"
            },
            "marker": {
             "line": {
              "color": "white",
              "width": 0.5
             },
             "pattern": {
              "fillmode": "overlay",
              "size": 10,
              "solidity": 0.2
             }
            },
            "type": "bar"
           }
          ],
          "barpolar": [
           {
            "marker": {
             "line": {
              "color": "white",
              "width": 0.5
             },
             "pattern": {
              "fillmode": "overlay",
              "size": 10,
              "solidity": 0.2
             }
            },
            "type": "barpolar"
           }
          ],
          "carpet": [
           {
            "aaxis": {
             "endlinecolor": "#2a3f5f",
             "gridcolor": "#C8D4E3",
             "linecolor": "#C8D4E3",
             "minorgridcolor": "#C8D4E3",
             "startlinecolor": "#2a3f5f"
            },
            "baxis": {
             "endlinecolor": "#2a3f5f",
             "gridcolor": "#C8D4E3",
             "linecolor": "#C8D4E3",
             "minorgridcolor": "#C8D4E3",
             "startlinecolor": "#2a3f5f"
            },
            "type": "carpet"
           }
          ],
          "choropleth": [
           {
            "colorbar": {
             "outlinewidth": 0,
             "ticks": ""
            },
            "type": "choropleth"
           }
          ],
          "contour": [
           {
            "colorbar": {
             "outlinewidth": 0,
             "ticks": ""
            },
            "colorscale": [
             [
              0,
              "#0d0887"
             ],
             [
              0.1111111111111111,
              "#46039f"
             ],
             [
              0.2222222222222222,
              "#7201a8"
             ],
             [
              0.3333333333333333,
              "#9c179e"
             ],
             [
              0.4444444444444444,
              "#bd3786"
             ],
             [
              0.5555555555555556,
              "#d8576b"
             ],
             [
              0.6666666666666666,
              "#ed7953"
             ],
             [
              0.7777777777777778,
              "#fb9f3a"
             ],
             [
              0.8888888888888888,
              "#fdca26"
             ],
             [
              1,
              "#f0f921"
             ]
            ],
            "type": "contour"
           }
          ],
          "contourcarpet": [
           {
            "colorbar": {
             "outlinewidth": 0,
             "ticks": ""
            },
            "type": "contourcarpet"
           }
          ],
          "heatmap": [
           {
            "colorbar": {
             "outlinewidth": 0,
             "ticks": ""
            },
            "colorscale": [
             [
              0,
              "#0d0887"
             ],
             [
              0.1111111111111111,
              "#46039f"
             ],
             [
              0.2222222222222222,
              "#7201a8"
             ],
             [
              0.3333333333333333,
              "#9c179e"
             ],
             [
              0.4444444444444444,
              "#bd3786"
             ],
             [
              0.5555555555555556,
              "#d8576b"
             ],
             [
              0.6666666666666666,
              "#ed7953"
             ],
             [
              0.7777777777777778,
              "#fb9f3a"
             ],
             [
              0.8888888888888888,
              "#fdca26"
             ],
             [
              1,
              "#f0f921"
             ]
            ],
            "type": "heatmap"
           }
          ],
          "histogram": [
           {
            "marker": {
             "pattern": {
              "fillmode": "overlay",
              "size": 10,
              "solidity": 0.2
             }
            },
            "type": "histogram"
           }
          ],
          "histogram2d": [
           {
            "colorbar": {
             "outlinewidth": 0,
             "ticks": ""
            },
            "colorscale": [
             [
              0,
              "#0d0887"
             ],
             [
              0.1111111111111111,
              "#46039f"
             ],
             [
              0.2222222222222222,
              "#7201a8"
             ],
             [
              0.3333333333333333,
              "#9c179e"
             ],
             [
              0.4444444444444444,
              "#bd3786"
             ],
             [
              0.5555555555555556,
              "#d8576b"
             ],
             [
              0.6666666666666666,
              "#ed7953"
             ],
             [
              0.7777777777777778,
              "#fb9f3a"
             ],
             [
              0.8888888888888888,
              "#fdca26"
             ],
             [
              1,
              "#f0f921"
             ]
            ],
            "type": "histogram2d"
           }
          ],
          "histogram2dcontour": [
           {
            "colorbar": {
             "outlinewidth": 0,
             "ticks": ""
            },
            "colorscale": [
             [
              0,
              "#0d0887"
             ],
             [
              0.1111111111111111,
              "#46039f"
             ],
             [
              0.2222222222222222,
              "#7201a8"
             ],
             [
              0.3333333333333333,
              "#9c179e"
             ],
             [
              0.4444444444444444,
              "#bd3786"
             ],
             [
              0.5555555555555556,
              "#d8576b"
             ],
             [
              0.6666666666666666,
              "#ed7953"
             ],
             [
              0.7777777777777778,
              "#fb9f3a"
             ],
             [
              0.8888888888888888,
              "#fdca26"
             ],
             [
              1,
              "#f0f921"
             ]
            ],
            "type": "histogram2dcontour"
           }
          ],
          "mesh3d": [
           {
            "colorbar": {
             "outlinewidth": 0,
             "ticks": ""
            },
            "type": "mesh3d"
           }
          ],
          "parcoords": [
           {
            "line": {
             "colorbar": {
              "outlinewidth": 0,
              "ticks": ""
             }
            },
            "type": "parcoords"
           }
          ],
          "pie": [
           {
            "automargin": true,
            "type": "pie"
           }
          ],
          "scatter": [
           {
            "fillpattern": {
             "fillmode": "overlay",
             "size": 10,
             "solidity": 0.2
            },
            "type": "scatter"
           }
          ],
          "scatter3d": [
           {
            "line": {
             "colorbar": {
              "outlinewidth": 0,
              "ticks": ""
             }
            },
            "marker": {
             "colorbar": {
              "outlinewidth": 0,
              "ticks": ""
             }
            },
            "type": "scatter3d"
           }
          ],
          "scattercarpet": [
           {
            "marker": {
             "colorbar": {
              "outlinewidth": 0,
              "ticks": ""
             }
            },
            "type": "scattercarpet"
           }
          ],
          "scattergeo": [
           {
            "marker": {
             "colorbar": {
              "outlinewidth": 0,
              "ticks": ""
             }
            },
            "type": "scattergeo"
           }
          ],
          "scattergl": [
           {
            "marker": {
             "colorbar": {
              "outlinewidth": 0,
              "ticks": ""
             }
            },
            "type": "scattergl"
           }
          ],
          "scattermap": [
           {
            "marker": {
             "colorbar": {
              "outlinewidth": 0,
              "ticks": ""
             }
            },
            "type": "scattermap"
           }
          ],
          "scattermapbox": [
           {
            "marker": {
             "colorbar": {
              "outlinewidth": 0,
              "ticks": ""
             }
            },
            "type": "scattermapbox"
           }
          ],
          "scatterpolar": [
           {
            "marker": {
             "colorbar": {
              "outlinewidth": 0,
              "ticks": ""
             }
            },
            "type": "scatterpolar"
           }
          ],
          "scatterpolargl": [
           {
            "marker": {
             "colorbar": {
              "outlinewidth": 0,
              "ticks": ""
             }
            },
            "type": "scatterpolargl"
           }
          ],
          "scatterternary": [
           {
            "marker": {
             "colorbar": {
              "outlinewidth": 0,
              "ticks": ""
             }
            },
            "type": "scatterternary"
           }
          ],
          "surface": [
           {
            "colorbar": {
             "outlinewidth": 0,
             "ticks": ""
            },
            "colorscale": [
             [
              0,
              "#0d0887"
             ],
             [
              0.1111111111111111,
              "#46039f"
             ],
             [
              0.2222222222222222,
              "#7201a8"
             ],
             [
              0.3333333333333333,
              "#9c179e"
             ],
             [
              0.4444444444444444,
              "#bd3786"
             ],
             [
              0.5555555555555556,
              "#d8576b"
             ],
             [
              0.6666666666666666,
              "#ed7953"
             ],
             [
              0.7777777777777778,
              "#fb9f3a"
             ],
             [
              0.8888888888888888,
              "#fdca26"
             ],
             [
              1,
              "#f0f921"
             ]
            ],
            "type": "surface"
           }
          ],
          "table": [
           {
            "cells": {
             "fill": {
              "color": "#EBF0F8"
             },
             "line": {
              "color": "white"
             }
            },
            "header": {
             "fill": {
              "color": "#C8D4E3"
             },
             "line": {
              "color": "white"
             }
            },
            "type": "table"
           }
          ]
         },
         "layout": {
          "annotationdefaults": {
           "arrowcolor": "#2a3f5f",
           "arrowhead": 0,
           "arrowwidth": 1
          },
          "autotypenumbers": "strict",
          "coloraxis": {
           "colorbar": {
            "outlinewidth": 0,
            "ticks": ""
           }
          },
          "colorscale": {
           "diverging": [
            [
             0,
             "#8e0152"
            ],
            [
             0.1,
             "#c51b7d"
            ],
            [
             0.2,
             "#de77ae"
            ],
            [
             0.3,
             "#f1b6da"
            ],
            [
             0.4,
             "#fde0ef"
            ],
            [
             0.5,
             "#f7f7f7"
            ],
            [
             0.6,
             "#e6f5d0"
            ],
            [
             0.7,
             "#b8e186"
            ],
            [
             0.8,
             "#7fbc41"
            ],
            [
             0.9,
             "#4d9221"
            ],
            [
             1,
             "#276419"
            ]
           ],
           "sequential": [
            [
             0,
             "#0d0887"
            ],
            [
             0.1111111111111111,
             "#46039f"
            ],
            [
             0.2222222222222222,
             "#7201a8"
            ],
            [
             0.3333333333333333,
             "#9c179e"
            ],
            [
             0.4444444444444444,
             "#bd3786"
            ],
            [
             0.5555555555555556,
             "#d8576b"
            ],
            [
             0.6666666666666666,
             "#ed7953"
            ],
            [
             0.7777777777777778,
             "#fb9f3a"
            ],
            [
             0.8888888888888888,
             "#fdca26"
            ],
            [
             1,
             "#f0f921"
            ]
           ],
           "sequentialminus": [
            [
             0,
             "#0d0887"
            ],
            [
             0.1111111111111111,
             "#46039f"
            ],
            [
             0.2222222222222222,
             "#7201a8"
            ],
            [
             0.3333333333333333,
             "#9c179e"
            ],
            [
             0.4444444444444444,
             "#bd3786"
            ],
            [
             0.5555555555555556,
             "#d8576b"
            ],
            [
             0.6666666666666666,
             "#ed7953"
            ],
            [
             0.7777777777777778,
             "#fb9f3a"
            ],
            [
             0.8888888888888888,
             "#fdca26"
            ],
            [
             1,
             "#f0f921"
            ]
           ]
          },
          "colorway": [
           "#636efa",
           "#EF553B",
           "#00cc96",
           "#ab63fa",
           "#FFA15A",
           "#19d3f3",
           "#FF6692",
           "#B6E880",
           "#FF97FF",
           "#FECB52"
          ],
          "font": {
           "color": "#2a3f5f"
          },
          "geo": {
           "bgcolor": "white",
           "lakecolor": "white",
           "landcolor": "white",
           "showlakes": true,
           "showland": true,
           "subunitcolor": "#C8D4E3"
          },
          "hoverlabel": {
           "align": "left"
          },
          "hovermode": "closest",
          "mapbox": {
           "style": "light"
          },
          "paper_bgcolor": "white",
          "plot_bgcolor": "white",
          "polar": {
           "angularaxis": {
            "gridcolor": "#EBF0F8",
            "linecolor": "#EBF0F8",
            "ticks": ""
           },
           "bgcolor": "white",
           "radialaxis": {
            "gridcolor": "#EBF0F8",
            "linecolor": "#EBF0F8",
            "ticks": ""
           }
          },
          "scene": {
           "xaxis": {
            "backgroundcolor": "white",
            "gridcolor": "#DFE8F3",
            "gridwidth": 2,
            "linecolor": "#EBF0F8",
            "showbackground": true,
            "ticks": "",
            "zerolinecolor": "#EBF0F8"
           },
           "yaxis": {
            "backgroundcolor": "white",
            "gridcolor": "#DFE8F3",
            "gridwidth": 2,
            "linecolor": "#EBF0F8",
            "showbackground": true,
            "ticks": "",
            "zerolinecolor": "#EBF0F8"
           },
           "zaxis": {
            "backgroundcolor": "white",
            "gridcolor": "#DFE8F3",
            "gridwidth": 2,
            "linecolor": "#EBF0F8",
            "showbackground": true,
            "ticks": "",
            "zerolinecolor": "#EBF0F8"
           }
          },
          "shapedefaults": {
           "line": {
            "color": "#2a3f5f"
           }
          },
          "ternary": {
           "aaxis": {
            "gridcolor": "#DFE8F3",
            "linecolor": "#A2B1C6",
            "ticks": ""
           },
           "baxis": {
            "gridcolor": "#DFE8F3",
            "linecolor": "#A2B1C6",
            "ticks": ""
           },
           "bgcolor": "white",
           "caxis": {
            "gridcolor": "#DFE8F3",
            "linecolor": "#A2B1C6",
            "ticks": ""
           }
          },
          "title": {
           "x": 0.05
          },
          "xaxis": {
           "automargin": true,
           "gridcolor": "#EBF0F8",
           "linecolor": "#EBF0F8",
           "ticks": "",
           "title": {
            "standoff": 15
           },
           "zerolinecolor": "#EBF0F8",
           "zerolinewidth": 2
          },
          "yaxis": {
           "automargin": true,
           "gridcolor": "#EBF0F8",
           "linecolor": "#EBF0F8",
           "ticks": "",
           "title": {
            "standoff": 15
           },
           "zerolinecolor": "#EBF0F8",
           "zerolinewidth": 2
          }
         }
        },
        "title": {
         "text": "🌊 Elliott Wave Impulse Structure (12345)<br><sub>Five-wave trending pattern with Fibonacci relationships</sub>"
        },
        "xaxis": {
         "anchor": "y",
         "domain": [
          0,
          1
         ]
        },
        "yaxis": {
         "anchor": "x",
         "domain": [
          0.37,
          1
         ],
         "title": {
          "text": "Price ($)"
         }
        }
       }
      }
     },
     "metadata": {},
     "output_type": "display_data"
    },
    {
     "name": "stdout",
     "output_type": "stream",
     "text": [
      "🌊 ELLIOTT WAVE IMPULSE (12345) RULES:\n",
      "==================================================\n",
      "📊 WAVE STRUCTURE:\n",
      "• Wave 1: Initial move, moderate volume\n",
      "• Wave 2: Correction, 50-61.8% retracement of Wave 1\n",
      "• Wave 3: Strongest move, highest volume, extends beyond Wave 1\n",
      "• Wave 4: Correction, 23.6-38.2% retracement of Wave 3\n",
      "• Wave 5: Final move, often equals Wave 1 length\n",
      "\n",
      "📏 FIBONACCI RELATIONSHIPS:\n",
      "• Wave 3 = 1.618 × Wave 1 (most common)\n",
      "• Wave 5 = Wave 1 (equality)\n",
      "• Wave 2 retraces 61.8% of Wave 1\n",
      "• Wave 4 retraces 38.2% of Wave 3\n",
      "\n",
      "🚫 ELLIOTT WAVE RULES (Never Violated):\n",
      "1. Wave 2 never retraces more than 100% of Wave 1\n",
      "2. Wave 3 is never the shortest wave\n",
      "3. Wave 4 never overlaps Wave 1 price territory\n",
      "\n",
      "🎯 TRADING STRATEGIES:\n",
      "• Enter on Wave 2 completion with stops below Wave 1\n",
      "• Add positions on Wave 4 completion\n",
      "• Take profits at Wave 5 completion\n",
      "• Expect ABC correction after 5-wave completion\n",
      "• Enter on Wave 2 completion with stops below Wave 1\n",
      "• Add positions on Wave 4 completion\n",
      "• Take profits at Wave 5 completion\n",
      "• Expect ABC correction after 5-wave completion\n"
     ]
    }
   ],
   "source": [
    "# 3. ELLIOTT IMPULSE WAVE (12345) - Five-Wave Trending Structure\n",
    "def plot_elliott_impulse_wave():\n",
    "    \"\"\"Demonstrate Elliott Wave 5-wave impulse structure\"\"\"\n",
    "    \n",
    "    from plotly.subplots import make_subplots\n",
    "    \n",
    "    fig = make_subplots(\n",
    "        rows=2, cols=1,\n",
    "        subplot_titles=('Elliott Wave 12345 Structure', 'Wave Analysis & Fibonacci Ratios'),\n",
    "        specs=[[{\"type\": \"xy\"}],\n",
    "               [{\"type\": \"table\"}]],\n",
    "        row_heights=[0.7, 0.3],\n",
    "        vertical_spacing=0.1\n",
    "    )\n",
    "    \n",
    "    # Create Elliott Wave data\n",
    "    np.random.seed(100)\n",
    "    \n",
    "    # Define wave structure mathematically\n",
    "    days = 120\n",
    "    dates = pd.date_range(start='2024-01-01', periods=days, freq='D')\n",
    "    \n",
    "    # Create 5-wave structure\n",
    "    # Wave 1: Initial impulse\n",
    "    wave1_length = 20\n",
    "    wave1 = np.linspace(100, 115, wave1_length)\n",
    "    \n",
    "    # Wave 2: Correction (typically 50-61.8% of wave 1)\n",
    "    wave2_length = 12\n",
    "    wave2_retrace = 0.618  # 61.8% retracement\n",
    "    wave2_end = wave1[0] + (wave1[-1] - wave1[0]) * (1 - wave2_retrace)\n",
    "    wave2 = np.linspace(wave1[-1], wave2_end, wave2_length)\n",
    "    \n",
    "    # Wave 3: Strongest impulse (typically 1.618x wave 1)\n",
    "    wave3_length = 25\n",
    "    wave1_range = wave1[-1] - wave1[0]\n",
    "    wave3_end = wave2[-1] + (wave1_range * 1.618)\n",
    "    wave3 = np.linspace(wave2[-1], wave3_end, wave3_length)\n",
    "    \n",
    "    # Wave 4: Smaller correction (typically 38.2% of wave 3)\n",
    "    wave4_length = 15\n",
    "    wave4_retrace = 0.382\n",
    "    wave3_range = wave3[-1] - wave3[0]\n",
    "    wave4_end = wave3[-1] - (wave3_range * wave4_retrace)\n",
    "    wave4 = np.linspace(wave3[-1], wave4_end, wave4_length)\n",
    "    \n",
    "    # Wave 5: Final impulse (often equal to wave 1)\n",
    "    wave5_length = 18\n",
    "    wave5_end = wave4[-1] + wave1_range\n",
    "    wave5 = np.linspace(wave4[-1], wave5_end, wave5_length)\n",
    "    \n",
    "    # Combine waves\n",
    "    elliott_pattern = np.concatenate([wave1, wave2, wave3, wave4, wave5])\n",
    "    \n",
    "    # Add remaining data points with noise\n",
    "    remaining_points = days - len(elliott_pattern)\n",
    "    if remaining_points > 0:\n",
    "        correction_phase = wave5_end + np.cumsum(np.random.normal(-0.2, 1, remaining_points))\n",
    "        elliott_pattern = np.concatenate([elliott_pattern, correction_phase])\n",
    "    \n",
    "    elliott_pattern = elliott_pattern[:days]  # Ensure exact length\n",
    "    \n",
    "    # Plot main Elliott Wave\n",
    "    fig.add_trace(go.Scatter(\n",
    "        x=dates,\n",
    "        y=elliott_pattern,\n",
    "        mode='lines',\n",
    "        name='Price',\n",
    "        line=dict(color='blue', width=2)\n",
    "    ), row=1, col=1)\n",
    "    \n",
    "    # Mark wave endpoints\n",
    "    wave_endpoints = [\n",
    "        (0, wave1[0], \"Start\"),\n",
    "        (wave1_length-1, wave1[-1], \"1\"),\n",
    "        (wave1_length + wave2_length-1, wave2[-1], \"2\"),\n",
    "        (wave1_length + wave2_length + wave3_length-1, wave3[-1], \"3\"),\n",
    "        (wave1_length + wave2_length + wave3_length + wave4_length-1, wave4[-1], \"4\"),\n",
    "        (wave1_length + wave2_length + wave3_length + wave4_length + wave5_length-1, wave5[-1], \"5\")\n",
    "    ]\n",
    "    \n",
    "    for idx, price, label in wave_endpoints:\n",
    "        if idx < len(dates):\n",
    "            fig.add_trace(go.Scatter(\n",
    "                x=[dates[idx]],\n",
    "                y=[price],\n",
    "                mode='markers+text',\n",
    "                name=f'Wave {label}',\n",
    "                marker=dict(size=12, color='red'),\n",
    "                text=[label],\n",
    "                textposition='top center',\n",
    "                textfont=dict(size=14, color='red'),\n",
    "                showlegend=False\n",
    "            ), row=1, col=1)\n",
    "    \n",
    "    # Add Fibonacci retracement levels for wave 2\n",
    "    fib_levels = [0.236, 0.382, 0.5, 0.618, 0.786]\n",
    "    wave1_high = wave1[-1]\n",
    "    wave1_low = wave1[0]\n",
    "    wave1_range = wave1_high - wave1_low\n",
    "    \n",
    "    for level in fib_levels:\n",
    "        fib_price = wave1_high - (wave1_range * level)\n",
    "        fig.add_hline(\n",
    "            y=fib_price,\n",
    "            line_dash=\"dot\",\n",
    "            line_color=\"orange\",\n",
    "            opacity=0.5,\n",
    "            annotation_text=f\"{level:.1%}\",\n",
    "            annotation_position=\"right\",\n",
    "            row=1, col=1\n",
    "        )\n",
    "    \n",
    "    # Wave analysis chart\n",
    "    wave_data = {\n",
    "        'Wave': ['1', '2', '3', '4', '5'],\n",
    "        'Type': ['Impulse', 'Correction', 'Impulse', 'Correction', 'Impulse'],\n",
    "        'Character': ['Discovery', 'Doubt', 'Recognition', 'Profit Taking', 'Euphoria'],\n",
    "        'Typical_Retracement': ['N/A', '50-61.8%', 'N/A', '23.6-38.2%', 'N/A']\n",
    "    }\n",
    "    \n",
    "    fig.add_trace(go.Table(\n",
    "        header=dict(values=list(wave_data.keys()),\n",
    "                   fill_color='lightblue',\n",
    "                   align='center',\n",
    "                   font=dict(size=12)),\n",
    "        cells=dict(values=[wave_data[col] for col in wave_data.keys()],\n",
    "                  fill_color='lightgray',\n",
    "                  align='center',\n",
    "                  font=dict(size=11))\n",
    "    ), row=2, col=1)\n",
    "    \n",
    "    fig.update_layout(\n",
    "        title='🌊 Elliott Wave Impulse Structure (12345)<br><sub>Five-wave trending pattern with Fibonacci relationships</sub>',\n",
    "        height=800,\n",
    "        template='plotly_white'\n",
    "    )\n",
    "    \n",
    "    fig.update_yaxes(title_text=\"Price ($)\", row=1, col=1)\n",
    "    \n",
    "    return fig\n",
    "\n",
    "elliott_impulse_fig = plot_elliott_impulse_wave()\n",
    "elliott_impulse_fig.show()\n",
    "\n",
    "print(\"🌊 ELLIOTT WAVE IMPULSE (12345) RULES:\")\n",
    "print(\"=\" * 50)\n",
    "print(\"📊 WAVE STRUCTURE:\")\n",
    "print(\"• Wave 1: Initial move, moderate volume\")\n",
    "print(\"• Wave 2: Correction, 50-61.8% retracement of Wave 1\")\n",
    "print(\"• Wave 3: Strongest move, highest volume, extends beyond Wave 1\")\n",
    "print(\"• Wave 4: Correction, 23.6-38.2% retracement of Wave 3\")\n",
    "print(\"• Wave 5: Final move, often equals Wave 1 length\")\n",
    "\n",
    "print(\"\\n📏 FIBONACCI RELATIONSHIPS:\")\n",
    "print(\"• Wave 3 = 1.618 × Wave 1 (most common)\")\n",
    "print(\"• Wave 5 = Wave 1 (equality)\")\n",
    "print(\"• Wave 2 retraces 61.8% of Wave 1\")\n",
    "print(\"• Wave 4 retraces 38.2% of Wave 3\")\n",
    "\n",
    "print(\"\\n🚫 ELLIOTT WAVE RULES (Never Violated):\")\n",
    "print(\"1. Wave 2 never retraces more than 100% of Wave 1\")\n",
    "print(\"2. Wave 3 is never the shortest wave\")\n",
    "print(\"3. Wave 4 never overlaps Wave 1 price territory\")\n",
    "\n",
    "print(\"\\n🎯 TRADING STRATEGIES:\")\n",
    "print(\"• Enter on Wave 2 completion with stops below Wave 1\")\n",
    "print(\"• Add positions on Wave 4 completion\")\n",
    "print(\"• Take profits at Wave 5 completion\")\n",
    "print(\"• Expect ABC correction after 5-wave completion\")\n",
    "print(\"• Enter on Wave 2 completion with stops below Wave 1\")\n",
    "print(\"• Add positions on Wave 4 completion\")\n",
    "print(\"• Take profits at Wave 5 completion\")\n",
    "print(\"• Expect ABC correction after 5-wave completion\")"
   ]
  },
  {
   "cell_type": "code",
   "execution_count": 9,
   "id": "120e6ad7",
   "metadata": {},
   "outputs": [
    {
     "data": {
      "application/vnd.plotly.v1+json": {
       "config": {
        "plotlyServerURL": "https://plot.ly"
       },
       "data": [
        {
         "line": {
          "color": "red",
          "width": 2
         },
         "mode": "lines",
         "name": "Zigzag ABC",
         "type": "scatter",
         "x": [
          "2024-03-01T00:00:00.000000000",
          "2024-03-02T00:00:00.000000000",
          "2024-03-03T00:00:00.000000000",
          "2024-03-04T00:00:00.000000000",
          "2024-03-05T00:00:00.000000000",
          "2024-03-06T00:00:00.000000000",
          "2024-03-07T00:00:00.000000000",
          "2024-03-08T00:00:00.000000000",
          "2024-03-09T00:00:00.000000000",
          "2024-03-10T00:00:00.000000000",
          "2024-03-11T00:00:00.000000000",
          "2024-03-12T00:00:00.000000000",
          "2024-03-13T00:00:00.000000000",
          "2024-03-14T00:00:00.000000000",
          "2024-03-15T00:00:00.000000000",
          "2024-03-16T00:00:00.000000000",
          "2024-03-17T00:00:00.000000000",
          "2024-03-18T00:00:00.000000000",
          "2024-03-19T00:00:00.000000000",
          "2024-03-20T00:00:00.000000000",
          "2024-03-21T00:00:00.000000000",
          "2024-03-22T00:00:00.000000000",
          "2024-03-23T00:00:00.000000000",
          "2024-03-24T00:00:00.000000000",
          "2024-03-25T00:00:00.000000000",
          "2024-03-26T00:00:00.000000000",
          "2024-03-27T00:00:00.000000000",
          "2024-03-28T00:00:00.000000000",
          "2024-03-29T00:00:00.000000000",
          "2024-03-30T00:00:00.000000000",
          "2024-03-31T00:00:00.000000000",
          "2024-04-01T00:00:00.000000000",
          "2024-04-02T00:00:00.000000000",
          "2024-04-03T00:00:00.000000000",
          "2024-04-04T00:00:00.000000000",
          "2024-04-05T00:00:00.000000000",
          "2024-04-06T00:00:00.000000000",
          "2024-04-07T00:00:00.000000000",
          "2024-04-08T00:00:00.000000000",
          "2024-04-09T00:00:00.000000000",
          "2024-04-10T00:00:00.000000000",
          "2024-04-11T00:00:00.000000000",
          "2024-04-12T00:00:00.000000000",
          "2024-04-13T00:00:00.000000000",
          "2024-04-14T00:00:00.000000000",
          "2024-04-15T00:00:00.000000000",
          "2024-04-16T00:00:00.000000000",
          "2024-04-17T00:00:00.000000000",
          "2024-04-18T00:00:00.000000000",
          "2024-04-19T00:00:00.000000000",
          "2024-04-20T00:00:00.000000000",
          "2024-04-21T00:00:00.000000000",
          "2024-04-22T00:00:00.000000000",
          "2024-04-23T00:00:00.000000000",
          "2024-04-24T00:00:00.000000000",
          "2024-04-25T00:00:00.000000000",
          "2024-04-26T00:00:00.000000000",
          "2024-04-27T00:00:00.000000000",
          "2024-04-28T00:00:00.000000000",
          "2024-04-29T00:00:00.000000000"
         ],
         "xaxis": "x",
         "y": {
          "bdata": "AAAAAABAYEBsKK+hvCZgQNhQXkN5DWBAh/IaymvoX0BeQ3kN5bVfQDaU11Beg19ADuU1lNdQX0DlNZTXUB5fQL2G8hrK615AlNdQXkO5XkBsKK+hvIZeQEN5DeU1VF5AG8prKK8hXkDyGsprKO9dQMprKK+hvF1AoryG8hqKXUB5DeU1lFddQFFeQ3kNJV1AKK+hvIbyXEAAAAAAAMBcQAAAAAAAwFxA27Zt27btXEC3bdu2bRtdQJIkSZIkSV1Abtu2bdt2XUBJkiRJkqRdQCVJkiRJ0l1AAAAAAAAAXkDbtm3bti1eQLdt27ZtW15AkiRJkiSJXkBu27Zt27ZeQEmSJEmS5F5AJUmSJEkSX0AAAAAAAEBfQAAAAAAAQF9AAAAAAAAYX0AAAAAAAPBeQAAAAAAAyF5AAAAAAACgXkAAAAAAAHheQAAAAAAAUF5AAAAAAAAoXkAAAAAAAABeQAAAAAAA2F1AAAAAAACwXUAAAAAAAIhdQAAAAAAAYF1AAAAAAAA4XUAAAAAAABBdQAAAAAAA6FxAAAAAAADAXEAAAAAAAJhcQAAAAAAAcFxAAAAAAABIXEAAAAAAACBcQAAAAAAA+FtAAAAAAADQW0AAAAAAAKhbQAAAAAAAgFtA",
          "dtype": "f8"
         },
         "yaxis": "y"
        },
        {
         "marker": {
          "color": "red",
          "size": 10
         },
         "mode": "markers+text",
         "showlegend": false,
         "text": [
          "Start"
         ],
         "textposition": "top center",
         "type": "scatter",
         "x": [
          "2024-03-01T00:00:00"
         ],
         "xaxis": "x",
         "y": [
          130
         ],
         "yaxis": "y"
        },
        {
         "marker": {
          "color": "red",
          "size": 10
         },
         "mode": "markers+text",
         "showlegend": false,
         "text": [
          "A"
         ],
         "textposition": "top center",
         "type": "scatter",
         "x": [
          "2024-03-20T00:00:00"
         ],
         "xaxis": "x",
         "y": [
          115
         ],
         "yaxis": "y"
        },
        {
         "marker": {
          "color": "red",
          "size": 10
         },
         "mode": "markers+text",
         "showlegend": false,
         "text": [
          "B"
         ],
         "textposition": "top center",
         "type": "scatter",
         "x": [
          "2024-04-04T00:00:00"
         ],
         "xaxis": "x",
         "y": [
          125
         ],
         "yaxis": "y"
        },
        {
         "marker": {
          "color": "red",
          "size": 10
         },
         "mode": "markers+text",
         "showlegend": false,
         "text": [
          "C"
         ],
         "textposition": "top center",
         "type": "scatter",
         "x": [
          "2024-04-29T00:00:00"
         ],
         "xaxis": "x",
         "y": [
          110
         ],
         "yaxis": "y"
        },
        {
         "line": {
          "color": "blue",
          "width": 2
         },
         "mode": "lines",
         "name": "Flat ABC",
         "type": "scatter",
         "x": [
          "2024-04-01T00:00:00.000000000",
          "2024-04-02T00:00:00.000000000",
          "2024-04-03T00:00:00.000000000",
          "2024-04-04T00:00:00.000000000",
          "2024-04-05T00:00:00.000000000",
          "2024-04-06T00:00:00.000000000",
          "2024-04-07T00:00:00.000000000",
          "2024-04-08T00:00:00.000000000",
          "2024-04-09T00:00:00.000000000",
          "2024-04-10T00:00:00.000000000",
          "2024-04-11T00:00:00.000000000",
          "2024-04-12T00:00:00.000000000",
          "2024-04-13T00:00:00.000000000",
          "2024-04-14T00:00:00.000000000",
          "2024-04-15T00:00:00.000000000",
          "2024-04-16T00:00:00.000000000",
          "2024-04-17T00:00:00.000000000",
          "2024-04-18T00:00:00.000000000",
          "2024-04-19T00:00:00.000000000",
          "2024-04-20T00:00:00.000000000",
          "2024-04-21T00:00:00.000000000",
          "2024-04-22T00:00:00.000000000",
          "2024-04-23T00:00:00.000000000",
          "2024-04-24T00:00:00.000000000",
          "2024-04-25T00:00:00.000000000",
          "2024-04-26T00:00:00.000000000",
          "2024-04-27T00:00:00.000000000",
          "2024-04-28T00:00:00.000000000",
          "2024-04-29T00:00:00.000000000",
          "2024-04-30T00:00:00.000000000",
          "2024-05-01T00:00:00.000000000",
          "2024-05-02T00:00:00.000000000",
          "2024-05-03T00:00:00.000000000",
          "2024-05-04T00:00:00.000000000",
          "2024-05-05T00:00:00.000000000",
          "2024-05-06T00:00:00.000000000",
          "2024-05-07T00:00:00.000000000",
          "2024-05-08T00:00:00.000000000",
          "2024-05-09T00:00:00.000000000",
          "2024-05-10T00:00:00.000000000",
          "2024-05-11T00:00:00.000000000",
          "2024-05-12T00:00:00.000000000",
          "2024-05-13T00:00:00.000000000",
          "2024-05-14T00:00:00.000000000",
          "2024-05-15T00:00:00.000000000",
          "2024-05-16T00:00:00.000000000",
          "2024-05-17T00:00:00.000000000",
          "2024-05-18T00:00:00.000000000",
          "2024-05-19T00:00:00.000000000",
          "2024-05-20T00:00:00.000000000",
          "2024-05-21T00:00:00.000000000",
          "2024-05-22T00:00:00.000000000",
          "2024-05-23T00:00:00.000000000",
          "2024-05-24T00:00:00.000000000",
          "2024-05-25T00:00:00.000000000",
          "2024-05-26T00:00:00.000000000",
          "2024-05-27T00:00:00.000000000",
          "2024-05-28T00:00:00.000000000",
          "2024-05-29T00:00:00.000000000",
          "2024-05-30T00:00:00.000000000"
         ],
         "xaxis": "x2",
         "y": {
          "bdata": "AAAAAAAAXkDi4eHh4eFdQMTDw8PDw11ApqWlpaWlXUCIh4eHh4ddQGlpaWlpaV1AS0tLS0tLXUAtLS0tLS1dQA8PDw8PD11A8fDw8PDwXEDT0tLS0tJcQLW0tLS0tFxAl5aWlpaWXEB4eHh4eHhcQFpaWlpaWlxAPDw8PDw8XEAeHh4eHh5cQAAAAAAAAFxAAAAAAAAAXEB5DeU1lBdcQPMaymsoL1xAbCivobxGXEDlNZTXUF5cQF5DeQ3ldVxA2FBeQ3mNXEBRXkN5DaVcQMprKK+hvFxAQ3kN5TXUXEC9hvIayutcQDaU11BeA11Ar6G8hvIaXUAor6G8hjJdQKK8hvIaSl1AG8prKK9hXUCU11BeQ3ldQA3lNZTXkF1Ah/IaymuoXUAAAAAAAMBdQAAAAAAAwF1ASZIkSZKkXUCSJEmSJIldQNu2bdu2bV1AJUmSJElSXUBu27Zt2zZdQLdt27ZtG11AAAAAAAAAXUBJkiRJkuRcQJIkSZIkyVxA27Zt27atXEAlSZIkSZJcQG7btm3bdlxAt23btm1bXEAAAAAAAEBcQEmSJEmSJFxAkiRJkiQJXEDbtm3btu1bQCVJkiRJ0ltAbtu2bdu2W0C3bdu2bZtbQAAAAAAAgFtA",
          "dtype": "f8"
         },
         "yaxis": "y2"
        },
        {
         "marker": {
          "color": "blue",
          "size": 10
         },
         "mode": "markers+text",
         "showlegend": false,
         "text": [
          "Start"
         ],
         "textposition": "top center",
         "type": "scatter",
         "x": [
          "2024-04-01T00:00:00"
         ],
         "xaxis": "x2",
         "y": [
          120
         ],
         "yaxis": "y2"
        },
        {
         "marker": {
          "color": "blue",
          "size": 10
         },
         "mode": "markers+text",
         "showlegend": false,
         "text": [
          "A"
         ],
         "textposition": "top center",
         "type": "scatter",
         "x": [
          "2024-04-18T00:00:00"
         ],
         "xaxis": "x2",
         "y": [
          112
         ],
         "yaxis": "y2"
        },
        {
         "marker": {
          "color": "blue",
          "size": 10
         },
         "mode": "markers+text",
         "showlegend": false,
         "text": [
          "B"
         ],
         "textposition": "top center",
         "type": "scatter",
         "x": [
          "2024-05-08T00:00:00"
         ],
         "xaxis": "x2",
         "y": [
          119
         ],
         "yaxis": "y2"
        },
        {
         "marker": {
          "color": "blue",
          "size": 10
         },
         "mode": "markers+text",
         "showlegend": false,
         "text": [
          "C"
         ],
         "textposition": "top center",
         "type": "scatter",
         "x": [
          "2024-05-30T00:00:00"
         ],
         "xaxis": "x2",
         "y": [
          110
         ],
         "yaxis": "y2"
        },
        {
         "line": {
          "color": "green",
          "width": 2
         },
         "mode": "lines",
         "name": "Triangle",
         "type": "scatter",
         "x": [
          "2024-05-01T00:00:00.000000000",
          "2024-05-02T00:00:00.000000000",
          "2024-05-03T00:00:00.000000000",
          "2024-05-04T00:00:00.000000000",
          "2024-05-05T00:00:00.000000000",
          "2024-05-06T00:00:00.000000000",
          "2024-05-07T00:00:00.000000000",
          "2024-05-08T00:00:00.000000000",
          "2024-05-09T00:00:00.000000000",
          "2024-05-10T00:00:00.000000000",
          "2024-05-11T00:00:00.000000000",
          "2024-05-12T00:00:00.000000000",
          "2024-05-13T00:00:00.000000000",
          "2024-05-14T00:00:00.000000000",
          "2024-05-15T00:00:00.000000000",
          "2024-05-16T00:00:00.000000000",
          "2024-05-17T00:00:00.000000000",
          "2024-05-18T00:00:00.000000000",
          "2024-05-19T00:00:00.000000000",
          "2024-05-20T00:00:00.000000000",
          "2024-05-21T00:00:00.000000000",
          "2024-05-22T00:00:00.000000000",
          "2024-05-23T00:00:00.000000000",
          "2024-05-24T00:00:00.000000000",
          "2024-05-25T00:00:00.000000000",
          "2024-05-26T00:00:00.000000000",
          "2024-05-27T00:00:00.000000000",
          "2024-05-28T00:00:00.000000000",
          "2024-05-29T00:00:00.000000000",
          "2024-05-30T00:00:00.000000000",
          "2024-05-31T00:00:00.000000000",
          "2024-06-01T00:00:00.000000000",
          "2024-06-02T00:00:00.000000000",
          "2024-06-03T00:00:00.000000000",
          "2024-06-04T00:00:00.000000000",
          "2024-06-05T00:00:00.000000000",
          "2024-06-06T00:00:00.000000000",
          "2024-06-07T00:00:00.000000000",
          "2024-06-08T00:00:00.000000000",
          "2024-06-09T00:00:00.000000000",
          "2024-06-10T00:00:00.000000000",
          "2024-06-11T00:00:00.000000000",
          "2024-06-12T00:00:00.000000000",
          "2024-06-13T00:00:00.000000000",
          "2024-06-14T00:00:00.000000000",
          "2024-06-15T00:00:00.000000000",
          "2024-06-16T00:00:00.000000000",
          "2024-06-17T00:00:00.000000000",
          "2024-06-18T00:00:00.000000000",
          "2024-06-19T00:00:00.000000000",
          "2024-06-20T00:00:00.000000000",
          "2024-06-21T00:00:00.000000000",
          "2024-06-22T00:00:00.000000000",
          "2024-06-23T00:00:00.000000000",
          "2024-06-24T00:00:00.000000000",
          "2024-06-25T00:00:00.000000000",
          "2024-06-26T00:00:00.000000000",
          "2024-06-27T00:00:00.000000000",
          "2024-06-28T00:00:00.000000000",
          "2024-06-29T00:00:00.000000000",
          "2024-06-30T00:00:00.000000000",
          "2024-07-01T00:00:00.000000000",
          "2024-07-02T00:00:00.000000000",
          "2024-07-03T00:00:00.000000000",
          "2024-07-04T00:00:00.000000000",
          "2024-07-05T00:00:00.000000000",
          "2024-07-06T00:00:00.000000000",
          "2024-07-07T00:00:00.000000000",
          "2024-07-08T00:00:00.000000000",
          "2024-07-09T00:00:00.000000000",
          "2024-07-10T00:00:00.000000000",
          "2024-07-11T00:00:00.000000000",
          "2024-07-12T00:00:00.000000000",
          "2024-07-13T00:00:00.000000000",
          "2024-07-14T00:00:00.000000000"
         ],
         "xaxis": "x3",
         "y": {
          "bdata": "AAAAAAAAXkCjiy666OJdQEYXXXTRxV1A6aKLLrqoXUCMLrroootdQC+66KKLbl1A0UUXXXRRXUB00UUXXTRdQBdddNFFF11Auuiiiy76XEBddNFFF91cQAAAAAAAwFxAAAAAAADAXEB00UUXXfRcQOmiiy66KF1AXXTRRRddXUDRRRdddJFdQEYXXXTRxV1Auuiiiy76XUAvuuiiiy5eQKOLLrroYl5AF1100UWXXkCMLrroosteQAAAAAAAAF9AAAAAAAAAX0AXXXTRRddeQC+66KKLrl5ARhdddNGFXkBddNFFF11eQHTRRRddNF5AjC666KILXkCjiy666OJdQLrooosuul1A0UUXXXSRXUDpoosuumhdQAAAAAAAQF1AAAAAAABAXUBddNFFF11dQLrooosuel1AF1100UWXXUB00UUXXbRdQNFFF1100V1AL7rooovuXUCMLrroogteQOmiiy66KF5ARhdddNFFXkCjiy666GJeQAAAAAAAgF5AAAAAAACAXkAvuuiii25eQF100UUXXV5AjC666KJLXkC66KKLLjpeQOmiiy66KF5AF1100UUXXkBGF1100QVeQHTRRRdd9F1Ao4suuujiXUDRRRdddNFdQAAAAAAAwF1AAAAAAADAXUC3bdu2bdtdQG7btm3b9l1AJUmSJEkSXkDbtm3bti1eQJIkSZIkSV5ASZIkSZJkXkAAAAAAAIBeQLdt27Ztm15Abtu2bdu2XkAlSZIkSdJeQNu2bdu27V5AkiRJkiQJX0BJkiRJkiRfQAAAAAAAQF9A",
          "dtype": "f8"
         },
         "yaxis": "y3"
        },
        {
         "line": {
          "color": "red",
          "dash": "dash"
         },
         "mode": "lines",
         "name": "Upper boundary",
         "showlegend": false,
         "type": "scatter",
         "x": [
          "2024-05-13T00:00:00",
          "2024-06-06T00:00:00"
         ],
         "xaxis": "x3",
         "y": [
          124,
          122
         ],
         "yaxis": "y3"
        },
        {
         "line": {
          "color": "red",
          "dash": "dash"
         },
         "mode": "lines",
         "name": "Lower boundary",
         "showlegend": false,
         "type": "scatter",
         "x": [
          "2024-05-12T00:00:00",
          "2024-06-17T00:00:00"
         ],
         "xaxis": "x3",
         "y": [
          115,
          117
         ],
         "yaxis": "y3"
        },
        {
         "cells": {
          "align": "center",
          "fill": {
           "color": "lightgray"
          },
          "font": {
           "size": 9
          },
          "values": [
           [
            "Zigzag",
            "Flat",
            "Triangle",
            "Complex"
           ],
           [
            "5-3-5",
            "3-3-5",
            "3-3-3-3-3",
            "Multiple ABC"
           ],
           [
            "Sharp decline",
            "Moderate decline",
            "3-wave move",
            "Any correction"
           ],
           [
            "50-78.6% retrace",
            "90-100% retrace",
            "Overlaps A",
            "Complex"
           ],
           [
            "Extends past A",
            "Slightly past A",
            "Doesn't extend",
            "Variable"
           ]
          ]
         },
         "domain": {
          "x": [
           0.55,
           1
          ],
          "y": [
           0,
           0.375
          ]
         },
         "header": {
          "align": "center",
          "fill": {
           "color": "lightgreen"
          },
          "font": {
           "size": 10
          },
          "values": [
           "Pattern",
           "Structure",
           "A_Wave",
           "B_Wave",
           "C_Wave"
          ]
         },
         "type": "table"
        }
       ],
       "layout": {
        "annotations": [
         {
          "font": {
           "size": 16
          },
          "showarrow": false,
          "text": "Zigzag Correction (5-3-5)",
          "x": 0.225,
          "xanchor": "center",
          "xref": "paper",
          "y": 1,
          "yanchor": "bottom",
          "yref": "paper"
         },
         {
          "font": {
           "size": 16
          },
          "showarrow": false,
          "text": "Flat Correction (3-3-5)",
          "x": 0.775,
          "xanchor": "center",
          "xref": "paper",
          "y": 1,
          "yanchor": "bottom",
          "yref": "paper"
         },
         {
          "font": {
           "size": 16
          },
          "showarrow": false,
          "text": "Triangle Correction (3-3-3-3-3)",
          "x": 0.225,
          "xanchor": "center",
          "xref": "paper",
          "y": 0.375,
          "yanchor": "bottom",
          "yref": "paper"
         },
         {
          "font": {
           "size": 16
          },
          "showarrow": false,
          "text": "Correction Types Summary",
          "x": 0.775,
          "xanchor": "center",
          "xref": "paper",
          "y": 0.375,
          "yanchor": "bottom",
          "yref": "paper"
         }
        ],
        "height": 800,
        "template": {
         "data": {
          "bar": [
           {
            "error_x": {
             "color": "#2a3f5f"
            },
            "error_y": {
             "color": "#2a3f5f"
            },
            "marker": {
             "line": {
              "color": "white",
              "width": 0.5
             },
             "pattern": {
              "fillmode": "overlay",
              "size": 10,
              "solidity": 0.2
             }
            },
            "type": "bar"
           }
          ],
          "barpolar": [
           {
            "marker": {
             "line": {
              "color": "white",
              "width": 0.5
             },
             "pattern": {
              "fillmode": "overlay",
              "size": 10,
              "solidity": 0.2
             }
            },
            "type": "barpolar"
           }
          ],
          "carpet": [
           {
            "aaxis": {
             "endlinecolor": "#2a3f5f",
             "gridcolor": "#C8D4E3",
             "linecolor": "#C8D4E3",
             "minorgridcolor": "#C8D4E3",
             "startlinecolor": "#2a3f5f"
            },
            "baxis": {
             "endlinecolor": "#2a3f5f",
             "gridcolor": "#C8D4E3",
             "linecolor": "#C8D4E3",
             "minorgridcolor": "#C8D4E3",
             "startlinecolor": "#2a3f5f"
            },
            "type": "carpet"
           }
          ],
          "choropleth": [
           {
            "colorbar": {
             "outlinewidth": 0,
             "ticks": ""
            },
            "type": "choropleth"
           }
          ],
          "contour": [
           {
            "colorbar": {
             "outlinewidth": 0,
             "ticks": ""
            },
            "colorscale": [
             [
              0,
              "#0d0887"
             ],
             [
              0.1111111111111111,
              "#46039f"
             ],
             [
              0.2222222222222222,
              "#7201a8"
             ],
             [
              0.3333333333333333,
              "#9c179e"
             ],
             [
              0.4444444444444444,
              "#bd3786"
             ],
             [
              0.5555555555555556,
              "#d8576b"
             ],
             [
              0.6666666666666666,
              "#ed7953"
             ],
             [
              0.7777777777777778,
              "#fb9f3a"
             ],
             [
              0.8888888888888888,
              "#fdca26"
             ],
             [
              1,
              "#f0f921"
             ]
            ],
            "type": "contour"
           }
          ],
          "contourcarpet": [
           {
            "colorbar": {
             "outlinewidth": 0,
             "ticks": ""
            },
            "type": "contourcarpet"
           }
          ],
          "heatmap": [
           {
            "colorbar": {
             "outlinewidth": 0,
             "ticks": ""
            },
            "colorscale": [
             [
              0,
              "#0d0887"
             ],
             [
              0.1111111111111111,
              "#46039f"
             ],
             [
              0.2222222222222222,
              "#7201a8"
             ],
             [
              0.3333333333333333,
              "#9c179e"
             ],
             [
              0.4444444444444444,
              "#bd3786"
             ],
             [
              0.5555555555555556,
              "#d8576b"
             ],
             [
              0.6666666666666666,
              "#ed7953"
             ],
             [
              0.7777777777777778,
              "#fb9f3a"
             ],
             [
              0.8888888888888888,
              "#fdca26"
             ],
             [
              1,
              "#f0f921"
             ]
            ],
            "type": "heatmap"
           }
          ],
          "histogram": [
           {
            "marker": {
             "pattern": {
              "fillmode": "overlay",
              "size": 10,
              "solidity": 0.2
             }
            },
            "type": "histogram"
           }
          ],
          "histogram2d": [
           {
            "colorbar": {
             "outlinewidth": 0,
             "ticks": ""
            },
            "colorscale": [
             [
              0,
              "#0d0887"
             ],
             [
              0.1111111111111111,
              "#46039f"
             ],
             [
              0.2222222222222222,
              "#7201a8"
             ],
             [
              0.3333333333333333,
              "#9c179e"
             ],
             [
              0.4444444444444444,
              "#bd3786"
             ],
             [
              0.5555555555555556,
              "#d8576b"
             ],
             [
              0.6666666666666666,
              "#ed7953"
             ],
             [
              0.7777777777777778,
              "#fb9f3a"
             ],
             [
              0.8888888888888888,
              "#fdca26"
             ],
             [
              1,
              "#f0f921"
             ]
            ],
            "type": "histogram2d"
           }
          ],
          "histogram2dcontour": [
           {
            "colorbar": {
             "outlinewidth": 0,
             "ticks": ""
            },
            "colorscale": [
             [
              0,
              "#0d0887"
             ],
             [
              0.1111111111111111,
              "#46039f"
             ],
             [
              0.2222222222222222,
              "#7201a8"
             ],
             [
              0.3333333333333333,
              "#9c179e"
             ],
             [
              0.4444444444444444,
              "#bd3786"
             ],
             [
              0.5555555555555556,
              "#d8576b"
             ],
             [
              0.6666666666666666,
              "#ed7953"
             ],
             [
              0.7777777777777778,
              "#fb9f3a"
             ],
             [
              0.8888888888888888,
              "#fdca26"
             ],
             [
              1,
              "#f0f921"
             ]
            ],
            "type": "histogram2dcontour"
           }
          ],
          "mesh3d": [
           {
            "colorbar": {
             "outlinewidth": 0,
             "ticks": ""
            },
            "type": "mesh3d"
           }
          ],
          "parcoords": [
           {
            "line": {
             "colorbar": {
              "outlinewidth": 0,
              "ticks": ""
             }
            },
            "type": "parcoords"
           }
          ],
          "pie": [
           {
            "automargin": true,
            "type": "pie"
           }
          ],
          "scatter": [
           {
            "fillpattern": {
             "fillmode": "overlay",
             "size": 10,
             "solidity": 0.2
            },
            "type": "scatter"
           }
          ],
          "scatter3d": [
           {
            "line": {
             "colorbar": {
              "outlinewidth": 0,
              "ticks": ""
             }
            },
            "marker": {
             "colorbar": {
              "outlinewidth": 0,
              "ticks": ""
             }
            },
            "type": "scatter3d"
           }
          ],
          "scattercarpet": [
           {
            "marker": {
             "colorbar": {
              "outlinewidth": 0,
              "ticks": ""
             }
            },
            "type": "scattercarpet"
           }
          ],
          "scattergeo": [
           {
            "marker": {
             "colorbar": {
              "outlinewidth": 0,
              "ticks": ""
             }
            },
            "type": "scattergeo"
           }
          ],
          "scattergl": [
           {
            "marker": {
             "colorbar": {
              "outlinewidth": 0,
              "ticks": ""
             }
            },
            "type": "scattergl"
           }
          ],
          "scattermap": [
           {
            "marker": {
             "colorbar": {
              "outlinewidth": 0,
              "ticks": ""
             }
            },
            "type": "scattermap"
           }
          ],
          "scattermapbox": [
           {
            "marker": {
             "colorbar": {
              "outlinewidth": 0,
              "ticks": ""
             }
            },
            "type": "scattermapbox"
           }
          ],
          "scatterpolar": [
           {
            "marker": {
             "colorbar": {
              "outlinewidth": 0,
              "ticks": ""
             }
            },
            "type": "scatterpolar"
           }
          ],
          "scatterpolargl": [
           {
            "marker": {
             "colorbar": {
              "outlinewidth": 0,
              "ticks": ""
             }
            },
            "type": "scatterpolargl"
           }
          ],
          "scatterternary": [
           {
            "marker": {
             "colorbar": {
              "outlinewidth": 0,
              "ticks": ""
             }
            },
            "type": "scatterternary"
           }
          ],
          "surface": [
           {
            "colorbar": {
             "outlinewidth": 0,
             "ticks": ""
            },
            "colorscale": [
             [
              0,
              "#0d0887"
             ],
             [
              0.1111111111111111,
              "#46039f"
             ],
             [
              0.2222222222222222,
              "#7201a8"
             ],
             [
              0.3333333333333333,
              "#9c179e"
             ],
             [
              0.4444444444444444,
              "#bd3786"
             ],
             [
              0.5555555555555556,
              "#d8576b"
             ],
             [
              0.6666666666666666,
              "#ed7953"
             ],
             [
              0.7777777777777778,
              "#fb9f3a"
             ],
             [
              0.8888888888888888,
              "#fdca26"
             ],
             [
              1,
              "#f0f921"
             ]
            ],
            "type": "surface"
           }
          ],
          "table": [
           {
            "cells": {
             "fill": {
              "color": "#EBF0F8"
             },
             "line": {
              "color": "white"
             }
            },
            "header": {
             "fill": {
              "color": "#C8D4E3"
             },
             "line": {
              "color": "white"
             }
            },
            "type": "table"
           }
          ]
         },
         "layout": {
          "annotationdefaults": {
           "arrowcolor": "#2a3f5f",
           "arrowhead": 0,
           "arrowwidth": 1
          },
          "autotypenumbers": "strict",
          "coloraxis": {
           "colorbar": {
            "outlinewidth": 0,
            "ticks": ""
           }
          },
          "colorscale": {
           "diverging": [
            [
             0,
             "#8e0152"
            ],
            [
             0.1,
             "#c51b7d"
            ],
            [
             0.2,
             "#de77ae"
            ],
            [
             0.3,
             "#f1b6da"
            ],
            [
             0.4,
             "#fde0ef"
            ],
            [
             0.5,
             "#f7f7f7"
            ],
            [
             0.6,
             "#e6f5d0"
            ],
            [
             0.7,
             "#b8e186"
            ],
            [
             0.8,
             "#7fbc41"
            ],
            [
             0.9,
             "#4d9221"
            ],
            [
             1,
             "#276419"
            ]
           ],
           "sequential": [
            [
             0,
             "#0d0887"
            ],
            [
             0.1111111111111111,
             "#46039f"
            ],
            [
             0.2222222222222222,
             "#7201a8"
            ],
            [
             0.3333333333333333,
             "#9c179e"
            ],
            [
             0.4444444444444444,
             "#bd3786"
            ],
            [
             0.5555555555555556,
             "#d8576b"
            ],
            [
             0.6666666666666666,
             "#ed7953"
            ],
            [
             0.7777777777777778,
             "#fb9f3a"
            ],
            [
             0.8888888888888888,
             "#fdca26"
            ],
            [
             1,
             "#f0f921"
            ]
           ],
           "sequentialminus": [
            [
             0,
             "#0d0887"
            ],
            [
             0.1111111111111111,
             "#46039f"
            ],
            [
             0.2222222222222222,
             "#7201a8"
            ],
            [
             0.3333333333333333,
             "#9c179e"
            ],
            [
             0.4444444444444444,
             "#bd3786"
            ],
            [
             0.5555555555555556,
             "#d8576b"
            ],
            [
             0.6666666666666666,
             "#ed7953"
            ],
            [
             0.7777777777777778,
             "#fb9f3a"
            ],
            [
             0.8888888888888888,
             "#fdca26"
            ],
            [
             1,
             "#f0f921"
            ]
           ]
          },
          "colorway": [
           "#636efa",
           "#EF553B",
           "#00cc96",
           "#ab63fa",
           "#FFA15A",
           "#19d3f3",
           "#FF6692",
           "#B6E880",
           "#FF97FF",
           "#FECB52"
          ],
          "font": {
           "color": "#2a3f5f"
          },
          "geo": {
           "bgcolor": "white",
           "lakecolor": "white",
           "landcolor": "white",
           "showlakes": true,
           "showland": true,
           "subunitcolor": "#C8D4E3"
          },
          "hoverlabel": {
           "align": "left"
          },
          "hovermode": "closest",
          "mapbox": {
           "style": "light"
          },
          "paper_bgcolor": "white",
          "plot_bgcolor": "white",
          "polar": {
           "angularaxis": {
            "gridcolor": "#EBF0F8",
            "linecolor": "#EBF0F8",
            "ticks": ""
           },
           "bgcolor": "white",
           "radialaxis": {
            "gridcolor": "#EBF0F8",
            "linecolor": "#EBF0F8",
            "ticks": ""
           }
          },
          "scene": {
           "xaxis": {
            "backgroundcolor": "white",
            "gridcolor": "#DFE8F3",
            "gridwidth": 2,
            "linecolor": "#EBF0F8",
            "showbackground": true,
            "ticks": "",
            "zerolinecolor": "#EBF0F8"
           },
           "yaxis": {
            "backgroundcolor": "white",
            "gridcolor": "#DFE8F3",
            "gridwidth": 2,
            "linecolor": "#EBF0F8",
            "showbackground": true,
            "ticks": "",
            "zerolinecolor": "#EBF0F8"
           },
           "zaxis": {
            "backgroundcolor": "white",
            "gridcolor": "#DFE8F3",
            "gridwidth": 2,
            "linecolor": "#EBF0F8",
            "showbackground": true,
            "ticks": "",
            "zerolinecolor": "#EBF0F8"
           }
          },
          "shapedefaults": {
           "line": {
            "color": "#2a3f5f"
           }
          },
          "ternary": {
           "aaxis": {
            "gridcolor": "#DFE8F3",
            "linecolor": "#A2B1C6",
            "ticks": ""
           },
           "baxis": {
            "gridcolor": "#DFE8F3",
            "linecolor": "#A2B1C6",
            "ticks": ""
           },
           "bgcolor": "white",
           "caxis": {
            "gridcolor": "#DFE8F3",
            "linecolor": "#A2B1C6",
            "ticks": ""
           }
          },
          "title": {
           "x": 0.05
          },
          "xaxis": {
           "automargin": true,
           "gridcolor": "#EBF0F8",
           "linecolor": "#EBF0F8",
           "ticks": "",
           "title": {
            "standoff": 15
           },
           "zerolinecolor": "#EBF0F8",
           "zerolinewidth": 2
          },
          "yaxis": {
           "automargin": true,
           "gridcolor": "#EBF0F8",
           "linecolor": "#EBF0F8",
           "ticks": "",
           "title": {
            "standoff": 15
           },
           "zerolinecolor": "#EBF0F8",
           "zerolinewidth": 2
          }
         }
        },
        "title": {
         "text": "🌊 Elliott Wave Correction Patterns (ABC)<br><sub>Three main types of corrective structures</sub>"
        },
        "xaxis": {
         "anchor": "y",
         "domain": [
          0,
          0.45
         ]
        },
        "xaxis2": {
         "anchor": "y2",
         "domain": [
          0.55,
          1
         ]
        },
        "xaxis3": {
         "anchor": "y3",
         "domain": [
          0,
          0.45
         ],
         "title": {
          "text": "Date"
         }
        },
        "yaxis": {
         "anchor": "x",
         "domain": [
          0.625,
          1
         ],
         "title": {
          "text": "Price ($)"
         }
        },
        "yaxis2": {
         "anchor": "x2",
         "domain": [
          0.625,
          1
         ],
         "title": {
          "text": "Price ($)"
         }
        },
        "yaxis3": {
         "anchor": "x3",
         "domain": [
          0,
          0.375
         ],
         "title": {
          "text": "Price ($)"
         }
        }
       }
      }
     },
     "metadata": {},
     "output_type": "display_data"
    },
    {
     "name": "stdout",
     "output_type": "stream",
     "text": [
      "🌊 ELLIOTT WAVE CORRECTIONS (ABC):\n",
      "=============================================\n",
      "\n",
      "📊 ZIGZAG CORRECTION (5-3-5):\n",
      "• Most common corrective pattern\n",
      "• A: Sharp 5-wave decline\n",
      "• B: 3-wave retracement (50-78.6% of A)\n",
      "• C: 5-wave decline, extends past A end\n",
      "• Character: Strong, directional correction\n",
      "\n",
      "📊 FLAT CORRECTION (3-3-5):\n",
      "• Sideways corrective pattern\n",
      "• A: 3-wave decline (weaker than zigzag)\n",
      "• B: 3-wave retracement (90-100% of A)\n",
      "• C: 5-wave decline, slightly past A end\n",
      "• Character: Consolidation, less directional\n",
      "\n",
      "📊 TRIANGLE CORRECTION (3-3-3-3-3):\n",
      "• Five-wave contracting pattern\n",
      "• Each wave gets progressively smaller\n",
      "• Usually occurs in wave 4 or wave B\n",
      "• Breakout direction indicates trend resumption\n",
      "• Character: Coiling energy for next move\n",
      "\n",
      "🎯 TRADING CORRECTIONS:\n",
      "✅ Wait for clear ABC completion\n",
      "✅ Look for reversal signals at C wave end\n",
      "✅ Measure C wave extensions (1.0, 1.272, 1.618 of A)\n",
      "⚠️ Corrections can be complex and time-consuming\n",
      "🔍 Use lower timeframes for precise entry timing\n"
     ]
    }
   ],
   "source": [
    "# 4. ELLIOTT CORRECTION WAVE (ABC) - Three-Wave Corrective Structure\n",
    "def plot_elliott_correction_wave():\n",
    "    \"\"\"Demonstrate Elliott Wave ABC correction structure\"\"\"\n",
    "    \n",
    "    fig = make_subplots(\n",
    "        rows=2, cols=2,\n",
    "        subplot_titles=('Zigzag Correction (5-3-5)', 'Flat Correction (3-3-5)', \n",
    "                       'Triangle Correction (3-3-3-3-3)', 'Correction Types Summary'),\n",
    "        specs=[[{\"secondary_y\": False}, {\"secondary_y\": False}],\n",
    "               [{\"secondary_y\": False}, {\"type\": \"table\"}]]\n",
    "    )\n",
    "    \n",
    "    # 1. ZIGZAG CORRECTION (5-3-5)\n",
    "    np.random.seed(150)\n",
    "    \n",
    "    # Create zigzag pattern\n",
    "    zigzag_days = 60\n",
    "    zigzag_dates = pd.date_range(start='2024-03-01', periods=zigzag_days, freq='D')\n",
    "    \n",
    "    # A wave down (5 waves)\n",
    "    a_wave = np.linspace(130, 115, 20)  # Sharp decline\n",
    "    # B wave up (3 waves) \n",
    "    b_wave = np.linspace(115, 125, 15)  # Partial retracement\n",
    "    # C wave down (5 waves)\n",
    "    c_wave = np.linspace(125, 110, 25)  # Completes correction\n",
    "    \n",
    "    zigzag_pattern = np.concatenate([a_wave, b_wave, c_wave])\n",
    "    \n",
    "    fig.add_trace(go.Scatter(\n",
    "        x=zigzag_dates,\n",
    "        y=zigzag_pattern,\n",
    "        mode='lines',\n",
    "        name='Zigzag ABC',\n",
    "        line=dict(color='red', width=2)\n",
    "    ), row=1, col=1)\n",
    "    \n",
    "    # Mark ABC points\n",
    "    a_end = len(a_wave) - 1\n",
    "    b_end = len(a_wave) + len(b_wave) - 1\n",
    "    c_end = len(zigzag_pattern) - 1\n",
    "    \n",
    "    abc_points = [(0, zigzag_pattern[0], 'Start'), (a_end, zigzag_pattern[a_end], 'A'), \n",
    "                  (b_end, zigzag_pattern[b_end], 'B'), (c_end, zigzag_pattern[c_end], 'C')]\n",
    "    \n",
    "    for idx, price, label in abc_points:\n",
    "        fig.add_trace(go.Scatter(\n",
    "            x=[zigzag_dates[idx]],\n",
    "            y=[price],\n",
    "            mode='markers+text',\n",
    "            text=[label],\n",
    "            textposition='top center',\n",
    "            marker=dict(size=10, color='red'),\n",
    "            showlegend=False\n",
    "        ), row=1, col=1)\n",
    "    \n",
    "    # 2. FLAT CORRECTION (3-3-5)\n",
    "    flat_days = 60\n",
    "    flat_dates = pd.date_range(start='2024-04-01', periods=flat_days, freq='D')\n",
    "    \n",
    "    # A wave down (3 waves)\n",
    "    a_flat = np.linspace(120, 112, 18)\n",
    "    # B wave up (3 waves) - retraces most of A\n",
    "    b_flat = np.linspace(112, 119, 20)  \n",
    "    # C wave down (5 waves) - goes slightly below A\n",
    "    c_flat = np.linspace(119, 110, 22)\n",
    "    \n",
    "    flat_pattern = np.concatenate([a_flat, b_flat, c_flat])\n",
    "    \n",
    "    fig.add_trace(go.Scatter(\n",
    "        x=flat_dates,\n",
    "        y=flat_pattern,\n",
    "        mode='lines',\n",
    "        name='Flat ABC',\n",
    "        line=dict(color='blue', width=2)\n",
    "    ), row=1, col=2)\n",
    "    \n",
    "    # Mark ABC points for flat\n",
    "    a_flat_end = len(a_flat) - 1\n",
    "    b_flat_end = len(a_flat) + len(b_flat) - 1\n",
    "    c_flat_end = len(flat_pattern) - 1\n",
    "    \n",
    "    flat_points = [(0, flat_pattern[0], 'Start'), (a_flat_end, flat_pattern[a_flat_end], 'A'),\n",
    "                   (b_flat_end, flat_pattern[b_flat_end], 'B'), (c_flat_end, flat_pattern[c_flat_end], 'C')]\n",
    "    \n",
    "    for idx, price, label in flat_points:\n",
    "        fig.add_trace(go.Scatter(\n",
    "            x=[flat_dates[idx]],\n",
    "            y=[price],\n",
    "            mode='markers+text',\n",
    "            text=[label],\n",
    "            textposition='top center',\n",
    "            marker=dict(size=10, color='blue'),\n",
    "            showlegend=False\n",
    "        ), row=1, col=2)\n",
    "    \n",
    "    # 3. TRIANGLE CORRECTION\n",
    "    triangle_days = 75\n",
    "    triangle_dates = pd.date_range(start='2024-05-01', periods=triangle_days, freq='D')\n",
    "    \n",
    "    # Create contracting triangle (A-B-C-D-E)\n",
    "    triangle_high = 125\n",
    "    triangle_low = 115\n",
    "    \n",
    "    # Each wave gets smaller\n",
    "    a_tri = np.linspace(120, 115, 12)  # Down\n",
    "    b_tri = np.linspace(115, 124, 12)  # Up (but not as high)\n",
    "    c_tri = np.linspace(124, 117, 12)  # Down (but not as low)\n",
    "    d_tri = np.linspace(117, 122, 12)  # Up (smaller)\n",
    "    e_tri = np.linspace(122, 119, 12)  # Down (smaller)\n",
    "    \n",
    "    # Add final breakout\n",
    "    breakout = np.linspace(119, 125, 15)\n",
    "    \n",
    "    triangle_pattern = np.concatenate([a_tri, b_tri, c_tri, d_tri, e_tri, breakout])\n",
    "    \n",
    "    fig.add_trace(go.Scatter(\n",
    "        x=triangle_dates,\n",
    "        y=triangle_pattern,\n",
    "        mode='lines',\n",
    "        name='Triangle',\n",
    "        line=dict(color='green', width=2)\n",
    "    ), row=2, col=1)\n",
    "    \n",
    "    # Draw triangle boundary lines\n",
    "    # Upper boundary\n",
    "    upper_line_x = [triangle_dates[len(a_tri)], triangle_dates[len(a_tri) + len(b_tri) + len(c_tri)]]\n",
    "    upper_line_y = [b_tri[-1], d_tri[-1]]\n",
    "    \n",
    "    fig.add_trace(go.Scatter(\n",
    "        x=upper_line_x,\n",
    "        y=upper_line_y,\n",
    "        mode='lines',\n",
    "        name='Upper boundary',\n",
    "        line=dict(color='red', dash='dash'),\n",
    "        showlegend=False\n",
    "    ), row=2, col=1)\n",
    "    \n",
    "    # Lower boundary  \n",
    "    lower_line_x = [triangle_dates[len(a_tri)-1], triangle_dates[len(a_tri) + len(b_tri) + len(c_tri) + len(d_tri)-1]]\n",
    "    lower_line_y = [a_tri[-1], c_tri[-1]]\n",
    "    \n",
    "    fig.add_trace(go.Scatter(\n",
    "        x=lower_line_x,\n",
    "        y=lower_line_y,\n",
    "        mode='lines',\n",
    "        name='Lower boundary',\n",
    "        line=dict(color='red', dash='dash'),\n",
    "        showlegend=False\n",
    "    ), row=2, col=1)\n",
    "    \n",
    "    # 4. Summary table\n",
    "    correction_data = {\n",
    "        'Pattern': ['Zigzag', 'Flat', 'Triangle', 'Complex'],\n",
    "        'Structure': ['5-3-5', '3-3-5', '3-3-3-3-3', 'Multiple ABC'],\n",
    "        'A_Wave': ['Sharp decline', 'Moderate decline', '3-wave move', 'Any correction'],\n",
    "        'B_Wave': ['50-78.6% retrace', '90-100% retrace', 'Overlaps A', 'Complex'],\n",
    "        'C_Wave': ['Extends past A', 'Slightly past A', 'Doesn\\'t extend', 'Variable']\n",
    "    }\n",
    "    \n",
    "    fig.add_trace(go.Table(\n",
    "        header=dict(values=list(correction_data.keys()),\n",
    "                   fill_color='lightgreen',\n",
    "                   align='center',\n",
    "                   font=dict(size=10)),\n",
    "        cells=dict(values=[correction_data[col] for col in correction_data.keys()],\n",
    "                  fill_color='lightgray',\n",
    "                  align='center',\n",
    "                  font=dict(size=9))\n",
    "    ), row=2, col=2)\n",
    "    \n",
    "    fig.update_layout(\n",
    "        title='🌊 Elliott Wave Correction Patterns (ABC)<br><sub>Three main types of corrective structures</sub>',\n",
    "        height=800,\n",
    "        template='plotly_white'\n",
    "    )\n",
    "    \n",
    "    # Update axes\n",
    "    fig.update_yaxes(title_text=\"Price ($)\", row=1, col=1)\n",
    "    fig.update_yaxes(title_text=\"Price ($)\", row=1, col=2)\n",
    "    fig.update_yaxes(title_text=\"Price ($)\", row=2, col=1)\n",
    "    fig.update_xaxes(title_text=\"Date\", row=2, col=1)\n",
    "    fig.update_xaxes(title_text=\"Date\", row=2, col=2)\n",
    "    \n",
    "    return fig\n",
    "\n",
    "elliott_correction_fig = plot_elliott_correction_wave()\n",
    "elliott_correction_fig.show()\n",
    "\n",
    "print(\"🌊 ELLIOTT WAVE CORRECTIONS (ABC):\")\n",
    "print(\"=\" * 45)\n",
    "\n",
    "print(\"\\n📊 ZIGZAG CORRECTION (5-3-5):\")\n",
    "print(\"• Most common corrective pattern\")\n",
    "print(\"• A: Sharp 5-wave decline\")\n",
    "print(\"• B: 3-wave retracement (50-78.6% of A)\")\n",
    "print(\"• C: 5-wave decline, extends past A end\")\n",
    "print(\"• Character: Strong, directional correction\")\n",
    "\n",
    "print(\"\\n📊 FLAT CORRECTION (3-3-5):\")\n",
    "print(\"• Sideways corrective pattern\")\n",
    "print(\"• A: 3-wave decline (weaker than zigzag)\")\n",
    "print(\"• B: 3-wave retracement (90-100% of A)\")\n",
    "print(\"• C: 5-wave decline, slightly past A end\")\n",
    "print(\"• Character: Consolidation, less directional\")\n",
    "\n",
    "print(\"\\n📊 TRIANGLE CORRECTION (3-3-3-3-3):\")\n",
    "print(\"• Five-wave contracting pattern\")\n",
    "print(\"• Each wave gets progressively smaller\")\n",
    "print(\"• Usually occurs in wave 4 or wave B\")\n",
    "print(\"• Breakout direction indicates trend resumption\")\n",
    "print(\"• Character: Coiling energy for next move\")\n",
    "\n",
    "print(\"\\n🎯 TRADING CORRECTIONS:\")\n",
    "print(\"✅ Wait for clear ABC completion\")\n",
    "print(\"✅ Look for reversal signals at C wave end\")\n",
    "print(\"✅ Measure C wave extensions (1.0, 1.272, 1.618 of A)\")\n",
    "print(\"⚠️ Corrections can be complex and time-consuming\")\n",
    "print(\"🔍 Use lower timeframes for precise entry timing\")"
   ]
  },
  {
   "cell_type": "markdown",
   "id": "da75dc23",
   "metadata": {},
   "source": [
    "# 🔄 CYCLES - Time-Based Market Analysis\n",
    "\n",
    "Market cycles help identify recurring patterns in time, revealing when markets are likely to turn. Cycles combine price and time analysis for powerful market timing."
   ]
  },
  {
   "cell_type": "code",
   "execution_count": 12,
   "id": "1555350d",
   "metadata": {},
   "outputs": [
    {
     "data": {
      "application/vnd.plotly.v1+json": {
       "config": {
        "plotlyServerURL": "https://plot.ly"
       },
       "data": [
        {
         "line": {
          "color": "blue",
          "width": 1
         },
         "mode": "lines",
         "name": "Price",
         "type": "scatter",
         "x": [
          "2024-01-01T00:00:00.000000000",
          "2024-01-02T00:00:00.000000000",
          "2024-01-03T00:00:00.000000000",
          "2024-01-04T00:00:00.000000000",
          "2024-01-05T00:00:00.000000000",
          "2024-01-06T00:00:00.000000000",
          "2024-01-07T00:00:00.000000000",
          "2024-01-08T00:00:00.000000000",
          "2024-01-09T00:00:00.000000000",
          "2024-01-10T00:00:00.000000000",
          "2024-01-11T00:00:00.000000000",
          "2024-01-12T00:00:00.000000000",
          "2024-01-13T00:00:00.000000000",
          "2024-01-14T00:00:00.000000000",
          "2024-01-15T00:00:00.000000000",
          "2024-01-16T00:00:00.000000000",
          "2024-01-17T00:00:00.000000000",
          "2024-01-18T00:00:00.000000000",
          "2024-01-19T00:00:00.000000000",
          "2024-01-20T00:00:00.000000000",
          "2024-01-21T00:00:00.000000000",
          "2024-01-22T00:00:00.000000000",
          "2024-01-23T00:00:00.000000000",
          "2024-01-24T00:00:00.000000000",
          "2024-01-25T00:00:00.000000000",
          "2024-01-26T00:00:00.000000000",
          "2024-01-27T00:00:00.000000000",
          "2024-01-28T00:00:00.000000000",
          "2024-01-29T00:00:00.000000000",
          "2024-01-30T00:00:00.000000000",
          "2024-01-31T00:00:00.000000000",
          "2024-02-01T00:00:00.000000000",
          "2024-02-02T00:00:00.000000000",
          "2024-02-03T00:00:00.000000000",
          "2024-02-04T00:00:00.000000000",
          "2024-02-05T00:00:00.000000000",
          "2024-02-06T00:00:00.000000000",
          "2024-02-07T00:00:00.000000000",
          "2024-02-08T00:00:00.000000000",
          "2024-02-09T00:00:00.000000000",
          "2024-02-10T00:00:00.000000000",
          "2024-02-11T00:00:00.000000000",
          "2024-02-12T00:00:00.000000000",
          "2024-02-13T00:00:00.000000000",
          "2024-02-14T00:00:00.000000000",
          "2024-02-15T00:00:00.000000000",
          "2024-02-16T00:00:00.000000000",
          "2024-02-17T00:00:00.000000000",
          "2024-02-18T00:00:00.000000000",
          "2024-02-19T00:00:00.000000000",
          "2024-02-20T00:00:00.000000000",
          "2024-02-21T00:00:00.000000000",
          "2024-02-22T00:00:00.000000000",
          "2024-02-23T00:00:00.000000000",
          "2024-02-24T00:00:00.000000000",
          "2024-02-25T00:00:00.000000000",
          "2024-02-26T00:00:00.000000000",
          "2024-02-27T00:00:00.000000000",
          "2024-02-28T00:00:00.000000000",
          "2024-02-29T00:00:00.000000000",
          "2024-03-01T00:00:00.000000000",
          "2024-03-02T00:00:00.000000000",
          "2024-03-03T00:00:00.000000000",
          "2024-03-04T00:00:00.000000000",
          "2024-03-05T00:00:00.000000000",
          "2024-03-06T00:00:00.000000000",
          "2024-03-07T00:00:00.000000000",
          "2024-03-08T00:00:00.000000000",
          "2024-03-09T00:00:00.000000000",
          "2024-03-10T00:00:00.000000000",
          "2024-03-11T00:00:00.000000000",
          "2024-03-12T00:00:00.000000000",
          "2024-03-13T00:00:00.000000000",
          "2024-03-14T00:00:00.000000000",
          "2024-03-15T00:00:00.000000000",
          "2024-03-16T00:00:00.000000000",
          "2024-03-17T00:00:00.000000000",
          "2024-03-18T00:00:00.000000000",
          "2024-03-19T00:00:00.000000000",
          "2024-03-20T00:00:00.000000000",
          "2024-03-21T00:00:00.000000000",
          "2024-03-22T00:00:00.000000000",
          "2024-03-23T00:00:00.000000000",
          "2024-03-24T00:00:00.000000000",
          "2024-03-25T00:00:00.000000000",
          "2024-03-26T00:00:00.000000000",
          "2024-03-27T00:00:00.000000000",
          "2024-03-28T00:00:00.000000000",
          "2024-03-29T00:00:00.000000000",
          "2024-03-30T00:00:00.000000000",
          "2024-03-31T00:00:00.000000000",
          "2024-04-01T00:00:00.000000000",
          "2024-04-02T00:00:00.000000000",
          "2024-04-03T00:00:00.000000000",
          "2024-04-04T00:00:00.000000000",
          "2024-04-05T00:00:00.000000000",
          "2024-04-06T00:00:00.000000000",
          "2024-04-07T00:00:00.000000000",
          "2024-04-08T00:00:00.000000000",
          "2024-04-09T00:00:00.000000000",
          "2024-04-10T00:00:00.000000000",
          "2024-04-11T00:00:00.000000000",
          "2024-04-12T00:00:00.000000000",
          "2024-04-13T00:00:00.000000000",
          "2024-04-14T00:00:00.000000000",
          "2024-04-15T00:00:00.000000000",
          "2024-04-16T00:00:00.000000000",
          "2024-04-17T00:00:00.000000000",
          "2024-04-18T00:00:00.000000000",
          "2024-04-19T00:00:00.000000000",
          "2024-04-20T00:00:00.000000000",
          "2024-04-21T00:00:00.000000000",
          "2024-04-22T00:00:00.000000000",
          "2024-04-23T00:00:00.000000000",
          "2024-04-24T00:00:00.000000000",
          "2024-04-25T00:00:00.000000000",
          "2024-04-26T00:00:00.000000000",
          "2024-04-27T00:00:00.000000000",
          "2024-04-28T00:00:00.000000000",
          "2024-04-29T00:00:00.000000000",
          "2024-04-30T00:00:00.000000000",
          "2024-05-01T00:00:00.000000000",
          "2024-05-02T00:00:00.000000000",
          "2024-05-03T00:00:00.000000000",
          "2024-05-04T00:00:00.000000000",
          "2024-05-05T00:00:00.000000000",
          "2024-05-06T00:00:00.000000000",
          "2024-05-07T00:00:00.000000000",
          "2024-05-08T00:00:00.000000000",
          "2024-05-09T00:00:00.000000000",
          "2024-05-10T00:00:00.000000000",
          "2024-05-11T00:00:00.000000000",
          "2024-05-12T00:00:00.000000000",
          "2024-05-13T00:00:00.000000000",
          "2024-05-14T00:00:00.000000000",
          "2024-05-15T00:00:00.000000000",
          "2024-05-16T00:00:00.000000000",
          "2024-05-17T00:00:00.000000000",
          "2024-05-18T00:00:00.000000000",
          "2024-05-19T00:00:00.000000000",
          "2024-05-20T00:00:00.000000000",
          "2024-05-21T00:00:00.000000000",
          "2024-05-22T00:00:00.000000000",
          "2024-05-23T00:00:00.000000000",
          "2024-05-24T00:00:00.000000000",
          "2024-05-25T00:00:00.000000000",
          "2024-05-26T00:00:00.000000000",
          "2024-05-27T00:00:00.000000000",
          "2024-05-28T00:00:00.000000000",
          "2024-05-29T00:00:00.000000000",
          "2024-05-30T00:00:00.000000000",
          "2024-05-31T00:00:00.000000000",
          "2024-06-01T00:00:00.000000000",
          "2024-06-02T00:00:00.000000000",
          "2024-06-03T00:00:00.000000000",
          "2024-06-04T00:00:00.000000000",
          "2024-06-05T00:00:00.000000000",
          "2024-06-06T00:00:00.000000000",
          "2024-06-07T00:00:00.000000000",
          "2024-06-08T00:00:00.000000000",
          "2024-06-09T00:00:00.000000000",
          "2024-06-10T00:00:00.000000000",
          "2024-06-11T00:00:00.000000000",
          "2024-06-12T00:00:00.000000000",
          "2024-06-13T00:00:00.000000000",
          "2024-06-14T00:00:00.000000000",
          "2024-06-15T00:00:00.000000000",
          "2024-06-16T00:00:00.000000000",
          "2024-06-17T00:00:00.000000000",
          "2024-06-18T00:00:00.000000000",
          "2024-06-19T00:00:00.000000000",
          "2024-06-20T00:00:00.000000000",
          "2024-06-21T00:00:00.000000000",
          "2024-06-22T00:00:00.000000000",
          "2024-06-23T00:00:00.000000000",
          "2024-06-24T00:00:00.000000000",
          "2024-06-25T00:00:00.000000000",
          "2024-06-26T00:00:00.000000000",
          "2024-06-27T00:00:00.000000000",
          "2024-06-28T00:00:00.000000000",
          "2024-06-29T00:00:00.000000000",
          "2024-06-30T00:00:00.000000000",
          "2024-07-01T00:00:00.000000000",
          "2024-07-02T00:00:00.000000000",
          "2024-07-03T00:00:00.000000000",
          "2024-07-04T00:00:00.000000000",
          "2024-07-05T00:00:00.000000000",
          "2024-07-06T00:00:00.000000000",
          "2024-07-07T00:00:00.000000000",
          "2024-07-08T00:00:00.000000000",
          "2024-07-09T00:00:00.000000000",
          "2024-07-10T00:00:00.000000000",
          "2024-07-11T00:00:00.000000000",
          "2024-07-12T00:00:00.000000000",
          "2024-07-13T00:00:00.000000000",
          "2024-07-14T00:00:00.000000000",
          "2024-07-15T00:00:00.000000000",
          "2024-07-16T00:00:00.000000000",
          "2024-07-17T00:00:00.000000000",
          "2024-07-18T00:00:00.000000000",
          "2024-07-19T00:00:00.000000000",
          "2024-07-20T00:00:00.000000000",
          "2024-07-21T00:00:00.000000000",
          "2024-07-22T00:00:00.000000000",
          "2024-07-23T00:00:00.000000000",
          "2024-07-24T00:00:00.000000000",
          "2024-07-25T00:00:00.000000000",
          "2024-07-26T00:00:00.000000000",
          "2024-07-27T00:00:00.000000000",
          "2024-07-28T00:00:00.000000000",
          "2024-07-29T00:00:00.000000000",
          "2024-07-30T00:00:00.000000000",
          "2024-07-31T00:00:00.000000000",
          "2024-08-01T00:00:00.000000000",
          "2024-08-02T00:00:00.000000000",
          "2024-08-03T00:00:00.000000000",
          "2024-08-04T00:00:00.000000000",
          "2024-08-05T00:00:00.000000000",
          "2024-08-06T00:00:00.000000000",
          "2024-08-07T00:00:00.000000000",
          "2024-08-08T00:00:00.000000000",
          "2024-08-09T00:00:00.000000000",
          "2024-08-10T00:00:00.000000000",
          "2024-08-11T00:00:00.000000000",
          "2024-08-12T00:00:00.000000000",
          "2024-08-13T00:00:00.000000000",
          "2024-08-14T00:00:00.000000000",
          "2024-08-15T00:00:00.000000000",
          "2024-08-16T00:00:00.000000000",
          "2024-08-17T00:00:00.000000000",
          "2024-08-18T00:00:00.000000000",
          "2024-08-19T00:00:00.000000000",
          "2024-08-20T00:00:00.000000000",
          "2024-08-21T00:00:00.000000000",
          "2024-08-22T00:00:00.000000000",
          "2024-08-23T00:00:00.000000000",
          "2024-08-24T00:00:00.000000000",
          "2024-08-25T00:00:00.000000000",
          "2024-08-26T00:00:00.000000000",
          "2024-08-27T00:00:00.000000000",
          "2024-08-28T00:00:00.000000000",
          "2024-08-29T00:00:00.000000000",
          "2024-08-30T00:00:00.000000000",
          "2024-08-31T00:00:00.000000000",
          "2024-09-01T00:00:00.000000000",
          "2024-09-02T00:00:00.000000000",
          "2024-09-03T00:00:00.000000000",
          "2024-09-04T00:00:00.000000000",
          "2024-09-05T00:00:00.000000000",
          "2024-09-06T00:00:00.000000000"
         ],
         "xaxis": "x",
         "y": {
          "bdata": "I0ySLE4OXkBcZVFa0jReQE/Qp64Zcl5AVz9PRP7IXkBTAe6AHepeQIYT5ByeCV9Amk8OAE9fX0BnQ6xB6JlfQJXceUYMq19AFlxmI6DZX0Br/Sc8ueRfQPUNcU9G7F9AjeI0i8oDYEC9tjSjPtdfQFUWDRHWqF9AhZCLDqedX0B5XTZk2n5fQPByZP36iV9A1FkQaGtmX0Bhlipp5ixfQIh1Hf4sVl9A174t8l0/X0A0lwOU0y9fQDl8jAhv5l5AsyX+IFO6XkD/nLgP66NeQHSxmbHZW15AvpN3CFZLXkA0Zl6ZGRReQKFvQ4Bb511AbDpY9bWtXUAOvi0eDNNdQId0Jayor11AKhPvO2pjXUBXCxUaSWJdQHFq1RbhEF1ApXwVcxj6XEBXhWWMpo1cQAjay5OaPFxASCaam/4rXEB8WwAIajRcQDi4AUSsKFxAwfEzsl8UXEC4Ax7O1PtbQJOPyyfItVtA/qa6lAWTW0A46Ccb5X5bQKdpXVaSrltABHSC6yDEW0Bu0x5XRoRbQDKjVK7CoFtAU7SI5L6iW0D/bCEfxZtbQOw13UZCz1tA9fpsN+wXXEDScM1ZRF9cQFYbt4IcXVxAhMAj6At0XEABQpc7j6hcQCzZpu+C+lxAsSO47+8OXUAJsRvH6TBdQPGA/1WbK11A0KQI8YQiXUCrUR0i5m9dQDQ+TWwL1F1AGogibnj5XUC0jIKUzkteQDd9hNCogF5AyE6p3BCIXkDIemciQrheQNZrl4gWGF9AthgnoHUxX0AqBPlq4ItfQL7y5Z2KMF9AW/flWwJkX0DcTdTsgnRfQKaFQK3ccF9Atfys4sx5X0BNn2QKoCdfQL/HhFm8G19AJRc1kxIkX0CfnmRgGFdfQM18jz/oM19Ayi0SpoEBX0D+eR5TotheQOsaWGOa5l5AupTu5/vZXkChIzlWYaheQOXI/Uyknl5AtemHmYuCXkAgKy50nIdeQLkvCfPNSV5AC9z8k0MaXkD0oyx+KOhdQK/GqMEXjV1ACAfJRm52XUDr0JWuYF9dQDufjEv+P11AmuZ5dmQZXUBY/YXNGclcQKcJMutOoFxAQGF8ITZ9XEDxwHKujkxcQI4D7lZoNlxAE3nkxd43XEDR3ZX4GHFcQE5bsouecVxASkMSYMp4XEB5V1gJYnhcQHyjy2lKPVxA8+XZ+FZGXEC1z9OoG1ZcQMwVktavuFxASByfk37HXEAxt2dDselcQBUyNLFEBF1A+0vKXBX+XECuyYXZAUNdQETaq1zefV1Au4NOfrW7XUC7aQa12MddQN4zLhFbGl5AfpZhmgcbXkD3wp9CcFZeQG6Jd/2EwF5ABNo3XtrNXkDpxI841+ZeQADVdimsEl9AhOmGeNUqX0DbryuJ2iBfQEmPwX+yRl9A1H6maoxGX0BaXSFMR3RfQJeiT2pWcl9ACEFlfE29X0Bjq+A2l7hfQGOEkGJdv19AdZeE/XjoX0AujeBcn8hfQJUDDtV51l9AcKHmjPACYEBDeKje8ctfQL+Bo9zgzF9ADXlN88/MX0ByYSE1+dtfQEM/yPXLnl9Aoo/qc/VaX0BAJoU9nldfQHukx2pbSV9Awstp7wQ3X0DA+qiURSZfQF/W7NfY7F5AO52bbcPUXkAmdKlbEL5eQJzsU+Oxf15AM//X2bilXkBt0u8gn5VeQCS71h9IRF5AmaYsJSc9XkDLT0zKKfZdQOXV4Z+Q911A5/PLvjEKXkA/9P9w385dQDjbRNn83l1AeWDomJfbXUBXk2nkVexdQDkjOvQnLV5Ax2/jr7UYXkDuRTeDsfJdQLvDWZWuyl1ASWUcE4apXUAV5gygWKtdQJwoI53Dwl1AM9UkRlTbXUC2KlHTHA9eQLAxCfXbI15ALdGQhqt5XkAg6NCjO4leQN7jw/vrG19AMIN+6H9XX0A5YJfGvVVfQDgQ57jfTF9AF//x8cWIX0CZjkzNqKdfQG/XLecY8F9AEIgfOWoXYEC0IpJ2IitgQOJkKiMXLmBAq03ugWIiYEBwa4LxTi1gQG23LfCyU2BAuxbyv2xrYECN2n1VwWJgQFIbXgxzd2BAN+18eGGPYEB2vyJBr4pgQHXGdbGemmBAADyP/dSmYECGfZC4u5dgQHrrJQ2spmBAOAwLh/q3YED8r0saUdJgQG9yLtYC6mBAS3eVMMrMYEBRBDDp67ZgQOIAi3JrvWBApCnD2QbCYECcf8eX38RgQEQS7lZvCmFA1fzFaycLYUCjuwr74BVhQKVGIVuRG2FAd+Su6/sZYUBX3lHRGgRhQFppiGXWAmFAA1zA87PiYECpTHOwzcxgQLcH9dvrsWBAWVOroxmiYEBcgcIrYr1gQLwH+sf/iGBAA5k9+9SFYED5xpOhJ1hgQESc1lHzQGBAVhetsdJHYEA/ClavBD1gQC4W55TaHmBA+4jJjPMIYEAqDkuexQ1gQJ538J2E9l9A8Zyi16f2X0D+W/dykfRfQEqgPYlP3l9AaUY4RMgVYEBF8PCvfSRgQPPCkfqPCGBAWADW53cTYEDbCOx4SBJgQI68+Mp9K2BAe9sVftkrYECgGyHMoDhgQNtq2x6MUGBAls/6UDtvYED2R7/2P29gQHlP9XaGfWBAbRiftYeKYEACHd0DkpVgQOztfhdkxGBADqe6O3/fYEA=",
          "dtype": "f8"
         },
         "yaxis": "y"
        },
        {
         "marker": {
          "color": "red",
          "size": 8,
          "symbol": "triangle-up"
         },
         "mode": "markers",
         "name": "Cycle Highs",
         "type": "scatter",
         "x": [
          "2024-01-13T00:00:00.000000000",
          "2024-03-14T00:00:00.000000000",
          "2024-05-21T00:00:00.000000000",
          "2024-06-29T00:00:00.000000000",
          "2024-07-14T00:00:00.000000000",
          "2024-07-31T00:00:00.000000000",
          "2024-08-23T00:00:00.000000000"
         ],
         "xaxis": "x",
         "y": {
          "bdata": "jeI0i8oDYEAqBPlq4ItfQHCh5ozwAmBAMIN+6H9XX0A37Xx4YY9gQKVGIVuRG2FARfDwr30kYEA=",
          "dtype": "f8"
         },
         "yaxis": "y"
        },
        {
         "marker": {
          "color": "green",
          "size": 8,
          "symbol": "triangle-down"
         },
         "mode": "markers",
         "name": "Cycle Lows",
         "type": "scatter",
         "x": [
          "2024-01-31T00:00:00.000000000",
          "2024-02-16T00:00:00.000000000",
          "2024-03-04T00:00:00.000000000",
          "2024-03-26T00:00:00.000000000",
          "2024-04-14T00:00:00.000000000",
          "2024-06-04T00:00:00.000000000",
          "2024-06-20T00:00:00.000000000"
         ],
         "xaxis": "x",
         "y": {
          "bdata": "bDpY9bWtXUA46Ccb5X5bQNCkCPGEIl1A/nkeU6LYXkCOA+5WaDZcQJzsU+Oxf15ASWUcE4apXUA=",
          "dtype": "f8"
         },
         "yaxis": "y"
        },
        {
         "line": {
          "color": "blue",
          "width": 1
         },
         "mode": "lines",
         "name": "Price",
         "showlegend": false,
         "type": "scatter",
         "x": [
          "2024-01-01T00:00:00.000000000",
          "2024-01-02T00:00:00.000000000",
          "2024-01-03T00:00:00.000000000",
          "2024-01-04T00:00:00.000000000",
          "2024-01-05T00:00:00.000000000",
          "2024-01-06T00:00:00.000000000",
          "2024-01-07T00:00:00.000000000",
          "2024-01-08T00:00:00.000000000",
          "2024-01-09T00:00:00.000000000",
          "2024-01-10T00:00:00.000000000",
          "2024-01-11T00:00:00.000000000",
          "2024-01-12T00:00:00.000000000",
          "2024-01-13T00:00:00.000000000",
          "2024-01-14T00:00:00.000000000",
          "2024-01-15T00:00:00.000000000",
          "2024-01-16T00:00:00.000000000",
          "2024-01-17T00:00:00.000000000",
          "2024-01-18T00:00:00.000000000",
          "2024-01-19T00:00:00.000000000",
          "2024-01-20T00:00:00.000000000",
          "2024-01-21T00:00:00.000000000",
          "2024-01-22T00:00:00.000000000",
          "2024-01-23T00:00:00.000000000",
          "2024-01-24T00:00:00.000000000",
          "2024-01-25T00:00:00.000000000",
          "2024-01-26T00:00:00.000000000",
          "2024-01-27T00:00:00.000000000",
          "2024-01-28T00:00:00.000000000",
          "2024-01-29T00:00:00.000000000",
          "2024-01-30T00:00:00.000000000",
          "2024-01-31T00:00:00.000000000",
          "2024-02-01T00:00:00.000000000",
          "2024-02-02T00:00:00.000000000",
          "2024-02-03T00:00:00.000000000",
          "2024-02-04T00:00:00.000000000",
          "2024-02-05T00:00:00.000000000",
          "2024-02-06T00:00:00.000000000",
          "2024-02-07T00:00:00.000000000",
          "2024-02-08T00:00:00.000000000",
          "2024-02-09T00:00:00.000000000",
          "2024-02-10T00:00:00.000000000",
          "2024-02-11T00:00:00.000000000",
          "2024-02-12T00:00:00.000000000",
          "2024-02-13T00:00:00.000000000",
          "2024-02-14T00:00:00.000000000",
          "2024-02-15T00:00:00.000000000",
          "2024-02-16T00:00:00.000000000",
          "2024-02-17T00:00:00.000000000",
          "2024-02-18T00:00:00.000000000",
          "2024-02-19T00:00:00.000000000",
          "2024-02-20T00:00:00.000000000",
          "2024-02-21T00:00:00.000000000",
          "2024-02-22T00:00:00.000000000",
          "2024-02-23T00:00:00.000000000",
          "2024-02-24T00:00:00.000000000",
          "2024-02-25T00:00:00.000000000",
          "2024-02-26T00:00:00.000000000",
          "2024-02-27T00:00:00.000000000",
          "2024-02-28T00:00:00.000000000",
          "2024-02-29T00:00:00.000000000",
          "2024-03-01T00:00:00.000000000",
          "2024-03-02T00:00:00.000000000",
          "2024-03-03T00:00:00.000000000",
          "2024-03-04T00:00:00.000000000",
          "2024-03-05T00:00:00.000000000",
          "2024-03-06T00:00:00.000000000",
          "2024-03-07T00:00:00.000000000",
          "2024-03-08T00:00:00.000000000",
          "2024-03-09T00:00:00.000000000",
          "2024-03-10T00:00:00.000000000",
          "2024-03-11T00:00:00.000000000",
          "2024-03-12T00:00:00.000000000",
          "2024-03-13T00:00:00.000000000",
          "2024-03-14T00:00:00.000000000",
          "2024-03-15T00:00:00.000000000",
          "2024-03-16T00:00:00.000000000",
          "2024-03-17T00:00:00.000000000",
          "2024-03-18T00:00:00.000000000",
          "2024-03-19T00:00:00.000000000",
          "2024-03-20T00:00:00.000000000",
          "2024-03-21T00:00:00.000000000",
          "2024-03-22T00:00:00.000000000",
          "2024-03-23T00:00:00.000000000",
          "2024-03-24T00:00:00.000000000",
          "2024-03-25T00:00:00.000000000",
          "2024-03-26T00:00:00.000000000",
          "2024-03-27T00:00:00.000000000",
          "2024-03-28T00:00:00.000000000",
          "2024-03-29T00:00:00.000000000",
          "2024-03-30T00:00:00.000000000",
          "2024-03-31T00:00:00.000000000",
          "2024-04-01T00:00:00.000000000",
          "2024-04-02T00:00:00.000000000",
          "2024-04-03T00:00:00.000000000",
          "2024-04-04T00:00:00.000000000",
          "2024-04-05T00:00:00.000000000",
          "2024-04-06T00:00:00.000000000",
          "2024-04-07T00:00:00.000000000",
          "2024-04-08T00:00:00.000000000",
          "2024-04-09T00:00:00.000000000",
          "2024-04-10T00:00:00.000000000",
          "2024-04-11T00:00:00.000000000",
          "2024-04-12T00:00:00.000000000",
          "2024-04-13T00:00:00.000000000",
          "2024-04-14T00:00:00.000000000",
          "2024-04-15T00:00:00.000000000",
          "2024-04-16T00:00:00.000000000",
          "2024-04-17T00:00:00.000000000",
          "2024-04-18T00:00:00.000000000",
          "2024-04-19T00:00:00.000000000",
          "2024-04-20T00:00:00.000000000",
          "2024-04-21T00:00:00.000000000",
          "2024-04-22T00:00:00.000000000",
          "2024-04-23T00:00:00.000000000",
          "2024-04-24T00:00:00.000000000",
          "2024-04-25T00:00:00.000000000",
          "2024-04-26T00:00:00.000000000",
          "2024-04-27T00:00:00.000000000",
          "2024-04-28T00:00:00.000000000",
          "2024-04-29T00:00:00.000000000",
          "2024-04-30T00:00:00.000000000",
          "2024-05-01T00:00:00.000000000",
          "2024-05-02T00:00:00.000000000",
          "2024-05-03T00:00:00.000000000",
          "2024-05-04T00:00:00.000000000",
          "2024-05-05T00:00:00.000000000",
          "2024-05-06T00:00:00.000000000",
          "2024-05-07T00:00:00.000000000",
          "2024-05-08T00:00:00.000000000",
          "2024-05-09T00:00:00.000000000",
          "2024-05-10T00:00:00.000000000",
          "2024-05-11T00:00:00.000000000",
          "2024-05-12T00:00:00.000000000",
          "2024-05-13T00:00:00.000000000",
          "2024-05-14T00:00:00.000000000",
          "2024-05-15T00:00:00.000000000",
          "2024-05-16T00:00:00.000000000",
          "2024-05-17T00:00:00.000000000",
          "2024-05-18T00:00:00.000000000",
          "2024-05-19T00:00:00.000000000",
          "2024-05-20T00:00:00.000000000",
          "2024-05-21T00:00:00.000000000",
          "2024-05-22T00:00:00.000000000",
          "2024-05-23T00:00:00.000000000",
          "2024-05-24T00:00:00.000000000",
          "2024-05-25T00:00:00.000000000",
          "2024-05-26T00:00:00.000000000",
          "2024-05-27T00:00:00.000000000",
          "2024-05-28T00:00:00.000000000",
          "2024-05-29T00:00:00.000000000",
          "2024-05-30T00:00:00.000000000",
          "2024-05-31T00:00:00.000000000",
          "2024-06-01T00:00:00.000000000",
          "2024-06-02T00:00:00.000000000",
          "2024-06-03T00:00:00.000000000",
          "2024-06-04T00:00:00.000000000",
          "2024-06-05T00:00:00.000000000",
          "2024-06-06T00:00:00.000000000",
          "2024-06-07T00:00:00.000000000",
          "2024-06-08T00:00:00.000000000",
          "2024-06-09T00:00:00.000000000",
          "2024-06-10T00:00:00.000000000",
          "2024-06-11T00:00:00.000000000",
          "2024-06-12T00:00:00.000000000",
          "2024-06-13T00:00:00.000000000",
          "2024-06-14T00:00:00.000000000",
          "2024-06-15T00:00:00.000000000",
          "2024-06-16T00:00:00.000000000",
          "2024-06-17T00:00:00.000000000",
          "2024-06-18T00:00:00.000000000",
          "2024-06-19T00:00:00.000000000",
          "2024-06-20T00:00:00.000000000",
          "2024-06-21T00:00:00.000000000",
          "2024-06-22T00:00:00.000000000",
          "2024-06-23T00:00:00.000000000",
          "2024-06-24T00:00:00.000000000",
          "2024-06-25T00:00:00.000000000",
          "2024-06-26T00:00:00.000000000",
          "2024-06-27T00:00:00.000000000",
          "2024-06-28T00:00:00.000000000",
          "2024-06-29T00:00:00.000000000",
          "2024-06-30T00:00:00.000000000",
          "2024-07-01T00:00:00.000000000",
          "2024-07-02T00:00:00.000000000",
          "2024-07-03T00:00:00.000000000",
          "2024-07-04T00:00:00.000000000",
          "2024-07-05T00:00:00.000000000",
          "2024-07-06T00:00:00.000000000",
          "2024-07-07T00:00:00.000000000",
          "2024-07-08T00:00:00.000000000",
          "2024-07-09T00:00:00.000000000",
          "2024-07-10T00:00:00.000000000",
          "2024-07-11T00:00:00.000000000",
          "2024-07-12T00:00:00.000000000",
          "2024-07-13T00:00:00.000000000",
          "2024-07-14T00:00:00.000000000",
          "2024-07-15T00:00:00.000000000",
          "2024-07-16T00:00:00.000000000",
          "2024-07-17T00:00:00.000000000",
          "2024-07-18T00:00:00.000000000",
          "2024-07-19T00:00:00.000000000",
          "2024-07-20T00:00:00.000000000",
          "2024-07-21T00:00:00.000000000",
          "2024-07-22T00:00:00.000000000",
          "2024-07-23T00:00:00.000000000",
          "2024-07-24T00:00:00.000000000",
          "2024-07-25T00:00:00.000000000",
          "2024-07-26T00:00:00.000000000",
          "2024-07-27T00:00:00.000000000",
          "2024-07-28T00:00:00.000000000",
          "2024-07-29T00:00:00.000000000",
          "2024-07-30T00:00:00.000000000",
          "2024-07-31T00:00:00.000000000",
          "2024-08-01T00:00:00.000000000",
          "2024-08-02T00:00:00.000000000",
          "2024-08-03T00:00:00.000000000",
          "2024-08-04T00:00:00.000000000",
          "2024-08-05T00:00:00.000000000",
          "2024-08-06T00:00:00.000000000",
          "2024-08-07T00:00:00.000000000",
          "2024-08-08T00:00:00.000000000",
          "2024-08-09T00:00:00.000000000",
          "2024-08-10T00:00:00.000000000",
          "2024-08-11T00:00:00.000000000",
          "2024-08-12T00:00:00.000000000",
          "2024-08-13T00:00:00.000000000",
          "2024-08-14T00:00:00.000000000",
          "2024-08-15T00:00:00.000000000",
          "2024-08-16T00:00:00.000000000",
          "2024-08-17T00:00:00.000000000",
          "2024-08-18T00:00:00.000000000",
          "2024-08-19T00:00:00.000000000",
          "2024-08-20T00:00:00.000000000",
          "2024-08-21T00:00:00.000000000",
          "2024-08-22T00:00:00.000000000",
          "2024-08-23T00:00:00.000000000",
          "2024-08-24T00:00:00.000000000",
          "2024-08-25T00:00:00.000000000",
          "2024-08-26T00:00:00.000000000",
          "2024-08-27T00:00:00.000000000",
          "2024-08-28T00:00:00.000000000",
          "2024-08-29T00:00:00.000000000",
          "2024-08-30T00:00:00.000000000",
          "2024-08-31T00:00:00.000000000",
          "2024-09-01T00:00:00.000000000",
          "2024-09-02T00:00:00.000000000",
          "2024-09-03T00:00:00.000000000",
          "2024-09-04T00:00:00.000000000",
          "2024-09-05T00:00:00.000000000",
          "2024-09-06T00:00:00.000000000"
         ],
         "xaxis": "x2",
         "y": {
          "bdata": "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",
          "dtype": "f8"
         },
         "yaxis": "y2"
        },
        {
         "line": {
          "color": "red",
          "dash": "dot",
          "width": 1
         },
         "mode": "lines",
         "name": "Cycle Resistance",
         "type": "scatter",
         "x": [
          "2024-01-01T00:00:00.000000000",
          "2024-01-02T00:00:00.000000000",
          "2024-01-03T00:00:00.000000000",
          "2024-01-04T00:00:00.000000000",
          "2024-01-05T00:00:00.000000000",
          "2024-01-06T00:00:00.000000000",
          "2024-01-07T00:00:00.000000000",
          "2024-01-08T00:00:00.000000000",
          "2024-01-09T00:00:00.000000000",
          "2024-01-10T00:00:00.000000000",
          "2024-01-11T00:00:00.000000000",
          "2024-01-12T00:00:00.000000000",
          "2024-01-13T00:00:00.000000000",
          "2024-01-14T00:00:00.000000000",
          "2024-01-15T00:00:00.000000000",
          "2024-01-16T00:00:00.000000000",
          "2024-01-17T00:00:00.000000000",
          "2024-01-18T00:00:00.000000000",
          "2024-01-19T00:00:00.000000000",
          "2024-01-20T00:00:00.000000000",
          "2024-01-21T00:00:00.000000000",
          "2024-01-22T00:00:00.000000000",
          "2024-01-23T00:00:00.000000000",
          "2024-01-24T00:00:00.000000000",
          "2024-01-25T00:00:00.000000000",
          "2024-01-26T00:00:00.000000000",
          "2024-01-27T00:00:00.000000000",
          "2024-01-28T00:00:00.000000000",
          "2024-01-29T00:00:00.000000000",
          "2024-01-30T00:00:00.000000000",
          "2024-01-31T00:00:00.000000000",
          "2024-02-01T00:00:00.000000000",
          "2024-02-02T00:00:00.000000000",
          "2024-02-03T00:00:00.000000000",
          "2024-02-04T00:00:00.000000000",
          "2024-02-05T00:00:00.000000000",
          "2024-02-06T00:00:00.000000000",
          "2024-02-07T00:00:00.000000000",
          "2024-02-08T00:00:00.000000000",
          "2024-02-09T00:00:00.000000000",
          "2024-02-10T00:00:00.000000000",
          "2024-02-11T00:00:00.000000000",
          "2024-02-12T00:00:00.000000000",
          "2024-02-13T00:00:00.000000000",
          "2024-02-14T00:00:00.000000000",
          "2024-02-15T00:00:00.000000000",
          "2024-02-16T00:00:00.000000000",
          "2024-02-17T00:00:00.000000000",
          "2024-02-18T00:00:00.000000000",
          "2024-02-19T00:00:00.000000000",
          "2024-02-20T00:00:00.000000000",
          "2024-02-21T00:00:00.000000000",
          "2024-02-22T00:00:00.000000000",
          "2024-02-23T00:00:00.000000000",
          "2024-02-24T00:00:00.000000000",
          "2024-02-25T00:00:00.000000000",
          "2024-02-26T00:00:00.000000000",
          "2024-02-27T00:00:00.000000000",
          "2024-02-28T00:00:00.000000000",
          "2024-02-29T00:00:00.000000000",
          "2024-03-01T00:00:00.000000000",
          "2024-03-02T00:00:00.000000000",
          "2024-03-03T00:00:00.000000000",
          "2024-03-04T00:00:00.000000000",
          "2024-03-05T00:00:00.000000000",
          "2024-03-06T00:00:00.000000000",
          "2024-03-07T00:00:00.000000000",
          "2024-03-08T00:00:00.000000000",
          "2024-03-09T00:00:00.000000000",
          "2024-03-10T00:00:00.000000000",
          "2024-03-11T00:00:00.000000000",
          "2024-03-12T00:00:00.000000000",
          "2024-03-13T00:00:00.000000000",
          "2024-03-14T00:00:00.000000000",
          "2024-03-15T00:00:00.000000000",
          "2024-03-16T00:00:00.000000000",
          "2024-03-17T00:00:00.000000000",
          "2024-03-18T00:00:00.000000000",
          "2024-03-19T00:00:00.000000000",
          "2024-03-20T00:00:00.000000000",
          "2024-03-21T00:00:00.000000000",
          "2024-03-22T00:00:00.000000000",
          "2024-03-23T00:00:00.000000000",
          "2024-03-24T00:00:00.000000000",
          "2024-03-25T00:00:00.000000000",
          "2024-03-26T00:00:00.000000000",
          "2024-03-27T00:00:00.000000000",
          "2024-03-28T00:00:00.000000000",
          "2024-03-29T00:00:00.000000000",
          "2024-03-30T00:00:00.000000000",
          "2024-03-31T00:00:00.000000000",
          "2024-04-01T00:00:00.000000000",
          "2024-04-02T00:00:00.000000000",
          "2024-04-03T00:00:00.000000000",
          "2024-04-04T00:00:00.000000000",
          "2024-04-05T00:00:00.000000000",
          "2024-04-06T00:00:00.000000000",
          "2024-04-07T00:00:00.000000000",
          "2024-04-08T00:00:00.000000000",
          "2024-04-09T00:00:00.000000000",
          "2024-04-10T00:00:00.000000000",
          "2024-04-11T00:00:00.000000000",
          "2024-04-12T00:00:00.000000000",
          "2024-04-13T00:00:00.000000000",
          "2024-04-14T00:00:00.000000000",
          "2024-04-15T00:00:00.000000000",
          "2024-04-16T00:00:00.000000000",
          "2024-04-17T00:00:00.000000000",
          "2024-04-18T00:00:00.000000000",
          "2024-04-19T00:00:00.000000000",
          "2024-04-20T00:00:00.000000000",
          "2024-04-21T00:00:00.000000000",
          "2024-04-22T00:00:00.000000000",
          "2024-04-23T00:00:00.000000000",
          "2024-04-24T00:00:00.000000000",
          "2024-04-25T00:00:00.000000000",
          "2024-04-26T00:00:00.000000000",
          "2024-04-27T00:00:00.000000000",
          "2024-04-28T00:00:00.000000000",
          "2024-04-29T00:00:00.000000000",
          "2024-04-30T00:00:00.000000000",
          "2024-05-01T00:00:00.000000000",
          "2024-05-02T00:00:00.000000000",
          "2024-05-03T00:00:00.000000000",
          "2024-05-04T00:00:00.000000000",
          "2024-05-05T00:00:00.000000000",
          "2024-05-06T00:00:00.000000000",
          "2024-05-07T00:00:00.000000000",
          "2024-05-08T00:00:00.000000000",
          "2024-05-09T00:00:00.000000000",
          "2024-05-10T00:00:00.000000000",
          "2024-05-11T00:00:00.000000000",
          "2024-05-12T00:00:00.000000000",
          "2024-05-13T00:00:00.000000000",
          "2024-05-14T00:00:00.000000000",
          "2024-05-15T00:00:00.000000000",
          "2024-05-16T00:00:00.000000000",
          "2024-05-17T00:00:00.000000000",
          "2024-05-18T00:00:00.000000000",
          "2024-05-19T00:00:00.000000000",
          "2024-05-20T00:00:00.000000000",
          "2024-05-21T00:00:00.000000000",
          "2024-05-22T00:00:00.000000000",
          "2024-05-23T00:00:00.000000000",
          "2024-05-24T00:00:00.000000000",
          "2024-05-25T00:00:00.000000000",
          "2024-05-26T00:00:00.000000000",
          "2024-05-27T00:00:00.000000000",
          "2024-05-28T00:00:00.000000000",
          "2024-05-29T00:00:00.000000000",
          "2024-05-30T00:00:00.000000000",
          "2024-05-31T00:00:00.000000000",
          "2024-06-01T00:00:00.000000000",
          "2024-06-02T00:00:00.000000000",
          "2024-06-03T00:00:00.000000000",
          "2024-06-04T00:00:00.000000000",
          "2024-06-05T00:00:00.000000000",
          "2024-06-06T00:00:00.000000000",
          "2024-06-07T00:00:00.000000000",
          "2024-06-08T00:00:00.000000000",
          "2024-06-09T00:00:00.000000000",
          "2024-06-10T00:00:00.000000000",
          "2024-06-11T00:00:00.000000000",
          "2024-06-12T00:00:00.000000000",
          "2024-06-13T00:00:00.000000000",
          "2024-06-14T00:00:00.000000000",
          "2024-06-15T00:00:00.000000000",
          "2024-06-16T00:00:00.000000000",
          "2024-06-17T00:00:00.000000000",
          "2024-06-18T00:00:00.000000000",
          "2024-06-19T00:00:00.000000000",
          "2024-06-20T00:00:00.000000000",
          "2024-06-21T00:00:00.000000000",
          "2024-06-22T00:00:00.000000000",
          "2024-06-23T00:00:00.000000000",
          "2024-06-24T00:00:00.000000000",
          "2024-06-25T00:00:00.000000000",
          "2024-06-26T00:00:00.000000000",
          "2024-06-27T00:00:00.000000000",
          "2024-06-28T00:00:00.000000000",
          "2024-06-29T00:00:00.000000000",
          "2024-06-30T00:00:00.000000000",
          "2024-07-01T00:00:00.000000000",
          "2024-07-02T00:00:00.000000000",
          "2024-07-03T00:00:00.000000000",
          "2024-07-04T00:00:00.000000000",
          "2024-07-05T00:00:00.000000000",
          "2024-07-06T00:00:00.000000000",
          "2024-07-07T00:00:00.000000000",
          "2024-07-08T00:00:00.000000000",
          "2024-07-09T00:00:00.000000000",
          "2024-07-10T00:00:00.000000000",
          "2024-07-11T00:00:00.000000000",
          "2024-07-12T00:00:00.000000000",
          "2024-07-13T00:00:00.000000000",
          "2024-07-14T00:00:00.000000000",
          "2024-07-15T00:00:00.000000000",
          "2024-07-16T00:00:00.000000000",
          "2024-07-17T00:00:00.000000000",
          "2024-07-18T00:00:00.000000000",
          "2024-07-19T00:00:00.000000000",
          "2024-07-20T00:00:00.000000000",
          "2024-07-21T00:00:00.000000000",
          "2024-07-22T00:00:00.000000000",
          "2024-07-23T00:00:00.000000000",
          "2024-07-24T00:00:00.000000000",
          "2024-07-25T00:00:00.000000000",
          "2024-07-26T00:00:00.000000000",
          "2024-07-27T00:00:00.000000000",
          "2024-07-28T00:00:00.000000000",
          "2024-07-29T00:00:00.000000000",
          "2024-07-30T00:00:00.000000000",
          "2024-07-31T00:00:00.000000000",
          "2024-08-01T00:00:00.000000000",
          "2024-08-02T00:00:00.000000000",
          "2024-08-03T00:00:00.000000000",
          "2024-08-04T00:00:00.000000000",
          "2024-08-05T00:00:00.000000000",
          "2024-08-06T00:00:00.000000000",
          "2024-08-07T00:00:00.000000000",
          "2024-08-08T00:00:00.000000000",
          "2024-08-09T00:00:00.000000000",
          "2024-08-10T00:00:00.000000000",
          "2024-08-11T00:00:00.000000000",
          "2024-08-12T00:00:00.000000000",
          "2024-08-13T00:00:00.000000000",
          "2024-08-14T00:00:00.000000000",
          "2024-08-15T00:00:00.000000000",
          "2024-08-16T00:00:00.000000000",
          "2024-08-17T00:00:00.000000000",
          "2024-08-18T00:00:00.000000000",
          "2024-08-19T00:00:00.000000000",
          "2024-08-20T00:00:00.000000000",
          "2024-08-21T00:00:00.000000000",
          "2024-08-22T00:00:00.000000000",
          "2024-08-23T00:00:00.000000000",
          "2024-08-24T00:00:00.000000000",
          "2024-08-25T00:00:00.000000000",
          "2024-08-26T00:00:00.000000000",
          "2024-08-27T00:00:00.000000000",
          "2024-08-28T00:00:00.000000000",
          "2024-08-29T00:00:00.000000000",
          "2024-08-30T00:00:00.000000000",
          "2024-08-31T00:00:00.000000000",
          "2024-09-01T00:00:00.000000000",
          "2024-09-02T00:00:00.000000000",
          "2024-09-03T00:00:00.000000000",
          "2024-09-04T00:00:00.000000000",
          "2024-09-05T00:00:00.000000000",
          "2024-09-06T00:00:00.000000000"
         ],
         "xaxis": "x2",
         "y": {
          "bdata": "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",
          "dtype": "f8"
         },
         "yaxis": "y2"
        },
        {
         "line": {
          "color": "green",
          "dash": "dot",
          "width": 1
         },
         "mode": "lines",
         "name": "Cycle Support",
         "type": "scatter",
         "x": [
          "2024-01-01T00:00:00.000000000",
          "2024-01-02T00:00:00.000000000",
          "2024-01-03T00:00:00.000000000",
          "2024-01-04T00:00:00.000000000",
          "2024-01-05T00:00:00.000000000",
          "2024-01-06T00:00:00.000000000",
          "2024-01-07T00:00:00.000000000",
          "2024-01-08T00:00:00.000000000",
          "2024-01-09T00:00:00.000000000",
          "2024-01-10T00:00:00.000000000",
          "2024-01-11T00:00:00.000000000",
          "2024-01-12T00:00:00.000000000",
          "2024-01-13T00:00:00.000000000",
          "2024-01-14T00:00:00.000000000",
          "2024-01-15T00:00:00.000000000",
          "2024-01-16T00:00:00.000000000",
          "2024-01-17T00:00:00.000000000",
          "2024-01-18T00:00:00.000000000",
          "2024-01-19T00:00:00.000000000",
          "2024-01-20T00:00:00.000000000",
          "2024-01-21T00:00:00.000000000",
          "2024-01-22T00:00:00.000000000",
          "2024-01-23T00:00:00.000000000",
          "2024-01-24T00:00:00.000000000",
          "2024-01-25T00:00:00.000000000",
          "2024-01-26T00:00:00.000000000",
          "2024-01-27T00:00:00.000000000",
          "2024-01-28T00:00:00.000000000",
          "2024-01-29T00:00:00.000000000",
          "2024-01-30T00:00:00.000000000",
          "2024-01-31T00:00:00.000000000",
          "2024-02-01T00:00:00.000000000",
          "2024-02-02T00:00:00.000000000",
          "2024-02-03T00:00:00.000000000",
          "2024-02-04T00:00:00.000000000",
          "2024-02-05T00:00:00.000000000",
          "2024-02-06T00:00:00.000000000",
          "2024-02-07T00:00:00.000000000",
          "2024-02-08T00:00:00.000000000",
          "2024-02-09T00:00:00.000000000",
          "2024-02-10T00:00:00.000000000",
          "2024-02-11T00:00:00.000000000",
          "2024-02-12T00:00:00.000000000",
          "2024-02-13T00:00:00.000000000",
          "2024-02-14T00:00:00.000000000",
          "2024-02-15T00:00:00.000000000",
          "2024-02-16T00:00:00.000000000",
          "2024-02-17T00:00:00.000000000",
          "2024-02-18T00:00:00.000000000",
          "2024-02-19T00:00:00.000000000",
          "2024-02-20T00:00:00.000000000",
          "2024-02-21T00:00:00.000000000",
          "2024-02-22T00:00:00.000000000",
          "2024-02-23T00:00:00.000000000",
          "2024-02-24T00:00:00.000000000",
          "2024-02-25T00:00:00.000000000",
          "2024-02-26T00:00:00.000000000",
          "2024-02-27T00:00:00.000000000",
          "2024-02-28T00:00:00.000000000",
          "2024-02-29T00:00:00.000000000",
          "2024-03-01T00:00:00.000000000",
          "2024-03-02T00:00:00.000000000",
          "2024-03-03T00:00:00.000000000",
          "2024-03-04T00:00:00.000000000",
          "2024-03-05T00:00:00.000000000",
          "2024-03-06T00:00:00.000000000",
          "2024-03-07T00:00:00.000000000",
          "2024-03-08T00:00:00.000000000",
          "2024-03-09T00:00:00.000000000",
          "2024-03-10T00:00:00.000000000",
          "2024-03-11T00:00:00.000000000",
          "2024-03-12T00:00:00.000000000",
          "2024-03-13T00:00:00.000000000",
          "2024-03-14T00:00:00.000000000",
          "2024-03-15T00:00:00.000000000",
          "2024-03-16T00:00:00.000000000",
          "2024-03-17T00:00:00.000000000",
          "2024-03-18T00:00:00.000000000",
          "2024-03-19T00:00:00.000000000",
          "2024-03-20T00:00:00.000000000",
          "2024-03-21T00:00:00.000000000",
          "2024-03-22T00:00:00.000000000",
          "2024-03-23T00:00:00.000000000",
          "2024-03-24T00:00:00.000000000",
          "2024-03-25T00:00:00.000000000",
          "2024-03-26T00:00:00.000000000",
          "2024-03-27T00:00:00.000000000",
          "2024-03-28T00:00:00.000000000",
          "2024-03-29T00:00:00.000000000",
          "2024-03-30T00:00:00.000000000",
          "2024-03-31T00:00:00.000000000",
          "2024-04-01T00:00:00.000000000",
          "2024-04-02T00:00:00.000000000",
          "2024-04-03T00:00:00.000000000",
          "2024-04-04T00:00:00.000000000",
          "2024-04-05T00:00:00.000000000",
          "2024-04-06T00:00:00.000000000",
          "2024-04-07T00:00:00.000000000",
          "2024-04-08T00:00:00.000000000",
          "2024-04-09T00:00:00.000000000",
          "2024-04-10T00:00:00.000000000",
          "2024-04-11T00:00:00.000000000",
          "2024-04-12T00:00:00.000000000",
          "2024-04-13T00:00:00.000000000",
          "2024-04-14T00:00:00.000000000",
          "2024-04-15T00:00:00.000000000",
          "2024-04-16T00:00:00.000000000",
          "2024-04-17T00:00:00.000000000",
          "2024-04-18T00:00:00.000000000",
          "2024-04-19T00:00:00.000000000",
          "2024-04-20T00:00:00.000000000",
          "2024-04-21T00:00:00.000000000",
          "2024-04-22T00:00:00.000000000",
          "2024-04-23T00:00:00.000000000",
          "2024-04-24T00:00:00.000000000",
          "2024-04-25T00:00:00.000000000",
          "2024-04-26T00:00:00.000000000",
          "2024-04-27T00:00:00.000000000",
          "2024-04-28T00:00:00.000000000",
          "2024-04-29T00:00:00.000000000",
          "2024-04-30T00:00:00.000000000",
          "2024-05-01T00:00:00.000000000",
          "2024-05-02T00:00:00.000000000",
          "2024-05-03T00:00:00.000000000",
          "2024-05-04T00:00:00.000000000",
          "2024-05-05T00:00:00.000000000",
          "2024-05-06T00:00:00.000000000",
          "2024-05-07T00:00:00.000000000",
          "2024-05-08T00:00:00.000000000",
          "2024-05-09T00:00:00.000000000",
          "2024-05-10T00:00:00.000000000",
          "2024-05-11T00:00:00.000000000",
          "2024-05-12T00:00:00.000000000",
          "2024-05-13T00:00:00.000000000",
          "2024-05-14T00:00:00.000000000",
          "2024-05-15T00:00:00.000000000",
          "2024-05-16T00:00:00.000000000",
          "2024-05-17T00:00:00.000000000",
          "2024-05-18T00:00:00.000000000",
          "2024-05-19T00:00:00.000000000",
          "2024-05-20T00:00:00.000000000",
          "2024-05-21T00:00:00.000000000",
          "2024-05-22T00:00:00.000000000",
          "2024-05-23T00:00:00.000000000",
          "2024-05-24T00:00:00.000000000",
          "2024-05-25T00:00:00.000000000",
          "2024-05-26T00:00:00.000000000",
          "2024-05-27T00:00:00.000000000",
          "2024-05-28T00:00:00.000000000",
          "2024-05-29T00:00:00.000000000",
          "2024-05-30T00:00:00.000000000",
          "2024-05-31T00:00:00.000000000",
          "2024-06-01T00:00:00.000000000",
          "2024-06-02T00:00:00.000000000",
          "2024-06-03T00:00:00.000000000",
          "2024-06-04T00:00:00.000000000",
          "2024-06-05T00:00:00.000000000",
          "2024-06-06T00:00:00.000000000",
          "2024-06-07T00:00:00.000000000",
          "2024-06-08T00:00:00.000000000",
          "2024-06-09T00:00:00.000000000",
          "2024-06-10T00:00:00.000000000",
          "2024-06-11T00:00:00.000000000",
          "2024-06-12T00:00:00.000000000",
          "2024-06-13T00:00:00.000000000",
          "2024-06-14T00:00:00.000000000",
          "2024-06-15T00:00:00.000000000",
          "2024-06-16T00:00:00.000000000",
          "2024-06-17T00:00:00.000000000",
          "2024-06-18T00:00:00.000000000",
          "2024-06-19T00:00:00.000000000",
          "2024-06-20T00:00:00.000000000",
          "2024-06-21T00:00:00.000000000",
          "2024-06-22T00:00:00.000000000",
          "2024-06-23T00:00:00.000000000",
          "2024-06-24T00:00:00.000000000",
          "2024-06-25T00:00:00.000000000",
          "2024-06-26T00:00:00.000000000",
          "2024-06-27T00:00:00.000000000",
          "2024-06-28T00:00:00.000000000",
          "2024-06-29T00:00:00.000000000",
          "2024-06-30T00:00:00.000000000",
          "2024-07-01T00:00:00.000000000",
          "2024-07-02T00:00:00.000000000",
          "2024-07-03T00:00:00.000000000",
          "2024-07-04T00:00:00.000000000",
          "2024-07-05T00:00:00.000000000",
          "2024-07-06T00:00:00.000000000",
          "2024-07-07T00:00:00.000000000",
          "2024-07-08T00:00:00.000000000",
          "2024-07-09T00:00:00.000000000",
          "2024-07-10T00:00:00.000000000",
          "2024-07-11T00:00:00.000000000",
          "2024-07-12T00:00:00.000000000",
          "2024-07-13T00:00:00.000000000",
          "2024-07-14T00:00:00.000000000",
          "2024-07-15T00:00:00.000000000",
          "2024-07-16T00:00:00.000000000",
          "2024-07-17T00:00:00.000000000",
          "2024-07-18T00:00:00.000000000",
          "2024-07-19T00:00:00.000000000",
          "2024-07-20T00:00:00.000000000",
          "2024-07-21T00:00:00.000000000",
          "2024-07-22T00:00:00.000000000",
          "2024-07-23T00:00:00.000000000",
          "2024-07-24T00:00:00.000000000",
          "2024-07-25T00:00:00.000000000",
          "2024-07-26T00:00:00.000000000",
          "2024-07-27T00:00:00.000000000",
          "2024-07-28T00:00:00.000000000",
          "2024-07-29T00:00:00.000000000",
          "2024-07-30T00:00:00.000000000",
          "2024-07-31T00:00:00.000000000",
          "2024-08-01T00:00:00.000000000",
          "2024-08-02T00:00:00.000000000",
          "2024-08-03T00:00:00.000000000",
          "2024-08-04T00:00:00.000000000",
          "2024-08-05T00:00:00.000000000",
          "2024-08-06T00:00:00.000000000",
          "2024-08-07T00:00:00.000000000",
          "2024-08-08T00:00:00.000000000",
          "2024-08-09T00:00:00.000000000",
          "2024-08-10T00:00:00.000000000",
          "2024-08-11T00:00:00.000000000",
          "2024-08-12T00:00:00.000000000",
          "2024-08-13T00:00:00.000000000",
          "2024-08-14T00:00:00.000000000",
          "2024-08-15T00:00:00.000000000",
          "2024-08-16T00:00:00.000000000",
          "2024-08-17T00:00:00.000000000",
          "2024-08-18T00:00:00.000000000",
          "2024-08-19T00:00:00.000000000",
          "2024-08-20T00:00:00.000000000",
          "2024-08-21T00:00:00.000000000",
          "2024-08-22T00:00:00.000000000",
          "2024-08-23T00:00:00.000000000",
          "2024-08-24T00:00:00.000000000",
          "2024-08-25T00:00:00.000000000",
          "2024-08-26T00:00:00.000000000",
          "2024-08-27T00:00:00.000000000",
          "2024-08-28T00:00:00.000000000",
          "2024-08-29T00:00:00.000000000",
          "2024-08-30T00:00:00.000000000",
          "2024-08-31T00:00:00.000000000",
          "2024-09-01T00:00:00.000000000",
          "2024-09-02T00:00:00.000000000",
          "2024-09-03T00:00:00.000000000",
          "2024-09-04T00:00:00.000000000",
          "2024-09-05T00:00:00.000000000",
          "2024-09-06T00:00:00.000000000"
         ],
         "xaxis": "x2",
         "y": {
          "bdata": "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",
          "dtype": "f8"
         },
         "yaxis": "y2"
        },
        {
         "line": {
          "color": "orange",
          "dash": "dash",
          "width": 2
         },
         "mode": "lines",
         "name": "Cycle Midline",
         "type": "scatter",
         "x": [
          "2024-01-01T00:00:00.000000000",
          "2024-01-02T00:00:00.000000000",
          "2024-01-03T00:00:00.000000000",
          "2024-01-04T00:00:00.000000000",
          "2024-01-05T00:00:00.000000000",
          "2024-01-06T00:00:00.000000000",
          "2024-01-07T00:00:00.000000000",
          "2024-01-08T00:00:00.000000000",
          "2024-01-09T00:00:00.000000000",
          "2024-01-10T00:00:00.000000000",
          "2024-01-11T00:00:00.000000000",
          "2024-01-12T00:00:00.000000000",
          "2024-01-13T00:00:00.000000000",
          "2024-01-14T00:00:00.000000000",
          "2024-01-15T00:00:00.000000000",
          "2024-01-16T00:00:00.000000000",
          "2024-01-17T00:00:00.000000000",
          "2024-01-18T00:00:00.000000000",
          "2024-01-19T00:00:00.000000000",
          "2024-01-20T00:00:00.000000000",
          "2024-01-21T00:00:00.000000000",
          "2024-01-22T00:00:00.000000000",
          "2024-01-23T00:00:00.000000000",
          "2024-01-24T00:00:00.000000000",
          "2024-01-25T00:00:00.000000000",
          "2024-01-26T00:00:00.000000000",
          "2024-01-27T00:00:00.000000000",
          "2024-01-28T00:00:00.000000000",
          "2024-01-29T00:00:00.000000000",
          "2024-01-30T00:00:00.000000000",
          "2024-01-31T00:00:00.000000000",
          "2024-02-01T00:00:00.000000000",
          "2024-02-02T00:00:00.000000000",
          "2024-02-03T00:00:00.000000000",
          "2024-02-04T00:00:00.000000000",
          "2024-02-05T00:00:00.000000000",
          "2024-02-06T00:00:00.000000000",
          "2024-02-07T00:00:00.000000000",
          "2024-02-08T00:00:00.000000000",
          "2024-02-09T00:00:00.000000000",
          "2024-02-10T00:00:00.000000000",
          "2024-02-11T00:00:00.000000000",
          "2024-02-12T00:00:00.000000000",
          "2024-02-13T00:00:00.000000000",
          "2024-02-14T00:00:00.000000000",
          "2024-02-15T00:00:00.000000000",
          "2024-02-16T00:00:00.000000000",
          "2024-02-17T00:00:00.000000000",
          "2024-02-18T00:00:00.000000000",
          "2024-02-19T00:00:00.000000000",
          "2024-02-20T00:00:00.000000000",
          "2024-02-21T00:00:00.000000000",
          "2024-02-22T00:00:00.000000000",
          "2024-02-23T00:00:00.000000000",
          "2024-02-24T00:00:00.000000000",
          "2024-02-25T00:00:00.000000000",
          "2024-02-26T00:00:00.000000000",
          "2024-02-27T00:00:00.000000000",
          "2024-02-28T00:00:00.000000000",
          "2024-02-29T00:00:00.000000000",
          "2024-03-01T00:00:00.000000000",
          "2024-03-02T00:00:00.000000000",
          "2024-03-03T00:00:00.000000000",
          "2024-03-04T00:00:00.000000000",
          "2024-03-05T00:00:00.000000000",
          "2024-03-06T00:00:00.000000000",
          "2024-03-07T00:00:00.000000000",
          "2024-03-08T00:00:00.000000000",
          "2024-03-09T00:00:00.000000000",
          "2024-03-10T00:00:00.000000000",
          "2024-03-11T00:00:00.000000000",
          "2024-03-12T00:00:00.000000000",
          "2024-03-13T00:00:00.000000000",
          "2024-03-14T00:00:00.000000000",
          "2024-03-15T00:00:00.000000000",
          "2024-03-16T00:00:00.000000000",
          "2024-03-17T00:00:00.000000000",
          "2024-03-18T00:00:00.000000000",
          "2024-03-19T00:00:00.000000000",
          "2024-03-20T00:00:00.000000000",
          "2024-03-21T00:00:00.000000000",
          "2024-03-22T00:00:00.000000000",
          "2024-03-23T00:00:00.000000000",
          "2024-03-24T00:00:00.000000000",
          "2024-03-25T00:00:00.000000000",
          "2024-03-26T00:00:00.000000000",
          "2024-03-27T00:00:00.000000000",
          "2024-03-28T00:00:00.000000000",
          "2024-03-29T00:00:00.000000000",
          "2024-03-30T00:00:00.000000000",
          "2024-03-31T00:00:00.000000000",
          "2024-04-01T00:00:00.000000000",
          "2024-04-02T00:00:00.000000000",
          "2024-04-03T00:00:00.000000000",
          "2024-04-04T00:00:00.000000000",
          "2024-04-05T00:00:00.000000000",
          "2024-04-06T00:00:00.000000000",
          "2024-04-07T00:00:00.000000000",
          "2024-04-08T00:00:00.000000000",
          "2024-04-09T00:00:00.000000000",
          "2024-04-10T00:00:00.000000000",
          "2024-04-11T00:00:00.000000000",
          "2024-04-12T00:00:00.000000000",
          "2024-04-13T00:00:00.000000000",
          "2024-04-14T00:00:00.000000000",
          "2024-04-15T00:00:00.000000000",
          "2024-04-16T00:00:00.000000000",
          "2024-04-17T00:00:00.000000000",
          "2024-04-18T00:00:00.000000000",
          "2024-04-19T00:00:00.000000000",
          "2024-04-20T00:00:00.000000000",
          "2024-04-21T00:00:00.000000000",
          "2024-04-22T00:00:00.000000000",
          "2024-04-23T00:00:00.000000000",
          "2024-04-24T00:00:00.000000000",
          "2024-04-25T00:00:00.000000000",
          "2024-04-26T00:00:00.000000000",
          "2024-04-27T00:00:00.000000000",
          "2024-04-28T00:00:00.000000000",
          "2024-04-29T00:00:00.000000000",
          "2024-04-30T00:00:00.000000000",
          "2024-05-01T00:00:00.000000000",
          "2024-05-02T00:00:00.000000000",
          "2024-05-03T00:00:00.000000000",
          "2024-05-04T00:00:00.000000000",
          "2024-05-05T00:00:00.000000000",
          "2024-05-06T00:00:00.000000000",
          "2024-05-07T00:00:00.000000000",
          "2024-05-08T00:00:00.000000000",
          "2024-05-09T00:00:00.000000000",
          "2024-05-10T00:00:00.000000000",
          "2024-05-11T00:00:00.000000000",
          "2024-05-12T00:00:00.000000000",
          "2024-05-13T00:00:00.000000000",
          "2024-05-14T00:00:00.000000000",
          "2024-05-15T00:00:00.000000000",
          "2024-05-16T00:00:00.000000000",
          "2024-05-17T00:00:00.000000000",
          "2024-05-18T00:00:00.000000000",
          "2024-05-19T00:00:00.000000000",
          "2024-05-20T00:00:00.000000000",
          "2024-05-21T00:00:00.000000000",
          "2024-05-22T00:00:00.000000000",
          "2024-05-23T00:00:00.000000000",
          "2024-05-24T00:00:00.000000000",
          "2024-05-25T00:00:00.000000000",
          "2024-05-26T00:00:00.000000000",
          "2024-05-27T00:00:00.000000000",
          "2024-05-28T00:00:00.000000000",
          "2024-05-29T00:00:00.000000000",
          "2024-05-30T00:00:00.000000000",
          "2024-05-31T00:00:00.000000000",
          "2024-06-01T00:00:00.000000000",
          "2024-06-02T00:00:00.000000000",
          "2024-06-03T00:00:00.000000000",
          "2024-06-04T00:00:00.000000000",
          "2024-06-05T00:00:00.000000000",
          "2024-06-06T00:00:00.000000000",
          "2024-06-07T00:00:00.000000000",
          "2024-06-08T00:00:00.000000000",
          "2024-06-09T00:00:00.000000000",
          "2024-06-10T00:00:00.000000000",
          "2024-06-11T00:00:00.000000000",
          "2024-06-12T00:00:00.000000000",
          "2024-06-13T00:00:00.000000000",
          "2024-06-14T00:00:00.000000000",
          "2024-06-15T00:00:00.000000000",
          "2024-06-16T00:00:00.000000000",
          "2024-06-17T00:00:00.000000000",
          "2024-06-18T00:00:00.000000000",
          "2024-06-19T00:00:00.000000000",
          "2024-06-20T00:00:00.000000000",
          "2024-06-21T00:00:00.000000000",
          "2024-06-22T00:00:00.000000000",
          "2024-06-23T00:00:00.000000000",
          "2024-06-24T00:00:00.000000000",
          "2024-06-25T00:00:00.000000000",
          "2024-06-26T00:00:00.000000000",
          "2024-06-27T00:00:00.000000000",
          "2024-06-28T00:00:00.000000000",
          "2024-06-29T00:00:00.000000000",
          "2024-06-30T00:00:00.000000000",
          "2024-07-01T00:00:00.000000000",
          "2024-07-02T00:00:00.000000000",
          "2024-07-03T00:00:00.000000000",
          "2024-07-04T00:00:00.000000000",
          "2024-07-05T00:00:00.000000000",
          "2024-07-06T00:00:00.000000000",
          "2024-07-07T00:00:00.000000000",
          "2024-07-08T00:00:00.000000000",
          "2024-07-09T00:00:00.000000000",
          "2024-07-10T00:00:00.000000000",
          "2024-07-11T00:00:00.000000000",
          "2024-07-12T00:00:00.000000000",
          "2024-07-13T00:00:00.000000000",
          "2024-07-14T00:00:00.000000000",
          "2024-07-15T00:00:00.000000000",
          "2024-07-16T00:00:00.000000000",
          "2024-07-17T00:00:00.000000000",
          "2024-07-18T00:00:00.000000000",
          "2024-07-19T00:00:00.000000000",
          "2024-07-20T00:00:00.000000000",
          "2024-07-21T00:00:00.000000000",
          "2024-07-22T00:00:00.000000000",
          "2024-07-23T00:00:00.000000000",
          "2024-07-24T00:00:00.000000000",
          "2024-07-25T00:00:00.000000000",
          "2024-07-26T00:00:00.000000000",
          "2024-07-27T00:00:00.000000000",
          "2024-07-28T00:00:00.000000000",
          "2024-07-29T00:00:00.000000000",
          "2024-07-30T00:00:00.000000000",
          "2024-07-31T00:00:00.000000000",
          "2024-08-01T00:00:00.000000000",
          "2024-08-02T00:00:00.000000000",
          "2024-08-03T00:00:00.000000000",
          "2024-08-04T00:00:00.000000000",
          "2024-08-05T00:00:00.000000000",
          "2024-08-06T00:00:00.000000000",
          "2024-08-07T00:00:00.000000000",
          "2024-08-08T00:00:00.000000000",
          "2024-08-09T00:00:00.000000000",
          "2024-08-10T00:00:00.000000000",
          "2024-08-11T00:00:00.000000000",
          "2024-08-12T00:00:00.000000000",
          "2024-08-13T00:00:00.000000000",
          "2024-08-14T00:00:00.000000000",
          "2024-08-15T00:00:00.000000000",
          "2024-08-16T00:00:00.000000000",
          "2024-08-17T00:00:00.000000000",
          "2024-08-18T00:00:00.000000000",
          "2024-08-19T00:00:00.000000000",
          "2024-08-20T00:00:00.000000000",
          "2024-08-21T00:00:00.000000000",
          "2024-08-22T00:00:00.000000000",
          "2024-08-23T00:00:00.000000000",
          "2024-08-24T00:00:00.000000000",
          "2024-08-25T00:00:00.000000000",
          "2024-08-26T00:00:00.000000000",
          "2024-08-27T00:00:00.000000000",
          "2024-08-28T00:00:00.000000000",
          "2024-08-29T00:00:00.000000000",
          "2024-08-30T00:00:00.000000000",
          "2024-08-31T00:00:00.000000000",
          "2024-09-01T00:00:00.000000000",
          "2024-09-02T00:00:00.000000000",
          "2024-09-03T00:00:00.000000000",
          "2024-09-04T00:00:00.000000000",
          "2024-09-05T00:00:00.000000000",
          "2024-09-06T00:00:00.000000000"
         ],
         "xaxis": "x2",
         "y": {
          "bdata": "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",
          "dtype": "f8"
         },
         "yaxis": "y2"
        },
        {
         "line": {
          "color": "purple",
          "width": 2
         },
         "mode": "lines",
         "name": "Combined Sine",
         "type": "scatter",
         "x": [
          "2024-01-01T00:00:00.000000000",
          "2024-01-02T00:00:00.000000000",
          "2024-01-03T00:00:00.000000000",
          "2024-01-04T00:00:00.000000000",
          "2024-01-05T00:00:00.000000000",
          "2024-01-06T00:00:00.000000000",
          "2024-01-07T00:00:00.000000000",
          "2024-01-08T00:00:00.000000000",
          "2024-01-09T00:00:00.000000000",
          "2024-01-10T00:00:00.000000000",
          "2024-01-11T00:00:00.000000000",
          "2024-01-12T00:00:00.000000000",
          "2024-01-13T00:00:00.000000000",
          "2024-01-14T00:00:00.000000000",
          "2024-01-15T00:00:00.000000000",
          "2024-01-16T00:00:00.000000000",
          "2024-01-17T00:00:00.000000000",
          "2024-01-18T00:00:00.000000000",
          "2024-01-19T00:00:00.000000000",
          "2024-01-20T00:00:00.000000000",
          "2024-01-21T00:00:00.000000000",
          "2024-01-22T00:00:00.000000000",
          "2024-01-23T00:00:00.000000000",
          "2024-01-24T00:00:00.000000000",
          "2024-01-25T00:00:00.000000000",
          "2024-01-26T00:00:00.000000000",
          "2024-01-27T00:00:00.000000000",
          "2024-01-28T00:00:00.000000000",
          "2024-01-29T00:00:00.000000000",
          "2024-01-30T00:00:00.000000000",
          "2024-01-31T00:00:00.000000000",
          "2024-02-01T00:00:00.000000000",
          "2024-02-02T00:00:00.000000000",
          "2024-02-03T00:00:00.000000000",
          "2024-02-04T00:00:00.000000000",
          "2024-02-05T00:00:00.000000000",
          "2024-02-06T00:00:00.000000000",
          "2024-02-07T00:00:00.000000000",
          "2024-02-08T00:00:00.000000000",
          "2024-02-09T00:00:00.000000000",
          "2024-02-10T00:00:00.000000000",
          "2024-02-11T00:00:00.000000000",
          "2024-02-12T00:00:00.000000000",
          "2024-02-13T00:00:00.000000000",
          "2024-02-14T00:00:00.000000000",
          "2024-02-15T00:00:00.000000000",
          "2024-02-16T00:00:00.000000000",
          "2024-02-17T00:00:00.000000000",
          "2024-02-18T00:00:00.000000000",
          "2024-02-19T00:00:00.000000000",
          "2024-02-20T00:00:00.000000000",
          "2024-02-21T00:00:00.000000000",
          "2024-02-22T00:00:00.000000000",
          "2024-02-23T00:00:00.000000000",
          "2024-02-24T00:00:00.000000000",
          "2024-02-25T00:00:00.000000000",
          "2024-02-26T00:00:00.000000000",
          "2024-02-27T00:00:00.000000000",
          "2024-02-28T00:00:00.000000000",
          "2024-02-29T00:00:00.000000000",
          "2024-03-01T00:00:00.000000000",
          "2024-03-02T00:00:00.000000000",
          "2024-03-03T00:00:00.000000000",
          "2024-03-04T00:00:00.000000000",
          "2024-03-05T00:00:00.000000000",
          "2024-03-06T00:00:00.000000000",
          "2024-03-07T00:00:00.000000000",
          "2024-03-08T00:00:00.000000000",
          "2024-03-09T00:00:00.000000000",
          "2024-03-10T00:00:00.000000000",
          "2024-03-11T00:00:00.000000000",
          "2024-03-12T00:00:00.000000000",
          "2024-03-13T00:00:00.000000000",
          "2024-03-14T00:00:00.000000000",
          "2024-03-15T00:00:00.000000000",
          "2024-03-16T00:00:00.000000000",
          "2024-03-17T00:00:00.000000000",
          "2024-03-18T00:00:00.000000000",
          "2024-03-19T00:00:00.000000000",
          "2024-03-20T00:00:00.000000000",
          "2024-03-21T00:00:00.000000000",
          "2024-03-22T00:00:00.000000000",
          "2024-03-23T00:00:00.000000000",
          "2024-03-24T00:00:00.000000000",
          "2024-03-25T00:00:00.000000000",
          "2024-03-26T00:00:00.000000000",
          "2024-03-27T00:00:00.000000000",
          "2024-03-28T00:00:00.000000000",
          "2024-03-29T00:00:00.000000000",
          "2024-03-30T00:00:00.000000000",
          "2024-03-31T00:00:00.000000000",
          "2024-04-01T00:00:00.000000000",
          "2024-04-02T00:00:00.000000000",
          "2024-04-03T00:00:00.000000000",
          "2024-04-04T00:00:00.000000000",
          "2024-04-05T00:00:00.000000000",
          "2024-04-06T00:00:00.000000000",
          "2024-04-07T00:00:00.000000000",
          "2024-04-08T00:00:00.000000000",
          "2024-04-09T00:00:00.000000000",
          "2024-04-10T00:00:00.000000000",
          "2024-04-11T00:00:00.000000000",
          "2024-04-12T00:00:00.000000000",
          "2024-04-13T00:00:00.000000000",
          "2024-04-14T00:00:00.000000000",
          "2024-04-15T00:00:00.000000000",
          "2024-04-16T00:00:00.000000000",
          "2024-04-17T00:00:00.000000000",
          "2024-04-18T00:00:00.000000000",
          "2024-04-19T00:00:00.000000000",
          "2024-04-20T00:00:00.000000000",
          "2024-04-21T00:00:00.000000000",
          "2024-04-22T00:00:00.000000000",
          "2024-04-23T00:00:00.000000000",
          "2024-04-24T00:00:00.000000000",
          "2024-04-25T00:00:00.000000000",
          "2024-04-26T00:00:00.000000000",
          "2024-04-27T00:00:00.000000000",
          "2024-04-28T00:00:00.000000000",
          "2024-04-29T00:00:00.000000000",
          "2024-04-30T00:00:00.000000000",
          "2024-05-01T00:00:00.000000000",
          "2024-05-02T00:00:00.000000000",
          "2024-05-03T00:00:00.000000000",
          "2024-05-04T00:00:00.000000000",
          "2024-05-05T00:00:00.000000000",
          "2024-05-06T00:00:00.000000000",
          "2024-05-07T00:00:00.000000000",
          "2024-05-08T00:00:00.000000000",
          "2024-05-09T00:00:00.000000000",
          "2024-05-10T00:00:00.000000000",
          "2024-05-11T00:00:00.000000000",
          "2024-05-12T00:00:00.000000000",
          "2024-05-13T00:00:00.000000000",
          "2024-05-14T00:00:00.000000000",
          "2024-05-15T00:00:00.000000000",
          "2024-05-16T00:00:00.000000000",
          "2024-05-17T00:00:00.000000000",
          "2024-05-18T00:00:00.000000000",
          "2024-05-19T00:00:00.000000000",
          "2024-05-20T00:00:00.000000000",
          "2024-05-21T00:00:00.000000000",
          "2024-05-22T00:00:00.000000000",
          "2024-05-23T00:00:00.000000000",
          "2024-05-24T00:00:00.000000000",
          "2024-05-25T00:00:00.000000000",
          "2024-05-26T00:00:00.000000000",
          "2024-05-27T00:00:00.000000000",
          "2024-05-28T00:00:00.000000000",
          "2024-05-29T00:00:00.000000000",
          "2024-05-30T00:00:00.000000000",
          "2024-05-31T00:00:00.000000000",
          "2024-06-01T00:00:00.000000000",
          "2024-06-02T00:00:00.000000000",
          "2024-06-03T00:00:00.000000000",
          "2024-06-04T00:00:00.000000000",
          "2024-06-05T00:00:00.000000000",
          "2024-06-06T00:00:00.000000000",
          "2024-06-07T00:00:00.000000000",
          "2024-06-08T00:00:00.000000000",
          "2024-06-09T00:00:00.000000000",
          "2024-06-10T00:00:00.000000000",
          "2024-06-11T00:00:00.000000000",
          "2024-06-12T00:00:00.000000000",
          "2024-06-13T00:00:00.000000000",
          "2024-06-14T00:00:00.000000000",
          "2024-06-15T00:00:00.000000000",
          "2024-06-16T00:00:00.000000000",
          "2024-06-17T00:00:00.000000000",
          "2024-06-18T00:00:00.000000000",
          "2024-06-19T00:00:00.000000000",
          "2024-06-20T00:00:00.000000000",
          "2024-06-21T00:00:00.000000000",
          "2024-06-22T00:00:00.000000000",
          "2024-06-23T00:00:00.000000000",
          "2024-06-24T00:00:00.000000000",
          "2024-06-25T00:00:00.000000000",
          "2024-06-26T00:00:00.000000000",
          "2024-06-27T00:00:00.000000000",
          "2024-06-28T00:00:00.000000000",
          "2024-06-29T00:00:00.000000000",
          "2024-06-30T00:00:00.000000000",
          "2024-07-01T00:00:00.000000000",
          "2024-07-02T00:00:00.000000000",
          "2024-07-03T00:00:00.000000000",
          "2024-07-04T00:00:00.000000000",
          "2024-07-05T00:00:00.000000000",
          "2024-07-06T00:00:00.000000000",
          "2024-07-07T00:00:00.000000000",
          "2024-07-08T00:00:00.000000000",
          "2024-07-09T00:00:00.000000000",
          "2024-07-10T00:00:00.000000000",
          "2024-07-11T00:00:00.000000000",
          "2024-07-12T00:00:00.000000000",
          "2024-07-13T00:00:00.000000000",
          "2024-07-14T00:00:00.000000000",
          "2024-07-15T00:00:00.000000000",
          "2024-07-16T00:00:00.000000000",
          "2024-07-17T00:00:00.000000000",
          "2024-07-18T00:00:00.000000000",
          "2024-07-19T00:00:00.000000000",
          "2024-07-20T00:00:00.000000000",
          "2024-07-21T00:00:00.000000000",
          "2024-07-22T00:00:00.000000000",
          "2024-07-23T00:00:00.000000000",
          "2024-07-24T00:00:00.000000000",
          "2024-07-25T00:00:00.000000000",
          "2024-07-26T00:00:00.000000000",
          "2024-07-27T00:00:00.000000000",
          "2024-07-28T00:00:00.000000000",
          "2024-07-29T00:00:00.000000000",
          "2024-07-30T00:00:00.000000000",
          "2024-07-31T00:00:00.000000000",
          "2024-08-01T00:00:00.000000000",
          "2024-08-02T00:00:00.000000000",
          "2024-08-03T00:00:00.000000000",
          "2024-08-04T00:00:00.000000000",
          "2024-08-05T00:00:00.000000000",
          "2024-08-06T00:00:00.000000000",
          "2024-08-07T00:00:00.000000000",
          "2024-08-08T00:00:00.000000000",
          "2024-08-09T00:00:00.000000000",
          "2024-08-10T00:00:00.000000000",
          "2024-08-11T00:00:00.000000000",
          "2024-08-12T00:00:00.000000000",
          "2024-08-13T00:00:00.000000000",
          "2024-08-14T00:00:00.000000000",
          "2024-08-15T00:00:00.000000000",
          "2024-08-16T00:00:00.000000000",
          "2024-08-17T00:00:00.000000000",
          "2024-08-18T00:00:00.000000000",
          "2024-08-19T00:00:00.000000000",
          "2024-08-20T00:00:00.000000000",
          "2024-08-21T00:00:00.000000000",
          "2024-08-22T00:00:00.000000000",
          "2024-08-23T00:00:00.000000000",
          "2024-08-24T00:00:00.000000000",
          "2024-08-25T00:00:00.000000000",
          "2024-08-26T00:00:00.000000000",
          "2024-08-27T00:00:00.000000000",
          "2024-08-28T00:00:00.000000000",
          "2024-08-29T00:00:00.000000000",
          "2024-08-30T00:00:00.000000000",
          "2024-08-31T00:00:00.000000000",
          "2024-09-01T00:00:00.000000000",
          "2024-09-02T00:00:00.000000000",
          "2024-09-03T00:00:00.000000000",
          "2024-09-04T00:00:00.000000000",
          "2024-09-05T00:00:00.000000000",
          "2024-09-06T00:00:00.000000000"
         ],
         "xaxis": "x3",
         "y": {
          "bdata": "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",
          "dtype": "f8"
         },
         "yaxis": "y3"
        },
        {
         "line": {
          "color": "red",
          "dash": "dot",
          "width": 1
         },
         "mode": "lines",
         "name": "20-day cycle",
         "opacity": 0.7,
         "type": "scatter",
         "x": [
          "2024-01-01T00:00:00.000000000",
          "2024-01-02T00:00:00.000000000",
          "2024-01-03T00:00:00.000000000",
          "2024-01-04T00:00:00.000000000",
          "2024-01-05T00:00:00.000000000",
          "2024-01-06T00:00:00.000000000",
          "2024-01-07T00:00:00.000000000",
          "2024-01-08T00:00:00.000000000",
          "2024-01-09T00:00:00.000000000",
          "2024-01-10T00:00:00.000000000",
          "2024-01-11T00:00:00.000000000",
          "2024-01-12T00:00:00.000000000",
          "2024-01-13T00:00:00.000000000",
          "2024-01-14T00:00:00.000000000",
          "2024-01-15T00:00:00.000000000",
          "2024-01-16T00:00:00.000000000",
          "2024-01-17T00:00:00.000000000",
          "2024-01-18T00:00:00.000000000",
          "2024-01-19T00:00:00.000000000",
          "2024-01-20T00:00:00.000000000",
          "2024-01-21T00:00:00.000000000",
          "2024-01-22T00:00:00.000000000",
          "2024-01-23T00:00:00.000000000",
          "2024-01-24T00:00:00.000000000",
          "2024-01-25T00:00:00.000000000",
          "2024-01-26T00:00:00.000000000",
          "2024-01-27T00:00:00.000000000",
          "2024-01-28T00:00:00.000000000",
          "2024-01-29T00:00:00.000000000",
          "2024-01-30T00:00:00.000000000",
          "2024-01-31T00:00:00.000000000",
          "2024-02-01T00:00:00.000000000",
          "2024-02-02T00:00:00.000000000",
          "2024-02-03T00:00:00.000000000",
          "2024-02-04T00:00:00.000000000",
          "2024-02-05T00:00:00.000000000",
          "2024-02-06T00:00:00.000000000",
          "2024-02-07T00:00:00.000000000",
          "2024-02-08T00:00:00.000000000",
          "2024-02-09T00:00:00.000000000",
          "2024-02-10T00:00:00.000000000",
          "2024-02-11T00:00:00.000000000",
          "2024-02-12T00:00:00.000000000",
          "2024-02-13T00:00:00.000000000",
          "2024-02-14T00:00:00.000000000",
          "2024-02-15T00:00:00.000000000",
          "2024-02-16T00:00:00.000000000",
          "2024-02-17T00:00:00.000000000",
          "2024-02-18T00:00:00.000000000",
          "2024-02-19T00:00:00.000000000",
          "2024-02-20T00:00:00.000000000",
          "2024-02-21T00:00:00.000000000",
          "2024-02-22T00:00:00.000000000",
          "2024-02-23T00:00:00.000000000",
          "2024-02-24T00:00:00.000000000",
          "2024-02-25T00:00:00.000000000",
          "2024-02-26T00:00:00.000000000",
          "2024-02-27T00:00:00.000000000",
          "2024-02-28T00:00:00.000000000",
          "2024-02-29T00:00:00.000000000",
          "2024-03-01T00:00:00.000000000",
          "2024-03-02T00:00:00.000000000",
          "2024-03-03T00:00:00.000000000",
          "2024-03-04T00:00:00.000000000",
          "2024-03-05T00:00:00.000000000",
          "2024-03-06T00:00:00.000000000",
          "2024-03-07T00:00:00.000000000",
          "2024-03-08T00:00:00.000000000",
          "2024-03-09T00:00:00.000000000",
          "2024-03-10T00:00:00.000000000",
          "2024-03-11T00:00:00.000000000",
          "2024-03-12T00:00:00.000000000",
          "2024-03-13T00:00:00.000000000",
          "2024-03-14T00:00:00.000000000",
          "2024-03-15T00:00:00.000000000",
          "2024-03-16T00:00:00.000000000",
          "2024-03-17T00:00:00.000000000",
          "2024-03-18T00:00:00.000000000",
          "2024-03-19T00:00:00.000000000",
          "2024-03-20T00:00:00.000000000",
          "2024-03-21T00:00:00.000000000",
          "2024-03-22T00:00:00.000000000",
          "2024-03-23T00:00:00.000000000",
          "2024-03-24T00:00:00.000000000",
          "2024-03-25T00:00:00.000000000",
          "2024-03-26T00:00:00.000000000",
          "2024-03-27T00:00:00.000000000",
          "2024-03-28T00:00:00.000000000",
          "2024-03-29T00:00:00.000000000",
          "2024-03-30T00:00:00.000000000",
          "2024-03-31T00:00:00.000000000",
          "2024-04-01T00:00:00.000000000",
          "2024-04-02T00:00:00.000000000",
          "2024-04-03T00:00:00.000000000",
          "2024-04-04T00:00:00.000000000",
          "2024-04-05T00:00:00.000000000",
          "2024-04-06T00:00:00.000000000",
          "2024-04-07T00:00:00.000000000",
          "2024-04-08T00:00:00.000000000",
          "2024-04-09T00:00:00.000000000",
          "2024-04-10T00:00:00.000000000",
          "2024-04-11T00:00:00.000000000",
          "2024-04-12T00:00:00.000000000",
          "2024-04-13T00:00:00.000000000",
          "2024-04-14T00:00:00.000000000",
          "2024-04-15T00:00:00.000000000",
          "2024-04-16T00:00:00.000000000",
          "2024-04-17T00:00:00.000000000",
          "2024-04-18T00:00:00.000000000",
          "2024-04-19T00:00:00.000000000",
          "2024-04-20T00:00:00.000000000",
          "2024-04-21T00:00:00.000000000",
          "2024-04-22T00:00:00.000000000",
          "2024-04-23T00:00:00.000000000",
          "2024-04-24T00:00:00.000000000",
          "2024-04-25T00:00:00.000000000",
          "2024-04-26T00:00:00.000000000",
          "2024-04-27T00:00:00.000000000",
          "2024-04-28T00:00:00.000000000",
          "2024-04-29T00:00:00.000000000",
          "2024-04-30T00:00:00.000000000",
          "2024-05-01T00:00:00.000000000",
          "2024-05-02T00:00:00.000000000",
          "2024-05-03T00:00:00.000000000",
          "2024-05-04T00:00:00.000000000",
          "2024-05-05T00:00:00.000000000",
          "2024-05-06T00:00:00.000000000",
          "2024-05-07T00:00:00.000000000",
          "2024-05-08T00:00:00.000000000",
          "2024-05-09T00:00:00.000000000",
          "2024-05-10T00:00:00.000000000",
          "2024-05-11T00:00:00.000000000",
          "2024-05-12T00:00:00.000000000",
          "2024-05-13T00:00:00.000000000",
          "2024-05-14T00:00:00.000000000",
          "2024-05-15T00:00:00.000000000",
          "2024-05-16T00:00:00.000000000",
          "2024-05-17T00:00:00.000000000",
          "2024-05-18T00:00:00.000000000",
          "2024-05-19T00:00:00.000000000",
          "2024-05-20T00:00:00.000000000",
          "2024-05-21T00:00:00.000000000",
          "2024-05-22T00:00:00.000000000",
          "2024-05-23T00:00:00.000000000",
          "2024-05-24T00:00:00.000000000",
          "2024-05-25T00:00:00.000000000",
          "2024-05-26T00:00:00.000000000",
          "2024-05-27T00:00:00.000000000",
          "2024-05-28T00:00:00.000000000",
          "2024-05-29T00:00:00.000000000",
          "2024-05-30T00:00:00.000000000",
          "2024-05-31T00:00:00.000000000",
          "2024-06-01T00:00:00.000000000",
          "2024-06-02T00:00:00.000000000",
          "2024-06-03T00:00:00.000000000",
          "2024-06-04T00:00:00.000000000",
          "2024-06-05T00:00:00.000000000",
          "2024-06-06T00:00:00.000000000",
          "2024-06-07T00:00:00.000000000",
          "2024-06-08T00:00:00.000000000",
          "2024-06-09T00:00:00.000000000",
          "2024-06-10T00:00:00.000000000",
          "2024-06-11T00:00:00.000000000",
          "2024-06-12T00:00:00.000000000",
          "2024-06-13T00:00:00.000000000",
          "2024-06-14T00:00:00.000000000",
          "2024-06-15T00:00:00.000000000",
          "2024-06-16T00:00:00.000000000",
          "2024-06-17T00:00:00.000000000",
          "2024-06-18T00:00:00.000000000",
          "2024-06-19T00:00:00.000000000",
          "2024-06-20T00:00:00.000000000",
          "2024-06-21T00:00:00.000000000",
          "2024-06-22T00:00:00.000000000",
          "2024-06-23T00:00:00.000000000",
          "2024-06-24T00:00:00.000000000",
          "2024-06-25T00:00:00.000000000",
          "2024-06-26T00:00:00.000000000",
          "2024-06-27T00:00:00.000000000",
          "2024-06-28T00:00:00.000000000",
          "2024-06-29T00:00:00.000000000",
          "2024-06-30T00:00:00.000000000",
          "2024-07-01T00:00:00.000000000",
          "2024-07-02T00:00:00.000000000",
          "2024-07-03T00:00:00.000000000",
          "2024-07-04T00:00:00.000000000",
          "2024-07-05T00:00:00.000000000",
          "2024-07-06T00:00:00.000000000",
          "2024-07-07T00:00:00.000000000",
          "2024-07-08T00:00:00.000000000",
          "2024-07-09T00:00:00.000000000",
          "2024-07-10T00:00:00.000000000",
          "2024-07-11T00:00:00.000000000",
          "2024-07-12T00:00:00.000000000",
          "2024-07-13T00:00:00.000000000",
          "2024-07-14T00:00:00.000000000",
          "2024-07-15T00:00:00.000000000",
          "2024-07-16T00:00:00.000000000",
          "2024-07-17T00:00:00.000000000",
          "2024-07-18T00:00:00.000000000",
          "2024-07-19T00:00:00.000000000",
          "2024-07-20T00:00:00.000000000",
          "2024-07-21T00:00:00.000000000",
          "2024-07-22T00:00:00.000000000",
          "2024-07-23T00:00:00.000000000",
          "2024-07-24T00:00:00.000000000",
          "2024-07-25T00:00:00.000000000",
          "2024-07-26T00:00:00.000000000",
          "2024-07-27T00:00:00.000000000",
          "2024-07-28T00:00:00.000000000",
          "2024-07-29T00:00:00.000000000",
          "2024-07-30T00:00:00.000000000",
          "2024-07-31T00:00:00.000000000",
          "2024-08-01T00:00:00.000000000",
          "2024-08-02T00:00:00.000000000",
          "2024-08-03T00:00:00.000000000",
          "2024-08-04T00:00:00.000000000",
          "2024-08-05T00:00:00.000000000",
          "2024-08-06T00:00:00.000000000",
          "2024-08-07T00:00:00.000000000",
          "2024-08-08T00:00:00.000000000",
          "2024-08-09T00:00:00.000000000",
          "2024-08-10T00:00:00.000000000",
          "2024-08-11T00:00:00.000000000",
          "2024-08-12T00:00:00.000000000",
          "2024-08-13T00:00:00.000000000",
          "2024-08-14T00:00:00.000000000",
          "2024-08-15T00:00:00.000000000",
          "2024-08-16T00:00:00.000000000",
          "2024-08-17T00:00:00.000000000",
          "2024-08-18T00:00:00.000000000",
          "2024-08-19T00:00:00.000000000",
          "2024-08-20T00:00:00.000000000",
          "2024-08-21T00:00:00.000000000",
          "2024-08-22T00:00:00.000000000",
          "2024-08-23T00:00:00.000000000",
          "2024-08-24T00:00:00.000000000",
          "2024-08-25T00:00:00.000000000",
          "2024-08-26T00:00:00.000000000",
          "2024-08-27T00:00:00.000000000",
          "2024-08-28T00:00:00.000000000",
          "2024-08-29T00:00:00.000000000",
          "2024-08-30T00:00:00.000000000",
          "2024-08-31T00:00:00.000000000",
          "2024-09-01T00:00:00.000000000",
          "2024-09-02T00:00:00.000000000",
          "2024-09-03T00:00:00.000000000",
          "2024-09-04T00:00:00.000000000",
          "2024-09-05T00:00:00.000000000",
          "2024-09-06T00:00:00.000000000"
         ],
         "xaxis": "x3",
         "y": {
          "bdata": "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",
          "dtype": "f8"
         },
         "yaxis": "y3"
        },
        {
         "line": {
          "color": "blue",
          "dash": "dot",
          "width": 1
         },
         "mode": "lines",
         "name": "50-day cycle",
         "opacity": 0.7,
         "type": "scatter",
         "x": [
          "2024-01-01T00:00:00.000000000",
          "2024-01-02T00:00:00.000000000",
          "2024-01-03T00:00:00.000000000",
          "2024-01-04T00:00:00.000000000",
          "2024-01-05T00:00:00.000000000",
          "2024-01-06T00:00:00.000000000",
          "2024-01-07T00:00:00.000000000",
          "2024-01-08T00:00:00.000000000",
          "2024-01-09T00:00:00.000000000",
          "2024-01-10T00:00:00.000000000",
          "2024-01-11T00:00:00.000000000",
          "2024-01-12T00:00:00.000000000",
          "2024-01-13T00:00:00.000000000",
          "2024-01-14T00:00:00.000000000",
          "2024-01-15T00:00:00.000000000",
          "2024-01-16T00:00:00.000000000",
          "2024-01-17T00:00:00.000000000",
          "2024-01-18T00:00:00.000000000",
          "2024-01-19T00:00:00.000000000",
          "2024-01-20T00:00:00.000000000",
          "2024-01-21T00:00:00.000000000",
          "2024-01-22T00:00:00.000000000",
          "2024-01-23T00:00:00.000000000",
          "2024-01-24T00:00:00.000000000",
          "2024-01-25T00:00:00.000000000",
          "2024-01-26T00:00:00.000000000",
          "2024-01-27T00:00:00.000000000",
          "2024-01-28T00:00:00.000000000",
          "2024-01-29T00:00:00.000000000",
          "2024-01-30T00:00:00.000000000",
          "2024-01-31T00:00:00.000000000",
          "2024-02-01T00:00:00.000000000",
          "2024-02-02T00:00:00.000000000",
          "2024-02-03T00:00:00.000000000",
          "2024-02-04T00:00:00.000000000",
          "2024-02-05T00:00:00.000000000",
          "2024-02-06T00:00:00.000000000",
          "2024-02-07T00:00:00.000000000",
          "2024-02-08T00:00:00.000000000",
          "2024-02-09T00:00:00.000000000",
          "2024-02-10T00:00:00.000000000",
          "2024-02-11T00:00:00.000000000",
          "2024-02-12T00:00:00.000000000",
          "2024-02-13T00:00:00.000000000",
          "2024-02-14T00:00:00.000000000",
          "2024-02-15T00:00:00.000000000",
          "2024-02-16T00:00:00.000000000",
          "2024-02-17T00:00:00.000000000",
          "2024-02-18T00:00:00.000000000",
          "2024-02-19T00:00:00.000000000",
          "2024-02-20T00:00:00.000000000",
          "2024-02-21T00:00:00.000000000",
          "2024-02-22T00:00:00.000000000",
          "2024-02-23T00:00:00.000000000",
          "2024-02-24T00:00:00.000000000",
          "2024-02-25T00:00:00.000000000",
          "2024-02-26T00:00:00.000000000",
          "2024-02-27T00:00:00.000000000",
          "2024-02-28T00:00:00.000000000",
          "2024-02-29T00:00:00.000000000",
          "2024-03-01T00:00:00.000000000",
          "2024-03-02T00:00:00.000000000",
          "2024-03-03T00:00:00.000000000",
          "2024-03-04T00:00:00.000000000",
          "2024-03-05T00:00:00.000000000",
          "2024-03-06T00:00:00.000000000",
          "2024-03-07T00:00:00.000000000",
          "2024-03-08T00:00:00.000000000",
          "2024-03-09T00:00:00.000000000",
          "2024-03-10T00:00:00.000000000",
          "2024-03-11T00:00:00.000000000",
          "2024-03-12T00:00:00.000000000",
          "2024-03-13T00:00:00.000000000",
          "2024-03-14T00:00:00.000000000",
          "2024-03-15T00:00:00.000000000",
          "2024-03-16T00:00:00.000000000",
          "2024-03-17T00:00:00.000000000",
          "2024-03-18T00:00:00.000000000",
          "2024-03-19T00:00:00.000000000",
          "2024-03-20T00:00:00.000000000",
          "2024-03-21T00:00:00.000000000",
          "2024-03-22T00:00:00.000000000",
          "2024-03-23T00:00:00.000000000",
          "2024-03-24T00:00:00.000000000",
          "2024-03-25T00:00:00.000000000",
          "2024-03-26T00:00:00.000000000",
          "2024-03-27T00:00:00.000000000",
          "2024-03-28T00:00:00.000000000",
          "2024-03-29T00:00:00.000000000",
          "2024-03-30T00:00:00.000000000",
          "2024-03-31T00:00:00.000000000",
          "2024-04-01T00:00:00.000000000",
          "2024-04-02T00:00:00.000000000",
          "2024-04-03T00:00:00.000000000",
          "2024-04-04T00:00:00.000000000",
          "2024-04-05T00:00:00.000000000",
          "2024-04-06T00:00:00.000000000",
          "2024-04-07T00:00:00.000000000",
          "2024-04-08T00:00:00.000000000",
          "2024-04-09T00:00:00.000000000",
          "2024-04-10T00:00:00.000000000",
          "2024-04-11T00:00:00.000000000",
          "2024-04-12T00:00:00.000000000",
          "2024-04-13T00:00:00.000000000",
          "2024-04-14T00:00:00.000000000",
          "2024-04-15T00:00:00.000000000",
          "2024-04-16T00:00:00.000000000",
          "2024-04-17T00:00:00.000000000",
          "2024-04-18T00:00:00.000000000",
          "2024-04-19T00:00:00.000000000",
          "2024-04-20T00:00:00.000000000",
          "2024-04-21T00:00:00.000000000",
          "2024-04-22T00:00:00.000000000",
          "2024-04-23T00:00:00.000000000",
          "2024-04-24T00:00:00.000000000",
          "2024-04-25T00:00:00.000000000",
          "2024-04-26T00:00:00.000000000",
          "2024-04-27T00:00:00.000000000",
          "2024-04-28T00:00:00.000000000",
          "2024-04-29T00:00:00.000000000",
          "2024-04-30T00:00:00.000000000",
          "2024-05-01T00:00:00.000000000",
          "2024-05-02T00:00:00.000000000",
          "2024-05-03T00:00:00.000000000",
          "2024-05-04T00:00:00.000000000",
          "2024-05-05T00:00:00.000000000",
          "2024-05-06T00:00:00.000000000",
          "2024-05-07T00:00:00.000000000",
          "2024-05-08T00:00:00.000000000",
          "2024-05-09T00:00:00.000000000",
          "2024-05-10T00:00:00.000000000",
          "2024-05-11T00:00:00.000000000",
          "2024-05-12T00:00:00.000000000",
          "2024-05-13T00:00:00.000000000",
          "2024-05-14T00:00:00.000000000",
          "2024-05-15T00:00:00.000000000",
          "2024-05-16T00:00:00.000000000",
          "2024-05-17T00:00:00.000000000",
          "2024-05-18T00:00:00.000000000",
          "2024-05-19T00:00:00.000000000",
          "2024-05-20T00:00:00.000000000",
          "2024-05-21T00:00:00.000000000",
          "2024-05-22T00:00:00.000000000",
          "2024-05-23T00:00:00.000000000",
          "2024-05-24T00:00:00.000000000",
          "2024-05-25T00:00:00.000000000",
          "2024-05-26T00:00:00.000000000",
          "2024-05-27T00:00:00.000000000",
          "2024-05-28T00:00:00.000000000",
          "2024-05-29T00:00:00.000000000",
          "2024-05-30T00:00:00.000000000",
          "2024-05-31T00:00:00.000000000",
          "2024-06-01T00:00:00.000000000",
          "2024-06-02T00:00:00.000000000",
          "2024-06-03T00:00:00.000000000",
          "2024-06-04T00:00:00.000000000",
          "2024-06-05T00:00:00.000000000",
          "2024-06-06T00:00:00.000000000",
          "2024-06-07T00:00:00.000000000",
          "2024-06-08T00:00:00.000000000",
          "2024-06-09T00:00:00.000000000",
          "2024-06-10T00:00:00.000000000",
          "2024-06-11T00:00:00.000000000",
          "2024-06-12T00:00:00.000000000",
          "2024-06-13T00:00:00.000000000",
          "2024-06-14T00:00:00.000000000",
          "2024-06-15T00:00:00.000000000",
          "2024-06-16T00:00:00.000000000",
          "2024-06-17T00:00:00.000000000",
          "2024-06-18T00:00:00.000000000",
          "2024-06-19T00:00:00.000000000",
          "2024-06-20T00:00:00.000000000",
          "2024-06-21T00:00:00.000000000",
          "2024-06-22T00:00:00.000000000",
          "2024-06-23T00:00:00.000000000",
          "2024-06-24T00:00:00.000000000",
          "2024-06-25T00:00:00.000000000",
          "2024-06-26T00:00:00.000000000",
          "2024-06-27T00:00:00.000000000",
          "2024-06-28T00:00:00.000000000",
          "2024-06-29T00:00:00.000000000",
          "2024-06-30T00:00:00.000000000",
          "2024-07-01T00:00:00.000000000",
          "2024-07-02T00:00:00.000000000",
          "2024-07-03T00:00:00.000000000",
          "2024-07-04T00:00:00.000000000",
          "2024-07-05T00:00:00.000000000",
          "2024-07-06T00:00:00.000000000",
          "2024-07-07T00:00:00.000000000",
          "2024-07-08T00:00:00.000000000",
          "2024-07-09T00:00:00.000000000",
          "2024-07-10T00:00:00.000000000",
          "2024-07-11T00:00:00.000000000",
          "2024-07-12T00:00:00.000000000",
          "2024-07-13T00:00:00.000000000",
          "2024-07-14T00:00:00.000000000",
          "2024-07-15T00:00:00.000000000",
          "2024-07-16T00:00:00.000000000",
          "2024-07-17T00:00:00.000000000",
          "2024-07-18T00:00:00.000000000",
          "2024-07-19T00:00:00.000000000",
          "2024-07-20T00:00:00.000000000",
          "2024-07-21T00:00:00.000000000",
          "2024-07-22T00:00:00.000000000",
          "2024-07-23T00:00:00.000000000",
          "2024-07-24T00:00:00.000000000",
          "2024-07-25T00:00:00.000000000",
          "2024-07-26T00:00:00.000000000",
          "2024-07-27T00:00:00.000000000",
          "2024-07-28T00:00:00.000000000",
          "2024-07-29T00:00:00.000000000",
          "2024-07-30T00:00:00.000000000",
          "2024-07-31T00:00:00.000000000",
          "2024-08-01T00:00:00.000000000",
          "2024-08-02T00:00:00.000000000",
          "2024-08-03T00:00:00.000000000",
          "2024-08-04T00:00:00.000000000",
          "2024-08-05T00:00:00.000000000",
          "2024-08-06T00:00:00.000000000",
          "2024-08-07T00:00:00.000000000",
          "2024-08-08T00:00:00.000000000",
          "2024-08-09T00:00:00.000000000",
          "2024-08-10T00:00:00.000000000",
          "2024-08-11T00:00:00.000000000",
          "2024-08-12T00:00:00.000000000",
          "2024-08-13T00:00:00.000000000",
          "2024-08-14T00:00:00.000000000",
          "2024-08-15T00:00:00.000000000",
          "2024-08-16T00:00:00.000000000",
          "2024-08-17T00:00:00.000000000",
          "2024-08-18T00:00:00.000000000",
          "2024-08-19T00:00:00.000000000",
          "2024-08-20T00:00:00.000000000",
          "2024-08-21T00:00:00.000000000",
          "2024-08-22T00:00:00.000000000",
          "2024-08-23T00:00:00.000000000",
          "2024-08-24T00:00:00.000000000",
          "2024-08-25T00:00:00.000000000",
          "2024-08-26T00:00:00.000000000",
          "2024-08-27T00:00:00.000000000",
          "2024-08-28T00:00:00.000000000",
          "2024-08-29T00:00:00.000000000",
          "2024-08-30T00:00:00.000000000",
          "2024-08-31T00:00:00.000000000",
          "2024-09-01T00:00:00.000000000",
          "2024-09-02T00:00:00.000000000",
          "2024-09-03T00:00:00.000000000",
          "2024-09-04T00:00:00.000000000",
          "2024-09-05T00:00:00.000000000",
          "2024-09-06T00:00:00.000000000"
         ],
         "xaxis": "x3",
         "y": {
          "bdata": "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",
          "dtype": "f8"
         },
         "yaxis": "y3"
        },
        {
         "line": {
          "color": "green",
          "dash": "dot",
          "width": 1
         },
         "mode": "lines",
         "name": "100-day cycle",
         "opacity": 0.7,
         "type": "scatter",
         "x": [
          "2024-01-01T00:00:00.000000000",
          "2024-01-02T00:00:00.000000000",
          "2024-01-03T00:00:00.000000000",
          "2024-01-04T00:00:00.000000000",
          "2024-01-05T00:00:00.000000000",
          "2024-01-06T00:00:00.000000000",
          "2024-01-07T00:00:00.000000000",
          "2024-01-08T00:00:00.000000000",
          "2024-01-09T00:00:00.000000000",
          "2024-01-10T00:00:00.000000000",
          "2024-01-11T00:00:00.000000000",
          "2024-01-12T00:00:00.000000000",
          "2024-01-13T00:00:00.000000000",
          "2024-01-14T00:00:00.000000000",
          "2024-01-15T00:00:00.000000000",
          "2024-01-16T00:00:00.000000000",
          "2024-01-17T00:00:00.000000000",
          "2024-01-18T00:00:00.000000000",
          "2024-01-19T00:00:00.000000000",
          "2024-01-20T00:00:00.000000000",
          "2024-01-21T00:00:00.000000000",
          "2024-01-22T00:00:00.000000000",
          "2024-01-23T00:00:00.000000000",
          "2024-01-24T00:00:00.000000000",
          "2024-01-25T00:00:00.000000000",
          "2024-01-26T00:00:00.000000000",
          "2024-01-27T00:00:00.000000000",
          "2024-01-28T00:00:00.000000000",
          "2024-01-29T00:00:00.000000000",
          "2024-01-30T00:00:00.000000000",
          "2024-01-31T00:00:00.000000000",
          "2024-02-01T00:00:00.000000000",
          "2024-02-02T00:00:00.000000000",
          "2024-02-03T00:00:00.000000000",
          "2024-02-04T00:00:00.000000000",
          "2024-02-05T00:00:00.000000000",
          "2024-02-06T00:00:00.000000000",
          "2024-02-07T00:00:00.000000000",
          "2024-02-08T00:00:00.000000000",
          "2024-02-09T00:00:00.000000000",
          "2024-02-10T00:00:00.000000000",
          "2024-02-11T00:00:00.000000000",
          "2024-02-12T00:00:00.000000000",
          "2024-02-13T00:00:00.000000000",
          "2024-02-14T00:00:00.000000000",
          "2024-02-15T00:00:00.000000000",
          "2024-02-16T00:00:00.000000000",
          "2024-02-17T00:00:00.000000000",
          "2024-02-18T00:00:00.000000000",
          "2024-02-19T00:00:00.000000000",
          "2024-02-20T00:00:00.000000000",
          "2024-02-21T00:00:00.000000000",
          "2024-02-22T00:00:00.000000000",
          "2024-02-23T00:00:00.000000000",
          "2024-02-24T00:00:00.000000000",
          "2024-02-25T00:00:00.000000000",
          "2024-02-26T00:00:00.000000000",
          "2024-02-27T00:00:00.000000000",
          "2024-02-28T00:00:00.000000000",
          "2024-02-29T00:00:00.000000000",
          "2024-03-01T00:00:00.000000000",
          "2024-03-02T00:00:00.000000000",
          "2024-03-03T00:00:00.000000000",
          "2024-03-04T00:00:00.000000000",
          "2024-03-05T00:00:00.000000000",
          "2024-03-06T00:00:00.000000000",
          "2024-03-07T00:00:00.000000000",
          "2024-03-08T00:00:00.000000000",
          "2024-03-09T00:00:00.000000000",
          "2024-03-10T00:00:00.000000000",
          "2024-03-11T00:00:00.000000000",
          "2024-03-12T00:00:00.000000000",
          "2024-03-13T00:00:00.000000000",
          "2024-03-14T00:00:00.000000000",
          "2024-03-15T00:00:00.000000000",
          "2024-03-16T00:00:00.000000000",
          "2024-03-17T00:00:00.000000000",
          "2024-03-18T00:00:00.000000000",
          "2024-03-19T00:00:00.000000000",
          "2024-03-20T00:00:00.000000000",
          "2024-03-21T00:00:00.000000000",
          "2024-03-22T00:00:00.000000000",
          "2024-03-23T00:00:00.000000000",
          "2024-03-24T00:00:00.000000000",
          "2024-03-25T00:00:00.000000000",
          "2024-03-26T00:00:00.000000000",
          "2024-03-27T00:00:00.000000000",
          "2024-03-28T00:00:00.000000000",
          "2024-03-29T00:00:00.000000000",
          "2024-03-30T00:00:00.000000000",
          "2024-03-31T00:00:00.000000000",
          "2024-04-01T00:00:00.000000000",
          "2024-04-02T00:00:00.000000000",
          "2024-04-03T00:00:00.000000000",
          "2024-04-04T00:00:00.000000000",
          "2024-04-05T00:00:00.000000000",
          "2024-04-06T00:00:00.000000000",
          "2024-04-07T00:00:00.000000000",
          "2024-04-08T00:00:00.000000000",
          "2024-04-09T00:00:00.000000000",
          "2024-04-10T00:00:00.000000000",
          "2024-04-11T00:00:00.000000000",
          "2024-04-12T00:00:00.000000000",
          "2024-04-13T00:00:00.000000000",
          "2024-04-14T00:00:00.000000000",
          "2024-04-15T00:00:00.000000000",
          "2024-04-16T00:00:00.000000000",
          "2024-04-17T00:00:00.000000000",
          "2024-04-18T00:00:00.000000000",
          "2024-04-19T00:00:00.000000000",
          "2024-04-20T00:00:00.000000000",
          "2024-04-21T00:00:00.000000000",
          "2024-04-22T00:00:00.000000000",
          "2024-04-23T00:00:00.000000000",
          "2024-04-24T00:00:00.000000000",
          "2024-04-25T00:00:00.000000000",
          "2024-04-26T00:00:00.000000000",
          "2024-04-27T00:00:00.000000000",
          "2024-04-28T00:00:00.000000000",
          "2024-04-29T00:00:00.000000000",
          "2024-04-30T00:00:00.000000000",
          "2024-05-01T00:00:00.000000000",
          "2024-05-02T00:00:00.000000000",
          "2024-05-03T00:00:00.000000000",
          "2024-05-04T00:00:00.000000000",
          "2024-05-05T00:00:00.000000000",
          "2024-05-06T00:00:00.000000000",
          "2024-05-07T00:00:00.000000000",
          "2024-05-08T00:00:00.000000000",
          "2024-05-09T00:00:00.000000000",
          "2024-05-10T00:00:00.000000000",
          "2024-05-11T00:00:00.000000000",
          "2024-05-12T00:00:00.000000000",
          "2024-05-13T00:00:00.000000000",
          "2024-05-14T00:00:00.000000000",
          "2024-05-15T00:00:00.000000000",
          "2024-05-16T00:00:00.000000000",
          "2024-05-17T00:00:00.000000000",
          "2024-05-18T00:00:00.000000000",
          "2024-05-19T00:00:00.000000000",
          "2024-05-20T00:00:00.000000000",
          "2024-05-21T00:00:00.000000000",
          "2024-05-22T00:00:00.000000000",
          "2024-05-23T00:00:00.000000000",
          "2024-05-24T00:00:00.000000000",
          "2024-05-25T00:00:00.000000000",
          "2024-05-26T00:00:00.000000000",
          "2024-05-27T00:00:00.000000000",
          "2024-05-28T00:00:00.000000000",
          "2024-05-29T00:00:00.000000000",
          "2024-05-30T00:00:00.000000000",
          "2024-05-31T00:00:00.000000000",
          "2024-06-01T00:00:00.000000000",
          "2024-06-02T00:00:00.000000000",
          "2024-06-03T00:00:00.000000000",
          "2024-06-04T00:00:00.000000000",
          "2024-06-05T00:00:00.000000000",
          "2024-06-06T00:00:00.000000000",
          "2024-06-07T00:00:00.000000000",
          "2024-06-08T00:00:00.000000000",
          "2024-06-09T00:00:00.000000000",
          "2024-06-10T00:00:00.000000000",
          "2024-06-11T00:00:00.000000000",
          "2024-06-12T00:00:00.000000000",
          "2024-06-13T00:00:00.000000000",
          "2024-06-14T00:00:00.000000000",
          "2024-06-15T00:00:00.000000000",
          "2024-06-16T00:00:00.000000000",
          "2024-06-17T00:00:00.000000000",
          "2024-06-18T00:00:00.000000000",
          "2024-06-19T00:00:00.000000000",
          "2024-06-20T00:00:00.000000000",
          "2024-06-21T00:00:00.000000000",
          "2024-06-22T00:00:00.000000000",
          "2024-06-23T00:00:00.000000000",
          "2024-06-24T00:00:00.000000000",
          "2024-06-25T00:00:00.000000000",
          "2024-06-26T00:00:00.000000000",
          "2024-06-27T00:00:00.000000000",
          "2024-06-28T00:00:00.000000000",
          "2024-06-29T00:00:00.000000000",
          "2024-06-30T00:00:00.000000000",
          "2024-07-01T00:00:00.000000000",
          "2024-07-02T00:00:00.000000000",
          "2024-07-03T00:00:00.000000000",
          "2024-07-04T00:00:00.000000000",
          "2024-07-05T00:00:00.000000000",
          "2024-07-06T00:00:00.000000000",
          "2024-07-07T00:00:00.000000000",
          "2024-07-08T00:00:00.000000000",
          "2024-07-09T00:00:00.000000000",
          "2024-07-10T00:00:00.000000000",
          "2024-07-11T00:00:00.000000000",
          "2024-07-12T00:00:00.000000000",
          "2024-07-13T00:00:00.000000000",
          "2024-07-14T00:00:00.000000000",
          "2024-07-15T00:00:00.000000000",
          "2024-07-16T00:00:00.000000000",
          "2024-07-17T00:00:00.000000000",
          "2024-07-18T00:00:00.000000000",
          "2024-07-19T00:00:00.000000000",
          "2024-07-20T00:00:00.000000000",
          "2024-07-21T00:00:00.000000000",
          "2024-07-22T00:00:00.000000000",
          "2024-07-23T00:00:00.000000000",
          "2024-07-24T00:00:00.000000000",
          "2024-07-25T00:00:00.000000000",
          "2024-07-26T00:00:00.000000000",
          "2024-07-27T00:00:00.000000000",
          "2024-07-28T00:00:00.000000000",
          "2024-07-29T00:00:00.000000000",
          "2024-07-30T00:00:00.000000000",
          "2024-07-31T00:00:00.000000000",
          "2024-08-01T00:00:00.000000000",
          "2024-08-02T00:00:00.000000000",
          "2024-08-03T00:00:00.000000000",
          "2024-08-04T00:00:00.000000000",
          "2024-08-05T00:00:00.000000000",
          "2024-08-06T00:00:00.000000000",
          "2024-08-07T00:00:00.000000000",
          "2024-08-08T00:00:00.000000000",
          "2024-08-09T00:00:00.000000000",
          "2024-08-10T00:00:00.000000000",
          "2024-08-11T00:00:00.000000000",
          "2024-08-12T00:00:00.000000000",
          "2024-08-13T00:00:00.000000000",
          "2024-08-14T00:00:00.000000000",
          "2024-08-15T00:00:00.000000000",
          "2024-08-16T00:00:00.000000000",
          "2024-08-17T00:00:00.000000000",
          "2024-08-18T00:00:00.000000000",
          "2024-08-19T00:00:00.000000000",
          "2024-08-20T00:00:00.000000000",
          "2024-08-21T00:00:00.000000000",
          "2024-08-22T00:00:00.000000000",
          "2024-08-23T00:00:00.000000000",
          "2024-08-24T00:00:00.000000000",
          "2024-08-25T00:00:00.000000000",
          "2024-08-26T00:00:00.000000000",
          "2024-08-27T00:00:00.000000000",
          "2024-08-28T00:00:00.000000000",
          "2024-08-29T00:00:00.000000000",
          "2024-08-30T00:00:00.000000000",
          "2024-08-31T00:00:00.000000000",
          "2024-09-01T00:00:00.000000000",
          "2024-09-02T00:00:00.000000000",
          "2024-09-03T00:00:00.000000000",
          "2024-09-04T00:00:00.000000000",
          "2024-09-05T00:00:00.000000000",
          "2024-09-06T00:00:00.000000000"
         ],
         "xaxis": "x3",
         "y": {
          "bdata": "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",
          "dtype": "f8"
         },
         "yaxis": "y3"
        },
        {
         "line": {
          "color": "purple",
          "width": 2
         },
         "mode": "lines",
         "name": "Frequency Spectrum",
         "type": "scatter",
         "x": {
          "bdata": "AAAAAABAb0AAAAAAAEBfQFVVVVVV1VRAAAAAAABAT0AAAAAAAABJQFVVVVVV1URAt23btm3bQUAAAAAAAEA/QHEcx3EcxztAAAAAAAAAOUC76KKLLro2QFVVVVVV1TRAsRM7sRM7M0C3bdu2bdsxQKuqqqqqqjBAAAAAAABAL0BpaWlpaWktQHEcx3EcxytADuU1lNdQKkAAAAAAAAApQPM8z/M8zydAu+iiiy66JkCc3vSmN70lQFVVVVVV1SRAAAAAAAAAJECxEzuxEzsjQExoL6G9hCJAt23btm3bIUCw3NMIyz0hQKuqqqqqqiBAIYQQQgghIEAAAAAAAEAfQE022WSTTR5AaWlpaWlpHUAkSZIkSZIcQHEcx3EcxxtAbzBFPusGG0AO5TWU11AaQEIapEEapBlAAAAAAAAAGUBkcD4G52MYQPM8z/M8zxdA0Bf0BX1BF0C76KKLLroWQI7jOI7jOBZAnN70pje9FUD1nY36zkYVQFVVVVVV1RRAGutDY31oFEAAAAAAAAAUQJubm5ubmxNAsRM7sRM7E0Dtc0hNMN4SQExoL6G9hBJAL7rooosuEkC3bdu2bdsRQLOYzmI6ixFAsNzTCMs9EUAiaDip+/IQQKuqqqqqqhBAHW3ep7hkEEAhhBBCCCEQQPD7vu/7vg9AAAAAAABAD0BO7MRO7MQOQE022WSTTQ5AGhPpgcrZDUBpaWlpaWkNQM8o8TNK/AxAJEmSJEmSDEBohc2BRCsMQHEcx3EcxwtAXLZs2bJlC0BvMEU+6wYLQKuqqqqqqgpADuU1lNdQCkBn5SfEWfkJQEIapEEapAlAotKRPQNRCUAAAAAAAAAJQGXg6db8sAhAZHA+BudjCEDzaw+5rBgIQPM8z/M8zwdAh4eHh4eHB0DQF/QFfUEHQOvQb7YO/QZAu+iiiy66BkBoPOMZz3gGQI7jOI7jOAZApl/6pV/6BUCc3vSmN70FQIEFFlhggQVA9Z2N+s5GBUDYUF5DeQ0FQFVVVVVV1QRARKZhu1meBEAa60NjfWgEQN7OkJi3MwRAAAAAAAAABEDfiAKTTs0DQJubm5ubmwNADE13sN9qA0CxEzuxEzsDQMMwDMMwDANA7XNITTDeAkBbDm72C7ECQExoL6G9hAJAlCWwaT9ZAkAvuuiiiy4CQEogLtScBAJAt23btm3bAUCTLxs0+bIBQLOYzmI6iwFAFrKQhSxkAUCw3NMIyz0BQIERGIERGAFAImg4qfvyAEBghc5ghc4AQKuqqqqqqgBA5TRfq2eHAEAdbd6nuGQAQEOgKQSaQgBAIYQQQgghAEA=",
          "dtype": "f8"
         },
         "xaxis": "x4",
         "y": {
          "bdata": "ZNpUxE62dkBjdh6N26pxQDIFzWvhg1tAz/RUmDdTi0DBtsaFRO5eQMK7DGzdQxJAr7bFxpN4P0Btxxt+V9BRQIBVawl00UFAxNVP6GwzRUC6CVcFCxZDQOQYJdLn20NAkE+5seqlQkADnvOX6E03QMbLgj1ZGDFAdC8i6Hb5QkDctw23T8k7QLdnbSY7bCRALvkMMoPoN0DHDX2rfqYwQB+AZEh08zhAmUF6aE7dPkCgTpuBUmIzQGRaldupNhtAHIpTA8ShGkCwJo6orjskQPZHNrsRNidAWPLdxGJONEArBmdTHDM5QNaNNsNL1yBAcUnT0SiMLkCNtMvzdgAjQEIKefRA5jBAKNoQivHMM0D47DIhcQYoQF6Cu8ORRRZAQi7oF+K8J0DZO1yee84dQAwQpYd0AipAjmCoAkkcKUBUgCWROhktQEQpGjr0jCxAnR4yQ3KfH0Cox29rXlg3QKdo8uCf3ihA37MNRINcGUDdChaIgFoqQJZp9Npq2yVAPMXbkhol/T8BearBU2sPQD6dhEkmuhlAXY6o79D0GEBqXHwfs1EyQC09EdfwdjJAiU+r4tERJkBHD/OGluwgQDyH30IhQCBA61zWR13KI0CSiIP4zOsTQK2JJ/MmQBhAHSqJ2tOJFUCm/MgAe/n9P2VP1fTu9BRAi5qxZ24rFUAoU6yzb8MjQBnSXHOnjBlA1VBaAFG6CkChxMEfSaAkQOqvwe/jWSdAPHzIQLoSG0DaGkzTZBERQEC0Vsi/aA5AFSRtI8M/EUD6UoK6kC8CQHeg7Das+SFAvDg1IfaoEkA2A3+rK1slQP8J1pQjmgNAmm6ES5dAI0DeXXVI0h4EQOvzEll4zRFA4wmTYEAyDUCfrPBSW3gcQHOEOct49SBAxG59zAnrBkD1c8QljNcXQM9udKYzLCRARywrS8uHF0BlLybfP2ocQIjgC/59ZCFASgG48sGUFEDKjfSRiEQXQFucS+Q0TxNAOiXXx3DLHkAVjUI46vMnQPwDQZ+kBBdAl8gcvGlhF0A1SnU9NkwWQDOKfOK+AxBAfqZLptfJD0A89P+8rRodQNoje3OEcP4/b2wDhb9+EEDJUIr0+20eQDhRYfOy+h1A/Qnyc0iH/z8Zxz7jRwMhQMOL/rh7UxtANJcpyBP2/T+jcmQUsYoYQJD/tSKAiRNAJYMtB6UNEUAb8DnxyHkZQGreOTwrtyFAqAqaEOOlD0CkqvN3FAMGQFmbqecuSwhAhbYAYi50HkDjk3tAjgAOQI1yNeuKcRBAO/MSqnEPHUBTtY/6MnAPQGMGH1qGCfE/XKXXDK0nAkA=",
          "dtype": "f8"
         },
         "yaxis": "y4"
        },
        {
         "fill": "tonexty",
         "line": {
          "color": "red",
          "width": 2
         },
         "mode": "lines",
         "name": "Cycle Confluence",
         "type": "scatter",
         "x": [
          "2024-01-01T00:00:00.000000000",
          "2024-01-02T00:00:00.000000000",
          "2024-01-03T00:00:00.000000000",
          "2024-01-04T00:00:00.000000000",
          "2024-01-05T00:00:00.000000000",
          "2024-01-06T00:00:00.000000000",
          "2024-01-07T00:00:00.000000000",
          "2024-01-08T00:00:00.000000000",
          "2024-01-09T00:00:00.000000000",
          "2024-01-10T00:00:00.000000000",
          "2024-01-11T00:00:00.000000000",
          "2024-01-12T00:00:00.000000000",
          "2024-01-13T00:00:00.000000000",
          "2024-01-14T00:00:00.000000000",
          "2024-01-15T00:00:00.000000000",
          "2024-01-16T00:00:00.000000000",
          "2024-01-17T00:00:00.000000000",
          "2024-01-18T00:00:00.000000000",
          "2024-01-19T00:00:00.000000000",
          "2024-01-20T00:00:00.000000000",
          "2024-01-21T00:00:00.000000000",
          "2024-01-22T00:00:00.000000000",
          "2024-01-23T00:00:00.000000000",
          "2024-01-24T00:00:00.000000000",
          "2024-01-25T00:00:00.000000000",
          "2024-01-26T00:00:00.000000000",
          "2024-01-27T00:00:00.000000000",
          "2024-01-28T00:00:00.000000000",
          "2024-01-29T00:00:00.000000000",
          "2024-01-30T00:00:00.000000000",
          "2024-01-31T00:00:00.000000000",
          "2024-02-01T00:00:00.000000000",
          "2024-02-02T00:00:00.000000000",
          "2024-02-03T00:00:00.000000000",
          "2024-02-04T00:00:00.000000000",
          "2024-02-05T00:00:00.000000000",
          "2024-02-06T00:00:00.000000000",
          "2024-02-07T00:00:00.000000000",
          "2024-02-08T00:00:00.000000000",
          "2024-02-09T00:00:00.000000000",
          "2024-02-10T00:00:00.000000000",
          "2024-02-11T00:00:00.000000000",
          "2024-02-12T00:00:00.000000000",
          "2024-02-13T00:00:00.000000000",
          "2024-02-14T00:00:00.000000000",
          "2024-02-15T00:00:00.000000000",
          "2024-02-16T00:00:00.000000000",
          "2024-02-17T00:00:00.000000000",
          "2024-02-18T00:00:00.000000000",
          "2024-02-19T00:00:00.000000000",
          "2024-02-20T00:00:00.000000000",
          "2024-02-21T00:00:00.000000000",
          "2024-02-22T00:00:00.000000000",
          "2024-02-23T00:00:00.000000000",
          "2024-02-24T00:00:00.000000000",
          "2024-02-25T00:00:00.000000000",
          "2024-02-26T00:00:00.000000000",
          "2024-02-27T00:00:00.000000000",
          "2024-02-28T00:00:00.000000000",
          "2024-02-29T00:00:00.000000000",
          "2024-03-01T00:00:00.000000000",
          "2024-03-02T00:00:00.000000000",
          "2024-03-03T00:00:00.000000000",
          "2024-03-04T00:00:00.000000000",
          "2024-03-05T00:00:00.000000000",
          "2024-03-06T00:00:00.000000000",
          "2024-03-07T00:00:00.000000000",
          "2024-03-08T00:00:00.000000000",
          "2024-03-09T00:00:00.000000000",
          "2024-03-10T00:00:00.000000000",
          "2024-03-11T00:00:00.000000000",
          "2024-03-12T00:00:00.000000000",
          "2024-03-13T00:00:00.000000000",
          "2024-03-14T00:00:00.000000000",
          "2024-03-15T00:00:00.000000000",
          "2024-03-16T00:00:00.000000000",
          "2024-03-17T00:00:00.000000000",
          "2024-03-18T00:00:00.000000000",
          "2024-03-19T00:00:00.000000000",
          "2024-03-20T00:00:00.000000000",
          "2024-03-21T00:00:00.000000000",
          "2024-03-22T00:00:00.000000000",
          "2024-03-23T00:00:00.000000000",
          "2024-03-24T00:00:00.000000000",
          "2024-03-25T00:00:00.000000000",
          "2024-03-26T00:00:00.000000000",
          "2024-03-27T00:00:00.000000000",
          "2024-03-28T00:00:00.000000000",
          "2024-03-29T00:00:00.000000000",
          "2024-03-30T00:00:00.000000000",
          "2024-03-31T00:00:00.000000000",
          "2024-04-01T00:00:00.000000000",
          "2024-04-02T00:00:00.000000000",
          "2024-04-03T00:00:00.000000000",
          "2024-04-04T00:00:00.000000000",
          "2024-04-05T00:00:00.000000000",
          "2024-04-06T00:00:00.000000000",
          "2024-04-07T00:00:00.000000000",
          "2024-04-08T00:00:00.000000000",
          "2024-04-09T00:00:00.000000000",
          "2024-04-10T00:00:00.000000000",
          "2024-04-11T00:00:00.000000000",
          "2024-04-12T00:00:00.000000000",
          "2024-04-13T00:00:00.000000000",
          "2024-04-14T00:00:00.000000000",
          "2024-04-15T00:00:00.000000000",
          "2024-04-16T00:00:00.000000000",
          "2024-04-17T00:00:00.000000000",
          "2024-04-18T00:00:00.000000000",
          "2024-04-19T00:00:00.000000000",
          "2024-04-20T00:00:00.000000000",
          "2024-04-21T00:00:00.000000000",
          "2024-04-22T00:00:00.000000000",
          "2024-04-23T00:00:00.000000000",
          "2024-04-24T00:00:00.000000000",
          "2024-04-25T00:00:00.000000000",
          "2024-04-26T00:00:00.000000000",
          "2024-04-27T00:00:00.000000000",
          "2024-04-28T00:00:00.000000000",
          "2024-04-29T00:00:00.000000000",
          "2024-04-30T00:00:00.000000000",
          "2024-05-01T00:00:00.000000000",
          "2024-05-02T00:00:00.000000000",
          "2024-05-03T00:00:00.000000000",
          "2024-05-04T00:00:00.000000000",
          "2024-05-05T00:00:00.000000000",
          "2024-05-06T00:00:00.000000000",
          "2024-05-07T00:00:00.000000000",
          "2024-05-08T00:00:00.000000000",
          "2024-05-09T00:00:00.000000000",
          "2024-05-10T00:00:00.000000000",
          "2024-05-11T00:00:00.000000000",
          "2024-05-12T00:00:00.000000000",
          "2024-05-13T00:00:00.000000000",
          "2024-05-14T00:00:00.000000000",
          "2024-05-15T00:00:00.000000000",
          "2024-05-16T00:00:00.000000000",
          "2024-05-17T00:00:00.000000000",
          "2024-05-18T00:00:00.000000000",
          "2024-05-19T00:00:00.000000000",
          "2024-05-20T00:00:00.000000000",
          "2024-05-21T00:00:00.000000000",
          "2024-05-22T00:00:00.000000000",
          "2024-05-23T00:00:00.000000000",
          "2024-05-24T00:00:00.000000000",
          "2024-05-25T00:00:00.000000000",
          "2024-05-26T00:00:00.000000000",
          "2024-05-27T00:00:00.000000000",
          "2024-05-28T00:00:00.000000000",
          "2024-05-29T00:00:00.000000000",
          "2024-05-30T00:00:00.000000000",
          "2024-05-31T00:00:00.000000000",
          "2024-06-01T00:00:00.000000000",
          "2024-06-02T00:00:00.000000000",
          "2024-06-03T00:00:00.000000000",
          "2024-06-04T00:00:00.000000000",
          "2024-06-05T00:00:00.000000000",
          "2024-06-06T00:00:00.000000000",
          "2024-06-07T00:00:00.000000000",
          "2024-06-08T00:00:00.000000000",
          "2024-06-09T00:00:00.000000000",
          "2024-06-10T00:00:00.000000000",
          "2024-06-11T00:00:00.000000000",
          "2024-06-12T00:00:00.000000000",
          "2024-06-13T00:00:00.000000000",
          "2024-06-14T00:00:00.000000000",
          "2024-06-15T00:00:00.000000000",
          "2024-06-16T00:00:00.000000000",
          "2024-06-17T00:00:00.000000000",
          "2024-06-18T00:00:00.000000000",
          "2024-06-19T00:00:00.000000000",
          "2024-06-20T00:00:00.000000000",
          "2024-06-21T00:00:00.000000000",
          "2024-06-22T00:00:00.000000000",
          "2024-06-23T00:00:00.000000000",
          "2024-06-24T00:00:00.000000000",
          "2024-06-25T00:00:00.000000000",
          "2024-06-26T00:00:00.000000000",
          "2024-06-27T00:00:00.000000000",
          "2024-06-28T00:00:00.000000000",
          "2024-06-29T00:00:00.000000000",
          "2024-06-30T00:00:00.000000000",
          "2024-07-01T00:00:00.000000000",
          "2024-07-02T00:00:00.000000000",
          "2024-07-03T00:00:00.000000000",
          "2024-07-04T00:00:00.000000000",
          "2024-07-05T00:00:00.000000000",
          "2024-07-06T00:00:00.000000000",
          "2024-07-07T00:00:00.000000000",
          "2024-07-08T00:00:00.000000000",
          "2024-07-09T00:00:00.000000000",
          "2024-07-10T00:00:00.000000000",
          "2024-07-11T00:00:00.000000000",
          "2024-07-12T00:00:00.000000000",
          "2024-07-13T00:00:00.000000000",
          "2024-07-14T00:00:00.000000000",
          "2024-07-15T00:00:00.000000000",
          "2024-07-16T00:00:00.000000000",
          "2024-07-17T00:00:00.000000000",
          "2024-07-18T00:00:00.000000000",
          "2024-07-19T00:00:00.000000000",
          "2024-07-20T00:00:00.000000000",
          "2024-07-21T00:00:00.000000000",
          "2024-07-22T00:00:00.000000000",
          "2024-07-23T00:00:00.000000000",
          "2024-07-24T00:00:00.000000000",
          "2024-07-25T00:00:00.000000000",
          "2024-07-26T00:00:00.000000000",
          "2024-07-27T00:00:00.000000000",
          "2024-07-28T00:00:00.000000000",
          "2024-07-29T00:00:00.000000000",
          "2024-07-30T00:00:00.000000000",
          "2024-07-31T00:00:00.000000000",
          "2024-08-01T00:00:00.000000000",
          "2024-08-02T00:00:00.000000000",
          "2024-08-03T00:00:00.000000000",
          "2024-08-04T00:00:00.000000000",
          "2024-08-05T00:00:00.000000000",
          "2024-08-06T00:00:00.000000000",
          "2024-08-07T00:00:00.000000000",
          "2024-08-08T00:00:00.000000000",
          "2024-08-09T00:00:00.000000000",
          "2024-08-10T00:00:00.000000000",
          "2024-08-11T00:00:00.000000000",
          "2024-08-12T00:00:00.000000000",
          "2024-08-13T00:00:00.000000000",
          "2024-08-14T00:00:00.000000000",
          "2024-08-15T00:00:00.000000000",
          "2024-08-16T00:00:00.000000000",
          "2024-08-17T00:00:00.000000000",
          "2024-08-18T00:00:00.000000000",
          "2024-08-19T00:00:00.000000000",
          "2024-08-20T00:00:00.000000000",
          "2024-08-21T00:00:00.000000000",
          "2024-08-22T00:00:00.000000000",
          "2024-08-23T00:00:00.000000000",
          "2024-08-24T00:00:00.000000000",
          "2024-08-25T00:00:00.000000000",
          "2024-08-26T00:00:00.000000000",
          "2024-08-27T00:00:00.000000000",
          "2024-08-28T00:00:00.000000000",
          "2024-08-29T00:00:00.000000000",
          "2024-08-30T00:00:00.000000000",
          "2024-08-31T00:00:00.000000000",
          "2024-09-01T00:00:00.000000000",
          "2024-09-02T00:00:00.000000000",
          "2024-09-03T00:00:00.000000000",
          "2024-09-04T00:00:00.000000000",
          "2024-09-05T00:00:00.000000000",
          "2024-09-06T00:00:00.000000000"
         ],
         "xaxis": "x5",
         "y": {
          "bdata": "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",
          "dtype": "f8"
         },
         "yaxis": "y5"
        },
        {
         "cells": {
          "align": "center",
          "fill": {
           "color": "lightgray"
          },
          "font": {
           "size": 10
          },
          "values": [
           [
            "20 days",
            "50 days",
            "100 days",
            "200 days"
           ],
           [
            "Short-term",
            "Intermediate",
            "Long-term",
            "Primary"
           ],
           [
            "Swing Trading",
            "Position Entry",
            "Trend Analysis",
            "Investment"
           ],
           [
            "Moderate",
            "Good",
            "High",
            "Very High"
           ]
          ]
         },
         "domain": {
          "x": [
           0.55,
           1
          ],
          "y": [
           0,
           0.22222222222222224
          ]
         },
         "header": {
          "align": "center",
          "fill": {
           "color": "lightcoral"
          },
          "font": {
           "size": 12
          },
          "values": [
           "Cycle_Length",
           "Market_Phase",
           "Typical_Use",
           "Reliability"
          ]
         },
         "type": "table"
        }
       ],
       "layout": {
        "annotations": [
         {
          "font": {
           "size": 16
          },
          "showarrow": false,
          "text": "Market Time Cycles",
          "x": 0.225,
          "xanchor": "center",
          "xref": "paper",
          "y": 1,
          "yanchor": "bottom",
          "yref": "paper"
         },
         {
          "font": {
           "size": 16
          },
          "showarrow": false,
          "text": "Cyclic Lines Analysis",
          "x": 0.775,
          "xanchor": "center",
          "xref": "paper",
          "y": 1,
          "yanchor": "bottom",
          "yref": "paper"
         },
         {
          "font": {
           "size": 16
          },
          "showarrow": false,
          "text": "Sine Wave Decomposition",
          "x": 0.225,
          "xanchor": "center",
          "xref": "paper",
          "y": 0.6111111111111112,
          "yanchor": "bottom",
          "yref": "paper"
         },
         {
          "font": {
           "size": 16
          },
          "showarrow": false,
          "text": "Fourier Analysis",
          "x": 0.775,
          "xanchor": "center",
          "xref": "paper",
          "y": 0.6111111111111112,
          "yanchor": "bottom",
          "yref": "paper"
         },
         {
          "font": {
           "size": 16
          },
          "showarrow": false,
          "text": "Cycle Confluence",
          "x": 0.225,
          "xanchor": "center",
          "xref": "paper",
          "y": 0.22222222222222224,
          "yanchor": "bottom",
          "yref": "paper"
         },
         {
          "font": {
           "size": 16
          },
          "showarrow": false,
          "text": "Trading Cycle Calendar",
          "x": 0.775,
          "xanchor": "center",
          "xref": "paper",
          "y": 0.22222222222222224,
          "yanchor": "bottom",
          "yref": "paper"
         }
        ],
        "height": 1200,
        "shapes": [
         {
          "line": {
           "color": "red",
           "dash": "dash"
          },
          "opacity": 0.6,
          "type": "line",
          "x0": "2024-01-01T00:00:00",
          "x1": "2024-01-01T00:00:00",
          "xref": "x",
          "y0": 0,
          "y1": 1,
          "yref": "y domain"
         },
         {
          "line": {
           "color": "red",
           "dash": "dash"
          },
          "opacity": 0.6,
          "type": "line",
          "x0": "2024-01-31T00:00:00",
          "x1": "2024-01-31T00:00:00",
          "xref": "x",
          "y0": 0,
          "y1": 1,
          "yref": "y domain"
         },
         {
          "line": {
           "color": "red",
           "dash": "dash"
          },
          "opacity": 0.6,
          "type": "line",
          "x0": "2024-03-01T00:00:00",
          "x1": "2024-03-01T00:00:00",
          "xref": "x",
          "y0": 0,
          "y1": 1,
          "yref": "y domain"
         },
         {
          "line": {
           "color": "red",
           "dash": "dash"
          },
          "opacity": 0.6,
          "type": "line",
          "x0": "2024-03-31T00:00:00",
          "x1": "2024-03-31T00:00:00",
          "xref": "x",
          "y0": 0,
          "y1": 1,
          "yref": "y domain"
         },
         {
          "line": {
           "color": "red",
           "dash": "dash"
          },
          "opacity": 0.6,
          "type": "line",
          "x0": "2024-04-30T00:00:00",
          "x1": "2024-04-30T00:00:00",
          "xref": "x",
          "y0": 0,
          "y1": 1,
          "yref": "y domain"
         },
         {
          "line": {
           "color": "red",
           "dash": "dash"
          },
          "opacity": 0.6,
          "type": "line",
          "x0": "2024-05-30T00:00:00",
          "x1": "2024-05-30T00:00:00",
          "xref": "x",
          "y0": 0,
          "y1": 1,
          "yref": "y domain"
         },
         {
          "line": {
           "color": "red",
           "dash": "dash"
          },
          "opacity": 0.6,
          "type": "line",
          "x0": "2024-06-29T00:00:00",
          "x1": "2024-06-29T00:00:00",
          "xref": "x",
          "y0": 0,
          "y1": 1,
          "yref": "y domain"
         },
         {
          "line": {
           "color": "red",
           "dash": "dash"
          },
          "opacity": 0.6,
          "type": "line",
          "x0": "2024-07-29T00:00:00",
          "x1": "2024-07-29T00:00:00",
          "xref": "x",
          "y0": 0,
          "y1": 1,
          "yref": "y domain"
         },
         {
          "line": {
           "color": "red",
           "dash": "dash"
          },
          "opacity": 0.6,
          "type": "line",
          "x0": "2024-08-28T00:00:00",
          "x1": "2024-08-28T00:00:00",
          "xref": "x",
          "y0": 0,
          "y1": 1,
          "yref": "y domain"
         },
         {
          "line": {
           "color": "red",
           "dash": "solid"
          },
          "opacity": 0.3,
          "type": "line",
          "x0": "2024-01-14T00:00:00",
          "x1": "2024-01-14T00:00:00",
          "xref": "x5",
          "y0": 0,
          "y1": 1,
          "yref": "y5 domain"
         },
         {
          "line": {
           "color": "red",
           "dash": "solid"
          },
          "opacity": 0.3,
          "type": "line",
          "x0": "2024-01-15T00:00:00",
          "x1": "2024-01-15T00:00:00",
          "xref": "x5",
          "y0": 0,
          "y1": 1,
          "yref": "y5 domain"
         },
         {
          "line": {
           "color": "red",
           "dash": "solid"
          },
          "opacity": 0.3,
          "type": "line",
          "x0": "2024-01-16T00:00:00",
          "x1": "2024-01-16T00:00:00",
          "xref": "x5",
          "y0": 0,
          "y1": 1,
          "yref": "y5 domain"
         },
         {
          "line": {
           "color": "red",
           "dash": "solid"
          },
          "opacity": 0.3,
          "type": "line",
          "x0": "2024-01-17T00:00:00",
          "x1": "2024-01-17T00:00:00",
          "xref": "x5",
          "y0": 0,
          "y1": 1,
          "yref": "y5 domain"
         },
         {
          "line": {
           "color": "red",
           "dash": "solid"
          },
          "opacity": 0.3,
          "type": "line",
          "x0": "2024-01-18T00:00:00",
          "x1": "2024-01-18T00:00:00",
          "xref": "x5",
          "y0": 0,
          "y1": 1,
          "yref": "y5 domain"
         },
         {
          "line": {
           "color": "red",
           "dash": "solid"
          },
          "opacity": 0.3,
          "type": "line",
          "x0": "2024-02-03T00:00:00",
          "x1": "2024-02-03T00:00:00",
          "xref": "x5",
          "y0": 0,
          "y1": 1,
          "yref": "y5 domain"
         },
         {
          "line": {
           "color": "red",
           "dash": "solid"
          },
          "opacity": 0.3,
          "type": "line",
          "x0": "2024-02-04T00:00:00",
          "x1": "2024-02-04T00:00:00",
          "xref": "x5",
          "y0": 0,
          "y1": 1,
          "yref": "y5 domain"
         },
         {
          "line": {
           "color": "red",
           "dash": "solid"
          },
          "opacity": 0.3,
          "type": "line",
          "x0": "2024-02-05T00:00:00",
          "x1": "2024-02-05T00:00:00",
          "xref": "x5",
          "y0": 0,
          "y1": 1,
          "yref": "y5 domain"
         },
         {
          "line": {
           "color": "red",
           "dash": "solid"
          },
          "opacity": 0.3,
          "type": "line",
          "x0": "2024-02-06T00:00:00",
          "x1": "2024-02-06T00:00:00",
          "xref": "x5",
          "y0": 0,
          "y1": 1,
          "yref": "y5 domain"
         },
         {
          "line": {
           "color": "red",
           "dash": "solid"
          },
          "opacity": 0.3,
          "type": "line",
          "x0": "2024-02-07T00:00:00",
          "x1": "2024-02-07T00:00:00",
          "xref": "x5",
          "y0": 0,
          "y1": 1,
          "yref": "y5 domain"
         },
         {
          "line": {
           "color": "red",
           "dash": "solid"
          },
          "opacity": 0.3,
          "type": "line",
          "x0": "2024-03-04T00:00:00",
          "x1": "2024-03-04T00:00:00",
          "xref": "x5",
          "y0": 0,
          "y1": 1,
          "yref": "y5 domain"
         },
         {
          "line": {
           "color": "red",
           "dash": "solid"
          },
          "opacity": 0.3,
          "type": "line",
          "x0": "2024-03-05T00:00:00",
          "x1": "2024-03-05T00:00:00",
          "xref": "x5",
          "y0": 0,
          "y1": 1,
          "yref": "y5 domain"
         },
         {
          "line": {
           "color": "red",
           "dash": "solid"
          },
          "opacity": 0.3,
          "type": "line",
          "x0": "2024-03-06T00:00:00",
          "x1": "2024-03-06T00:00:00",
          "xref": "x5",
          "y0": 0,
          "y1": 1,
          "yref": "y5 domain"
         },
         {
          "line": {
           "color": "red",
           "dash": "solid"
          },
          "opacity": 0.3,
          "type": "line",
          "x0": "2024-03-07T00:00:00",
          "x1": "2024-03-07T00:00:00",
          "xref": "x5",
          "y0": 0,
          "y1": 1,
          "yref": "y5 domain"
         },
         {
          "line": {
           "color": "red",
           "dash": "solid"
          },
          "opacity": 0.3,
          "type": "line",
          "x0": "2024-03-08T00:00:00",
          "x1": "2024-03-08T00:00:00",
          "xref": "x5",
          "y0": 0,
          "y1": 1,
          "yref": "y5 domain"
         },
         {
          "line": {
           "color": "red",
           "dash": "solid"
          },
          "opacity": 0.3,
          "type": "line",
          "x0": "2024-03-24T00:00:00",
          "x1": "2024-03-24T00:00:00",
          "xref": "x5",
          "y0": 0,
          "y1": 1,
          "yref": "y5 domain"
         },
         {
          "line": {
           "color": "red",
           "dash": "solid"
          },
          "opacity": 0.3,
          "type": "line",
          "x0": "2024-03-25T00:00:00",
          "x1": "2024-03-25T00:00:00",
          "xref": "x5",
          "y0": 0,
          "y1": 1,
          "yref": "y5 domain"
         },
         {
          "line": {
           "color": "red",
           "dash": "solid"
          },
          "opacity": 0.3,
          "type": "line",
          "x0": "2024-03-26T00:00:00",
          "x1": "2024-03-26T00:00:00",
          "xref": "x5",
          "y0": 0,
          "y1": 1,
          "yref": "y5 domain"
         },
         {
          "line": {
           "color": "red",
           "dash": "solid"
          },
          "opacity": 0.3,
          "type": "line",
          "x0": "2024-03-27T00:00:00",
          "x1": "2024-03-27T00:00:00",
          "xref": "x5",
          "y0": 0,
          "y1": 1,
          "yref": "y5 domain"
         },
         {
          "line": {
           "color": "red",
           "dash": "solid"
          },
          "opacity": 0.3,
          "type": "line",
          "x0": "2024-03-28T00:00:00",
          "x1": "2024-03-28T00:00:00",
          "xref": "x5",
          "y0": 0,
          "y1": 1,
          "yref": "y5 domain"
         },
         {
          "line": {
           "color": "red",
           "dash": "solid"
          },
          "opacity": 0.3,
          "type": "line",
          "x0": "2024-04-23T00:00:00",
          "x1": "2024-04-23T00:00:00",
          "xref": "x5",
          "y0": 0,
          "y1": 1,
          "yref": "y5 domain"
         },
         {
          "line": {
           "color": "red",
           "dash": "solid"
          },
          "opacity": 0.3,
          "type": "line",
          "x0": "2024-04-24T00:00:00",
          "x1": "2024-04-24T00:00:00",
          "xref": "x5",
          "y0": 0,
          "y1": 1,
          "yref": "y5 domain"
         },
         {
          "line": {
           "color": "red",
           "dash": "solid"
          },
          "opacity": 0.3,
          "type": "line",
          "x0": "2024-04-25T00:00:00",
          "x1": "2024-04-25T00:00:00",
          "xref": "x5",
          "y0": 0,
          "y1": 1,
          "yref": "y5 domain"
         },
         {
          "line": {
           "color": "red",
           "dash": "solid"
          },
          "opacity": 0.3,
          "type": "line",
          "x0": "2024-04-26T00:00:00",
          "x1": "2024-04-26T00:00:00",
          "xref": "x5",
          "y0": 0,
          "y1": 1,
          "yref": "y5 domain"
         },
         {
          "line": {
           "color": "red",
           "dash": "solid"
          },
          "opacity": 0.3,
          "type": "line",
          "x0": "2024-04-27T00:00:00",
          "x1": "2024-04-27T00:00:00",
          "xref": "x5",
          "y0": 0,
          "y1": 1,
          "yref": "y5 domain"
         },
         {
          "line": {
           "color": "red",
           "dash": "solid"
          },
          "opacity": 0.3,
          "type": "line",
          "x0": "2024-05-13T00:00:00",
          "x1": "2024-05-13T00:00:00",
          "xref": "x5",
          "y0": 0,
          "y1": 1,
          "yref": "y5 domain"
         },
         {
          "line": {
           "color": "red",
           "dash": "solid"
          },
          "opacity": 0.3,
          "type": "line",
          "x0": "2024-05-14T00:00:00",
          "x1": "2024-05-14T00:00:00",
          "xref": "x5",
          "y0": 0,
          "y1": 1,
          "yref": "y5 domain"
         },
         {
          "line": {
           "color": "red",
           "dash": "solid"
          },
          "opacity": 0.3,
          "type": "line",
          "x0": "2024-05-15T00:00:00",
          "x1": "2024-05-15T00:00:00",
          "xref": "x5",
          "y0": 0,
          "y1": 1,
          "yref": "y5 domain"
         },
         {
          "line": {
           "color": "red",
           "dash": "solid"
          },
          "opacity": 0.3,
          "type": "line",
          "x0": "2024-05-16T00:00:00",
          "x1": "2024-05-16T00:00:00",
          "xref": "x5",
          "y0": 0,
          "y1": 1,
          "yref": "y5 domain"
         },
         {
          "line": {
           "color": "red",
           "dash": "solid"
          },
          "opacity": 0.3,
          "type": "line",
          "x0": "2024-05-17T00:00:00",
          "x1": "2024-05-17T00:00:00",
          "xref": "x5",
          "y0": 0,
          "y1": 1,
          "yref": "y5 domain"
         },
         {
          "line": {
           "color": "red",
           "dash": "solid"
          },
          "opacity": 0.3,
          "type": "line",
          "x0": "2024-06-12T00:00:00",
          "x1": "2024-06-12T00:00:00",
          "xref": "x5",
          "y0": 0,
          "y1": 1,
          "yref": "y5 domain"
         },
         {
          "line": {
           "color": "red",
           "dash": "solid"
          },
          "opacity": 0.3,
          "type": "line",
          "x0": "2024-06-13T00:00:00",
          "x1": "2024-06-13T00:00:00",
          "xref": "x5",
          "y0": 0,
          "y1": 1,
          "yref": "y5 domain"
         },
         {
          "line": {
           "color": "red",
           "dash": "solid"
          },
          "opacity": 0.3,
          "type": "line",
          "x0": "2024-06-14T00:00:00",
          "x1": "2024-06-14T00:00:00",
          "xref": "x5",
          "y0": 0,
          "y1": 1,
          "yref": "y5 domain"
         },
         {
          "line": {
           "color": "red",
           "dash": "solid"
          },
          "opacity": 0.3,
          "type": "line",
          "x0": "2024-06-15T00:00:00",
          "x1": "2024-06-15T00:00:00",
          "xref": "x5",
          "y0": 0,
          "y1": 1,
          "yref": "y5 domain"
         },
         {
          "line": {
           "color": "red",
           "dash": "solid"
          },
          "opacity": 0.3,
          "type": "line",
          "x0": "2024-06-16T00:00:00",
          "x1": "2024-06-16T00:00:00",
          "xref": "x5",
          "y0": 0,
          "y1": 1,
          "yref": "y5 domain"
         },
         {
          "line": {
           "color": "red",
           "dash": "solid"
          },
          "opacity": 0.3,
          "type": "line",
          "x0": "2024-07-02T00:00:00",
          "x1": "2024-07-02T00:00:00",
          "xref": "x5",
          "y0": 0,
          "y1": 1,
          "yref": "y5 domain"
         },
         {
          "line": {
           "color": "red",
           "dash": "solid"
          },
          "opacity": 0.3,
          "type": "line",
          "x0": "2024-07-03T00:00:00",
          "x1": "2024-07-03T00:00:00",
          "xref": "x5",
          "y0": 0,
          "y1": 1,
          "yref": "y5 domain"
         },
         {
          "line": {
           "color": "red",
           "dash": "solid"
          },
          "opacity": 0.3,
          "type": "line",
          "x0": "2024-07-04T00:00:00",
          "x1": "2024-07-04T00:00:00",
          "xref": "x5",
          "y0": 0,
          "y1": 1,
          "yref": "y5 domain"
         },
         {
          "line": {
           "color": "red",
           "dash": "solid"
          },
          "opacity": 0.3,
          "type": "line",
          "x0": "2024-07-05T00:00:00",
          "x1": "2024-07-05T00:00:00",
          "xref": "x5",
          "y0": 0,
          "y1": 1,
          "yref": "y5 domain"
         },
         {
          "line": {
           "color": "red",
           "dash": "solid"
          },
          "opacity": 0.3,
          "type": "line",
          "x0": "2024-07-06T00:00:00",
          "x1": "2024-07-06T00:00:00",
          "xref": "x5",
          "y0": 0,
          "y1": 1,
          "yref": "y5 domain"
         },
         {
          "line": {
           "color": "red",
           "dash": "solid"
          },
          "opacity": 0.3,
          "type": "line",
          "x0": "2024-08-01T00:00:00",
          "x1": "2024-08-01T00:00:00",
          "xref": "x5",
          "y0": 0,
          "y1": 1,
          "yref": "y5 domain"
         },
         {
          "line": {
           "color": "red",
           "dash": "solid"
          },
          "opacity": 0.3,
          "type": "line",
          "x0": "2024-08-02T00:00:00",
          "x1": "2024-08-02T00:00:00",
          "xref": "x5",
          "y0": 0,
          "y1": 1,
          "yref": "y5 domain"
         },
         {
          "line": {
           "color": "red",
           "dash": "solid"
          },
          "opacity": 0.3,
          "type": "line",
          "x0": "2024-08-03T00:00:00",
          "x1": "2024-08-03T00:00:00",
          "xref": "x5",
          "y0": 0,
          "y1": 1,
          "yref": "y5 domain"
         },
         {
          "line": {
           "color": "red",
           "dash": "solid"
          },
          "opacity": 0.3,
          "type": "line",
          "x0": "2024-08-04T00:00:00",
          "x1": "2024-08-04T00:00:00",
          "xref": "x5",
          "y0": 0,
          "y1": 1,
          "yref": "y5 domain"
         },
         {
          "line": {
           "color": "red",
           "dash": "solid"
          },
          "opacity": 0.3,
          "type": "line",
          "x0": "2024-08-05T00:00:00",
          "x1": "2024-08-05T00:00:00",
          "xref": "x5",
          "y0": 0,
          "y1": 1,
          "yref": "y5 domain"
         },
         {
          "line": {
           "color": "red",
           "dash": "solid"
          },
          "opacity": 0.3,
          "type": "line",
          "x0": "2024-08-21T00:00:00",
          "x1": "2024-08-21T00:00:00",
          "xref": "x5",
          "y0": 0,
          "y1": 1,
          "yref": "y5 domain"
         },
         {
          "line": {
           "color": "red",
           "dash": "solid"
          },
          "opacity": 0.3,
          "type": "line",
          "x0": "2024-08-22T00:00:00",
          "x1": "2024-08-22T00:00:00",
          "xref": "x5",
          "y0": 0,
          "y1": 1,
          "yref": "y5 domain"
         },
         {
          "line": {
           "color": "red",
           "dash": "solid"
          },
          "opacity": 0.3,
          "type": "line",
          "x0": "2024-08-23T00:00:00",
          "x1": "2024-08-23T00:00:00",
          "xref": "x5",
          "y0": 0,
          "y1": 1,
          "yref": "y5 domain"
         },
         {
          "line": {
           "color": "red",
           "dash": "solid"
          },
          "opacity": 0.3,
          "type": "line",
          "x0": "2024-08-24T00:00:00",
          "x1": "2024-08-24T00:00:00",
          "xref": "x5",
          "y0": 0,
          "y1": 1,
          "yref": "y5 domain"
         },
         {
          "line": {
           "color": "red",
           "dash": "solid"
          },
          "opacity": 0.3,
          "type": "line",
          "x0": "2024-08-25T00:00:00",
          "x1": "2024-08-25T00:00:00",
          "xref": "x5",
          "y0": 0,
          "y1": 1,
          "yref": "y5 domain"
         }
        ],
        "template": {
         "data": {
          "bar": [
           {
            "error_x": {
             "color": "#2a3f5f"
            },
            "error_y": {
             "color": "#2a3f5f"
            },
            "marker": {
             "line": {
              "color": "white",
              "width": 0.5
             },
             "pattern": {
              "fillmode": "overlay",
              "size": 10,
              "solidity": 0.2
             }
            },
            "type": "bar"
           }
          ],
          "barpolar": [
           {
            "marker": {
             "line": {
              "color": "white",
              "width": 0.5
             },
             "pattern": {
              "fillmode": "overlay",
              "size": 10,
              "solidity": 0.2
             }
            },
            "type": "barpolar"
           }
          ],
          "carpet": [
           {
            "aaxis": {
             "endlinecolor": "#2a3f5f",
             "gridcolor": "#C8D4E3",
             "linecolor": "#C8D4E3",
             "minorgridcolor": "#C8D4E3",
             "startlinecolor": "#2a3f5f"
            },
            "baxis": {
             "endlinecolor": "#2a3f5f",
             "gridcolor": "#C8D4E3",
             "linecolor": "#C8D4E3",
             "minorgridcolor": "#C8D4E3",
             "startlinecolor": "#2a3f5f"
            },
            "type": "carpet"
           }
          ],
          "choropleth": [
           {
            "colorbar": {
             "outlinewidth": 0,
             "ticks": ""
            },
            "type": "choropleth"
           }
          ],
          "contour": [
           {
            "colorbar": {
             "outlinewidth": 0,
             "ticks": ""
            },
            "colorscale": [
             [
              0,
              "#0d0887"
             ],
             [
              0.1111111111111111,
              "#46039f"
             ],
             [
              0.2222222222222222,
              "#7201a8"
             ],
             [
              0.3333333333333333,
              "#9c179e"
             ],
             [
              0.4444444444444444,
              "#bd3786"
             ],
             [
              0.5555555555555556,
              "#d8576b"
             ],
             [
              0.6666666666666666,
              "#ed7953"
             ],
             [
              0.7777777777777778,
              "#fb9f3a"
             ],
             [
              0.8888888888888888,
              "#fdca26"
             ],
             [
              1,
              "#f0f921"
             ]
            ],
            "type": "contour"
           }
          ],
          "contourcarpet": [
           {
            "colorbar": {
             "outlinewidth": 0,
             "ticks": ""
            },
            "type": "contourcarpet"
           }
          ],
          "heatmap": [
           {
            "colorbar": {
             "outlinewidth": 0,
             "ticks": ""
            },
            "colorscale": [
             [
              0,
              "#0d0887"
             ],
             [
              0.1111111111111111,
              "#46039f"
             ],
             [
              0.2222222222222222,
              "#7201a8"
             ],
             [
              0.3333333333333333,
              "#9c179e"
             ],
             [
              0.4444444444444444,
              "#bd3786"
             ],
             [
              0.5555555555555556,
              "#d8576b"
             ],
             [
              0.6666666666666666,
              "#ed7953"
             ],
             [
              0.7777777777777778,
              "#fb9f3a"
             ],
             [
              0.8888888888888888,
              "#fdca26"
             ],
             [
              1,
              "#f0f921"
             ]
            ],
            "type": "heatmap"
           }
          ],
          "histogram": [
           {
            "marker": {
             "pattern": {
              "fillmode": "overlay",
              "size": 10,
              "solidity": 0.2
             }
            },
            "type": "histogram"
           }
          ],
          "histogram2d": [
           {
            "colorbar": {
             "outlinewidth": 0,
             "ticks": ""
            },
            "colorscale": [
             [
              0,
              "#0d0887"
             ],
             [
              0.1111111111111111,
              "#46039f"
             ],
             [
              0.2222222222222222,
              "#7201a8"
             ],
             [
              0.3333333333333333,
              "#9c179e"
             ],
             [
              0.4444444444444444,
              "#bd3786"
             ],
             [
              0.5555555555555556,
              "#d8576b"
             ],
             [
              0.6666666666666666,
              "#ed7953"
             ],
             [
              0.7777777777777778,
              "#fb9f3a"
             ],
             [
              0.8888888888888888,
              "#fdca26"
             ],
             [
              1,
              "#f0f921"
             ]
            ],
            "type": "histogram2d"
           }
          ],
          "histogram2dcontour": [
           {
            "colorbar": {
             "outlinewidth": 0,
             "ticks": ""
            },
            "colorscale": [
             [
              0,
              "#0d0887"
             ],
             [
              0.1111111111111111,
              "#46039f"
             ],
             [
              0.2222222222222222,
              "#7201a8"
             ],
             [
              0.3333333333333333,
              "#9c179e"
             ],
             [
              0.4444444444444444,
              "#bd3786"
             ],
             [
              0.5555555555555556,
              "#d8576b"
             ],
             [
              0.6666666666666666,
              "#ed7953"
             ],
             [
              0.7777777777777778,
              "#fb9f3a"
             ],
             [
              0.8888888888888888,
              "#fdca26"
             ],
             [
              1,
              "#f0f921"
             ]
            ],
            "type": "histogram2dcontour"
           }
          ],
          "mesh3d": [
           {
            "colorbar": {
             "outlinewidth": 0,
             "ticks": ""
            },
            "type": "mesh3d"
           }
          ],
          "parcoords": [
           {
            "line": {
             "colorbar": {
              "outlinewidth": 0,
              "ticks": ""
             }
            },
            "type": "parcoords"
           }
          ],
          "pie": [
           {
            "automargin": true,
            "type": "pie"
           }
          ],
          "scatter": [
           {
            "fillpattern": {
             "fillmode": "overlay",
             "size": 10,
             "solidity": 0.2
            },
            "type": "scatter"
           }
          ],
          "scatter3d": [
           {
            "line": {
             "colorbar": {
              "outlinewidth": 0,
              "ticks": ""
             }
            },
            "marker": {
             "colorbar": {
              "outlinewidth": 0,
              "ticks": ""
             }
            },
            "type": "scatter3d"
           }
          ],
          "scattercarpet": [
           {
            "marker": {
             "colorbar": {
              "outlinewidth": 0,
              "ticks": ""
             }
            },
            "type": "scattercarpet"
           }
          ],
          "scattergeo": [
           {
            "marker": {
             "colorbar": {
              "outlinewidth": 0,
              "ticks": ""
             }
            },
            "type": "scattergeo"
           }
          ],
          "scattergl": [
           {
            "marker": {
             "colorbar": {
              "outlinewidth": 0,
              "ticks": ""
             }
            },
            "type": "scattergl"
           }
          ],
          "scattermap": [
           {
            "marker": {
             "colorbar": {
              "outlinewidth": 0,
              "ticks": ""
             }
            },
            "type": "scattermap"
           }
          ],
          "scattermapbox": [
           {
            "marker": {
             "colorbar": {
              "outlinewidth": 0,
              "ticks": ""
             }
            },
            "type": "scattermapbox"
           }
          ],
          "scatterpolar": [
           {
            "marker": {
             "colorbar": {
              "outlinewidth": 0,
              "ticks": ""
             }
            },
            "type": "scatterpolar"
           }
          ],
          "scatterpolargl": [
           {
            "marker": {
             "colorbar": {
              "outlinewidth": 0,
              "ticks": ""
             }
            },
            "type": "scatterpolargl"
           }
          ],
          "scatterternary": [
           {
            "marker": {
             "colorbar": {
              "outlinewidth": 0,
              "ticks": ""
             }
            },
            "type": "scatterternary"
           }
          ],
          "surface": [
           {
            "colorbar": {
             "outlinewidth": 0,
             "ticks": ""
            },
            "colorscale": [
             [
              0,
              "#0d0887"
             ],
             [
              0.1111111111111111,
              "#46039f"
             ],
             [
              0.2222222222222222,
              "#7201a8"
             ],
             [
              0.3333333333333333,
              "#9c179e"
             ],
             [
              0.4444444444444444,
              "#bd3786"
             ],
             [
              0.5555555555555556,
              "#d8576b"
             ],
             [
              0.6666666666666666,
              "#ed7953"
             ],
             [
              0.7777777777777778,
              "#fb9f3a"
             ],
             [
              0.8888888888888888,
              "#fdca26"
             ],
             [
              1,
              "#f0f921"
             ]
            ],
            "type": "surface"
           }
          ],
          "table": [
           {
            "cells": {
             "fill": {
              "color": "#EBF0F8"
             },
             "line": {
              "color": "white"
             }
            },
            "header": {
             "fill": {
              "color": "#C8D4E3"
             },
             "line": {
              "color": "white"
             }
            },
            "type": "table"
           }
          ]
         },
         "layout": {
          "annotationdefaults": {
           "arrowcolor": "#2a3f5f",
           "arrowhead": 0,
           "arrowwidth": 1
          },
          "autotypenumbers": "strict",
          "coloraxis": {
           "colorbar": {
            "outlinewidth": 0,
            "ticks": ""
           }
          },
          "colorscale": {
           "diverging": [
            [
             0,
             "#8e0152"
            ],
            [
             0.1,
             "#c51b7d"
            ],
            [
             0.2,
             "#de77ae"
            ],
            [
             0.3,
             "#f1b6da"
            ],
            [
             0.4,
             "#fde0ef"
            ],
            [
             0.5,
             "#f7f7f7"
            ],
            [
             0.6,
             "#e6f5d0"
            ],
            [
             0.7,
             "#b8e186"
            ],
            [
             0.8,
             "#7fbc41"
            ],
            [
             0.9,
             "#4d9221"
            ],
            [
             1,
             "#276419"
            ]
           ],
           "sequential": [
            [
             0,
             "#0d0887"
            ],
            [
             0.1111111111111111,
             "#46039f"
            ],
            [
             0.2222222222222222,
             "#7201a8"
            ],
            [
             0.3333333333333333,
             "#9c179e"
            ],
            [
             0.4444444444444444,
             "#bd3786"
            ],
            [
             0.5555555555555556,
             "#d8576b"
            ],
            [
             0.6666666666666666,
             "#ed7953"
            ],
            [
             0.7777777777777778,
             "#fb9f3a"
            ],
            [
             0.8888888888888888,
             "#fdca26"
            ],
            [
             1,
             "#f0f921"
            ]
           ],
           "sequentialminus": [
            [
             0,
             "#0d0887"
            ],
            [
             0.1111111111111111,
             "#46039f"
            ],
            [
             0.2222222222222222,
             "#7201a8"
            ],
            [
             0.3333333333333333,
             "#9c179e"
            ],
            [
             0.4444444444444444,
             "#bd3786"
            ],
            [
             0.5555555555555556,
             "#d8576b"
            ],
            [
             0.6666666666666666,
             "#ed7953"
            ],
            [
             0.7777777777777778,
             "#fb9f3a"
            ],
            [
             0.8888888888888888,
             "#fdca26"
            ],
            [
             1,
             "#f0f921"
            ]
           ]
          },
          "colorway": [
           "#636efa",
           "#EF553B",
           "#00cc96",
           "#ab63fa",
           "#FFA15A",
           "#19d3f3",
           "#FF6692",
           "#B6E880",
           "#FF97FF",
           "#FECB52"
          ],
          "font": {
           "color": "#2a3f5f"
          },
          "geo": {
           "bgcolor": "white",
           "lakecolor": "white",
           "landcolor": "white",
           "showlakes": true,
           "showland": true,
           "subunitcolor": "#C8D4E3"
          },
          "hoverlabel": {
           "align": "left"
          },
          "hovermode": "closest",
          "mapbox": {
           "style": "light"
          },
          "paper_bgcolor": "white",
          "plot_bgcolor": "white",
          "polar": {
           "angularaxis": {
            "gridcolor": "#EBF0F8",
            "linecolor": "#EBF0F8",
            "ticks": ""
           },
           "bgcolor": "white",
           "radialaxis": {
            "gridcolor": "#EBF0F8",
            "linecolor": "#EBF0F8",
            "ticks": ""
           }
          },
          "scene": {
           "xaxis": {
            "backgroundcolor": "white",
            "gridcolor": "#DFE8F3",
            "gridwidth": 2,
            "linecolor": "#EBF0F8",
            "showbackground": true,
            "ticks": "",
            "zerolinecolor": "#EBF0F8"
           },
           "yaxis": {
            "backgroundcolor": "white",
            "gridcolor": "#DFE8F3",
            "gridwidth": 2,
            "linecolor": "#EBF0F8",
            "showbackground": true,
            "ticks": "",
            "zerolinecolor": "#EBF0F8"
           },
           "zaxis": {
            "backgroundcolor": "white",
            "gridcolor": "#DFE8F3",
            "gridwidth": 2,
            "linecolor": "#EBF0F8",
            "showbackground": true,
            "ticks": "",
            "zerolinecolor": "#EBF0F8"
           }
          },
          "shapedefaults": {
           "line": {
            "color": "#2a3f5f"
           }
          },
          "ternary": {
           "aaxis": {
            "gridcolor": "#DFE8F3",
            "linecolor": "#A2B1C6",
            "ticks": ""
           },
           "baxis": {
            "gridcolor": "#DFE8F3",
            "linecolor": "#A2B1C6",
            "ticks": ""
           },
           "bgcolor": "white",
           "caxis": {
            "gridcolor": "#DFE8F3",
            "linecolor": "#A2B1C6",
            "ticks": ""
           }
          },
          "title": {
           "x": 0.05
          },
          "xaxis": {
           "automargin": true,
           "gridcolor": "#EBF0F8",
           "linecolor": "#EBF0F8",
           "ticks": "",
           "title": {
            "standoff": 15
           },
           "zerolinecolor": "#EBF0F8",
           "zerolinewidth": 2
          },
          "yaxis": {
           "automargin": true,
           "gridcolor": "#EBF0F8",
           "linecolor": "#EBF0F8",
           "ticks": "",
           "title": {
            "standoff": 15
           },
           "zerolinecolor": "#EBF0F8",
           "zerolinewidth": 2
          }
         }
        },
        "title": {
         "text": "🔄 Comprehensive Market Cycles Analysis<br><sub>Time cycles, harmonic analysis, and market timing</sub>"
        },
        "xaxis": {
         "anchor": "y",
         "domain": [
          0,
          0.45
         ]
        },
        "xaxis2": {
         "anchor": "y2",
         "domain": [
          0.55,
          1
         ]
        },
        "xaxis3": {
         "anchor": "y3",
         "domain": [
          0,
          0.45
         ]
        },
        "xaxis4": {
         "anchor": "y4",
         "domain": [
          0.55,
          1
         ],
         "title": {
          "text": "Period (Days)"
         }
        },
        "xaxis5": {
         "anchor": "y5",
         "domain": [
          0,
          0.45
         ],
         "title": {
          "text": "Date"
         }
        },
        "yaxis": {
         "anchor": "x",
         "domain": [
          0.7777777777777778,
          1
         ],
         "title": {
          "text": "Price ($)"
         }
        },
        "yaxis2": {
         "anchor": "x2",
         "domain": [
          0.7777777777777778,
          1
         ],
         "title": {
          "text": "Price ($)"
         }
        },
        "yaxis3": {
         "anchor": "x3",
         "domain": [
          0.3888888888888889,
          0.6111111111111112
         ],
         "title": {
          "text": "Price ($)"
         }
        },
        "yaxis4": {
         "anchor": "x4",
         "domain": [
          0.3888888888888889,
          0.6111111111111112
         ],
         "title": {
          "text": "Magnitude"
         }
        },
        "yaxis5": {
         "anchor": "x5",
         "domain": [
          0,
          0.22222222222222224
         ],
         "title": {
          "text": "Confluence Score"
         }
        }
       }
      }
     },
     "metadata": {},
     "output_type": "display_data"
    },
    {
     "name": "stdout",
     "output_type": "stream",
     "text": [
      "🔄 MARKET CYCLES ANALYSIS:\n",
      "========================================\n",
      "\n",
      "⏰ TIME CYCLES:\n",
      "• Identify recurring time intervals between highs/lows\n",
      "• Common cycles: 10, 20, 50, 100, 200 days\n",
      "• Look for cycle inversions (high-to-high, low-to-low)\n",
      "• Use multiple timeframes for confirmation\n",
      "\n",
      "📊 CYCLIC LINES:\n",
      "• Dynamic support/resistance based on cycle timing\n",
      "• Upper line connects cycle highs\n",
      "• Lower line connects cycle lows\n",
      "• Midline shows cycle equilibrium\n",
      "\n",
      "🌊 SINE WAVE ANALYSIS:\n",
      "• Decomposes price into harmonic components\n",
      "• Short cycles: 10-30 days (trading)\n",
      "• Medium cycles: 30-100 days (position)\n",
      "• Long cycles: 100-500 days (investment)\n",
      "\n",
      "🎯 TRADING WITH CYCLES:\n",
      "✅ Enter positions when multiple cycles align\n",
      "✅ Look for cycle confluence at support/resistance\n",
      "✅ Use cycle projections for profit targets\n",
      "⚠️ Cycles can shift and vary in amplitude\n",
      "🔍 Combine with price action for confirmation\n",
      "\n",
      "📅 CYCLE TRADING CALENDAR:\n",
      "• Week 1-2: Often continuation of monthly trend\n",
      "• Week 3: Mid-month reversals common\n",
      "• Week 4: Month-end positioning effects\n",
      "• Seasonal cycles: January effect, summer doldrums\n",
      "• Economic cycles: Fed meetings, earnings seasons\n"
     ]
    }
   ],
   "source": [
    "# 5. MARKET CYCLES ANALYSIS - Time Cycles, Cyclic Lines & Sine Waves\n",
    "def plot_market_cycles():\n",
    "    \"\"\"Demonstrate various cycle analysis techniques\"\"\"\n",
    "    \n",
    "    fig = make_subplots(\n",
    "        rows=3, cols=2,\n",
    "        subplot_titles=('Market Time Cycles', 'Cyclic Lines Analysis',\n",
    "                       'Sine Wave Decomposition', 'Fourier Analysis',\n",
    "                       'Cycle Confluence', 'Trading Cycle Calendar'),\n",
    "        specs=[[{\"secondary_y\": False}, {\"secondary_y\": False}],\n",
    "               [{\"secondary_y\": False}, {\"secondary_y\": False}],\n",
    "               [{\"secondary_y\": False}, {\"type\": \"table\"}]]\n",
    "    )\n",
    "    \n",
    "    # Use extended mixed data for cycle analysis\n",
    "    cycle_data = mixed_data.copy()\n",
    "    dates = cycle_data['Date']\n",
    "    prices = cycle_data['Close']\n",
    "    \n",
    "    # 1. TIME CYCLES - Identify recurring time patterns\n",
    "    fig.add_trace(go.Scatter(\n",
    "        x=dates,\n",
    "        y=prices,\n",
    "        mode='lines',\n",
    "        name='Price',\n",
    "        line=dict(color='blue', width=1)\n",
    "    ), row=1, col=1)\n",
    "    \n",
    "    # Add time cycle markers (every 30 days for demonstration)\n",
    "    cycle_period = 30\n",
    "    cycle_dates = []\n",
    "    for i in range(0, len(dates), cycle_period):\n",
    "        if i < len(dates):\n",
    "            cycle_dates.append(dates.iloc[i])\n",
    "            fig.add_vline(\n",
    "                x=dates.iloc[i],\n",
    "                line_dash=\"dash\",\n",
    "                line_color=\"red\",\n",
    "                opacity=0.6,\n",
    "                row=1, col=1\n",
    "            )\n",
    "    \n",
    "    # Mark significant highs and lows\n",
    "    from scipy.signal import find_peaks\n",
    "    peaks, _ = find_peaks(prices, distance=15, height=prices.mean())\n",
    "    troughs, _ = find_peaks(-prices, distance=15, height=-prices.mean())\n",
    "    \n",
    "    if len(peaks) > 0:\n",
    "        fig.add_trace(go.Scatter(\n",
    "            x=dates.iloc[peaks],\n",
    "            y=prices.iloc[peaks],\n",
    "            mode='markers',\n",
    "            name='Cycle Highs',\n",
    "            marker=dict(size=8, color='red', symbol='triangle-up')\n",
    "        ), row=1, col=1)\n",
    "    \n",
    "    if len(troughs) > 0:\n",
    "        fig.add_trace(go.Scatter(\n",
    "            x=dates.iloc[troughs],\n",
    "            y=prices.iloc[troughs],\n",
    "            mode='markers',\n",
    "            name='Cycle Lows', \n",
    "            marker=dict(size=8, color='green', symbol='triangle-down')\n",
    "        ), row=1, col=1)\n",
    "    \n",
    "    # 2. CYCLIC LINES - Price channels based on cycle timing\n",
    "    fig.add_trace(go.Scatter(\n",
    "        x=dates,\n",
    "        y=prices,\n",
    "        mode='lines',\n",
    "        name='Price',\n",
    "        line=dict(color='blue', width=1),\n",
    "        showlegend=False\n",
    "    ), row=1, col=2)\n",
    "    \n",
    "    # Draw cyclic support and resistance\n",
    "    cycle_high = prices.rolling(window=20).max()\n",
    "    cycle_low = prices.rolling(window=20).min()\n",
    "    cycle_mid = (cycle_high + cycle_low) / 2\n",
    "    \n",
    "    fig.add_trace(go.Scatter(\n",
    "        x=dates,\n",
    "        y=cycle_high,\n",
    "        mode='lines',\n",
    "        name='Cycle Resistance',\n",
    "        line=dict(color='red', dash='dot', width=1)\n",
    "    ), row=1, col=2)\n",
    "    \n",
    "    fig.add_trace(go.Scatter(\n",
    "        x=dates,\n",
    "        y=cycle_low,\n",
    "        mode='lines',\n",
    "        name='Cycle Support',\n",
    "        line=dict(color='green', dash='dot', width=1)\n",
    "    ), row=1, col=2)\n",
    "    \n",
    "    fig.add_trace(go.Scatter(\n",
    "        x=dates,\n",
    "        y=cycle_mid,\n",
    "        mode='lines',\n",
    "        name='Cycle Midline',\n",
    "        line=dict(color='orange', dash='dash', width=2)\n",
    "    ), row=1, col=2)\n",
    "    \n",
    "    # 3. SINE WAVE DECOMPOSITION\n",
    "    # Extract dominant cycles using simple sine approximation\n",
    "    x_numeric = np.arange(len(prices))\n",
    "    \n",
    "    # Fit multiple sine waves\n",
    "    def sine_wave(x, amplitude, frequency, phase, offset):\n",
    "        return amplitude * np.sin(2 * np.pi * frequency * x + phase) + offset\n",
    "    \n",
    "    # Create component sine waves\n",
    "    short_cycle = 5 * np.sin(2 * np.pi * x_numeric / 20)  # 20-day cycle\n",
    "    medium_cycle = 8 * np.sin(2 * np.pi * x_numeric / 50)  # 50-day cycle  \n",
    "    long_cycle = 12 * np.sin(2 * np.pi * x_numeric / 100)  # 100-day cycle\n",
    "    \n",
    "    combined_sine = short_cycle + medium_cycle + long_cycle + prices.mean()\n",
    "    \n",
    "    fig.add_trace(go.Scatter(\n",
    "        x=dates,\n",
    "        y=combined_sine,\n",
    "        mode='lines',\n",
    "        name='Combined Sine',\n",
    "        line=dict(color='purple', width=2)\n",
    "    ), row=2, col=1)\n",
    "    \n",
    "    fig.add_trace(go.Scatter(\n",
    "        x=dates,\n",
    "        y=short_cycle + prices.mean(),\n",
    "        mode='lines',\n",
    "        name='20-day cycle',\n",
    "        line=dict(color='red', width=1, dash='dot'),\n",
    "        opacity=0.7\n",
    "    ), row=2, col=1)\n",
    "    \n",
    "    fig.add_trace(go.Scatter(\n",
    "        x=dates,\n",
    "        y=medium_cycle + prices.mean(),\n",
    "        mode='lines',\n",
    "        name='50-day cycle',\n",
    "        line=dict(color='blue', width=1, dash='dot'),\n",
    "        opacity=0.7\n",
    "    ), row=2, col=1)\n",
    "    \n",
    "    fig.add_trace(go.Scatter(\n",
    "        x=dates,\n",
    "        y=long_cycle + prices.mean(),\n",
    "        mode='lines',\n",
    "        name='100-day cycle',\n",
    "        line=dict(color='green', width=1, dash='dot'),\n",
    "        opacity=0.7\n",
    "    ), row=2, col=1)\n",
    "    \n",
    "    # 4. FOURIER ANALYSIS (simplified)\n",
    "    # Perform FFT to find dominant frequencies\n",
    "    price_detrended = prices - prices.rolling(window=50).mean().fillna(prices.mean())\n",
    "    price_detrended = price_detrended.fillna(0)\n",
    "    \n",
    "    fft = np.fft.fft(price_detrended)\n",
    "    freqs = np.fft.fftfreq(len(price_detrended))\n",
    "    \n",
    "    # Get magnitude spectrum\n",
    "    magnitude = np.abs(fft)\n",
    "    \n",
    "    # Plot frequency spectrum (first half, positive frequencies)\n",
    "    n_half = len(freqs) // 2\n",
    "    \n",
    "    fig.add_trace(go.Scatter(\n",
    "        x=1/np.abs(freqs[1:n_half]),  # Convert frequency to period\n",
    "        y=magnitude[1:n_half],\n",
    "        mode='lines',\n",
    "        name='Frequency Spectrum',\n",
    "        line=dict(color='purple', width=2)\n",
    "    ), row=2, col=2)\n",
    "    \n",
    "    # 5. CYCLE CONFLUENCE - When multiple cycles align\n",
    "    confluence_score = np.abs(short_cycle) + np.abs(medium_cycle) + np.abs(long_cycle)\n",
    "    \n",
    "    fig.add_trace(go.Scatter(\n",
    "        x=dates,\n",
    "        y=confluence_score,\n",
    "        mode='lines',\n",
    "        name='Cycle Confluence',\n",
    "        line=dict(color='red', width=2),\n",
    "        fill='tonexty'\n",
    "    ), row=3, col=1)\n",
    "    \n",
    "    # Mark high confluence areas\n",
    "    high_confluence = confluence_score > np.percentile(confluence_score, 80)\n",
    "    confluence_dates = dates[high_confluence]\n",
    "    \n",
    "    for conf_date in confluence_dates:\n",
    "        fig.add_vline(\n",
    "            x=conf_date,\n",
    "            line_dash=\"solid\",\n",
    "            line_color=\"red\",\n",
    "            opacity=0.3,\n",
    "            row=3, col=1\n",
    "        )\n",
    "    \n",
    "    # 6. TRADING CYCLE CALENDAR\n",
    "    cycle_calendar = {\n",
    "        'Cycle_Length': ['20 days', '50 days', '100 days', '200 days'],\n",
    "        'Market_Phase': ['Short-term', 'Intermediate', 'Long-term', 'Primary'],\n",
    "        'Typical_Use': ['Swing Trading', 'Position Entry', 'Trend Analysis', 'Investment'],\n",
    "        'Reliability': ['Moderate', 'Good', 'High', 'Very High']\n",
    "    }\n",
    "    \n",
    "    fig.add_trace(go.Table(\n",
    "        header=dict(values=list(cycle_calendar.keys()),\n",
    "                   fill_color='lightcoral',\n",
    "                   align='center',\n",
    "                   font=dict(size=12)),\n",
    "        cells=dict(values=[cycle_calendar[col] for col in cycle_calendar.keys()],\n",
    "                  fill_color='lightgray',\n",
    "                  align='center',\n",
    "                  font=dict(size=10))\n",
    "    ), row=3, col=2)\n",
    "    \n",
    "    fig.update_layout(\n",
    "        title='🔄 Comprehensive Market Cycles Analysis<br><sub>Time cycles, harmonic analysis, and market timing</sub>',\n",
    "        height=1200,\n",
    "        template='plotly_white'\n",
    "    )\n",
    "    \n",
    "    # Update axis labels\n",
    "    fig.update_yaxes(title_text=\"Price ($)\", row=1, col=1)\n",
    "    fig.update_yaxes(title_text=\"Price ($)\", row=1, col=2)\n",
    "    fig.update_yaxes(title_text=\"Price ($)\", row=2, col=1)\n",
    "    fig.update_yaxes(title_text=\"Magnitude\", row=2, col=2)\n",
    "    fig.update_yaxes(title_text=\"Confluence Score\", row=3, col=1)\n",
    "    fig.update_xaxes(title_text=\"Period (Days)\", row=2, col=2)\n",
    "    fig.update_xaxes(title_text=\"Date\", row=3, col=1)\n",
    "    \n",
    "    return fig\n",
    "\n",
    "cycles_fig = plot_market_cycles()\n",
    "cycles_fig.show()\n",
    "\n",
    "print(\"🔄 MARKET CYCLES ANALYSIS:\")\n",
    "print(\"=\" * 40)\n",
    "\n",
    "print(\"\\n⏰ TIME CYCLES:\")\n",
    "print(\"• Identify recurring time intervals between highs/lows\")\n",
    "print(\"• Common cycles: 10, 20, 50, 100, 200 days\")\n",
    "print(\"• Look for cycle inversions (high-to-high, low-to-low)\")\n",
    "print(\"• Use multiple timeframes for confirmation\")\n",
    "\n",
    "print(\"\\n📊 CYCLIC LINES:\")\n",
    "print(\"• Dynamic support/resistance based on cycle timing\")\n",
    "print(\"• Upper line connects cycle highs\")\n",
    "print(\"• Lower line connects cycle lows\")\n",
    "print(\"• Midline shows cycle equilibrium\")\n",
    "\n",
    "print(\"\\n🌊 SINE WAVE ANALYSIS:\")\n",
    "print(\"• Decomposes price into harmonic components\")\n",
    "print(\"• Short cycles: 10-30 days (trading)\")\n",
    "print(\"• Medium cycles: 30-100 days (position)\")\n",
    "print(\"• Long cycles: 100-500 days (investment)\")\n",
    "\n",
    "print(\"\\n🎯 TRADING WITH CYCLES:\")\n",
    "print(\"✅ Enter positions when multiple cycles align\")\n",
    "print(\"✅ Look for cycle confluence at support/resistance\")\n",
    "print(\"✅ Use cycle projections for profit targets\")\n",
    "print(\"⚠️ Cycles can shift and vary in amplitude\")\n",
    "print(\"🔍 Combine with price action for confirmation\")\n",
    "\n",
    "print(\"\\n📅 CYCLE TRADING CALENDAR:\")\n",
    "print(\"• Week 1-2: Often continuation of monthly trend\")\n",
    "print(\"• Week 3: Mid-month reversals common\")\n",
    "print(\"• Week 4: Month-end positioning effects\")\n",
    "print(\"• Seasonal cycles: January effect, summer doldrums\")\n",
    "print(\"• Economic cycles: Fed meetings, earnings seasons\")"
   ]
  },
  {
   "cell_type": "markdown",
   "id": "f07d20a4",
   "metadata": {},
   "source": [
    "# 🎯 INTEGRATION & TRADING STRATEGIES\n",
    "\n",
    "## Combining Advanced Tools for Maximum Effectiveness\n",
    "\n",
    "The true power of advanced trading tools comes from their intelligent combination. Each tool provides a different perspective on market behavior, and when used together, they create a comprehensive analytical framework."
   ]
  },
  {
   "cell_type": "code",
   "execution_count": 14,
   "id": "a1d26bd4",
   "metadata": {},
   "outputs": [
    {
     "data": {
      "application/vnd.plotly.v1+json": {
       "config": {
        "plotlyServerURL": "https://plot.ly"
       },
       "data": [
        {
         "close": {
          "bdata": "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",
          "dtype": "f8"
         },
         "decreasing": {
          "line": {
           "color": "red"
          }
         },
         "high": {
          "bdata": "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",
          "dtype": "f8"
         },
         "increasing": {
          "line": {
           "color": "green"
          }
         },
         "low": {
          "bdata": "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",
          "dtype": "f8"
         },
         "name": "Price Action",
         "open": {
          "bdata": "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",
          "dtype": "f8"
         },
         "type": "candlestick",
         "x": [
          "2024-01-01T00:00:00.000000000",
          "2024-01-02T00:00:00.000000000",
          "2024-01-03T00:00:00.000000000",
          "2024-01-04T00:00:00.000000000",
          "2024-01-05T00:00:00.000000000",
          "2024-01-06T00:00:00.000000000",
          "2024-01-07T00:00:00.000000000",
          "2024-01-08T00:00:00.000000000",
          "2024-01-09T00:00:00.000000000",
          "2024-01-10T00:00:00.000000000",
          "2024-01-11T00:00:00.000000000",
          "2024-01-12T00:00:00.000000000",
          "2024-01-13T00:00:00.000000000",
          "2024-01-14T00:00:00.000000000",
          "2024-01-15T00:00:00.000000000",
          "2024-01-16T00:00:00.000000000",
          "2024-01-17T00:00:00.000000000",
          "2024-01-18T00:00:00.000000000",
          "2024-01-19T00:00:00.000000000",
          "2024-01-20T00:00:00.000000000",
          "2024-01-21T00:00:00.000000000",
          "2024-01-22T00:00:00.000000000",
          "2024-01-23T00:00:00.000000000",
          "2024-01-24T00:00:00.000000000",
          "2024-01-25T00:00:00.000000000",
          "2024-01-26T00:00:00.000000000",
          "2024-01-27T00:00:00.000000000",
          "2024-01-28T00:00:00.000000000",
          "2024-01-29T00:00:00.000000000",
          "2024-01-30T00:00:00.000000000",
          "2024-01-31T00:00:00.000000000",
          "2024-02-01T00:00:00.000000000",
          "2024-02-02T00:00:00.000000000",
          "2024-02-03T00:00:00.000000000",
          "2024-02-04T00:00:00.000000000",
          "2024-02-05T00:00:00.000000000",
          "2024-02-06T00:00:00.000000000",
          "2024-02-07T00:00:00.000000000",
          "2024-02-08T00:00:00.000000000",
          "2024-02-09T00:00:00.000000000",
          "2024-02-10T00:00:00.000000000",
          "2024-02-11T00:00:00.000000000",
          "2024-02-12T00:00:00.000000000",
          "2024-02-13T00:00:00.000000000",
          "2024-02-14T00:00:00.000000000",
          "2024-02-15T00:00:00.000000000",
          "2024-02-16T00:00:00.000000000",
          "2024-02-17T00:00:00.000000000",
          "2024-02-18T00:00:00.000000000",
          "2024-02-19T00:00:00.000000000",
          "2024-02-20T00:00:00.000000000",
          "2024-02-21T00:00:00.000000000",
          "2024-02-22T00:00:00.000000000",
          "2024-02-23T00:00:00.000000000",
          "2024-02-24T00:00:00.000000000",
          "2024-02-25T00:00:00.000000000",
          "2024-02-26T00:00:00.000000000",
          "2024-02-27T00:00:00.000000000",
          "2024-02-28T00:00:00.000000000",
          "2024-02-29T00:00:00.000000000",
          "2024-03-01T00:00:00.000000000",
          "2024-03-02T00:00:00.000000000",
          "2024-03-03T00:00:00.000000000",
          "2024-03-04T00:00:00.000000000",
          "2024-03-05T00:00:00.000000000",
          "2024-03-06T00:00:00.000000000",
          "2024-03-07T00:00:00.000000000",
          "2024-03-08T00:00:00.000000000",
          "2024-03-09T00:00:00.000000000",
          "2024-03-10T00:00:00.000000000",
          "2024-03-11T00:00:00.000000000",
          "2024-03-12T00:00:00.000000000",
          "2024-03-13T00:00:00.000000000",
          "2024-03-14T00:00:00.000000000",
          "2024-03-15T00:00:00.000000000",
          "2024-03-16T00:00:00.000000000",
          "2024-03-17T00:00:00.000000000",
          "2024-03-18T00:00:00.000000000",
          "2024-03-19T00:00:00.000000000",
          "2024-03-20T00:00:00.000000000",
          "2024-03-21T00:00:00.000000000",
          "2024-03-22T00:00:00.000000000",
          "2024-03-23T00:00:00.000000000",
          "2024-03-24T00:00:00.000000000",
          "2024-03-25T00:00:00.000000000",
          "2024-03-26T00:00:00.000000000",
          "2024-03-27T00:00:00.000000000",
          "2024-03-28T00:00:00.000000000",
          "2024-03-29T00:00:00.000000000",
          "2024-03-30T00:00:00.000000000",
          "2024-03-31T00:00:00.000000000",
          "2024-04-01T00:00:00.000000000",
          "2024-04-02T00:00:00.000000000",
          "2024-04-03T00:00:00.000000000",
          "2024-04-04T00:00:00.000000000",
          "2024-04-05T00:00:00.000000000",
          "2024-04-06T00:00:00.000000000",
          "2024-04-07T00:00:00.000000000",
          "2024-04-08T00:00:00.000000000",
          "2024-04-09T00:00:00.000000000",
          "2024-04-10T00:00:00.000000000",
          "2024-04-11T00:00:00.000000000",
          "2024-04-12T00:00:00.000000000",
          "2024-04-13T00:00:00.000000000",
          "2024-04-14T00:00:00.000000000",
          "2024-04-15T00:00:00.000000000",
          "2024-04-16T00:00:00.000000000",
          "2024-04-17T00:00:00.000000000",
          "2024-04-18T00:00:00.000000000",
          "2024-04-19T00:00:00.000000000",
          "2024-04-20T00:00:00.000000000",
          "2024-04-21T00:00:00.000000000",
          "2024-04-22T00:00:00.000000000",
          "2024-04-23T00:00:00.000000000",
          "2024-04-24T00:00:00.000000000",
          "2024-04-25T00:00:00.000000000",
          "2024-04-26T00:00:00.000000000",
          "2024-04-27T00:00:00.000000000",
          "2024-04-28T00:00:00.000000000",
          "2024-04-29T00:00:00.000000000",
          "2024-04-30T00:00:00.000000000",
          "2024-05-01T00:00:00.000000000",
          "2024-05-02T00:00:00.000000000",
          "2024-05-03T00:00:00.000000000",
          "2024-05-04T00:00:00.000000000",
          "2024-05-05T00:00:00.000000000",
          "2024-05-06T00:00:00.000000000",
          "2024-05-07T00:00:00.000000000",
          "2024-05-08T00:00:00.000000000",
          "2024-05-09T00:00:00.000000000",
          "2024-05-10T00:00:00.000000000",
          "2024-05-11T00:00:00.000000000",
          "2024-05-12T00:00:00.000000000",
          "2024-05-13T00:00:00.000000000",
          "2024-05-14T00:00:00.000000000",
          "2024-05-15T00:00:00.000000000",
          "2024-05-16T00:00:00.000000000",
          "2024-05-17T00:00:00.000000000",
          "2024-05-18T00:00:00.000000000",
          "2024-05-19T00:00:00.000000000",
          "2024-05-20T00:00:00.000000000",
          "2024-05-21T00:00:00.000000000",
          "2024-05-22T00:00:00.000000000",
          "2024-05-23T00:00:00.000000000",
          "2024-05-24T00:00:00.000000000",
          "2024-05-25T00:00:00.000000000",
          "2024-05-26T00:00:00.000000000",
          "2024-05-27T00:00:00.000000000",
          "2024-05-28T00:00:00.000000000",
          "2024-05-29T00:00:00.000000000",
          "2024-05-30T00:00:00.000000000",
          "2024-05-31T00:00:00.000000000",
          "2024-06-01T00:00:00.000000000",
          "2024-06-02T00:00:00.000000000",
          "2024-06-03T00:00:00.000000000",
          "2024-06-04T00:00:00.000000000",
          "2024-06-05T00:00:00.000000000",
          "2024-06-06T00:00:00.000000000",
          "2024-06-07T00:00:00.000000000",
          "2024-06-08T00:00:00.000000000",
          "2024-06-09T00:00:00.000000000",
          "2024-06-10T00:00:00.000000000",
          "2024-06-11T00:00:00.000000000",
          "2024-06-12T00:00:00.000000000",
          "2024-06-13T00:00:00.000000000",
          "2024-06-14T00:00:00.000000000",
          "2024-06-15T00:00:00.000000000",
          "2024-06-16T00:00:00.000000000",
          "2024-06-17T00:00:00.000000000",
          "2024-06-18T00:00:00.000000000",
          "2024-06-19T00:00:00.000000000",
          "2024-06-20T00:00:00.000000000",
          "2024-06-21T00:00:00.000000000",
          "2024-06-22T00:00:00.000000000",
          "2024-06-23T00:00:00.000000000",
          "2024-06-24T00:00:00.000000000",
          "2024-06-25T00:00:00.000000000",
          "2024-06-26T00:00:00.000000000",
          "2024-06-27T00:00:00.000000000",
          "2024-06-28T00:00:00.000000000",
          "2024-06-29T00:00:00.000000000",
          "2024-06-30T00:00:00.000000000",
          "2024-07-01T00:00:00.000000000",
          "2024-07-02T00:00:00.000000000",
          "2024-07-03T00:00:00.000000000",
          "2024-07-04T00:00:00.000000000",
          "2024-07-05T00:00:00.000000000",
          "2024-07-06T00:00:00.000000000",
          "2024-07-07T00:00:00.000000000",
          "2024-07-08T00:00:00.000000000",
          "2024-07-09T00:00:00.000000000",
          "2024-07-10T00:00:00.000000000",
          "2024-07-11T00:00:00.000000000",
          "2024-07-12T00:00:00.000000000",
          "2024-07-13T00:00:00.000000000",
          "2024-07-14T00:00:00.000000000",
          "2024-07-15T00:00:00.000000000",
          "2024-07-16T00:00:00.000000000",
          "2024-07-17T00:00:00.000000000",
          "2024-07-18T00:00:00.000000000"
         ],
         "xaxis": "x",
         "yaxis": "y"
        },
        {
         "line": {
          "color": "blue",
          "width": 2
         },
         "mode": "lines+text",
         "name": "Wave 1",
         "showlegend": false,
         "text": [
          "",
          "1"
         ],
         "textposition": "top center",
         "type": "scatter",
         "x": [
          "2024-01-01T00:00:00",
          "2024-02-10T00:00:00"
         ],
         "xaxis": "x",
         "y": [
          101.49014245903369,
          109.36477982101941
         ],
         "yaxis": "y"
        },
        {
         "line": {
          "color": "blue",
          "width": 2
         },
         "mode": "lines+text",
         "name": "Wave 2",
         "showlegend": false,
         "text": [
          "",
          "2"
         ],
         "textposition": "top center",
         "type": "scatter",
         "x": [
          "2024-02-10T00:00:00",
          "2024-01-21T00:00:00"
         ],
         "xaxis": "x",
         "y": [
          109.36477982101941,
          126.32702453819537
         ],
         "yaxis": "y"
        },
        {
         "line": {
          "color": "blue",
          "width": 2
         },
         "mode": "lines+text",
         "name": "Wave 3",
         "showlegend": false,
         "text": [
          "",
          "3"
         ],
         "textposition": "top center",
         "type": "scatter",
         "x": [
          "2024-01-21T00:00:00",
          "2024-03-21T00:00:00"
         ],
         "xaxis": "x",
         "y": [
          126.32702453819537,
          92.23395463428673
         ],
         "yaxis": "y"
        },
        {
         "line": {
          "color": "blue",
          "width": 2
         },
         "mode": "lines+text",
         "name": "Wave 4",
         "showlegend": false,
         "text": [
          "",
          "4"
         ],
         "textposition": "top center",
         "type": "scatter",
         "x": [
          "2024-03-21T00:00:00",
          "2024-03-01T00:00:00"
         ],
         "xaxis": "x",
         "y": [
          92.23395463428673,
          106.25926171417888
         ],
         "yaxis": "y"
        },
        {
         "line": {
          "color": "blue",
          "width": 2
         },
         "mode": "lines+text",
         "name": "Wave 5",
         "showlegend": false,
         "text": [
          "",
          "5"
         ],
         "textposition": "top center",
         "type": "scatter",
         "x": [
          "2024-03-01T00:00:00",
          "2024-04-30T00:00:00"
         ],
         "xaxis": "x",
         "y": [
          106.25926171417888,
          139.09355585096833
         ],
         "yaxis": "y"
        },
        {
         "line": {
          "color": "blue",
          "width": 2
         },
         "mode": "lines+text",
         "name": "Wave A",
         "showlegend": false,
         "text": [
          "",
          "A"
         ],
         "textposition": "top center",
         "type": "scatter",
         "x": [
          "2024-04-30T00:00:00",
          "2024-04-10T00:00:00"
         ],
         "xaxis": "x",
         "y": [
          139.09355585096833,
          111.80763795524442
         ],
         "yaxis": "y"
        },
        {
         "line": {
          "color": "blue",
          "width": 2
         },
         "mode": "lines+text",
         "name": "Wave B",
         "showlegend": false,
         "text": [
          "",
          "B"
         ],
         "textposition": "top center",
         "type": "scatter",
         "x": [
          "2024-04-10T00:00:00",
          "2024-06-09T00:00:00"
         ],
         "xaxis": "x",
         "y": [
          111.80763795524442,
          119.59723921041419
         ],
         "yaxis": "y"
        },
        {
         "line": {
          "color": "blue",
          "width": 2
         },
         "mode": "lines+text",
         "name": "Wave C",
         "showlegend": false,
         "text": [
          "",
          "C"
         ],
         "textposition": "top center",
         "type": "scatter",
         "x": [
          "2024-06-09T00:00:00",
          "2024-05-20T00:00:00"
         ],
         "xaxis": "x",
         "y": [
          119.59723921041419,
          122.69936006334456
         ],
         "yaxis": "y"
        },
        {
         "line": {
          "color": "blue",
          "width": 2
         },
         "mode": "lines+text",
         "name": "Wave End",
         "showlegend": false,
         "text": [
          "",
          "End"
         ],
         "textposition": "top center",
         "type": "scatter",
         "x": [
          "2024-05-20T00:00:00",
          "2024-07-18T00:00:00"
         ],
         "xaxis": "x",
         "y": [
          122.69936006334456,
          126.57108910650813
         ],
         "yaxis": "y"
        },
        {
         "line": {
          "color": "purple",
          "dash": "dash",
          "width": 3
         },
         "marker": {
          "color": "purple",
          "size": 8
         },
         "mode": "lines+markers+text",
         "name": "XABCD Pattern",
         "text": [
          "X",
          "A",
          "B",
          "C",
          "D"
         ],
         "textposition": "top center",
         "type": "scatter",
         "x": [
          "2024-03-21T00:00:00",
          "2024-03-31T00:00:00",
          "2024-04-10T00:00:00",
          "2024-04-20T00:00:00",
          "2024-04-30T00:00:00"
         ],
         "xaxis": "x",
         "y": [
          92.23395463428673,
          97.93490157312576,
          111.80763795524442,
          127.8211359049178,
          139.09355585096833
         ],
         "yaxis": "y"
        },
        {
         "line": {
          "color": "blue",
          "width": 2
         },
         "mode": "lines",
         "name": "Price",
         "type": "scatter",
         "x": [
          "2024-01-01T00:00:00.000000000",
          "2024-01-02T00:00:00.000000000",
          "2024-01-03T00:00:00.000000000",
          "2024-01-04T00:00:00.000000000",
          "2024-01-05T00:00:00.000000000",
          "2024-01-06T00:00:00.000000000",
          "2024-01-07T00:00:00.000000000",
          "2024-01-08T00:00:00.000000000",
          "2024-01-09T00:00:00.000000000",
          "2024-01-10T00:00:00.000000000",
          "2024-01-11T00:00:00.000000000",
          "2024-01-12T00:00:00.000000000",
          "2024-01-13T00:00:00.000000000",
          "2024-01-14T00:00:00.000000000",
          "2024-01-15T00:00:00.000000000",
          "2024-01-16T00:00:00.000000000",
          "2024-01-17T00:00:00.000000000",
          "2024-01-18T00:00:00.000000000",
          "2024-01-19T00:00:00.000000000",
          "2024-01-20T00:00:00.000000000",
          "2024-01-21T00:00:00.000000000",
          "2024-01-22T00:00:00.000000000",
          "2024-01-23T00:00:00.000000000",
          "2024-01-24T00:00:00.000000000",
          "2024-01-25T00:00:00.000000000",
          "2024-01-26T00:00:00.000000000",
          "2024-01-27T00:00:00.000000000",
          "2024-01-28T00:00:00.000000000",
          "2024-01-29T00:00:00.000000000",
          "2024-01-30T00:00:00.000000000",
          "2024-01-31T00:00:00.000000000",
          "2024-02-01T00:00:00.000000000",
          "2024-02-02T00:00:00.000000000",
          "2024-02-03T00:00:00.000000000",
          "2024-02-04T00:00:00.000000000",
          "2024-02-05T00:00:00.000000000",
          "2024-02-06T00:00:00.000000000",
          "2024-02-07T00:00:00.000000000",
          "2024-02-08T00:00:00.000000000",
          "2024-02-09T00:00:00.000000000",
          "2024-02-10T00:00:00.000000000",
          "2024-02-11T00:00:00.000000000",
          "2024-02-12T00:00:00.000000000",
          "2024-02-13T00:00:00.000000000",
          "2024-02-14T00:00:00.000000000",
          "2024-02-15T00:00:00.000000000",
          "2024-02-16T00:00:00.000000000",
          "2024-02-17T00:00:00.000000000",
          "2024-02-18T00:00:00.000000000",
          "2024-02-19T00:00:00.000000000",
          "2024-02-20T00:00:00.000000000",
          "2024-02-21T00:00:00.000000000",
          "2024-02-22T00:00:00.000000000",
          "2024-02-23T00:00:00.000000000",
          "2024-02-24T00:00:00.000000000",
          "2024-02-25T00:00:00.000000000",
          "2024-02-26T00:00:00.000000000",
          "2024-02-27T00:00:00.000000000",
          "2024-02-28T00:00:00.000000000",
          "2024-02-29T00:00:00.000000000",
          "2024-03-01T00:00:00.000000000",
          "2024-03-02T00:00:00.000000000",
          "2024-03-03T00:00:00.000000000",
          "2024-03-04T00:00:00.000000000",
          "2024-03-05T00:00:00.000000000",
          "2024-03-06T00:00:00.000000000",
          "2024-03-07T00:00:00.000000000",
          "2024-03-08T00:00:00.000000000",
          "2024-03-09T00:00:00.000000000",
          "2024-03-10T00:00:00.000000000",
          "2024-03-11T00:00:00.000000000",
          "2024-03-12T00:00:00.000000000",
          "2024-03-13T00:00:00.000000000",
          "2024-03-14T00:00:00.000000000",
          "2024-03-15T00:00:00.000000000",
          "2024-03-16T00:00:00.000000000",
          "2024-03-17T00:00:00.000000000",
          "2024-03-18T00:00:00.000000000",
          "2024-03-19T00:00:00.000000000",
          "2024-03-20T00:00:00.000000000",
          "2024-03-21T00:00:00.000000000",
          "2024-03-22T00:00:00.000000000",
          "2024-03-23T00:00:00.000000000",
          "2024-03-24T00:00:00.000000000",
          "2024-03-25T00:00:00.000000000",
          "2024-03-26T00:00:00.000000000",
          "2024-03-27T00:00:00.000000000",
          "2024-03-28T00:00:00.000000000",
          "2024-03-29T00:00:00.000000000",
          "2024-03-30T00:00:00.000000000",
          "2024-03-31T00:00:00.000000000",
          "2024-04-01T00:00:00.000000000",
          "2024-04-02T00:00:00.000000000",
          "2024-04-03T00:00:00.000000000",
          "2024-04-04T00:00:00.000000000",
          "2024-04-05T00:00:00.000000000",
          "2024-04-06T00:00:00.000000000",
          "2024-04-07T00:00:00.000000000",
          "2024-04-08T00:00:00.000000000",
          "2024-04-09T00:00:00.000000000",
          "2024-04-10T00:00:00.000000000",
          "2024-04-11T00:00:00.000000000",
          "2024-04-12T00:00:00.000000000",
          "2024-04-13T00:00:00.000000000",
          "2024-04-14T00:00:00.000000000",
          "2024-04-15T00:00:00.000000000",
          "2024-04-16T00:00:00.000000000",
          "2024-04-17T00:00:00.000000000",
          "2024-04-18T00:00:00.000000000",
          "2024-04-19T00:00:00.000000000",
          "2024-04-20T00:00:00.000000000",
          "2024-04-21T00:00:00.000000000",
          "2024-04-22T00:00:00.000000000",
          "2024-04-23T00:00:00.000000000",
          "2024-04-24T00:00:00.000000000",
          "2024-04-25T00:00:00.000000000",
          "2024-04-26T00:00:00.000000000",
          "2024-04-27T00:00:00.000000000",
          "2024-04-28T00:00:00.000000000",
          "2024-04-29T00:00:00.000000000",
          "2024-04-30T00:00:00.000000000",
          "2024-05-01T00:00:00.000000000",
          "2024-05-02T00:00:00.000000000",
          "2024-05-03T00:00:00.000000000",
          "2024-05-04T00:00:00.000000000",
          "2024-05-05T00:00:00.000000000",
          "2024-05-06T00:00:00.000000000",
          "2024-05-07T00:00:00.000000000",
          "2024-05-08T00:00:00.000000000",
          "2024-05-09T00:00:00.000000000",
          "2024-05-10T00:00:00.000000000",
          "2024-05-11T00:00:00.000000000",
          "2024-05-12T00:00:00.000000000",
          "2024-05-13T00:00:00.000000000",
          "2024-05-14T00:00:00.000000000",
          "2024-05-15T00:00:00.000000000",
          "2024-05-16T00:00:00.000000000",
          "2024-05-17T00:00:00.000000000",
          "2024-05-18T00:00:00.000000000",
          "2024-05-19T00:00:00.000000000",
          "2024-05-20T00:00:00.000000000",
          "2024-05-21T00:00:00.000000000",
          "2024-05-22T00:00:00.000000000",
          "2024-05-23T00:00:00.000000000",
          "2024-05-24T00:00:00.000000000",
          "2024-05-25T00:00:00.000000000",
          "2024-05-26T00:00:00.000000000",
          "2024-05-27T00:00:00.000000000",
          "2024-05-28T00:00:00.000000000",
          "2024-05-29T00:00:00.000000000",
          "2024-05-30T00:00:00.000000000",
          "2024-05-31T00:00:00.000000000",
          "2024-06-01T00:00:00.000000000",
          "2024-06-02T00:00:00.000000000",
          "2024-06-03T00:00:00.000000000",
          "2024-06-04T00:00:00.000000000",
          "2024-06-05T00:00:00.000000000",
          "2024-06-06T00:00:00.000000000",
          "2024-06-07T00:00:00.000000000",
          "2024-06-08T00:00:00.000000000",
          "2024-06-09T00:00:00.000000000",
          "2024-06-10T00:00:00.000000000",
          "2024-06-11T00:00:00.000000000",
          "2024-06-12T00:00:00.000000000",
          "2024-06-13T00:00:00.000000000",
          "2024-06-14T00:00:00.000000000",
          "2024-06-15T00:00:00.000000000",
          "2024-06-16T00:00:00.000000000",
          "2024-06-17T00:00:00.000000000",
          "2024-06-18T00:00:00.000000000",
          "2024-06-19T00:00:00.000000000",
          "2024-06-20T00:00:00.000000000",
          "2024-06-21T00:00:00.000000000",
          "2024-06-22T00:00:00.000000000",
          "2024-06-23T00:00:00.000000000",
          "2024-06-24T00:00:00.000000000",
          "2024-06-25T00:00:00.000000000",
          "2024-06-26T00:00:00.000000000",
          "2024-06-27T00:00:00.000000000",
          "2024-06-28T00:00:00.000000000",
          "2024-06-29T00:00:00.000000000",
          "2024-06-30T00:00:00.000000000",
          "2024-07-01T00:00:00.000000000",
          "2024-07-02T00:00:00.000000000",
          "2024-07-03T00:00:00.000000000",
          "2024-07-04T00:00:00.000000000",
          "2024-07-05T00:00:00.000000000",
          "2024-07-06T00:00:00.000000000",
          "2024-07-07T00:00:00.000000000",
          "2024-07-08T00:00:00.000000000",
          "2024-07-09T00:00:00.000000000",
          "2024-07-10T00:00:00.000000000",
          "2024-07-11T00:00:00.000000000",
          "2024-07-12T00:00:00.000000000",
          "2024-07-13T00:00:00.000000000",
          "2024-07-14T00:00:00.000000000",
          "2024-07-15T00:00:00.000000000",
          "2024-07-16T00:00:00.000000000",
          "2024-07-17T00:00:00.000000000",
          "2024-07-18T00:00:00.000000000"
         ],
         "xaxis": "x2",
         "y": {
          "bdata": "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",
          "dtype": "f8"
         },
         "yaxis": "y2"
        },
        {
         "line": {
          "color": "blue",
          "width": 1
         },
         "mode": "lines",
         "name": "Daily",
         "type": "scatter",
         "x": [
          "2024-01-01T00:00:00.000000000",
          "2024-01-02T00:00:00.000000000",
          "2024-01-03T00:00:00.000000000",
          "2024-01-04T00:00:00.000000000",
          "2024-01-05T00:00:00.000000000",
          "2024-01-06T00:00:00.000000000",
          "2024-01-07T00:00:00.000000000",
          "2024-01-08T00:00:00.000000000",
          "2024-01-09T00:00:00.000000000",
          "2024-01-10T00:00:00.000000000",
          "2024-01-11T00:00:00.000000000",
          "2024-01-12T00:00:00.000000000",
          "2024-01-13T00:00:00.000000000",
          "2024-01-14T00:00:00.000000000",
          "2024-01-15T00:00:00.000000000",
          "2024-01-16T00:00:00.000000000",
          "2024-01-17T00:00:00.000000000",
          "2024-01-18T00:00:00.000000000",
          "2024-01-19T00:00:00.000000000",
          "2024-01-20T00:00:00.000000000",
          "2024-01-21T00:00:00.000000000",
          "2024-01-22T00:00:00.000000000",
          "2024-01-23T00:00:00.000000000",
          "2024-01-24T00:00:00.000000000",
          "2024-01-25T00:00:00.000000000",
          "2024-01-26T00:00:00.000000000",
          "2024-01-27T00:00:00.000000000",
          "2024-01-28T00:00:00.000000000",
          "2024-01-29T00:00:00.000000000",
          "2024-01-30T00:00:00.000000000",
          "2024-01-31T00:00:00.000000000",
          "2024-02-01T00:00:00.000000000",
          "2024-02-02T00:00:00.000000000",
          "2024-02-03T00:00:00.000000000",
          "2024-02-04T00:00:00.000000000",
          "2024-02-05T00:00:00.000000000",
          "2024-02-06T00:00:00.000000000",
          "2024-02-07T00:00:00.000000000",
          "2024-02-08T00:00:00.000000000",
          "2024-02-09T00:00:00.000000000",
          "2024-02-10T00:00:00.000000000",
          "2024-02-11T00:00:00.000000000",
          "2024-02-12T00:00:00.000000000",
          "2024-02-13T00:00:00.000000000",
          "2024-02-14T00:00:00.000000000",
          "2024-02-15T00:00:00.000000000",
          "2024-02-16T00:00:00.000000000",
          "2024-02-17T00:00:00.000000000",
          "2024-02-18T00:00:00.000000000",
          "2024-02-19T00:00:00.000000000",
          "2024-02-20T00:00:00.000000000",
          "2024-02-21T00:00:00.000000000",
          "2024-02-22T00:00:00.000000000",
          "2024-02-23T00:00:00.000000000",
          "2024-02-24T00:00:00.000000000",
          "2024-02-25T00:00:00.000000000",
          "2024-02-26T00:00:00.000000000",
          "2024-02-27T00:00:00.000000000",
          "2024-02-28T00:00:00.000000000",
          "2024-02-29T00:00:00.000000000",
          "2024-03-01T00:00:00.000000000",
          "2024-03-02T00:00:00.000000000",
          "2024-03-03T00:00:00.000000000",
          "2024-03-04T00:00:00.000000000",
          "2024-03-05T00:00:00.000000000",
          "2024-03-06T00:00:00.000000000",
          "2024-03-07T00:00:00.000000000",
          "2024-03-08T00:00:00.000000000",
          "2024-03-09T00:00:00.000000000",
          "2024-03-10T00:00:00.000000000",
          "2024-03-11T00:00:00.000000000",
          "2024-03-12T00:00:00.000000000",
          "2024-03-13T00:00:00.000000000",
          "2024-03-14T00:00:00.000000000",
          "2024-03-15T00:00:00.000000000",
          "2024-03-16T00:00:00.000000000",
          "2024-03-17T00:00:00.000000000",
          "2024-03-18T00:00:00.000000000",
          "2024-03-19T00:00:00.000000000",
          "2024-03-20T00:00:00.000000000",
          "2024-03-21T00:00:00.000000000",
          "2024-03-22T00:00:00.000000000",
          "2024-03-23T00:00:00.000000000",
          "2024-03-24T00:00:00.000000000",
          "2024-03-25T00:00:00.000000000",
          "2024-03-26T00:00:00.000000000",
          "2024-03-27T00:00:00.000000000",
          "2024-03-28T00:00:00.000000000",
          "2024-03-29T00:00:00.000000000",
          "2024-03-30T00:00:00.000000000",
          "2024-03-31T00:00:00.000000000",
          "2024-04-01T00:00:00.000000000",
          "2024-04-02T00:00:00.000000000",
          "2024-04-03T00:00:00.000000000",
          "2024-04-04T00:00:00.000000000",
          "2024-04-05T00:00:00.000000000",
          "2024-04-06T00:00:00.000000000",
          "2024-04-07T00:00:00.000000000",
          "2024-04-08T00:00:00.000000000",
          "2024-04-09T00:00:00.000000000",
          "2024-04-10T00:00:00.000000000",
          "2024-04-11T00:00:00.000000000",
          "2024-04-12T00:00:00.000000000",
          "2024-04-13T00:00:00.000000000",
          "2024-04-14T00:00:00.000000000",
          "2024-04-15T00:00:00.000000000",
          "2024-04-16T00:00:00.000000000",
          "2024-04-17T00:00:00.000000000",
          "2024-04-18T00:00:00.000000000",
          "2024-04-19T00:00:00.000000000",
          "2024-04-20T00:00:00.000000000",
          "2024-04-21T00:00:00.000000000",
          "2024-04-22T00:00:00.000000000",
          "2024-04-23T00:00:00.000000000",
          "2024-04-24T00:00:00.000000000",
          "2024-04-25T00:00:00.000000000",
          "2024-04-26T00:00:00.000000000",
          "2024-04-27T00:00:00.000000000",
          "2024-04-28T00:00:00.000000000",
          "2024-04-29T00:00:00.000000000",
          "2024-04-30T00:00:00.000000000",
          "2024-05-01T00:00:00.000000000",
          "2024-05-02T00:00:00.000000000",
          "2024-05-03T00:00:00.000000000",
          "2024-05-04T00:00:00.000000000",
          "2024-05-05T00:00:00.000000000",
          "2024-05-06T00:00:00.000000000",
          "2024-05-07T00:00:00.000000000",
          "2024-05-08T00:00:00.000000000",
          "2024-05-09T00:00:00.000000000",
          "2024-05-10T00:00:00.000000000",
          "2024-05-11T00:00:00.000000000",
          "2024-05-12T00:00:00.000000000",
          "2024-05-13T00:00:00.000000000",
          "2024-05-14T00:00:00.000000000",
          "2024-05-15T00:00:00.000000000",
          "2024-05-16T00:00:00.000000000",
          "2024-05-17T00:00:00.000000000",
          "2024-05-18T00:00:00.000000000",
          "2024-05-19T00:00:00.000000000",
          "2024-05-20T00:00:00.000000000",
          "2024-05-21T00:00:00.000000000",
          "2024-05-22T00:00:00.000000000",
          "2024-05-23T00:00:00.000000000",
          "2024-05-24T00:00:00.000000000",
          "2024-05-25T00:00:00.000000000",
          "2024-05-26T00:00:00.000000000",
          "2024-05-27T00:00:00.000000000",
          "2024-05-28T00:00:00.000000000",
          "2024-05-29T00:00:00.000000000",
          "2024-05-30T00:00:00.000000000",
          "2024-05-31T00:00:00.000000000",
          "2024-06-01T00:00:00.000000000",
          "2024-06-02T00:00:00.000000000",
          "2024-06-03T00:00:00.000000000",
          "2024-06-04T00:00:00.000000000",
          "2024-06-05T00:00:00.000000000",
          "2024-06-06T00:00:00.000000000",
          "2024-06-07T00:00:00.000000000",
          "2024-06-08T00:00:00.000000000",
          "2024-06-09T00:00:00.000000000",
          "2024-06-10T00:00:00.000000000",
          "2024-06-11T00:00:00.000000000",
          "2024-06-12T00:00:00.000000000",
          "2024-06-13T00:00:00.000000000",
          "2024-06-14T00:00:00.000000000",
          "2024-06-15T00:00:00.000000000",
          "2024-06-16T00:00:00.000000000",
          "2024-06-17T00:00:00.000000000",
          "2024-06-18T00:00:00.000000000",
          "2024-06-19T00:00:00.000000000",
          "2024-06-20T00:00:00.000000000",
          "2024-06-21T00:00:00.000000000",
          "2024-06-22T00:00:00.000000000",
          "2024-06-23T00:00:00.000000000",
          "2024-06-24T00:00:00.000000000",
          "2024-06-25T00:00:00.000000000",
          "2024-06-26T00:00:00.000000000",
          "2024-06-27T00:00:00.000000000",
          "2024-06-28T00:00:00.000000000",
          "2024-06-29T00:00:00.000000000",
          "2024-06-30T00:00:00.000000000",
          "2024-07-01T00:00:00.000000000",
          "2024-07-02T00:00:00.000000000",
          "2024-07-03T00:00:00.000000000",
          "2024-07-04T00:00:00.000000000",
          "2024-07-05T00:00:00.000000000",
          "2024-07-06T00:00:00.000000000",
          "2024-07-07T00:00:00.000000000",
          "2024-07-08T00:00:00.000000000",
          "2024-07-09T00:00:00.000000000",
          "2024-07-10T00:00:00.000000000",
          "2024-07-11T00:00:00.000000000",
          "2024-07-12T00:00:00.000000000",
          "2024-07-13T00:00:00.000000000",
          "2024-07-14T00:00:00.000000000",
          "2024-07-15T00:00:00.000000000",
          "2024-07-16T00:00:00.000000000",
          "2024-07-17T00:00:00.000000000",
          "2024-07-18T00:00:00.000000000"
         ],
         "xaxis": "x3",
         "y": {
          "bdata": "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",
          "dtype": "f8"
         },
         "yaxis": "y3"
        },
        {
         "line": {
          "color": "red",
          "width": 3
         },
         "marker": {
          "size": 6
         },
         "mode": "lines+markers",
         "name": "Weekly Trend",
         "type": "scatter",
         "x": [
          "2024-01-01T00:00:00.000000000",
          "2024-01-06T00:00:00.000000000",
          "2024-01-11T00:00:00.000000000",
          "2024-01-16T00:00:00.000000000",
          "2024-01-21T00:00:00.000000000",
          "2024-01-26T00:00:00.000000000",
          "2024-01-31T00:00:00.000000000",
          "2024-02-05T00:00:00.000000000",
          "2024-02-10T00:00:00.000000000",
          "2024-02-15T00:00:00.000000000",
          "2024-02-20T00:00:00.000000000",
          "2024-02-25T00:00:00.000000000",
          "2024-03-01T00:00:00.000000000",
          "2024-03-06T00:00:00.000000000",
          "2024-03-11T00:00:00.000000000",
          "2024-03-16T00:00:00.000000000",
          "2024-03-21T00:00:00.000000000",
          "2024-03-26T00:00:00.000000000",
          "2024-03-31T00:00:00.000000000",
          "2024-04-05T00:00:00.000000000",
          "2024-04-10T00:00:00.000000000",
          "2024-04-15T00:00:00.000000000",
          "2024-04-20T00:00:00.000000000",
          "2024-04-25T00:00:00.000000000",
          "2024-04-30T00:00:00.000000000",
          "2024-05-05T00:00:00.000000000",
          "2024-05-10T00:00:00.000000000",
          "2024-05-15T00:00:00.000000000",
          "2024-05-20T00:00:00.000000000",
          "2024-05-25T00:00:00.000000000",
          "2024-05-30T00:00:00.000000000",
          "2024-06-04T00:00:00.000000000",
          "2024-06-09T00:00:00.000000000",
          "2024-06-14T00:00:00.000000000",
          "2024-06-19T00:00:00.000000000",
          "2024-06-24T00:00:00.000000000",
          "2024-06-29T00:00:00.000000000",
          "2024-07-04T00:00:00.000000000",
          "2024-07-09T00:00:00.000000000",
          "2024-07-14T00:00:00.000000000"
         ],
         "xaxis": "x3",
         "y": {
          "bdata": "kft5fl5fWUD/8K/4oltbQDMIFOYoJl1AVWrTQYEVXkB5IlT47ZRfQIx+NQVkvl1AfXh0JVgHXEBDMZNZV39aQDlhdo1YV1tAN3NESI8iWkCPMyP9pCFbQLnmKiEkyFtANOBxvpeQWkA+jnntf0NbQCtpuQvEa1lAZ9AL8nOZWECWwNsc+Q5XQLD99PPM61ZAdmNobdV7WED2ScBa4FpZQB4yG1ew81tA5tWY+SDRX0BfTJx9jfRfQGxp5S0gQ2FARQjXaP5iYUAYmDwgvXhhQFSFfsi38l5A9PCfV64eYEBgDLZQwqxeQGFEALvaBV9AHLwwcE7aXkBd5PYXV01eQIonzyo55l1A/rfuhxI2XkDwiNW+oRxcQCS54+VCQFxAXf1dHyNoW0BhsFcej6VbQNEAWbI8/ltAkQE4X667XkA=",
          "dtype": "f8"
         },
         "yaxis": "y3"
        },
        {
         "line": {
          "color": "green",
          "width": 5
         },
         "marker": {
          "size": 10
         },
         "mode": "lines+markers",
         "name": "Monthly Trend",
         "type": "scatter",
         "x": [
          "2024-01-01T00:00:00.000000000",
          "2024-01-21T00:00:00.000000000",
          "2024-02-10T00:00:00.000000000",
          "2024-03-01T00:00:00.000000000",
          "2024-03-21T00:00:00.000000000",
          "2024-04-10T00:00:00.000000000",
          "2024-04-30T00:00:00.000000000",
          "2024-05-20T00:00:00.000000000",
          "2024-06-09T00:00:00.000000000",
          "2024-06-29T00:00:00.000000000"
         ],
         "xaxis": "x3",
         "y": {
          "bdata": "kft5fl5fWUB5IlT47ZRfQDlhdo1YV1tANOBxvpeQWkCWwNsc+Q5XQB4yG1ew81tARQjXaP5iYUBgDLZQwqxeQIonzyo55l1AXf1dHyNoW0A=",
          "dtype": "f8"
         },
         "yaxis": "y3"
        },
        {
         "line": {
          "color": "purple",
          "width": 2
         },
         "mode": "lines",
         "name": "Position Size (Shares)",
         "type": "scatter",
         "x": [
          "2024-01-01T00:00:00.000000000",
          "2024-01-02T00:00:00.000000000",
          "2024-01-03T00:00:00.000000000",
          "2024-01-04T00:00:00.000000000",
          "2024-01-05T00:00:00.000000000",
          "2024-01-06T00:00:00.000000000",
          "2024-01-07T00:00:00.000000000",
          "2024-01-08T00:00:00.000000000",
          "2024-01-09T00:00:00.000000000",
          "2024-01-10T00:00:00.000000000",
          "2024-01-11T00:00:00.000000000",
          "2024-01-12T00:00:00.000000000",
          "2024-01-13T00:00:00.000000000",
          "2024-01-14T00:00:00.000000000",
          "2024-01-15T00:00:00.000000000",
          "2024-01-16T00:00:00.000000000",
          "2024-01-17T00:00:00.000000000",
          "2024-01-18T00:00:00.000000000",
          "2024-01-19T00:00:00.000000000",
          "2024-01-20T00:00:00.000000000",
          "2024-01-21T00:00:00.000000000",
          "2024-01-22T00:00:00.000000000",
          "2024-01-23T00:00:00.000000000",
          "2024-01-24T00:00:00.000000000",
          "2024-01-25T00:00:00.000000000",
          "2024-01-26T00:00:00.000000000",
          "2024-01-27T00:00:00.000000000",
          "2024-01-28T00:00:00.000000000",
          "2024-01-29T00:00:00.000000000",
          "2024-01-30T00:00:00.000000000",
          "2024-01-31T00:00:00.000000000",
          "2024-02-01T00:00:00.000000000",
          "2024-02-02T00:00:00.000000000",
          "2024-02-03T00:00:00.000000000",
          "2024-02-04T00:00:00.000000000",
          "2024-02-05T00:00:00.000000000",
          "2024-02-06T00:00:00.000000000",
          "2024-02-07T00:00:00.000000000",
          "2024-02-08T00:00:00.000000000",
          "2024-02-09T00:00:00.000000000",
          "2024-02-10T00:00:00.000000000",
          "2024-02-11T00:00:00.000000000",
          "2024-02-12T00:00:00.000000000",
          "2024-02-13T00:00:00.000000000",
          "2024-02-14T00:00:00.000000000",
          "2024-02-15T00:00:00.000000000",
          "2024-02-16T00:00:00.000000000",
          "2024-02-17T00:00:00.000000000",
          "2024-02-18T00:00:00.000000000",
          "2024-02-19T00:00:00.000000000",
          "2024-02-20T00:00:00.000000000",
          "2024-02-21T00:00:00.000000000",
          "2024-02-22T00:00:00.000000000",
          "2024-02-23T00:00:00.000000000",
          "2024-02-24T00:00:00.000000000",
          "2024-02-25T00:00:00.000000000",
          "2024-02-26T00:00:00.000000000",
          "2024-02-27T00:00:00.000000000",
          "2024-02-28T00:00:00.000000000",
          "2024-02-29T00:00:00.000000000",
          "2024-03-01T00:00:00.000000000",
          "2024-03-02T00:00:00.000000000",
          "2024-03-03T00:00:00.000000000",
          "2024-03-04T00:00:00.000000000",
          "2024-03-05T00:00:00.000000000",
          "2024-03-06T00:00:00.000000000",
          "2024-03-07T00:00:00.000000000",
          "2024-03-08T00:00:00.000000000",
          "2024-03-09T00:00:00.000000000",
          "2024-03-10T00:00:00.000000000",
          "2024-03-11T00:00:00.000000000",
          "2024-03-12T00:00:00.000000000",
          "2024-03-13T00:00:00.000000000",
          "2024-03-14T00:00:00.000000000",
          "2024-03-15T00:00:00.000000000",
          "2024-03-16T00:00:00.000000000",
          "2024-03-17T00:00:00.000000000",
          "2024-03-18T00:00:00.000000000",
          "2024-03-19T00:00:00.000000000",
          "2024-03-20T00:00:00.000000000",
          "2024-03-21T00:00:00.000000000",
          "2024-03-22T00:00:00.000000000",
          "2024-03-23T00:00:00.000000000",
          "2024-03-24T00:00:00.000000000",
          "2024-03-25T00:00:00.000000000",
          "2024-03-26T00:00:00.000000000",
          "2024-03-27T00:00:00.000000000",
          "2024-03-28T00:00:00.000000000",
          "2024-03-29T00:00:00.000000000",
          "2024-03-30T00:00:00.000000000",
          "2024-03-31T00:00:00.000000000",
          "2024-04-01T00:00:00.000000000",
          "2024-04-02T00:00:00.000000000",
          "2024-04-03T00:00:00.000000000",
          "2024-04-04T00:00:00.000000000",
          "2024-04-05T00:00:00.000000000",
          "2024-04-06T00:00:00.000000000",
          "2024-04-07T00:00:00.000000000",
          "2024-04-08T00:00:00.000000000",
          "2024-04-09T00:00:00.000000000",
          "2024-04-10T00:00:00.000000000",
          "2024-04-11T00:00:00.000000000",
          "2024-04-12T00:00:00.000000000",
          "2024-04-13T00:00:00.000000000",
          "2024-04-14T00:00:00.000000000",
          "2024-04-15T00:00:00.000000000",
          "2024-04-16T00:00:00.000000000",
          "2024-04-17T00:00:00.000000000",
          "2024-04-18T00:00:00.000000000",
          "2024-04-19T00:00:00.000000000",
          "2024-04-20T00:00:00.000000000",
          "2024-04-21T00:00:00.000000000",
          "2024-04-22T00:00:00.000000000",
          "2024-04-23T00:00:00.000000000",
          "2024-04-24T00:00:00.000000000",
          "2024-04-25T00:00:00.000000000",
          "2024-04-26T00:00:00.000000000",
          "2024-04-27T00:00:00.000000000",
          "2024-04-28T00:00:00.000000000",
          "2024-04-29T00:00:00.000000000",
          "2024-04-30T00:00:00.000000000",
          "2024-05-01T00:00:00.000000000",
          "2024-05-02T00:00:00.000000000",
          "2024-05-03T00:00:00.000000000",
          "2024-05-04T00:00:00.000000000",
          "2024-05-05T00:00:00.000000000",
          "2024-05-06T00:00:00.000000000",
          "2024-05-07T00:00:00.000000000",
          "2024-05-08T00:00:00.000000000",
          "2024-05-09T00:00:00.000000000",
          "2024-05-10T00:00:00.000000000",
          "2024-05-11T00:00:00.000000000",
          "2024-05-12T00:00:00.000000000",
          "2024-05-13T00:00:00.000000000",
          "2024-05-14T00:00:00.000000000",
          "2024-05-15T00:00:00.000000000",
          "2024-05-16T00:00:00.000000000",
          "2024-05-17T00:00:00.000000000",
          "2024-05-18T00:00:00.000000000",
          "2024-05-19T00:00:00.000000000",
          "2024-05-20T00:00:00.000000000",
          "2024-05-21T00:00:00.000000000",
          "2024-05-22T00:00:00.000000000",
          "2024-05-23T00:00:00.000000000",
          "2024-05-24T00:00:00.000000000",
          "2024-05-25T00:00:00.000000000",
          "2024-05-26T00:00:00.000000000",
          "2024-05-27T00:00:00.000000000",
          "2024-05-28T00:00:00.000000000",
          "2024-05-29T00:00:00.000000000",
          "2024-05-30T00:00:00.000000000",
          "2024-05-31T00:00:00.000000000",
          "2024-06-01T00:00:00.000000000",
          "2024-06-02T00:00:00.000000000",
          "2024-06-03T00:00:00.000000000",
          "2024-06-04T00:00:00.000000000",
          "2024-06-05T00:00:00.000000000",
          "2024-06-06T00:00:00.000000000",
          "2024-06-07T00:00:00.000000000",
          "2024-06-08T00:00:00.000000000",
          "2024-06-09T00:00:00.000000000",
          "2024-06-10T00:00:00.000000000",
          "2024-06-11T00:00:00.000000000",
          "2024-06-12T00:00:00.000000000",
          "2024-06-13T00:00:00.000000000",
          "2024-06-14T00:00:00.000000000",
          "2024-06-15T00:00:00.000000000",
          "2024-06-16T00:00:00.000000000",
          "2024-06-17T00:00:00.000000000",
          "2024-06-18T00:00:00.000000000",
          "2024-06-19T00:00:00.000000000",
          "2024-06-20T00:00:00.000000000",
          "2024-06-21T00:00:00.000000000",
          "2024-06-22T00:00:00.000000000",
          "2024-06-23T00:00:00.000000000",
          "2024-06-24T00:00:00.000000000",
          "2024-06-25T00:00:00.000000000",
          "2024-06-26T00:00:00.000000000",
          "2024-06-27T00:00:00.000000000",
          "2024-06-28T00:00:00.000000000",
          "2024-06-29T00:00:00.000000000",
          "2024-06-30T00:00:00.000000000",
          "2024-07-01T00:00:00.000000000",
          "2024-07-02T00:00:00.000000000",
          "2024-07-03T00:00:00.000000000",
          "2024-07-04T00:00:00.000000000",
          "2024-07-05T00:00:00.000000000",
          "2024-07-06T00:00:00.000000000",
          "2024-07-07T00:00:00.000000000",
          "2024-07-08T00:00:00.000000000",
          "2024-07-09T00:00:00.000000000",
          "2024-07-10T00:00:00.000000000",
          "2024-07-11T00:00:00.000000000",
          "2024-07-12T00:00:00.000000000",
          "2024-07-13T00:00:00.000000000",
          "2024-07-14T00:00:00.000000000",
          "2024-07-15T00:00:00.000000000",
          "2024-07-16T00:00:00.000000000",
          "2024-07-17T00:00:00.000000000",
          "2024-07-18T00:00:00.000000000"
         ],
         "xaxis": "x4",
         "y": {
          "bdata": "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",
          "dtype": "f8"
         },
         "yaxis": "y4"
        },
        {
         "marker": {
          "color": [
           "green",
           "yellow",
           "red",
           "yellow",
           "red",
           "red"
          ]
         },
         "name": "Weighted Scores",
         "type": "bar",
         "x": [
          "Elliott Wave Position",
          "Harmonic Pattern",
          "Cycle Confluence",
          "Multi-TF Alignment",
          "Volume Confirmation",
          "Risk/Reward Ratio"
         ],
         "xaxis": "x5",
         "y": [
          2,
          1.8,
          1.05,
          1.6,
          0.6000000000000001,
          0.9
         ],
         "yaxis": "y5"
        },
        {
         "cells": {
          "align": "center",
          "fill": {
           "color": "lightgray"
          },
          "font": {
           "size": 9
          },
          "height": 25,
          "values": [
           [
            "1. Market Context",
            "2. Pattern Recognition",
            "3. Cycle Analysis",
            "4. Wave Counting",
            "5. Risk Assessment",
            "6. Entry Signal",
            "7. Position Sizing",
            "8. Exit Strategy"
           ],
           [
            "Multi-TF Trend",
            "Harmonic/Geometric",
            "Time Cycles",
            "Elliott Waves",
            "ATR + R:R",
            "Confluence Zone",
            "ATR Position Sizing",
            "Fibonacci Targets"
           ],
           [
            "✅ Bullish",
            "✅ Bullish XABCD",
            "✅ High Confluence",
            "✅ Wave 5 Target",
            "✅ 2% Risk",
            "⏳ Waiting",
            "✅ 500 Shares",
            "✅ 1.618 Extension"
           ]
          ]
         },
         "domain": {
          "x": [
           0.55,
           1
          ],
          "y": [
           0,
           0.22222222222222224
          ]
         },
         "header": {
          "align": "center",
          "fill": {
           "color": "lightblue"
          },
          "font": {
           "color": "black",
           "size": 11
          },
          "values": [
           "Step",
           "Tool_Used",
           "Status"
          ]
         },
         "type": "table"
        }
       ],
       "layout": {
        "annotations": [
         {
          "font": {
           "size": 16
          },
          "showarrow": false,
          "text": "Pattern + Elliott Wave Confluence",
          "x": 0.225,
          "xanchor": "center",
          "xref": "paper",
          "y": 1,
          "yanchor": "bottom",
          "yref": "paper"
         },
         {
          "font": {
           "size": 16
          },
          "showarrow": false,
          "text": "Cycle Timing + Harmonic Patterns",
          "x": 0.775,
          "xanchor": "center",
          "xref": "paper",
          "y": 1,
          "yanchor": "bottom",
          "yref": "paper"
         },
         {
          "font": {
           "size": 16
          },
          "showarrow": false,
          "text": "Multi-Timeframe Analysis",
          "x": 0.225,
          "xanchor": "center",
          "xref": "paper",
          "y": 0.6111111111111112,
          "yanchor": "bottom",
          "yref": "paper"
         },
         {
          "font": {
           "size": 16
          },
          "showarrow": false,
          "text": "Risk Management Integration",
          "x": 0.775,
          "xanchor": "center",
          "xref": "paper",
          "y": 0.6111111111111112,
          "yanchor": "bottom",
          "yref": "paper"
         },
         {
          "font": {
           "size": 16
          },
          "showarrow": false,
          "text": "Trade Setup Scoring",
          "x": 0.225,
          "xanchor": "center",
          "xref": "paper",
          "y": 0.22222222222222224,
          "yanchor": "bottom",
          "yref": "paper"
         },
         {
          "font": {
           "size": 16
          },
          "showarrow": false,
          "text": "Complete Strategy Framework",
          "x": 0.775,
          "xanchor": "center",
          "xref": "paper",
          "y": 0.22222222222222224,
          "yanchor": "bottom",
          "yref": "paper"
         },
         {
          "showarrow": false,
          "text": "Average Position Size",
          "x": 1,
          "xanchor": "right",
          "xref": "x4 domain",
          "y": 367.39608855548914,
          "yanchor": "bottom",
          "yref": "y4"
         },
         {
          "showarrow": false,
          "text": "Total Score: 8.0/10",
          "x": 1,
          "xanchor": "right",
          "xref": "x5 domain",
          "y": 7.95,
          "yanchor": "bottom",
          "yref": "y5"
         }
        ],
        "height": 1400,
        "shapes": [
         {
          "fillcolor": "yellow",
          "layer": "below",
          "line": {
           "width": 0
          },
          "opacity": 0.3,
          "type": "rect",
          "x0": "2024-01-07T00:00:00",
          "x1": "2024-01-08T00:00:00",
          "xref": "x2",
          "y0": 0,
          "y1": 1,
          "yref": "y2 domain"
         },
         {
          "fillcolor": "yellow",
          "layer": "below",
          "line": {
           "width": 0
          },
          "opacity": 0.3,
          "type": "rect",
          "x0": "2024-01-08T00:00:00",
          "x1": "2024-01-09T00:00:00",
          "xref": "x2",
          "y0": 0,
          "y1": 1,
          "yref": "y2 domain"
         },
         {
          "fillcolor": "yellow",
          "layer": "below",
          "line": {
           "width": 0
          },
          "opacity": 0.3,
          "type": "rect",
          "x0": "2024-01-09T00:00:00",
          "x1": "2024-01-10T00:00:00",
          "xref": "x2",
          "y0": 0,
          "y1": 1,
          "yref": "y2 domain"
         },
         {
          "fillcolor": "yellow",
          "layer": "below",
          "line": {
           "width": 0
          },
          "opacity": 0.3,
          "type": "rect",
          "x0": "2024-01-10T00:00:00",
          "x1": "2024-01-11T00:00:00",
          "xref": "x2",
          "y0": 0,
          "y1": 1,
          "yref": "y2 domain"
         },
         {
          "fillcolor": "yellow",
          "layer": "below",
          "line": {
           "width": 0
          },
          "opacity": 0.3,
          "type": "rect",
          "x0": "2024-01-11T00:00:00",
          "x1": "2024-01-12T00:00:00",
          "xref": "x2",
          "y0": 0,
          "y1": 1,
          "yref": "y2 domain"
         },
         {
          "fillcolor": "yellow",
          "layer": "below",
          "line": {
           "width": 0
          },
          "opacity": 0.3,
          "type": "rect",
          "x0": "2024-01-15T00:00:00",
          "x1": "2024-01-16T00:00:00",
          "xref": "x2",
          "y0": 0,
          "y1": 1,
          "yref": "y2 domain"
         },
         {
          "fillcolor": "yellow",
          "layer": "below",
          "line": {
           "width": 0
          },
          "opacity": 0.3,
          "type": "rect",
          "x0": "2024-01-16T00:00:00",
          "x1": "2024-01-17T00:00:00",
          "xref": "x2",
          "y0": 0,
          "y1": 1,
          "yref": "y2 domain"
         },
         {
          "fillcolor": "yellow",
          "layer": "below",
          "line": {
           "width": 0
          },
          "opacity": 0.3,
          "type": "rect",
          "x0": "2024-01-17T00:00:00",
          "x1": "2024-01-18T00:00:00",
          "xref": "x2",
          "y0": 0,
          "y1": 1,
          "yref": "y2 domain"
         },
         {
          "fillcolor": "yellow",
          "layer": "below",
          "line": {
           "width": 0
          },
          "opacity": 0.3,
          "type": "rect",
          "x0": "2024-01-18T00:00:00",
          "x1": "2024-01-19T00:00:00",
          "xref": "x2",
          "y0": 0,
          "y1": 1,
          "yref": "y2 domain"
         },
         {
          "fillcolor": "yellow",
          "layer": "below",
          "line": {
           "width": 0
          },
          "opacity": 0.3,
          "type": "rect",
          "x0": "2024-01-19T00:00:00",
          "x1": "2024-01-20T00:00:00",
          "xref": "x2",
          "y0": 0,
          "y1": 1,
          "yref": "y2 domain"
         },
         {
          "fillcolor": "yellow",
          "layer": "below",
          "line": {
           "width": 0
          },
          "opacity": 0.3,
          "type": "rect",
          "x0": "2024-01-20T00:00:00",
          "x1": "2024-01-21T00:00:00",
          "xref": "x2",
          "y0": 0,
          "y1": 1,
          "yref": "y2 domain"
         },
         {
          "fillcolor": "yellow",
          "layer": "below",
          "line": {
           "width": 0
          },
          "opacity": 0.3,
          "type": "rect",
          "x0": "2024-01-21T00:00:00",
          "x1": "2024-01-22T00:00:00",
          "xref": "x2",
          "y0": 0,
          "y1": 1,
          "yref": "y2 domain"
         },
         {
          "fillcolor": "yellow",
          "layer": "below",
          "line": {
           "width": 0
          },
          "opacity": 0.3,
          "type": "rect",
          "x0": "2024-01-22T00:00:00",
          "x1": "2024-01-23T00:00:00",
          "xref": "x2",
          "y0": 0,
          "y1": 1,
          "yref": "y2 domain"
         },
         {
          "fillcolor": "yellow",
          "layer": "below",
          "line": {
           "width": 0
          },
          "opacity": 0.3,
          "type": "rect",
          "x0": "2024-01-23T00:00:00",
          "x1": "2024-01-24T00:00:00",
          "xref": "x2",
          "y0": 0,
          "y1": 1,
          "yref": "y2 domain"
         },
         {
          "fillcolor": "yellow",
          "layer": "below",
          "line": {
           "width": 0
          },
          "opacity": 0.3,
          "type": "rect",
          "x0": "2024-02-11T00:00:00",
          "x1": "2024-02-12T00:00:00",
          "xref": "x2",
          "y0": 0,
          "y1": 1,
          "yref": "y2 domain"
         },
         {
          "fillcolor": "yellow",
          "layer": "below",
          "line": {
           "width": 0
          },
          "opacity": 0.3,
          "type": "rect",
          "x0": "2024-02-12T00:00:00",
          "x1": "2024-02-13T00:00:00",
          "xref": "x2",
          "y0": 0,
          "y1": 1,
          "yref": "y2 domain"
         },
         {
          "fillcolor": "yellow",
          "layer": "below",
          "line": {
           "width": 0
          },
          "opacity": 0.3,
          "type": "rect",
          "x0": "2024-02-13T00:00:00",
          "x1": "2024-02-14T00:00:00",
          "xref": "x2",
          "y0": 0,
          "y1": 1,
          "yref": "y2 domain"
         },
         {
          "fillcolor": "yellow",
          "layer": "below",
          "line": {
           "width": 0
          },
          "opacity": 0.3,
          "type": "rect",
          "x0": "2024-02-14T00:00:00",
          "x1": "2024-02-15T00:00:00",
          "xref": "x2",
          "y0": 0,
          "y1": 1,
          "yref": "y2 domain"
         },
         {
          "fillcolor": "yellow",
          "layer": "below",
          "line": {
           "width": 0
          },
          "opacity": 0.3,
          "type": "rect",
          "x0": "2024-02-15T00:00:00",
          "x1": "2024-02-16T00:00:00",
          "xref": "x2",
          "y0": 0,
          "y1": 1,
          "yref": "y2 domain"
         },
         {
          "fillcolor": "yellow",
          "layer": "below",
          "line": {
           "width": 0
          },
          "opacity": 0.3,
          "type": "rect",
          "x0": "2024-02-16T00:00:00",
          "x1": "2024-02-17T00:00:00",
          "xref": "x2",
          "y0": 0,
          "y1": 1,
          "yref": "y2 domain"
         },
         {
          "fillcolor": "yellow",
          "layer": "below",
          "line": {
           "width": 0
          },
          "opacity": 0.3,
          "type": "rect",
          "x0": "2024-02-17T00:00:00",
          "x1": "2024-02-18T00:00:00",
          "xref": "x2",
          "y0": 0,
          "y1": 1,
          "yref": "y2 domain"
         },
         {
          "fillcolor": "yellow",
          "layer": "below",
          "line": {
           "width": 0
          },
          "opacity": 0.3,
          "type": "rect",
          "x0": "2024-02-18T00:00:00",
          "x1": "2024-02-19T00:00:00",
          "xref": "x2",
          "y0": 0,
          "y1": 1,
          "yref": "y2 domain"
         },
         {
          "fillcolor": "yellow",
          "layer": "below",
          "line": {
           "width": 0
          },
          "opacity": 0.3,
          "type": "rect",
          "x0": "2024-02-22T00:00:00",
          "x1": "2024-02-23T00:00:00",
          "xref": "x2",
          "y0": 0,
          "y1": 1,
          "yref": "y2 domain"
         },
         {
          "fillcolor": "yellow",
          "layer": "below",
          "line": {
           "width": 0
          },
          "opacity": 0.3,
          "type": "rect",
          "x0": "2024-02-23T00:00:00",
          "x1": "2024-02-24T00:00:00",
          "xref": "x2",
          "y0": 0,
          "y1": 1,
          "yref": "y2 domain"
         },
         {
          "fillcolor": "yellow",
          "layer": "below",
          "line": {
           "width": 0
          },
          "opacity": 0.3,
          "type": "rect",
          "x0": "2024-02-24T00:00:00",
          "x1": "2024-02-25T00:00:00",
          "xref": "x2",
          "y0": 0,
          "y1": 1,
          "yref": "y2 domain"
         },
         {
          "fillcolor": "yellow",
          "layer": "below",
          "line": {
           "width": 0
          },
          "opacity": 0.3,
          "type": "rect",
          "x0": "2024-02-25T00:00:00",
          "x1": "2024-02-26T00:00:00",
          "xref": "x2",
          "y0": 0,
          "y1": 1,
          "yref": "y2 domain"
         },
         {
          "fillcolor": "yellow",
          "layer": "below",
          "line": {
           "width": 0
          },
          "opacity": 0.3,
          "type": "rect",
          "x0": "2024-02-26T00:00:00",
          "x1": "2024-02-27T00:00:00",
          "xref": "x2",
          "y0": 0,
          "y1": 1,
          "yref": "y2 domain"
         },
         {
          "fillcolor": "yellow",
          "layer": "below",
          "line": {
           "width": 0
          },
          "opacity": 0.3,
          "type": "rect",
          "x0": "2024-02-27T00:00:00",
          "x1": "2024-02-28T00:00:00",
          "xref": "x2",
          "y0": 0,
          "y1": 1,
          "yref": "y2 domain"
         },
         {
          "fillcolor": "yellow",
          "layer": "below",
          "line": {
           "width": 0
          },
          "opacity": 0.3,
          "type": "rect",
          "x0": "2024-02-28T00:00:00",
          "x1": "2024-02-29T00:00:00",
          "xref": "x2",
          "y0": 0,
          "y1": 1,
          "yref": "y2 domain"
         },
         {
          "fillcolor": "yellow",
          "layer": "below",
          "line": {
           "width": 0
          },
          "opacity": 0.3,
          "type": "rect",
          "x0": "2024-03-18T00:00:00",
          "x1": "2024-03-19T00:00:00",
          "xref": "x2",
          "y0": 0,
          "y1": 1,
          "yref": "y2 domain"
         },
         {
          "fillcolor": "yellow",
          "layer": "below",
          "line": {
           "width": 0
          },
          "opacity": 0.3,
          "type": "rect",
          "x0": "2024-03-19T00:00:00",
          "x1": "2024-03-20T00:00:00",
          "xref": "x2",
          "y0": 0,
          "y1": 1,
          "yref": "y2 domain"
         },
         {
          "fillcolor": "yellow",
          "layer": "below",
          "line": {
           "width": 0
          },
          "opacity": 0.3,
          "type": "rect",
          "x0": "2024-03-20T00:00:00",
          "x1": "2024-03-21T00:00:00",
          "xref": "x2",
          "y0": 0,
          "y1": 1,
          "yref": "y2 domain"
         },
         {
          "fillcolor": "yellow",
          "layer": "below",
          "line": {
           "width": 0
          },
          "opacity": 0.3,
          "type": "rect",
          "x0": "2024-03-21T00:00:00",
          "x1": "2024-03-22T00:00:00",
          "xref": "x2",
          "y0": 0,
          "y1": 1,
          "yref": "y2 domain"
         },
         {
          "fillcolor": "yellow",
          "layer": "below",
          "line": {
           "width": 0
          },
          "opacity": 0.3,
          "type": "rect",
          "x0": "2024-03-22T00:00:00",
          "x1": "2024-03-23T00:00:00",
          "xref": "x2",
          "y0": 0,
          "y1": 1,
          "yref": "y2 domain"
         },
         {
          "fillcolor": "yellow",
          "layer": "below",
          "line": {
           "width": 0
          },
          "opacity": 0.3,
          "type": "rect",
          "x0": "2024-03-23T00:00:00",
          "x1": "2024-03-24T00:00:00",
          "xref": "x2",
          "y0": 0,
          "y1": 1,
          "yref": "y2 domain"
         },
         {
          "fillcolor": "yellow",
          "layer": "below",
          "line": {
           "width": 0
          },
          "opacity": 0.3,
          "type": "rect",
          "x0": "2024-03-24T00:00:00",
          "x1": "2024-03-25T00:00:00",
          "xref": "x2",
          "y0": 0,
          "y1": 1,
          "yref": "y2 domain"
         },
         {
          "fillcolor": "yellow",
          "layer": "below",
          "line": {
           "width": 0
          },
          "opacity": 0.3,
          "type": "rect",
          "x0": "2024-03-25T00:00:00",
          "x1": "2024-03-26T00:00:00",
          "xref": "x2",
          "y0": 0,
          "y1": 1,
          "yref": "y2 domain"
         },
         {
          "fillcolor": "yellow",
          "layer": "below",
          "line": {
           "width": 0
          },
          "opacity": 0.3,
          "type": "rect",
          "x0": "2024-03-26T00:00:00",
          "x1": "2024-03-27T00:00:00",
          "xref": "x2",
          "y0": 0,
          "y1": 1,
          "yref": "y2 domain"
         },
         {
          "fillcolor": "yellow",
          "layer": "below",
          "line": {
           "width": 0
          },
          "opacity": 0.3,
          "type": "rect",
          "x0": "2024-04-15T00:00:00",
          "x1": "2024-04-16T00:00:00",
          "xref": "x2",
          "y0": 0,
          "y1": 1,
          "yref": "y2 domain"
         },
         {
          "fillcolor": "yellow",
          "layer": "below",
          "line": {
           "width": 0
          },
          "opacity": 0.3,
          "type": "rect",
          "x0": "2024-04-16T00:00:00",
          "x1": "2024-04-17T00:00:00",
          "xref": "x2",
          "y0": 0,
          "y1": 1,
          "yref": "y2 domain"
         },
         {
          "fillcolor": "yellow",
          "layer": "below",
          "line": {
           "width": 0
          },
          "opacity": 0.3,
          "type": "rect",
          "x0": "2024-04-17T00:00:00",
          "x1": "2024-04-18T00:00:00",
          "xref": "x2",
          "y0": 0,
          "y1": 1,
          "yref": "y2 domain"
         },
         {
          "fillcolor": "yellow",
          "layer": "below",
          "line": {
           "width": 0
          },
          "opacity": 0.3,
          "type": "rect",
          "x0": "2024-04-18T00:00:00",
          "x1": "2024-04-19T00:00:00",
          "xref": "x2",
          "y0": 0,
          "y1": 1,
          "yref": "y2 domain"
         },
         {
          "fillcolor": "yellow",
          "layer": "below",
          "line": {
           "width": 0
          },
          "opacity": 0.3,
          "type": "rect",
          "x0": "2024-04-19T00:00:00",
          "x1": "2024-04-20T00:00:00",
          "xref": "x2",
          "y0": 0,
          "y1": 1,
          "yref": "y2 domain"
         },
         {
          "fillcolor": "yellow",
          "layer": "below",
          "line": {
           "width": 0
          },
          "opacity": 0.3,
          "type": "rect",
          "x0": "2024-04-20T00:00:00",
          "x1": "2024-04-21T00:00:00",
          "xref": "x2",
          "y0": 0,
          "y1": 1,
          "yref": "y2 domain"
         },
         {
          "fillcolor": "yellow",
          "layer": "below",
          "line": {
           "width": 0
          },
          "opacity": 0.3,
          "type": "rect",
          "x0": "2024-04-21T00:00:00",
          "x1": "2024-04-22T00:00:00",
          "xref": "x2",
          "y0": 0,
          "y1": 1,
          "yref": "y2 domain"
         },
         {
          "fillcolor": "yellow",
          "layer": "below",
          "line": {
           "width": 0
          },
          "opacity": 0.3,
          "type": "rect",
          "x0": "2024-04-24T00:00:00",
          "x1": "2024-04-25T00:00:00",
          "xref": "x2",
          "y0": 0,
          "y1": 1,
          "yref": "y2 domain"
         },
         {
          "fillcolor": "yellow",
          "layer": "below",
          "line": {
           "width": 0
          },
          "opacity": 0.3,
          "type": "rect",
          "x0": "2024-04-25T00:00:00",
          "x1": "2024-04-26T00:00:00",
          "xref": "x2",
          "y0": 0,
          "y1": 1,
          "yref": "y2 domain"
         },
         {
          "fillcolor": "yellow",
          "layer": "below",
          "line": {
           "width": 0
          },
          "opacity": 0.3,
          "type": "rect",
          "x0": "2024-04-26T00:00:00",
          "x1": "2024-04-27T00:00:00",
          "xref": "x2",
          "y0": 0,
          "y1": 1,
          "yref": "y2 domain"
         },
         {
          "fillcolor": "yellow",
          "layer": "below",
          "line": {
           "width": 0
          },
          "opacity": 0.3,
          "type": "rect",
          "x0": "2024-04-27T00:00:00",
          "x1": "2024-04-28T00:00:00",
          "xref": "x2",
          "y0": 0,
          "y1": 1,
          "yref": "y2 domain"
         },
         {
          "fillcolor": "yellow",
          "layer": "below",
          "line": {
           "width": 0
          },
          "opacity": 0.3,
          "type": "rect",
          "x0": "2024-04-28T00:00:00",
          "x1": "2024-04-29T00:00:00",
          "xref": "x2",
          "y0": 0,
          "y1": 1,
          "yref": "y2 domain"
         },
         {
          "fillcolor": "yellow",
          "layer": "below",
          "line": {
           "width": 0
          },
          "opacity": 0.3,
          "type": "rect",
          "x0": "2024-04-29T00:00:00",
          "x1": "2024-04-30T00:00:00",
          "xref": "x2",
          "y0": 0,
          "y1": 1,
          "yref": "y2 domain"
         },
         {
          "fillcolor": "yellow",
          "layer": "below",
          "line": {
           "width": 0
          },
          "opacity": 0.3,
          "type": "rect",
          "x0": "2024-04-30T00:00:00",
          "x1": "2024-05-01T00:00:00",
          "xref": "x2",
          "y0": 0,
          "y1": 1,
          "yref": "y2 domain"
         },
         {
          "fillcolor": "yellow",
          "layer": "below",
          "line": {
           "width": 0
          },
          "opacity": 0.3,
          "type": "rect",
          "x0": "2024-05-01T00:00:00",
          "x1": "2024-05-02T00:00:00",
          "xref": "x2",
          "y0": 0,
          "y1": 1,
          "yref": "y2 domain"
         },
         {
          "fillcolor": "yellow",
          "layer": "below",
          "line": {
           "width": 0
          },
          "opacity": 0.3,
          "type": "rect",
          "x0": "2024-05-20T00:00:00",
          "x1": "2024-05-21T00:00:00",
          "xref": "x2",
          "y0": 0,
          "y1": 1,
          "yref": "y2 domain"
         },
         {
          "fillcolor": "yellow",
          "layer": "below",
          "line": {
           "width": 0
          },
          "opacity": 0.3,
          "type": "rect",
          "x0": "2024-05-21T00:00:00",
          "x1": "2024-05-22T00:00:00",
          "xref": "x2",
          "y0": 0,
          "y1": 1,
          "yref": "y2 domain"
         },
         {
          "fillcolor": "yellow",
          "layer": "below",
          "line": {
           "width": 0
          },
          "opacity": 0.3,
          "type": "rect",
          "x0": "2024-05-22T00:00:00",
          "x1": "2024-05-23T00:00:00",
          "xref": "x2",
          "y0": 0,
          "y1": 1,
          "yref": "y2 domain"
         },
         {
          "fillcolor": "yellow",
          "layer": "below",
          "line": {
           "width": 0
          },
          "opacity": 0.3,
          "type": "rect",
          "x0": "2024-05-23T00:00:00",
          "x1": "2024-05-24T00:00:00",
          "xref": "x2",
          "y0": 0,
          "y1": 1,
          "yref": "y2 domain"
         },
         {
          "fillcolor": "yellow",
          "layer": "below",
          "line": {
           "width": 0
          },
          "opacity": 0.3,
          "type": "rect",
          "x0": "2024-05-24T00:00:00",
          "x1": "2024-05-25T00:00:00",
          "xref": "x2",
          "y0": 0,
          "y1": 1,
          "yref": "y2 domain"
         },
         {
          "fillcolor": "yellow",
          "layer": "below",
          "line": {
           "width": 0
          },
          "opacity": 0.3,
          "type": "rect",
          "x0": "2024-05-25T00:00:00",
          "x1": "2024-05-26T00:00:00",
          "xref": "x2",
          "y0": 0,
          "y1": 1,
          "yref": "y2 domain"
         },
         {
          "fillcolor": "yellow",
          "layer": "below",
          "line": {
           "width": 0
          },
          "opacity": 0.3,
          "type": "rect",
          "x0": "2024-05-26T00:00:00",
          "x1": "2024-05-27T00:00:00",
          "xref": "x2",
          "y0": 0,
          "y1": 1,
          "yref": "y2 domain"
         },
         {
          "fillcolor": "yellow",
          "layer": "below",
          "line": {
           "width": 0
          },
          "opacity": 0.3,
          "type": "rect",
          "x0": "2024-05-27T00:00:00",
          "x1": "2024-05-28T00:00:00",
          "xref": "x2",
          "y0": 0,
          "y1": 1,
          "yref": "y2 domain"
         },
         {
          "fillcolor": "yellow",
          "layer": "below",
          "line": {
           "width": 0
          },
          "opacity": 0.3,
          "type": "rect",
          "x0": "2024-05-28T00:00:00",
          "x1": "2024-05-29T00:00:00",
          "xref": "x2",
          "y0": 0,
          "y1": 1,
          "yref": "y2 domain"
         },
         {
          "fillcolor": "yellow",
          "layer": "below",
          "line": {
           "width": 0
          },
          "opacity": 0.3,
          "type": "rect",
          "x0": "2024-06-01T00:00:00",
          "x1": "2024-06-02T00:00:00",
          "xref": "x2",
          "y0": 0,
          "y1": 1,
          "yref": "y2 domain"
         },
         {
          "fillcolor": "yellow",
          "layer": "below",
          "line": {
           "width": 0
          },
          "opacity": 0.3,
          "type": "rect",
          "x0": "2024-06-02T00:00:00",
          "x1": "2024-06-03T00:00:00",
          "xref": "x2",
          "y0": 0,
          "y1": 1,
          "yref": "y2 domain"
         },
         {
          "fillcolor": "yellow",
          "layer": "below",
          "line": {
           "width": 0
          },
          "opacity": 0.3,
          "type": "rect",
          "x0": "2024-06-03T00:00:00",
          "x1": "2024-06-04T00:00:00",
          "xref": "x2",
          "y0": 0,
          "y1": 1,
          "yref": "y2 domain"
         },
         {
          "fillcolor": "yellow",
          "layer": "below",
          "line": {
           "width": 0
          },
          "opacity": 0.3,
          "type": "rect",
          "x0": "2024-06-04T00:00:00",
          "x1": "2024-06-05T00:00:00",
          "xref": "x2",
          "y0": 0,
          "y1": 1,
          "yref": "y2 domain"
         },
         {
          "fillcolor": "yellow",
          "layer": "below",
          "line": {
           "width": 0
          },
          "opacity": 0.3,
          "type": "rect",
          "x0": "2024-06-05T00:00:00",
          "x1": "2024-06-06T00:00:00",
          "xref": "x2",
          "y0": 0,
          "y1": 1,
          "yref": "y2 domain"
         },
         {
          "fillcolor": "yellow",
          "layer": "below",
          "line": {
           "width": 0
          },
          "opacity": 0.3,
          "type": "rect",
          "x0": "2024-06-18T00:00:00",
          "x1": "2024-06-19T00:00:00",
          "xref": "x2",
          "y0": 0,
          "y1": 1,
          "yref": "y2 domain"
         },
         {
          "fillcolor": "yellow",
          "layer": "below",
          "line": {
           "width": 0
          },
          "opacity": 0.3,
          "type": "rect",
          "x0": "2024-06-19T00:00:00",
          "x1": "2024-06-20T00:00:00",
          "xref": "x2",
          "y0": 0,
          "y1": 1,
          "yref": "y2 domain"
         },
         {
          "fillcolor": "yellow",
          "layer": "below",
          "line": {
           "width": 0
          },
          "opacity": 0.3,
          "type": "rect",
          "x0": "2024-06-20T00:00:00",
          "x1": "2024-06-21T00:00:00",
          "xref": "x2",
          "y0": 0,
          "y1": 1,
          "yref": "y2 domain"
         },
         {
          "fillcolor": "yellow",
          "layer": "below",
          "line": {
           "width": 0
          },
          "opacity": 0.3,
          "type": "rect",
          "x0": "2024-06-21T00:00:00",
          "x1": "2024-06-22T00:00:00",
          "xref": "x2",
          "y0": 0,
          "y1": 1,
          "yref": "y2 domain"
         },
         {
          "fillcolor": "yellow",
          "layer": "below",
          "line": {
           "width": 0
          },
          "opacity": 0.3,
          "type": "rect",
          "x0": "2024-06-22T00:00:00",
          "x1": "2024-06-23T00:00:00",
          "xref": "x2",
          "y0": 0,
          "y1": 1,
          "yref": "y2 domain"
         },
         {
          "fillcolor": "yellow",
          "layer": "below",
          "line": {
           "width": 0
          },
          "opacity": 0.3,
          "type": "rect",
          "x0": "2024-06-26T00:00:00",
          "x1": "2024-06-27T00:00:00",
          "xref": "x2",
          "y0": 0,
          "y1": 1,
          "yref": "y2 domain"
         },
         {
          "fillcolor": "yellow",
          "layer": "below",
          "line": {
           "width": 0
          },
          "opacity": 0.3,
          "type": "rect",
          "x0": "2024-06-27T00:00:00",
          "x1": "2024-06-28T00:00:00",
          "xref": "x2",
          "y0": 0,
          "y1": 1,
          "yref": "y2 domain"
         },
         {
          "fillcolor": "yellow",
          "layer": "below",
          "line": {
           "width": 0
          },
          "opacity": 0.3,
          "type": "rect",
          "x0": "2024-06-28T00:00:00",
          "x1": "2024-06-29T00:00:00",
          "xref": "x2",
          "y0": 0,
          "y1": 1,
          "yref": "y2 domain"
         },
         {
          "fillcolor": "yellow",
          "layer": "below",
          "line": {
           "width": 0
          },
          "opacity": 0.3,
          "type": "rect",
          "x0": "2024-06-29T00:00:00",
          "x1": "2024-06-30T00:00:00",
          "xref": "x2",
          "y0": 0,
          "y1": 1,
          "yref": "y2 domain"
         },
         {
          "fillcolor": "yellow",
          "layer": "below",
          "line": {
           "width": 0
          },
          "opacity": 0.3,
          "type": "rect",
          "x0": "2024-06-30T00:00:00",
          "x1": "2024-07-01T00:00:00",
          "xref": "x2",
          "y0": 0,
          "y1": 1,
          "yref": "y2 domain"
         },
         {
          "fillcolor": "yellow",
          "layer": "below",
          "line": {
           "width": 0
          },
          "opacity": 0.3,
          "type": "rect",
          "x0": "2024-07-01T00:00:00",
          "x1": "2024-07-02T00:00:00",
          "xref": "x2",
          "y0": 0,
          "y1": 1,
          "yref": "y2 domain"
         },
         {
          "fillcolor": "yellow",
          "layer": "below",
          "line": {
           "width": 0
          },
          "opacity": 0.3,
          "type": "rect",
          "x0": "2024-07-02T00:00:00",
          "x1": "2024-07-03T00:00:00",
          "xref": "x2",
          "y0": 0,
          "y1": 1,
          "yref": "y2 domain"
         },
         {
          "fillcolor": "yellow",
          "layer": "below",
          "line": {
           "width": 0
          },
          "opacity": 0.3,
          "type": "rect",
          "x0": "2024-07-03T00:00:00",
          "x1": "2024-07-04T00:00:00",
          "xref": "x2",
          "y0": 0,
          "y1": 1,
          "yref": "y2 domain"
         },
         {
          "fillcolor": "yellow",
          "layer": "below",
          "line": {
           "width": 0
          },
          "opacity": 0.3,
          "type": "rect",
          "x0": "2024-07-04T00:00:00",
          "x1": "2024-07-05T00:00:00",
          "xref": "x2",
          "y0": 0,
          "y1": 1,
          "yref": "y2 domain"
         },
         {
          "line": {
           "color": "red",
           "dash": "dash"
          },
          "type": "line",
          "x0": 0,
          "x1": 1,
          "xref": "x4 domain",
          "y0": 367.39608855548914,
          "y1": 367.39608855548914,
          "yref": "y4"
         },
         {
          "line": {
           "color": "blue",
           "dash": "solid"
          },
          "type": "line",
          "x0": 0,
          "x1": 1,
          "xref": "x5 domain",
          "y0": 7.95,
          "y1": 7.95,
          "yref": "y5"
         }
        ],
        "showlegend": true,
        "template": {
         "data": {
          "bar": [
           {
            "error_x": {
             "color": "#2a3f5f"
            },
            "error_y": {
             "color": "#2a3f5f"
            },
            "marker": {
             "line": {
              "color": "white",
              "width": 0.5
             },
             "pattern": {
              "fillmode": "overlay",
              "size": 10,
              "solidity": 0.2
             }
            },
            "type": "bar"
           }
          ],
          "barpolar": [
           {
            "marker": {
             "line": {
              "color": "white",
              "width": 0.5
             },
             "pattern": {
              "fillmode": "overlay",
              "size": 10,
              "solidity": 0.2
             }
            },
            "type": "barpolar"
           }
          ],
          "carpet": [
           {
            "aaxis": {
             "endlinecolor": "#2a3f5f",
             "gridcolor": "#C8D4E3",
             "linecolor": "#C8D4E3",
             "minorgridcolor": "#C8D4E3",
             "startlinecolor": "#2a3f5f"
            },
            "baxis": {
             "endlinecolor": "#2a3f5f",
             "gridcolor": "#C8D4E3",
             "linecolor": "#C8D4E3",
             "minorgridcolor": "#C8D4E3",
             "startlinecolor": "#2a3f5f"
            },
            "type": "carpet"
           }
          ],
          "choropleth": [
           {
            "colorbar": {
             "outlinewidth": 0,
             "ticks": ""
            },
            "type": "choropleth"
           }
          ],
          "contour": [
           {
            "colorbar": {
             "outlinewidth": 0,
             "ticks": ""
            },
            "colorscale": [
             [
              0,
              "#0d0887"
             ],
             [
              0.1111111111111111,
              "#46039f"
             ],
             [
              0.2222222222222222,
              "#7201a8"
             ],
             [
              0.3333333333333333,
              "#9c179e"
             ],
             [
              0.4444444444444444,
              "#bd3786"
             ],
             [
              0.5555555555555556,
              "#d8576b"
             ],
             [
              0.6666666666666666,
              "#ed7953"
             ],
             [
              0.7777777777777778,
              "#fb9f3a"
             ],
             [
              0.8888888888888888,
              "#fdca26"
             ],
             [
              1,
              "#f0f921"
             ]
            ],
            "type": "contour"
           }
          ],
          "contourcarpet": [
           {
            "colorbar": {
             "outlinewidth": 0,
             "ticks": ""
            },
            "type": "contourcarpet"
           }
          ],
          "heatmap": [
           {
            "colorbar": {
             "outlinewidth": 0,
             "ticks": ""
            },
            "colorscale": [
             [
              0,
              "#0d0887"
             ],
             [
              0.1111111111111111,
              "#46039f"
             ],
             [
              0.2222222222222222,
              "#7201a8"
             ],
             [
              0.3333333333333333,
              "#9c179e"
             ],
             [
              0.4444444444444444,
              "#bd3786"
             ],
             [
              0.5555555555555556,
              "#d8576b"
             ],
             [
              0.6666666666666666,
              "#ed7953"
             ],
             [
              0.7777777777777778,
              "#fb9f3a"
             ],
             [
              0.8888888888888888,
              "#fdca26"
             ],
             [
              1,
              "#f0f921"
             ]
            ],
            "type": "heatmap"
           }
          ],
          "histogram": [
           {
            "marker": {
             "pattern": {
              "fillmode": "overlay",
              "size": 10,
              "solidity": 0.2
             }
            },
            "type": "histogram"
           }
          ],
          "histogram2d": [
           {
            "colorbar": {
             "outlinewidth": 0,
             "ticks": ""
            },
            "colorscale": [
             [
              0,
              "#0d0887"
             ],
             [
              0.1111111111111111,
              "#46039f"
             ],
             [
              0.2222222222222222,
              "#7201a8"
             ],
             [
              0.3333333333333333,
              "#9c179e"
             ],
             [
              0.4444444444444444,
              "#bd3786"
             ],
             [
              0.5555555555555556,
              "#d8576b"
             ],
             [
              0.6666666666666666,
              "#ed7953"
             ],
             [
              0.7777777777777778,
              "#fb9f3a"
             ],
             [
              0.8888888888888888,
              "#fdca26"
             ],
             [
              1,
              "#f0f921"
             ]
            ],
            "type": "histogram2d"
           }
          ],
          "histogram2dcontour": [
           {
            "colorbar": {
             "outlinewidth": 0,
             "ticks": ""
            },
            "colorscale": [
             [
              0,
              "#0d0887"
             ],
             [
              0.1111111111111111,
              "#46039f"
             ],
             [
              0.2222222222222222,
              "#7201a8"
             ],
             [
              0.3333333333333333,
              "#9c179e"
             ],
             [
              0.4444444444444444,
              "#bd3786"
             ],
             [
              0.5555555555555556,
              "#d8576b"
             ],
             [
              0.6666666666666666,
              "#ed7953"
             ],
             [
              0.7777777777777778,
              "#fb9f3a"
             ],
             [
              0.8888888888888888,
              "#fdca26"
             ],
             [
              1,
              "#f0f921"
             ]
            ],
            "type": "histogram2dcontour"
           }
          ],
          "mesh3d": [
           {
            "colorbar": {
             "outlinewidth": 0,
             "ticks": ""
            },
            "type": "mesh3d"
           }
          ],
          "parcoords": [
           {
            "line": {
             "colorbar": {
              "outlinewidth": 0,
              "ticks": ""
             }
            },
            "type": "parcoords"
           }
          ],
          "pie": [
           {
            "automargin": true,
            "type": "pie"
           }
          ],
          "scatter": [
           {
            "fillpattern": {
             "fillmode": "overlay",
             "size": 10,
             "solidity": 0.2
            },
            "type": "scatter"
           }
          ],
          "scatter3d": [
           {
            "line": {
             "colorbar": {
              "outlinewidth": 0,
              "ticks": ""
             }
            },
            "marker": {
             "colorbar": {
              "outlinewidth": 0,
              "ticks": ""
             }
            },
            "type": "scatter3d"
           }
          ],
          "scattercarpet": [
           {
            "marker": {
             "colorbar": {
              "outlinewidth": 0,
              "ticks": ""
             }
            },
            "type": "scattercarpet"
           }
          ],
          "scattergeo": [
           {
            "marker": {
             "colorbar": {
              "outlinewidth": 0,
              "ticks": ""
             }
            },
            "type": "scattergeo"
           }
          ],
          "scattergl": [
           {
            "marker": {
             "colorbar": {
              "outlinewidth": 0,
              "ticks": ""
             }
            },
            "type": "scattergl"
           }
          ],
          "scattermap": [
           {
            "marker": {
             "colorbar": {
              "outlinewidth": 0,
              "ticks": ""
             }
            },
            "type": "scattermap"
           }
          ],
          "scattermapbox": [
           {
            "marker": {
             "colorbar": {
              "outlinewidth": 0,
              "ticks": ""
             }
            },
            "type": "scattermapbox"
           }
          ],
          "scatterpolar": [
           {
            "marker": {
             "colorbar": {
              "outlinewidth": 0,
              "ticks": ""
             }
            },
            "type": "scatterpolar"
           }
          ],
          "scatterpolargl": [
           {
            "marker": {
             "colorbar": {
              "outlinewidth": 0,
              "ticks": ""
             }
            },
            "type": "scatterpolargl"
           }
          ],
          "scatterternary": [
           {
            "marker": {
             "colorbar": {
              "outlinewidth": 0,
              "ticks": ""
             }
            },
            "type": "scatterternary"
           }
          ],
          "surface": [
           {
            "colorbar": {
             "outlinewidth": 0,
             "ticks": ""
            },
            "colorscale": [
             [
              0,
              "#0d0887"
             ],
             [
              0.1111111111111111,
              "#46039f"
             ],
             [
              0.2222222222222222,
              "#7201a8"
             ],
             [
              0.3333333333333333,
              "#9c179e"
             ],
             [
              0.4444444444444444,
              "#bd3786"
             ],
             [
              0.5555555555555556,
              "#d8576b"
             ],
             [
              0.6666666666666666,
              "#ed7953"
             ],
             [
              0.7777777777777778,
              "#fb9f3a"
             ],
             [
              0.8888888888888888,
              "#fdca26"
             ],
             [
              1,
              "#f0f921"
             ]
            ],
            "type": "surface"
           }
          ],
          "table": [
           {
            "cells": {
             "fill": {
              "color": "#EBF0F8"
             },
             "line": {
              "color": "white"
             }
            },
            "header": {
             "fill": {
              "color": "#C8D4E3"
             },
             "line": {
              "color": "white"
             }
            },
            "type": "table"
           }
          ]
         },
         "layout": {
          "annotationdefaults": {
           "arrowcolor": "#2a3f5f",
           "arrowhead": 0,
           "arrowwidth": 1
          },
          "autotypenumbers": "strict",
          "coloraxis": {
           "colorbar": {
            "outlinewidth": 0,
            "ticks": ""
           }
          },
          "colorscale": {
           "diverging": [
            [
             0,
             "#8e0152"
            ],
            [
             0.1,
             "#c51b7d"
            ],
            [
             0.2,
             "#de77ae"
            ],
            [
             0.3,
             "#f1b6da"
            ],
            [
             0.4,
             "#fde0ef"
            ],
            [
             0.5,
             "#f7f7f7"
            ],
            [
             0.6,
             "#e6f5d0"
            ],
            [
             0.7,
             "#b8e186"
            ],
            [
             0.8,
             "#7fbc41"
            ],
            [
             0.9,
             "#4d9221"
            ],
            [
             1,
             "#276419"
            ]
           ],
           "sequential": [
            [
             0,
             "#0d0887"
            ],
            [
             0.1111111111111111,
             "#46039f"
            ],
            [
             0.2222222222222222,
             "#7201a8"
            ],
            [
             0.3333333333333333,
             "#9c179e"
            ],
            [
             0.4444444444444444,
             "#bd3786"
            ],
            [
             0.5555555555555556,
             "#d8576b"
            ],
            [
             0.6666666666666666,
             "#ed7953"
            ],
            [
             0.7777777777777778,
             "#fb9f3a"
            ],
            [
             0.8888888888888888,
             "#fdca26"
            ],
            [
             1,
             "#f0f921"
            ]
           ],
           "sequentialminus": [
            [
             0,
             "#0d0887"
            ],
            [
             0.1111111111111111,
             "#46039f"
            ],
            [
             0.2222222222222222,
             "#7201a8"
            ],
            [
             0.3333333333333333,
             "#9c179e"
            ],
            [
             0.4444444444444444,
             "#bd3786"
            ],
            [
             0.5555555555555556,
             "#d8576b"
            ],
            [
             0.6666666666666666,
             "#ed7953"
            ],
            [
             0.7777777777777778,
             "#fb9f3a"
            ],
            [
             0.8888888888888888,
             "#fdca26"
            ],
            [
             1,
             "#f0f921"
            ]
           ]
          },
          "colorway": [
           "#636efa",
           "#EF553B",
           "#00cc96",
           "#ab63fa",
           "#FFA15A",
           "#19d3f3",
           "#FF6692",
           "#B6E880",
           "#FF97FF",
           "#FECB52"
          ],
          "font": {
           "color": "#2a3f5f"
          },
          "geo": {
           "bgcolor": "white",
           "lakecolor": "white",
           "landcolor": "white",
           "showlakes": true,
           "showland": true,
           "subunitcolor": "#C8D4E3"
          },
          "hoverlabel": {
           "align": "left"
          },
          "hovermode": "closest",
          "mapbox": {
           "style": "light"
          },
          "paper_bgcolor": "white",
          "plot_bgcolor": "white",
          "polar": {
           "angularaxis": {
            "gridcolor": "#EBF0F8",
            "linecolor": "#EBF0F8",
            "ticks": ""
           },
           "bgcolor": "white",
           "radialaxis": {
            "gridcolor": "#EBF0F8",
            "linecolor": "#EBF0F8",
            "ticks": ""
           }
          },
          "scene": {
           "xaxis": {
            "backgroundcolor": "white",
            "gridcolor": "#DFE8F3",
            "gridwidth": 2,
            "linecolor": "#EBF0F8",
            "showbackground": true,
            "ticks": "",
            "zerolinecolor": "#EBF0F8"
           },
           "yaxis": {
            "backgroundcolor": "white",
            "gridcolor": "#DFE8F3",
            "gridwidth": 2,
            "linecolor": "#EBF0F8",
            "showbackground": true,
            "ticks": "",
            "zerolinecolor": "#EBF0F8"
           },
           "zaxis": {
            "backgroundcolor": "white",
            "gridcolor": "#DFE8F3",
            "gridwidth": 2,
            "linecolor": "#EBF0F8",
            "showbackground": true,
            "ticks": "",
            "zerolinecolor": "#EBF0F8"
           }
          },
          "shapedefaults": {
           "line": {
            "color": "#2a3f5f"
           }
          },
          "ternary": {
           "aaxis": {
            "gridcolor": "#DFE8F3",
            "linecolor": "#A2B1C6",
            "ticks": ""
           },
           "baxis": {
            "gridcolor": "#DFE8F3",
            "linecolor": "#A2B1C6",
            "ticks": ""
           },
           "bgcolor": "white",
           "caxis": {
            "gridcolor": "#DFE8F3",
            "linecolor": "#A2B1C6",
            "ticks": ""
           }
          },
          "title": {
           "x": 0.05
          },
          "xaxis": {
           "automargin": true,
           "gridcolor": "#EBF0F8",
           "linecolor": "#EBF0F8",
           "ticks": "",
           "title": {
            "standoff": 15
           },
           "zerolinecolor": "#EBF0F8",
           "zerolinewidth": 2
          },
          "yaxis": {
           "automargin": true,
           "gridcolor": "#EBF0F8",
           "linecolor": "#EBF0F8",
           "ticks": "",
           "title": {
            "standoff": 15
           },
           "zerolinecolor": "#EBF0F8",
           "zerolinewidth": 2
          }
         }
        },
        "title": {
         "text": "🎯 Advanced Trading Integration Framework<br><sub>Combining patterns, waves, cycles, and risk management</sub>"
        },
        "xaxis": {
         "anchor": "y",
         "domain": [
          0,
          0.45
         ]
        },
        "xaxis2": {
         "anchor": "y2",
         "domain": [
          0.55,
          1
         ]
        },
        "xaxis3": {
         "anchor": "y3",
         "domain": [
          0,
          0.45
         ]
        },
        "xaxis4": {
         "anchor": "y4",
         "domain": [
          0.55,
          1
         ]
        },
        "xaxis5": {
         "anchor": "y5",
         "domain": [
          0,
          0.45
         ]
        },
        "yaxis": {
         "anchor": "x",
         "domain": [
          0.7777777777777778,
          1
         ],
         "title": {
          "text": "Price ($)"
         }
        },
        "yaxis2": {
         "anchor": "x2",
         "domain": [
          0.7777777777777778,
          1
         ],
         "title": {
          "text": "Price ($)"
         }
        },
        "yaxis3": {
         "anchor": "x3",
         "domain": [
          0.3888888888888889,
          0.6111111111111112
         ],
         "title": {
          "text": "Price ($)"
         }
        },
        "yaxis4": {
         "anchor": "x4",
         "domain": [
          0.3888888888888889,
          0.6111111111111112
         ],
         "title": {
          "text": "Position Size"
         }
        },
        "yaxis5": {
         "anchor": "x5",
         "domain": [
          0,
          0.22222222222222224
         ],
         "title": {
          "text": "Weighted Score"
         }
        }
       }
      }
     },
     "metadata": {},
     "output_type": "display_data"
    },
    {
     "name": "stdout",
     "output_type": "stream",
     "text": [
      "🎯 ADVANCED TRADING INTEGRATION FRAMEWORK:\n",
      "==================================================\n",
      "\n",
      "🔗 TOOL COMBINATION HIERARCHY:\n",
      "1️⃣ MARKET CONTEXT (Multi-timeframe)\n",
      "   → Determines overall market direction\n",
      "   → Sets risk appetite and position bias\n",
      "\n",
      "2️⃣ PATTERN RECOGNITION (Harmonic + Geometric)\n",
      "   → Identifies high-probability reversal zones\n",
      "   → Provides precise entry and exit levels\n",
      "\n",
      "3️⃣ WAVE ANALYSIS (Elliott Wave)\n",
      "   → Confirms pattern validity and market phase\n",
      "   → Projects future price targets\n",
      "\n",
      "4️⃣ CYCLE TIMING (Time + Price Cycles)\n",
      "   → Optimizes entry and exit timing\n",
      "   → Identifies market turning points\n",
      "\n",
      "5️⃣ RISK MANAGEMENT (ATR + Position Sizing)\n",
      "   → Standardizes risk across all trades\n",
      "   → Ensures capital preservation\n",
      "\n",
      "🏆 MASTER TRADING CHECKLIST:\n",
      "✅ Multiple timeframe alignment\n",
      "✅ Clear harmonic or geometric pattern\n",
      "✅ Elliott Wave structure confirmation\n",
      "✅ Cycle confluence at key levels\n",
      "✅ Favorable risk/reward ratio (min 1:2)\n",
      "✅ Volume confirmation on breakouts\n",
      "✅ Proper position sizing calculated\n",
      "✅ Clear exit strategy defined\n",
      "\n",
      "⚡ TRADE EXECUTION FRAMEWORK:\n",
      "🎯 ENTRY: Wait for 3+ tool confluence\n",
      "🛡️ STOP: Place beyond pattern invalidation\n",
      "💰 TARGET: Use Fibonacci extensions/projections\n",
      "📊 SIZE: Risk 1-2% of account per trade\n",
      "🔄 REVIEW: Analyze performance monthly\n",
      "\n",
      "🚨 RISK WARNINGS:\n",
      "⚠️ No single tool is 100% accurate\n",
      "⚠️ Market conditions can invalidate patterns\n",
      "⚠️ Always use proper position sizing\n",
      "⚠️ Keep detailed trading journal\n",
      "⚠️ Continuously educate and adapt\n",
      "\n",
      "📈 INTEGRATION SUCCESS METRICS:\n",
      "• Win Rate: Target 55-65%\n",
      "• Risk/Reward: Minimum 1:2 ratio\n",
      "• Maximum Drawdown: <15%\n",
      "• Sharpe Ratio: >1.5\n",
      "• Profit Factor: >1.5\n"
     ]
    }
   ],
   "source": [
    "# ADVANCED TRADING INTEGRATION - Multi-Tool Strategy Framework\n",
    "def plot_integrated_strategy():\n",
    "    \"\"\"Demonstrate how to combine multiple advanced tools for optimal trading\"\"\"\n",
    "    \n",
    "    fig = make_subplots(\n",
    "        rows=3, cols=2,\n",
    "        subplot_titles=('Pattern + Elliott Wave Confluence', 'Cycle Timing + Harmonic Patterns',\n",
    "                       'Multi-Timeframe Analysis', 'Risk Management Integration',\n",
    "                       'Trade Setup Scoring', 'Complete Strategy Framework'),\n",
    "        specs=[[{\"secondary_y\": False}, {\"secondary_y\": False}],\n",
    "               [{\"secondary_y\": False}, {\"secondary_y\": False}],\n",
    "               [{\"secondary_y\": False}, {\"type\": \"table\"}]]\n",
    "    )\n",
    "    \n",
    "    # Generate comprehensive market data\n",
    "    dates = pd.date_range('2024-01-01', periods=200, freq='D')\n",
    "    np.random.seed(42)\n",
    "    \n",
    "    # Create complex price action with multiple embedded patterns\n",
    "    base_price = 100\n",
    "    trend = np.linspace(0, 30, 200)  # Uptrend\n",
    "    elliott_wave = 15 * np.sin(np.linspace(0, 4*np.pi, 200))  # Elliott structure\n",
    "    harmonic_pattern = 8 * np.sin(np.linspace(0, 8*np.pi, 200))  # Harmonic cycles\n",
    "    noise = np.random.normal(0, 3, 200)\n",
    "    \n",
    "    close_prices = base_price + trend + elliott_wave + harmonic_pattern + noise\n",
    "    high_prices = close_prices + np.random.uniform(0.5, 3, 200)\n",
    "    low_prices = close_prices - np.random.uniform(0.5, 3, 200)\n",
    "    open_prices = close_prices + np.random.uniform(-1, 1, 200)\n",
    "    \n",
    "    comprehensive_data = pd.DataFrame({\n",
    "        'Date': dates,\n",
    "        'Open': open_prices,\n",
    "        'High': high_prices,\n",
    "        'Low': low_prices,\n",
    "        'Close': close_prices,\n",
    "        'Volume': np.random.randint(100000, 1000000, 200)\n",
    "    })\n",
    "    \n",
    "    # 1. PATTERN + ELLIOTT WAVE CONFLUENCE\n",
    "    fig.add_trace(go.Candlestick(\n",
    "        x=comprehensive_data['Date'],\n",
    "        open=comprehensive_data['Open'],\n",
    "        high=comprehensive_data['High'],\n",
    "        low=comprehensive_data['Low'],\n",
    "        close=comprehensive_data['Close'],\n",
    "        name='Price Action',\n",
    "        increasing_line_color='green',\n",
    "        decreasing_line_color='red'\n",
    "    ), row=1, col=1)\n",
    "    \n",
    "    # Identify Elliott Wave structure\n",
    "    wave_points = [0, 40, 20, 80, 60, 120, 100, 160, 140, 200]\n",
    "    wave_prices = [close_prices[min(i, len(close_prices)-1)] for i in wave_points]\n",
    "    wave_labels = ['Start', '1', '2', '3', '4', '5', 'A', 'B', 'C', 'End']\n",
    "    \n",
    "    for i in range(len(wave_points)-1):\n",
    "        if i < len(wave_points)-1:\n",
    "            fig.add_trace(go.Scatter(\n",
    "                x=[dates[wave_points[i]], dates[min(wave_points[i+1], len(dates)-1)]],\n",
    "                y=[wave_prices[i], wave_prices[i+1]],\n",
    "                mode='lines+text',\n",
    "                name=f'Wave {wave_labels[i+1]}',\n",
    "                line=dict(color='blue', width=2),\n",
    "                text=['', wave_labels[i+1]],\n",
    "                textposition='top center',\n",
    "                showlegend=False\n",
    "            ), row=1, col=1)\n",
    "    \n",
    "    # Add harmonic pattern overlay\n",
    "    pattern_start = 80\n",
    "    pattern_end = 120\n",
    "    if pattern_end < len(close_prices):\n",
    "        xabcd_x = close_prices[pattern_start]\n",
    "        xabcd_a = close_prices[pattern_start + 10]\n",
    "        xabcd_b = close_prices[pattern_start + 20]\n",
    "        xabcd_c = close_prices[pattern_start + 30]\n",
    "        xabcd_d = close_prices[pattern_start + 40]\n",
    "        \n",
    "        pattern_x = [dates[pattern_start], dates[pattern_start + 10], \n",
    "                    dates[pattern_start + 20], dates[pattern_start + 30], \n",
    "                    dates[pattern_start + 40]]\n",
    "        pattern_y = [xabcd_x, xabcd_a, xabcd_b, xabcd_c, xabcd_d]\n",
    "        \n",
    "        fig.add_trace(go.Scatter(\n",
    "            x=pattern_x,\n",
    "            y=pattern_y,\n",
    "            mode='lines+markers+text',\n",
    "            name='XABCD Pattern',\n",
    "            line=dict(color='purple', width=3, dash='dash'),\n",
    "            marker=dict(size=8, color='purple'),\n",
    "            text=['X', 'A', 'B', 'C', 'D'],\n",
    "            textposition='top center'\n",
    "        ), row=1, col=1)\n",
    "    \n",
    "    # 2. CYCLE TIMING + HARMONIC PATTERNS\n",
    "    cycle_data = comprehensive_data.copy()\n",
    "    \n",
    "    # Add price line\n",
    "    fig.add_trace(go.Scatter(\n",
    "        x=cycle_data['Date'],\n",
    "        y=cycle_data['Close'],\n",
    "        mode='lines',\n",
    "        name='Price',\n",
    "        line=dict(color='blue', width=2)\n",
    "    ), row=1, col=2)\n",
    "    \n",
    "    # Overlay cycle analysis\n",
    "    short_cycle = 8 * np.sin(2 * np.pi * np.arange(len(cycle_data)) / 25)\n",
    "    medium_cycle = 12 * np.sin(2 * np.pi * np.arange(len(cycle_data)) / 65)\n",
    "    \n",
    "    cycle_confluence = np.abs(short_cycle) + np.abs(medium_cycle)\n",
    "    normalized_confluence = (cycle_confluence - cycle_confluence.min()) / (cycle_confluence.max() - cycle_confluence.min())\n",
    "    \n",
    "    # Mark high confluence zones\n",
    "    high_conf_threshold = 0.7\n",
    "    high_conf_zones = normalized_confluence > high_conf_threshold\n",
    "    \n",
    "    for i, is_high_conf in enumerate(high_conf_zones):\n",
    "        if is_high_conf and i < len(cycle_data):\n",
    "            fig.add_vrect(\n",
    "                x0=cycle_data['Date'].iloc[i],\n",
    "                x1=cycle_data['Date'].iloc[min(i+1, len(cycle_data)-1)],\n",
    "                fillcolor=\"yellow\",\n",
    "                opacity=0.3,\n",
    "                layer=\"below\",\n",
    "                line_width=0,\n",
    "                row=1, col=2\n",
    "            )\n",
    "    \n",
    "    # 3. MULTI-TIMEFRAME ANALYSIS\n",
    "    # Simulate different timeframes\n",
    "    weekly_data = cycle_data[::5].copy()  # Every 5th day for weekly\n",
    "    monthly_data = cycle_data[::20].copy()  # Every 20th day for monthly\n",
    "    \n",
    "    fig.add_trace(go.Scatter(\n",
    "        x=cycle_data['Date'],\n",
    "        y=cycle_data['Close'],\n",
    "        mode='lines',\n",
    "        name='Daily',\n",
    "        line=dict(color='blue', width=1)\n",
    "    ), row=2, col=1)\n",
    "    \n",
    "    fig.add_trace(go.Scatter(\n",
    "        x=weekly_data['Date'],\n",
    "        y=weekly_data['Close'],\n",
    "        mode='lines+markers',\n",
    "        name='Weekly Trend',\n",
    "        line=dict(color='red', width=3),\n",
    "        marker=dict(size=6)\n",
    "    ), row=2, col=1)\n",
    "    \n",
    "    fig.add_trace(go.Scatter(\n",
    "        x=monthly_data['Date'],\n",
    "        y=monthly_data['Close'],\n",
    "        mode='lines+markers',\n",
    "        name='Monthly Trend',\n",
    "        line=dict(color='green', width=5),\n",
    "        marker=dict(size=10)\n",
    "    ), row=2, col=1)\n",
    "    \n",
    "    # 4. RISK MANAGEMENT INTEGRATION\n",
    "    # Calculate ATR for position sizing\n",
    "    high_low = comprehensive_data['High'] - comprehensive_data['Low']\n",
    "    high_close = np.abs(comprehensive_data['High'] - comprehensive_data['Close'].shift(1))\n",
    "    low_close = np.abs(comprehensive_data['Low'] - comprehensive_data['Close'].shift(1))\n",
    "    \n",
    "    true_range = pd.concat([high_low, high_close, low_close], axis=1).max(axis=1)\n",
    "    atr = true_range.rolling(window=14).mean()\n",
    "    \n",
    "    # Position sizing based on risk percentage\n",
    "    account_size = 100000\n",
    "    risk_percent = 0.02  # 2% risk per trade\n",
    "    risk_amount = account_size * risk_percent\n",
    "    \n",
    "    position_sizes = risk_amount / atr\n",
    "    \n",
    "    fig.add_trace(go.Scatter(\n",
    "        x=comprehensive_data['Date'],\n",
    "        y=position_sizes,\n",
    "        mode='lines',\n",
    "        name='Position Size (Shares)',\n",
    "        line=dict(color='purple', width=2)\n",
    "    ), row=2, col=2)\n",
    "    \n",
    "    # Add risk levels\n",
    "    fig.add_hline(\n",
    "        y=position_sizes.mean(),\n",
    "        line_dash=\"dash\",\n",
    "        line_color=\"red\",\n",
    "        annotation_text=\"Average Position Size\",\n",
    "        row=2, col=2\n",
    "    )\n",
    "    \n",
    "    # 5. TRADE SETUP SCORING SYSTEM\n",
    "    # Create a comprehensive scoring system\n",
    "    scoring_data = {\n",
    "        'Setup_Component': [\n",
    "            'Elliott Wave Position', 'Harmonic Pattern', 'Cycle Confluence',\n",
    "            'Multi-TF Alignment', 'Volume Confirmation', 'Risk/Reward Ratio'\n",
    "        ],\n",
    "        'Weight': [25, 20, 15, 20, 10, 10],\n",
    "        'Example_Score': [8, 9, 7, 8, 6, 9],\n",
    "        'Weighted_Score': [8*0.25, 9*0.20, 7*0.15, 8*0.20, 6*0.10, 9*0.10]\n",
    "    }\n",
    "    \n",
    "    total_score = sum(scoring_data['Weighted_Score'])\n",
    "    \n",
    "    fig.add_trace(go.Bar(\n",
    "        x=scoring_data['Setup_Component'],\n",
    "        y=scoring_data['Weighted_Score'],\n",
    "        name='Weighted Scores',\n",
    "        marker_color=['red' if score < 1.5 else 'yellow' if score < 2.0 else 'green' \n",
    "                     for score in scoring_data['Weighted_Score']]\n",
    "    ), row=3, col=1)\n",
    "    \n",
    "    fig.add_hline(\n",
    "        y=total_score,\n",
    "        line_dash=\"solid\",\n",
    "        line_color=\"blue\",\n",
    "        annotation_text=f\"Total Score: {total_score:.1f}/10\",\n",
    "        row=3, col=1\n",
    "    )\n",
    "    \n",
    "    # 6. COMPLETE STRATEGY FRAMEWORK\n",
    "    framework_steps = {\n",
    "        'Step': ['1. Market Context', '2. Pattern Recognition', '3. Cycle Analysis',\n",
    "                '4. Wave Counting', '5. Risk Assessment', '6. Entry Signal',\n",
    "                '7. Position Sizing', '8. Exit Strategy'],\n",
    "        'Tool_Used': ['Multi-TF Trend', 'Harmonic/Geometric', 'Time Cycles',\n",
    "                     'Elliott Waves', 'ATR + R:R', 'Confluence Zone',\n",
    "                     'ATR Position Sizing', 'Fibonacci Targets'],\n",
    "        'Status': ['✅ Bullish', '✅ Bullish XABCD', '✅ High Confluence',\n",
    "                  '✅ Wave 5 Target', '✅ 2% Risk', '⏳ Waiting',\n",
    "                  '✅ 500 Shares', '✅ 1.618 Extension']\n",
    "    }\n",
    "    \n",
    "    fig.add_trace(go.Table(\n",
    "        header=dict(values=list(framework_steps.keys()),\n",
    "                   fill_color='lightblue',\n",
    "                   align='center',\n",
    "                   font=dict(size=11, color='black')),\n",
    "        cells=dict(values=[framework_steps[col] for col in framework_steps.keys()],\n",
    "                  fill_color='lightgray',\n",
    "                  align='center',\n",
    "                  font=dict(size=9),\n",
    "                  height=25)\n",
    "    ), row=3, col=2)\n",
    "    \n",
    "    fig.update_layout(\n",
    "        title='🎯 Advanced Trading Integration Framework<br><sub>Combining patterns, waves, cycles, and risk management</sub>',\n",
    "        height=1400,\n",
    "        template='plotly_white',\n",
    "        showlegend=True\n",
    "    )\n",
    "    \n",
    "    # Update axis labels\n",
    "    fig.update_yaxes(title_text=\"Price ($)\", row=1, col=1)\n",
    "    fig.update_yaxes(title_text=\"Price ($)\", row=1, col=2)\n",
    "    fig.update_yaxes(title_text=\"Price ($)\", row=2, col=1)\n",
    "    fig.update_yaxes(title_text=\"Position Size\", row=2, col=2)\n",
    "    fig.update_yaxes(title_text=\"Weighted Score\", row=3, col=1)\n",
    "    \n",
    "    return fig\n",
    "\n",
    "integration_fig = plot_integrated_strategy()\n",
    "integration_fig.show()\n",
    "\n",
    "print(\"🎯 ADVANCED TRADING INTEGRATION FRAMEWORK:\")\n",
    "print(\"=\" * 50)\n",
    "\n",
    "print(\"\\n🔗 TOOL COMBINATION HIERARCHY:\")\n",
    "print(\"1️⃣ MARKET CONTEXT (Multi-timeframe)\")\n",
    "print(\"   → Determines overall market direction\")\n",
    "print(\"   → Sets risk appetite and position bias\")\n",
    "\n",
    "print(\"\\n2️⃣ PATTERN RECOGNITION (Harmonic + Geometric)\")\n",
    "print(\"   → Identifies high-probability reversal zones\")\n",
    "print(\"   → Provides precise entry and exit levels\")\n",
    "\n",
    "print(\"\\n3️⃣ WAVE ANALYSIS (Elliott Wave)\")\n",
    "print(\"   → Confirms pattern validity and market phase\")\n",
    "print(\"   → Projects future price targets\")\n",
    "\n",
    "print(\"\\n4️⃣ CYCLE TIMING (Time + Price Cycles)\")\n",
    "print(\"   → Optimizes entry and exit timing\")\n",
    "print(\"   → Identifies market turning points\")\n",
    "\n",
    "print(\"\\n5️⃣ RISK MANAGEMENT (ATR + Position Sizing)\")\n",
    "print(\"   → Standardizes risk across all trades\")\n",
    "print(\"   → Ensures capital preservation\")\n",
    "\n",
    "print(\"\\n🏆 MASTER TRADING CHECKLIST:\")\n",
    "print(\"✅ Multiple timeframe alignment\")\n",
    "print(\"✅ Clear harmonic or geometric pattern\")\n",
    "print(\"✅ Elliott Wave structure confirmation\")\n",
    "print(\"✅ Cycle confluence at key levels\")\n",
    "print(\"✅ Favorable risk/reward ratio (min 1:2)\")\n",
    "print(\"✅ Volume confirmation on breakouts\")\n",
    "print(\"✅ Proper position sizing calculated\")\n",
    "print(\"✅ Clear exit strategy defined\")\n",
    "\n",
    "print(\"\\n⚡ TRADE EXECUTION FRAMEWORK:\")\n",
    "print(\"🎯 ENTRY: Wait for 3+ tool confluence\")\n",
    "print(\"🛡️ STOP: Place beyond pattern invalidation\")\n",
    "print(\"💰 TARGET: Use Fibonacci extensions/projections\")\n",
    "print(\"📊 SIZE: Risk 1-2% of account per trade\")\n",
    "print(\"🔄 REVIEW: Analyze performance monthly\")\n",
    "\n",
    "print(\"\\n🚨 RISK WARNINGS:\")\n",
    "print(\"⚠️ No single tool is 100% accurate\")\n",
    "print(\"⚠️ Market conditions can invalidate patterns\")\n",
    "print(\"⚠️ Always use proper position sizing\")\n",
    "print(\"⚠️ Keep detailed trading journal\")\n",
    "print(\"⚠️ Continuously educate and adapt\")\n",
    "\n",
    "print(f\"\\n📈 INTEGRATION SUCCESS METRICS:\")\n",
    "print(f\"• Win Rate: Target 55-65%\")\n",
    "print(f\"• Risk/Reward: Minimum 1:2 ratio\")\n",
    "print(f\"• Maximum Drawdown: <15%\")\n",
    "print(f\"• Sharpe Ratio: >1.5\")\n",
    "print(f\"• Profit Factor: >1.5\")"
   ]
  },
  {
   "cell_type": "markdown",
   "id": "3f754824",
   "metadata": {},
   "source": [
    "# 📚 CONCLUSION & NEXT STEPS\n",
    "\n",
    "## Summary of Advanced Trading Tools\n",
    "\n",
    "You've now learned about the most sophisticated tools available to technical analysts and traders:\n",
    "\n",
    "### 🎨 **PATTERNS** - Geometric & Harmonic Analysis\n",
    "- **XABCD Patterns**: Mathematical precision using Fibonacci ratios\n",
    "- **Head & Shoulders**: Classic reversal patterns with measured moves\n",
    "- **Harmonic Patterns**: Advanced Fibonacci-based price structures\n",
    "\n",
    "### 🌊 **ELLIOTT WAVES** - Market Psychology in Motion\n",
    "- **Impulse Waves (12345)**: Trending market structures\n",
    "- **Corrective Waves (ABC)**: Pullback and consolidation phases\n",
    "- **Complex Corrections**: Advanced wave combinations\n",
    "\n",
    "### 🔄 **CYCLES** - Time-Based Market Analysis\n",
    "- **Time Cycles**: Recurring patterns in market timing\n",
    "- **Cyclic Lines**: Dynamic support and resistance\n",
    "- **Harmonic Analysis**: Sine wave decomposition of price\n",
    "\n",
    "## 🎯 Key Takeaways\n",
    "\n",
    "1. **No Single Tool is Perfect**: Always use multiple confirmations\n",
    "2. **Context is King**: Market environment affects tool reliability\n",
    "3. **Risk Management is Crucial**: Preserve capital above all else\n",
    "4. **Practice Makes Perfect**: Paper trade before risking real money\n",
    "5. **Continuous Learning**: Markets evolve, so must your skills\n",
    "\n",
    "## 📖 Recommended Further Reading\n",
    "\n",
    "- \"Elliott Wave Principle\" by Frost & Prechter\n",
    "- \"Harmonic Trading\" by Scott Carney  \n",
    "- \"Market Cycles\" by Martin Pring\n",
    "- \"Technical Analysis of Financial Markets\" by John Murphy\n",
    "\n",
    "## ⚠️ Final Disclaimers\n",
    "\n",
    "- **Educational Purpose Only**: This notebook is for learning, not financial advice\n",
    "- **Risk Warning**: Trading involves substantial risk of loss\n",
    "- **Paper Trade First**: Practice with virtual money before going live\n",
    "- **Seek Professional Advice**: Consult qualified financial advisors\n",
    "\n",
    "---\n",
    "\n",
    "**Happy Trading! 📈✨**\n",
    "\n",
    "*Remember: The best traders are not those who are right all the time, but those who manage risk effectively and learn from every trade.*"
   ]
  }
 ],
 "metadata": {
  "kernelspec": {
   "display_name": "Python 3",
   "language": "python",
   "name": "python3"
  },
  "language_info": {
   "codemirror_mode": {
    "name": "ipython",
    "version": 3
   },
   "file_extension": ".py",
   "mimetype": "text/x-python",
   "name": "python",
   "nbconvert_exporter": "python",
   "pygments_lexer": "ipython3",
   "version": "3.13.3"
  }
 },
 "nbformat": 4,
 "nbformat_minor": 5
}
